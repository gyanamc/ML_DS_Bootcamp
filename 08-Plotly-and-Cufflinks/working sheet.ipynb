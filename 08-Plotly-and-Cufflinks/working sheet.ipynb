{
 "cells": [
  {
   "cell_type": "code",
   "execution_count": 18,
   "id": "4dec5960",
   "metadata": {},
   "outputs": [],
   "source": [
    "import chart_studio.plotly as py\n",
    "import pandas as pd\n",
    "import numpy as np\n",
    "from plotly import __version__\n",
    "%matplotlib inline"
   ]
  },
  {
   "cell_type": "code",
   "execution_count": 3,
   "id": "3baccca3",
   "metadata": {},
   "outputs": [
    {
     "name": "stdout",
     "output_type": "stream",
     "text": [
      "5.10.0\n"
     ]
    }
   ],
   "source": [
    "print(__version__)"
   ]
  },
  {
   "cell_type": "code",
   "execution_count": 4,
   "id": "f2923688",
   "metadata": {},
   "outputs": [],
   "source": [
    "import cufflinks as cf"
   ]
  },
  {
   "cell_type": "code",
   "execution_count": 6,
   "id": "ef89143f",
   "metadata": {},
   "outputs": [],
   "source": [
    "from plotly.offline import download_plotlyjs,init_notebook_mode,plot,iplot"
   ]
  },
  {
   "cell_type": "code",
   "execution_count": 7,
   "id": "7244c670",
   "metadata": {},
   "outputs": [
    {
     "data": {
      "text/html": [
       "        <script type=\"text/javascript\">\n",
       "        window.PlotlyConfig = {MathJaxConfig: 'local'};\n",
       "        if (window.MathJax && window.MathJax.Hub && window.MathJax.Hub.Config) {window.MathJax.Hub.Config({SVG: {font: \"STIX-Web\"}});}\n",
       "        if (typeof require !== 'undefined') {\n",
       "        require.undef(\"plotly\");\n",
       "        requirejs.config({\n",
       "            paths: {\n",
       "                'plotly': ['https://cdn.plot.ly/plotly-2.14.0.min']\n",
       "            }\n",
       "        });\n",
       "        require(['plotly'], function(Plotly) {\n",
       "            window._Plotly = Plotly;\n",
       "        });\n",
       "        }\n",
       "        </script>\n",
       "        "
      ]
     },
     "metadata": {},
     "output_type": "display_data"
    }
   ],
   "source": [
    "init_notebook_mode(connected = True)"
   ]
  },
  {
   "cell_type": "code",
   "execution_count": 9,
   "id": "77827622",
   "metadata": {},
   "outputs": [
    {
     "data": {
      "text/html": [
       "        <script type=\"text/javascript\">\n",
       "        window.PlotlyConfig = {MathJaxConfig: 'local'};\n",
       "        if (window.MathJax && window.MathJax.Hub && window.MathJax.Hub.Config) {window.MathJax.Hub.Config({SVG: {font: \"STIX-Web\"}});}\n",
       "        if (typeof require !== 'undefined') {\n",
       "        require.undef(\"plotly\");\n",
       "        requirejs.config({\n",
       "            paths: {\n",
       "                'plotly': ['https://cdn.plot.ly/plotly-2.14.0.min']\n",
       "            }\n",
       "        });\n",
       "        require(['plotly'], function(Plotly) {\n",
       "            window._Plotly = Plotly;\n",
       "        });\n",
       "        }\n",
       "        </script>\n",
       "        "
      ]
     },
     "metadata": {},
     "output_type": "display_data"
    }
   ],
   "source": [
    "cf.go_offline()"
   ]
  },
  {
   "cell_type": "code",
   "execution_count": 12,
   "id": "ad6427c2",
   "metadata": {},
   "outputs": [],
   "source": [
    "# Data\n",
    "\n",
    "df = pd.DataFrame(np.random.randn(100,4),columns='A B C D'.split())"
   ]
  },
  {
   "cell_type": "code",
   "execution_count": 13,
   "id": "04298f5e",
   "metadata": {},
   "outputs": [
    {
     "data": {
      "text/html": [
       "<div>\n",
       "<style scoped>\n",
       "    .dataframe tbody tr th:only-of-type {\n",
       "        vertical-align: middle;\n",
       "    }\n",
       "\n",
       "    .dataframe tbody tr th {\n",
       "        vertical-align: top;\n",
       "    }\n",
       "\n",
       "    .dataframe thead th {\n",
       "        text-align: right;\n",
       "    }\n",
       "</style>\n",
       "<table border=\"1\" class=\"dataframe\">\n",
       "  <thead>\n",
       "    <tr style=\"text-align: right;\">\n",
       "      <th></th>\n",
       "      <th>A</th>\n",
       "      <th>B</th>\n",
       "      <th>C</th>\n",
       "      <th>D</th>\n",
       "    </tr>\n",
       "  </thead>\n",
       "  <tbody>\n",
       "    <tr>\n",
       "      <th>0</th>\n",
       "      <td>-1.975550</td>\n",
       "      <td>-0.601621</td>\n",
       "      <td>-0.670408</td>\n",
       "      <td>-2.737247</td>\n",
       "    </tr>\n",
       "    <tr>\n",
       "      <th>1</th>\n",
       "      <td>-0.061948</td>\n",
       "      <td>-0.686785</td>\n",
       "      <td>-0.971237</td>\n",
       "      <td>-0.371622</td>\n",
       "    </tr>\n",
       "    <tr>\n",
       "      <th>2</th>\n",
       "      <td>1.585903</td>\n",
       "      <td>-1.004201</td>\n",
       "      <td>0.411115</td>\n",
       "      <td>0.497787</td>\n",
       "    </tr>\n",
       "    <tr>\n",
       "      <th>3</th>\n",
       "      <td>-1.253139</td>\n",
       "      <td>0.545961</td>\n",
       "      <td>0.065050</td>\n",
       "      <td>-0.255567</td>\n",
       "    </tr>\n",
       "    <tr>\n",
       "      <th>4</th>\n",
       "      <td>-0.054396</td>\n",
       "      <td>-0.513428</td>\n",
       "      <td>0.095973</td>\n",
       "      <td>0.134845</td>\n",
       "    </tr>\n",
       "  </tbody>\n",
       "</table>\n",
       "</div>"
      ],
      "text/plain": [
       "          A         B         C         D\n",
       "0 -1.975550 -0.601621 -0.670408 -2.737247\n",
       "1 -0.061948 -0.686785 -0.971237 -0.371622\n",
       "2  1.585903 -1.004201  0.411115  0.497787\n",
       "3 -1.253139  0.545961  0.065050 -0.255567\n",
       "4 -0.054396 -0.513428  0.095973  0.134845"
      ]
     },
     "execution_count": 13,
     "metadata": {},
     "output_type": "execute_result"
    }
   ],
   "source": [
    "df.head()"
   ]
  },
  {
   "cell_type": "code",
   "execution_count": 15,
   "id": "99a48de5",
   "metadata": {},
   "outputs": [],
   "source": [
    "df2=pd.DataFrame({'Category':['A','B','C'],'Values':[32,43,50]})"
   ]
  },
  {
   "cell_type": "code",
   "execution_count": 16,
   "id": "82c2c306",
   "metadata": {},
   "outputs": [
    {
     "data": {
      "text/html": [
       "<div>\n",
       "<style scoped>\n",
       "    .dataframe tbody tr th:only-of-type {\n",
       "        vertical-align: middle;\n",
       "    }\n",
       "\n",
       "    .dataframe tbody tr th {\n",
       "        vertical-align: top;\n",
       "    }\n",
       "\n",
       "    .dataframe thead th {\n",
       "        text-align: right;\n",
       "    }\n",
       "</style>\n",
       "<table border=\"1\" class=\"dataframe\">\n",
       "  <thead>\n",
       "    <tr style=\"text-align: right;\">\n",
       "      <th></th>\n",
       "      <th>Category</th>\n",
       "      <th>Values</th>\n",
       "    </tr>\n",
       "  </thead>\n",
       "  <tbody>\n",
       "    <tr>\n",
       "      <th>0</th>\n",
       "      <td>A</td>\n",
       "      <td>32</td>\n",
       "    </tr>\n",
       "    <tr>\n",
       "      <th>1</th>\n",
       "      <td>B</td>\n",
       "      <td>43</td>\n",
       "    </tr>\n",
       "    <tr>\n",
       "      <th>2</th>\n",
       "      <td>C</td>\n",
       "      <td>50</td>\n",
       "    </tr>\n",
       "  </tbody>\n",
       "</table>\n",
       "</div>"
      ],
      "text/plain": [
       "  Category  Values\n",
       "0        A      32\n",
       "1        B      43\n",
       "2        C      50"
      ]
     },
     "execution_count": 16,
     "metadata": {},
     "output_type": "execute_result"
    }
   ],
   "source": [
    "df2"
   ]
  },
  {
   "cell_type": "code",
   "execution_count": 17,
   "id": "97583719",
   "metadata": {},
   "outputs": [
    {
     "data": {
      "text/html": [
       "<div>\n",
       "<style scoped>\n",
       "    .dataframe tbody tr th:only-of-type {\n",
       "        vertical-align: middle;\n",
       "    }\n",
       "\n",
       "    .dataframe tbody tr th {\n",
       "        vertical-align: top;\n",
       "    }\n",
       "\n",
       "    .dataframe thead th {\n",
       "        text-align: right;\n",
       "    }\n",
       "</style>\n",
       "<table border=\"1\" class=\"dataframe\">\n",
       "  <thead>\n",
       "    <tr style=\"text-align: right;\">\n",
       "      <th></th>\n",
       "      <th>A</th>\n",
       "      <th>B</th>\n",
       "      <th>C</th>\n",
       "      <th>D</th>\n",
       "    </tr>\n",
       "  </thead>\n",
       "  <tbody>\n",
       "    <tr>\n",
       "      <th>0</th>\n",
       "      <td>-1.975550</td>\n",
       "      <td>-0.601621</td>\n",
       "      <td>-0.670408</td>\n",
       "      <td>-2.737247</td>\n",
       "    </tr>\n",
       "    <tr>\n",
       "      <th>1</th>\n",
       "      <td>-0.061948</td>\n",
       "      <td>-0.686785</td>\n",
       "      <td>-0.971237</td>\n",
       "      <td>-0.371622</td>\n",
       "    </tr>\n",
       "    <tr>\n",
       "      <th>2</th>\n",
       "      <td>1.585903</td>\n",
       "      <td>-1.004201</td>\n",
       "      <td>0.411115</td>\n",
       "      <td>0.497787</td>\n",
       "    </tr>\n",
       "    <tr>\n",
       "      <th>3</th>\n",
       "      <td>-1.253139</td>\n",
       "      <td>0.545961</td>\n",
       "      <td>0.065050</td>\n",
       "      <td>-0.255567</td>\n",
       "    </tr>\n",
       "    <tr>\n",
       "      <th>4</th>\n",
       "      <td>-0.054396</td>\n",
       "      <td>-0.513428</td>\n",
       "      <td>0.095973</td>\n",
       "      <td>0.134845</td>\n",
       "    </tr>\n",
       "    <tr>\n",
       "      <th>...</th>\n",
       "      <td>...</td>\n",
       "      <td>...</td>\n",
       "      <td>...</td>\n",
       "      <td>...</td>\n",
       "    </tr>\n",
       "    <tr>\n",
       "      <th>95</th>\n",
       "      <td>-0.971449</td>\n",
       "      <td>-0.348648</td>\n",
       "      <td>-0.000520</td>\n",
       "      <td>-0.192203</td>\n",
       "    </tr>\n",
       "    <tr>\n",
       "      <th>96</th>\n",
       "      <td>-0.256690</td>\n",
       "      <td>0.616468</td>\n",
       "      <td>1.280168</td>\n",
       "      <td>0.629595</td>\n",
       "    </tr>\n",
       "    <tr>\n",
       "      <th>97</th>\n",
       "      <td>-0.986181</td>\n",
       "      <td>-0.006341</td>\n",
       "      <td>0.381451</td>\n",
       "      <td>-0.651679</td>\n",
       "    </tr>\n",
       "    <tr>\n",
       "      <th>98</th>\n",
       "      <td>-1.157104</td>\n",
       "      <td>0.053754</td>\n",
       "      <td>1.018199</td>\n",
       "      <td>1.337058</td>\n",
       "    </tr>\n",
       "    <tr>\n",
       "      <th>99</th>\n",
       "      <td>1.199261</td>\n",
       "      <td>-0.047502</td>\n",
       "      <td>0.000750</td>\n",
       "      <td>0.353629</td>\n",
       "    </tr>\n",
       "  </tbody>\n",
       "</table>\n",
       "<p>100 rows × 4 columns</p>\n",
       "</div>"
      ],
      "text/plain": [
       "           A         B         C         D\n",
       "0  -1.975550 -0.601621 -0.670408 -2.737247\n",
       "1  -0.061948 -0.686785 -0.971237 -0.371622\n",
       "2   1.585903 -1.004201  0.411115  0.497787\n",
       "3  -1.253139  0.545961  0.065050 -0.255567\n",
       "4  -0.054396 -0.513428  0.095973  0.134845\n",
       "..       ...       ...       ...       ...\n",
       "95 -0.971449 -0.348648 -0.000520 -0.192203\n",
       "96 -0.256690  0.616468  1.280168  0.629595\n",
       "97 -0.986181 -0.006341  0.381451 -0.651679\n",
       "98 -1.157104  0.053754  1.018199  1.337058\n",
       "99  1.199261 -0.047502  0.000750  0.353629\n",
       "\n",
       "[100 rows x 4 columns]"
      ]
     },
     "execution_count": 17,
     "metadata": {},
     "output_type": "execute_result"
    }
   ],
   "source": [
    "df"
   ]
  },
  {
   "cell_type": "code",
   "execution_count": 19,
   "id": "ffefa949",
   "metadata": {},
   "outputs": [
    {
     "data": {
      "text/plain": [
       "<AxesSubplot:>"
      ]
     },
     "execution_count": 19,
     "metadata": {},
     "output_type": "execute_result"
    },
    {
     "data": {
      "image/png": "[encoded data removed]",
      "text/plain": [
       "<Figure size 432x288 with 1 Axes>"
      ]
     },
     "metadata": {
      "needs_background": "light"
     },
     "output_type": "display_data"
    }
   ],
   "source": [
    "df.plot()"
   ]
  },
  {
   "cell_type": "code",
   "execution_count": 20,
   "id": "3862293d",
   "metadata": {},
   "outputs": [
    {
     "data": {
      "application/vnd.plotly.v1+json": {
       "config": {
        "linkText": "Export to plot.ly",
        "plotlyServerURL": "https://plot.ly",
        "showLink": true
       },
       "data": [
        {
         "line": {
          "color": "rgba(255, 153, 51, 1.0)",
          "dash": "solid",
          "shape": "linear",
          "width": 1.3
         },
         "mode": "lines",
         "name": "A",
         "text": "",
         "type": "scatter",
         "x": [
          0,
          1,
          2,
          3,
          4,
          5,
          6,
          7,
          8,
          9,
          10,
          11,
          12,
          13,
          14,
          15,
          16,
          17,
          18,
          19,
          20,
          21,
          22,
          23,
          24,
          25,
          26,
          27,
          28,
          29,
          30,
          31,
          32,
          33,
          34,
          35,
          36,
          37,
          38,
          39,
          40,
          41,
          42,
          43,
          44,
          45,
          46,
          47,
          48,
          49,
          50,
          51,
          52,
          53,
          54,
          55,
          56,
          57,
          58,
          59,
          60,
          61,
          62,
          63,
          64,
          65,
          66,
          67,
          68,
          69,
          70,
          71,
          72,
          73,
          74,
          75,
          76,
          77,
          78,
          79,
          80,
          81,
          82,
          83,
          84,
          85,
          86,
          87,
          88,
          89,
          90,
          91,
          92,
          93,
          94,
          95,
          96,
          97,
          98,
          99
         ],
         "y": [
          -1.9755500137656816,
          -0.061947778504821194,
          1.5859026175116797,
          -1.2531388336614748,
          -0.05439570455517902,
          -0.6099892593578193,
          -0.42597212415335045,
          1.30054514318552,
          1.6745245836944143,
          0.16101375678398513,
          -0.49292541050026917,
          -0.11917095742151543,
          -0.7009747802886002,
          -0.47467091820681706,
          -0.4017079488724917,
          -0.42615585580718507,
          0.0902833090343134,
          -0.03383157680340645,
          0.25125800723855946,
          0.09501082946377389,
          0.5867512968998098,
          -0.4693010654392666,
          0.46168204660174567,
          0.06495267830063275,
          0.2681084284590157,
          -1.4989026795597802,
          1.7641427480382965,
          1.4859196786280577,
          0.1539020337302631,
          -0.6840507459974362,
          -0.13423049695369402,
          0.7460726140571591,
          -0.7550366137892188,
          -0.0512034730653333,
          -0.4748090640569612,
          -2.3679114992432004,
          -0.30779199050609957,
          -0.49193289903124116,
          -0.7649607105286698,
          -2.613800799990971,
          0.6362381962494086,
          -0.8198854452978208,
          -0.4784810420305522,
          -0.30559539406897873,
          1.7417622654227076,
          1.9097958194435793,
          0.9406674466573566,
          -1.2094515522929468,
          0.6724277066552841,
          0.6042558126336943,
          1.695812684537749,
          -0.8894533401640422,
          -1.0307224681600358,
          0.004523554592124752,
          1.9757360700018838,
          0.5429180447534881,
          -0.47199893155343664,
          0.4749452873600385,
          -0.283517983931913,
          -0.04096698814947355,
          0.968045533265399,
          0.8935691476562685,
          -0.1899689680365186,
          -0.5352024057664848,
          -0.6306762033186569,
          -0.8819772809327792,
          -0.9249869852557837,
          -1.2795987736093142,
          -1.4906513234849743,
          -1.100933806912293,
          0.4967968785061232,
          0.4776917332224903,
          0.19840480678120576,
          -0.5678729808054858,
          -0.47050311886264523,
          -0.6848928388732589,
          -0.3447172724962305,
          -0.23794258475612443,
          2.165413060815801,
          0.6632483590585299,
          2.000157263583068,
          -0.05164465663250612,
          -0.32950100556886297,
          0.1233413534161667,
          -1.024280593332221,
          1.6328302707578288,
          -0.8922019505656237,
          -0.19277947000847248,
          1.778582913528921,
          1.2861142967242434,
          0.7478696272647315,
          0.7044550353283147,
          -0.4948989732262082,
          2.162621138218643,
          -0.07173258766074306,
          -0.9714490326513098,
          -0.25668971020006276,
          -0.9861809495110716,
          -1.157103541842868,
          1.1992610142491917
         ]
        },
        {
         "line": {
          "color": "rgba(55, 128, 191, 1.0)",
          "dash": "solid",
          "shape": "linear",
          "width": 1.3
         },
         "mode": "lines",
         "name": "B",
         "text": "",
         "type": "scatter",
         "x": [
          0,
          1,
          2,
          3,
          4,
          5,
          6,
          7,
          8,
          9,
          10,
          11,
          12,
          13,
          14,
          15,
          16,
          17,
          18,
          19,
          20,
          21,
          22,
          23,
          24,
          25,
          26,
          27,
          28,
          29,
          30,
          31,
          32,
          33,
          34,
          35,
          36,
          37,
          38,
          39,
          40,
          41,
          42,
          43,
          44,
          45,
          46,
          47,
          48,
          49,
          50,
          51,
          52,
          53,
          54,
          55,
          56,
          57,
          58,
          59,
          60,
          61,
          62,
          63,
          64,
          65,
          66,
          67,
          68,
          69,
          70,
          71,
          72,
          73,
          74,
          75,
          76,
          77,
          78,
          79,
          80,
          81,
          82,
          83,
          84,
          85,
          86,
          87,
          88,
          89,
          90,
          91,
          92,
          93,
          94,
          95,
          96,
          97,
          98,
          99
         ],
         "y": [
          -0.6016205567329608,
          -0.6867847793895484,
          -1.004201098081681,
          0.5459610858692364,
          -0.5134277048058766,
          -1.7713803666089118,
          0.306265766114442,
          -0.4673808534970285,
          0.47774761494497525,
          0.5773418911213518,
          -0.9716562852965338,
          0.5691019831236278,
          0.47140735466440037,
          0.09296487685387636,
          0.36346199486628045,
          -0.21785167686542148,
          0.43661427182523044,
          -1.1043395826762386,
          -0.02671525336627313,
          1.6340557489474088,
          -0.4116937959977908,
          0.760627438099993,
          -1.419951605103263,
          1.56554617148626,
          -1.0612550505986134,
          -0.2791022850093874,
          -0.6538496117164647,
          -0.5413662862932657,
          0.770850384913509,
          0.5112478057109159,
          0.444885186950138,
          1.3539004781978206,
          2.2623286874734436,
          -0.862557473719299,
          0.5541222476581766,
          0.4349526898898684,
          1.3003541024884273,
          -0.9334222914281395,
          -0.018468505151828317,
          0.301456771856218,
          0.8893522858810824,
          0.9676579983417197,
          0.40723522186669053,
          0.8049924749506939,
          -0.040571046598925915,
          -0.7668702851597023,
          1.2011848352922634,
          1.7413782411913143,
          -0.3627601644549942,
          0.8029425027984123,
          -1.2379383287509398,
          0.650388747065542,
          1.1512941141212873,
          0.8082910662466302,
          0.002804675896032924,
          0.040444707117679946,
          1.0075910275877349,
          1.566362282752962,
          1.727518610682044,
          0.43208798978099616,
          -0.37729306749409824,
          0.3583192853709636,
          2.245267346888914,
          -1.2931892852342348,
          0.49825288910292637,
          0.18173575684733229,
          -0.003765766788964723,
          0.788228363907951,
          0.14540007233038146,
          -2.8471785813920847,
          0.901525280729787,
          0.47931178935779756,
          -0.75054262406477,
          -0.1895272526767355,
          -0.16111055958515572,
          0.43926869577158684,
          -2.007298526805992,
          0.14872350274937846,
          -0.7897899064104688,
          -0.8739822093248697,
          0.8077072001297577,
          1.0106425845267275,
          -1.3871824837780988,
          -0.802777519106265,
          -0.665337553159498,
          -0.5965212412716,
          0.8824586708505167,
          -1.31436743946511,
          -0.11327313080949342,
          0.3357969652076104,
          0.7522800234797223,
          -1.1915982770371818,
          -0.6620972204720901,
          -1.5865209839733985,
          0.25954986753324477,
          -0.34864819900329097,
          0.6164677893891793,
          -0.006340506992387929,
          0.05375386835791097,
          -0.04750243008043119
         ]
        },
        {
         "line": {
          "color": "rgba(50, 171, 96, 1.0)",
          "dash": "solid",
          "shape": "linear",
          "width": 1.3
         },
         "mode": "lines",
         "name": "C",
         "text": "",
         "type": "scatter",
         "x": [
          0,
          1,
          2,
          3,
          4,
          5,
          6,
          7,
          8,
          9,
          10,
          11,
          12,
          13,
          14,
          15,
          16,
          17,
          18,
          19,
          20,
          21,
          22,
          23,
          24,
          25,
          26,
          27,
          28,
          29,
          30,
          31,
          32,
          33,
          34,
          35,
          36,
          37,
          38,
          39,
          40,
          41,
          42,
          43,
          44,
          45,
          46,
          47,
          48,
          49,
          50,
          51,
          52,
          53,
          54,
          55,
          56,
          57,
          58,
          59,
          60,
          61,
          62,
          63,
          64,
          65,
          66,
          67,
          68,
          69,
          70,
          71,
          72,
          73,
          74,
          75,
          76,
          77,
          78,
          79,
          80,
          81,
          82,
          83,
          84,
          85,
          86,
          87,
          88,
          89,
          90,
          91,
          92,
          93,
          94,
          95,
          96,
          97,
          98,
          99
         ],
         "y": [
          -0.6704082264197347,
          -0.9712370065255008,
          0.4111150132211941,
          0.06505043483094419,
          0.09597347386637531,
          -0.17805257026137314,
          0.6266282123253187,
          -0.06944538525399793,
          1.0434066129333317,
          0.8321859041473956,
          0.23176254064018448,
          -0.36957242731347956,
          0.9693310064414132,
          -1.065613557626272,
          -0.08607110397003176,
          0.38839255569323583,
          -0.6766161417161143,
          -1.2143473333630788,
          1.1433139815906899,
          1.1489106765854245,
          -0.4233004052413279,
          -0.14674342975009205,
          -1.5470081603989874,
          0.5449565142853104,
          0.9436920674861845,
          -0.8578130086197939,
          -0.8706007914367132,
          -0.4674439125957368,
          0.7295679758333566,
          -1.5659532199503727,
          -0.6302577800291368,
          0.002036162897837701,
          0.08527473566789949,
          0.4114993953567297,
          0.5831547536114501,
          -0.8417649892373862,
          -0.15206125243366583,
          0.6558559082815361,
          0.4739620700333792,
          1.6503138194249127,
          0.261093633651454,
          1.488587165162164,
          0.29469611827486414,
          0.25496389058589275,
          -1.2652526156028097,
          -0.7532256723724051,
          -0.9099639520318753,
          1.1441345960738158,
          0.5949919924224334,
          -0.10782459485723767,
          0.2140567254164145,
          0.14147781374699772,
          1.0340849306590991,
          0.24670441031205223,
          0.583944717414109,
          -0.4151649571540205,
          -1.5680514211874341,
          1.0757553302227085,
          -2.196377096070879,
          -1.0909931476373194,
          -0.4456730180087001,
          0.22966449358967897,
          0.5457957358256748,
          0.8832981164864001,
          -1.1263605017015514,
          -0.40180359216850925,
          -1.232443932460566,
          0.26566029104465116,
          1.0724285813704941,
          0.04514430706016189,
          0.37813651962983186,
          1.1153581424377124,
          -0.2879208413779026,
          0.08049124917956914,
          -0.06135085527396157,
          -0.37693758217424916,
          1.1830320069813256,
          0.16995226333775676,
          1.7774620506505168,
          -0.8895255904170345,
          1.3944174805345486,
          -1.850060721313199,
          -1.3417035530645616,
          0.9391082966584445,
          0.9700589698321128,
          -1.604452147419455,
          0.6676364870219649,
          -1.1239638929995208,
          0.9866181703538464,
          -0.47245120246747085,
          0.14307948466401546,
          1.6194032925395008,
          0.28707929556088013,
          -2.0633114742281067,
          0.984871614465747,
          -0.0005197875955629226,
          1.28016775843392,
          0.38145099065980237,
          1.0181992084337197,
          0.0007496653025990152
         ]
        },
        {
         "line": {
          "color": "rgba(128, 0, 128, 1.0)",
          "dash": "solid",
          "shape": "linear",
          "width": 1.3
         },
         "mode": "lines",
         "name": "D",
         "text": "",
         "type": "scatter",
         "x": [
          0,
          1,
          2,
          3,
          4,
          5,
          6,
          7,
          8,
          9,
          10,
          11,
          12,
          13,
          14,
          15,
          16,
          17,
          18,
          19,
          20,
          21,
          22,
          23,
          24,
          25,
          26,
          27,
          28,
          29,
          30,
          31,
          32,
          33,
          34,
          35,
          36,
          37,
          38,
          39,
          40,
          41,
          42,
          43,
          44,
          45,
          46,
          47,
          48,
          49,
          50,
          51,
          52,
          53,
          54,
          55,
          56,
          57,
          58,
          59,
          60,
          61,
          62,
          63,
          64,
          65,
          66,
          67,
          68,
          69,
          70,
          71,
          72,
          73,
          74,
          75,
          76,
          77,
          78,
          79,
          80,
          81,
          82,
          83,
          84,
          85,
          86,
          87,
          88,
          89,
          90,
          91,
          92,
          93,
          94,
          95,
          96,
          97,
          98,
          99
         ],
         "y": [
          -2.737247075994404,
          -0.371622137785998,
          0.4977872389088978,
          -0.25556722608188853,
          0.134844530196423,
          -0.9602501249253127,
          -0.2397917100705879,
          1.0344184850748666,
          0.8514263520822619,
          1.35122525523941,
          2.604635190520853,
          1.947767040875128,
          -1.3512387261342127,
          -0.9427769645828806,
          -2.063505088898325,
          -0.4870830116381731,
          0.25588158907185315,
          -1.0742236315172862,
          0.956877807016473,
          0.7333863213035633,
          -1.213437837026288,
          2.2599800326715225,
          -1.3391245764493112,
          -0.20150175200419704,
          -1.4517678541192687,
          0.1016744241682496,
          -1.5033897478410911,
          -0.1243391491925989,
          1.4436217338806754,
          -1.7133911850641386,
          0.26108774988306366,
          1.0056905498192663,
          -0.26248250730553535,
          0.24236503012727867,
          1.0519009772779324,
          0.321102619498424,
          -0.6304503190093411,
          0.8010048587525489,
          -0.026863296121999822,
          -0.6005877821544191,
          -0.0049922649277795465,
          -2.6221756364222157,
          -0.42984055050945774,
          -0.1443655516573191,
          -0.904478920086068,
          -0.07364609801508223,
          1.018411591964657,
          -0.43294602375333335,
          -0.5695326411619899,
          0.7594130903281197,
          -0.2006312780575331,
          -0.2347940580504846,
          0.8139954950920132,
          -0.8807999455752871,
          0.7163484752256508,
          0.40615245114971854,
          -0.8071198924710938,
          0.7767107762697273,
          -0.28877910715950894,
          0.8149223997578482,
          -0.3362381266307819,
          0.9522356397473453,
          -0.5898704926150133,
          -0.9772068149269224,
          0.737315638695283,
          0.34127453265489327,
          -0.6552094825700808,
          -1.6030076880442323,
          -1.5895923338532951,
          -0.012103775562117147,
          -0.29541678817590195,
          -0.12222407499725159,
          -1.0574075864876884,
          0.03501734189575078,
          -0.4077052603736408,
          0.21432227712942017,
          1.3691699925778178,
          -0.539074619860555,
          -0.8037180119982591,
          -0.7443299088773537,
          1.522871279279115,
          -0.08863780207150675,
          1.3100439989179171,
          -1.5140910484576355,
          1.6857952570240735,
          -1.9593945449784622,
          0.618036635263452,
          0.5793747989395617,
          -0.18701217121788372,
          -0.4302273446214045,
          -0.18418614363508462,
          0.48564593255997734,
          1.1067954050511588,
          -0.48813267343725975,
          -0.6718716102419712,
          -0.19220311340207014,
          0.6295952841880968,
          -0.651678727558497,
          1.3370584169131228,
          0.35362929920522856
         ]
        }
       ],
       "layout": {
        "legend": {
         "bgcolor": "#F5F6F9",
         "font": {
          "color": "#4D5663"
         }
        },
        "paper_bgcolor": "#F5F6F9",
        "plot_bgcolor": "#F5F6F9",
        "template": {
         "data": {
          "bar": [
           {
            "error_x": {
             "color": "#2a3f5f"
            },
            "error_y": {
             "color": "#2a3f5f"
            },
            "marker": {
             "line": {
              "color": "#E5ECF6",
              "width": 0.5
             },
             "pattern": {
              "fillmode": "overlay",
              "size": 10,
              "solidity": 0.2
             }
            },
            "type": "bar"
           }
          ],
          "barpolar": [
           {
            "marker": {
             "line": {
              "color": "#E5ECF6",
              "width": 0.5
             },
             "pattern": {
              "fillmode": "overlay",
              "size": 10,
              "solidity": 0.2
             }
            },
            "type": "barpolar"
           }
          ],
          "carpet": [
           {
            "aaxis": {
             "endlinecolor": "#2a3f5f",
             "gridcolor": "white",
             "linecolor": "white",
             "minorgridcolor": "white",
             "startlinecolor": "#2a3f5f"
            },
            "baxis": {
             "endlinecolor": "#2a3f5f",
             "gridcolor": "white",
             "linecolor": "white",
             "minorgridcolor": "white",
             "startlinecolor": "#2a3f5f"
            },
            "type": "carpet"
           }
          ],
          "choropleth": [
           {
            "colorbar": {
             "outlinewidth": 0,
             "ticks": ""
            },
            "type": "choropleth"
           }
          ],
          "contour": [
           {
            "colorbar": {
             "outlinewidth": 0,
             "ticks": ""
            },
            "colorscale": [
             [
              0,
              "#0d0887"
             ],
             [
              0.1111111111111111,
              "#46039f"
             ],
             [
              0.2222222222222222,
              "#7201a8"
             ],
             [
              0.3333333333333333,
              "#9c179e"
             ],
             [
              0.4444444444444444,
              "#bd3786"
             ],
             [
              0.5555555555555556,
              "#d8576b"
             ],
             [
              0.6666666666666666,
              "#ed7953"
             ],
             [
              0.7777777777777778,
              "#fb9f3a"
             ],
             [
              0.8888888888888888,
              "#fdca26"
             ],
             [
              1,
              "#f0f921"
             ]
            ],
            "type": "contour"
           }
          ],
          "contourcarpet": [
           {
            "colorbar": {
             "outlinewidth": 0,
             "ticks": ""
            },
            "type": "contourcarpet"
           }
          ],
          "heatmap": [
           {
            "colorbar": {
             "outlinewidth": 0,
             "ticks": ""
            },
            "colorscale": [
             [
              0,
              "#0d0887"
             ],
             [
              0.1111111111111111,
              "#46039f"
             ],
             [
              0.2222222222222222,
              "#7201a8"
             ],
             [
              0.3333333333333333,
              "#9c179e"
             ],
             [
              0.4444444444444444,
              "#bd3786"
             ],
             [
              0.5555555555555556,
              "#d8576b"
             ],
             [
              0.6666666666666666,
              "#ed7953"
             ],
             [
              0.7777777777777778,
              "#fb9f3a"
             ],
             [
              0.8888888888888888,
              "#fdca26"
             ],
             [
              1,
              "#f0f921"
             ]
            ],
            "type": "heatmap"
           }
          ],
          "heatmapgl": [
           {
            "colorbar": {
             "outlinewidth": 0,
             "ticks": ""
            },
            "colorscale": [
             [
              0,
              "#0d0887"
             ],
             [
              0.1111111111111111,
              "#46039f"
             ],
             [
              0.2222222222222222,
              "#7201a8"
             ],
             [
              0.3333333333333333,
              "#9c179e"
             ],
             [
              0.4444444444444444,
              "#bd3786"
             ],
             [
              0.5555555555555556,
              "#d8576b"
             ],
             [
              0.6666666666666666,
              "#ed7953"
             ],
             [
              0.7777777777777778,
              "#fb9f3a"
             ],
             [
              0.8888888888888888,
              "#fdca26"
             ],
             [
              1,
              "#f0f921"
             ]
            ],
            "type": "heatmapgl"
           }
          ],
          "histogram": [
           {
            "marker": {
             "pattern": {
              "fillmode": "overlay",
              "size": 10,
              "solidity": 0.2
             }
            },
            "type": "histogram"
           }
          ],
          "histogram2d": [
           {
            "colorbar": {
             "outlinewidth": 0,
             "ticks": ""
            },
            "colorscale": [
             [
              0,
              "#0d0887"
             ],
             [
              0.1111111111111111,
              "#46039f"
             ],
             [
              0.2222222222222222,
              "#7201a8"
             ],
             [
              0.3333333333333333,
              "#9c179e"
             ],
             [
              0.4444444444444444,
              "#bd3786"
             ],
             [
              0.5555555555555556,
              "#d8576b"
             ],
             [
              0.6666666666666666,
              "#ed7953"
             ],
             [
              0.7777777777777778,
              "#fb9f3a"
             ],
             [
              0.8888888888888888,
              "#fdca26"
             ],
             [
              1,
              "#f0f921"
             ]
            ],
            "type": "histogram2d"
           }
          ],
          "histogram2dcontour": [
           {
            "colorbar": {
             "outlinewidth": 0,
             "ticks": ""
            },
            "colorscale": [
             [
              0,
              "#0d0887"
             ],
             [
              0.1111111111111111,
              "#46039f"
             ],
             [
              0.2222222222222222,
              "#7201a8"
             ],
             [
              0.3333333333333333,
              "#9c179e"
             ],
             [
              0.4444444444444444,
              "#bd3786"
             ],
             [
              0.5555555555555556,
              "#d8576b"
             ],
             [
              0.6666666666666666,
              "#ed7953"
             ],
             [
              0.7777777777777778,
              "#fb9f3a"
             ],
             [
              0.8888888888888888,
              "#fdca26"
             ],
             [
              1,
              "#f0f921"
             ]
            ],
            "type": "histogram2dcontour"
           }
          ],
          "mesh3d": [
           {
            "colorbar": {
             "outlinewidth": 0,
             "ticks": ""
            },
            "type": "mesh3d"
           }
          ],
          "parcoords": [
           {
            "line": {
             "colorbar": {
              "outlinewidth": 0,
              "ticks": ""
             }
            },
            "type": "parcoords"
           }
          ],
          "pie": [
           {
            "automargin": true,
            "type": "pie"
           }
          ],
          "scatter": [
           {
            "fillpattern": {
             "fillmode": "overlay",
             "size": 10,
             "solidity": 0.2
            },
            "type": "scatter"
           }
          ],
          "scatter3d": [
           {
            "line": {
             "colorbar": {
              "outlinewidth": 0,
              "ticks": ""
             }
            },
            "marker": {
             "colorbar": {
              "outlinewidth": 0,
              "ticks": ""
             }
            },
            "type": "scatter3d"
           }
          ],
          "scattercarpet": [
           {
            "marker": {
             "colorbar": {
              "outlinewidth": 0,
              "ticks": ""
             }
            },
            "type": "scattercarpet"
           }
          ],
          "scattergeo": [
           {
            "marker": {
             "colorbar": {
              "outlinewidth": 0,
              "ticks": ""
             }
            },
            "type": "scattergeo"
           }
          ],
          "scattergl": [
           {
            "marker": {
             "colorbar": {
              "outlinewidth": 0,
              "ticks": ""
             }
            },
            "type": "scattergl"
           }
          ],
          "scattermapbox": [
           {
            "marker": {
             "colorbar": {
              "outlinewidth": 0,
              "ticks": ""
             }
            },
            "type": "scattermapbox"
           }
          ],
          "scatterpolar": [
           {
            "marker": {
             "colorbar": {
              "outlinewidth": 0,
              "ticks": ""
             }
            },
            "type": "scatterpolar"
           }
          ],
          "scatterpolargl": [
           {
            "marker": {
             "colorbar": {
              "outlinewidth": 0,
              "ticks": ""
             }
            },
            "type": "scatterpolargl"
           }
          ],
          "scatterternary": [
           {
            "marker": {
             "colorbar": {
              "outlinewidth": 0,
              "ticks": ""
             }
            },
            "type": "scatterternary"
           }
          ],
          "surface": [
           {
            "colorbar": {
             "outlinewidth": 0,
             "ticks": ""
            },
            "colorscale": [
             [
              0,
              "#0d0887"
             ],
             [
              0.1111111111111111,
              "#46039f"
             ],
             [
              0.2222222222222222,
              "#7201a8"
             ],
             [
              0.3333333333333333,
              "#9c179e"
             ],
             [
              0.4444444444444444,
              "#bd3786"
             ],
             [
              0.5555555555555556,
              "#d8576b"
             ],
             [
              0.6666666666666666,
              "#ed7953"
             ],
             [
              0.7777777777777778,
              "#fb9f3a"
             ],
             [
              0.8888888888888888,
              "#fdca26"
             ],
             [
              1,
              "#f0f921"
             ]
            ],
            "type": "surface"
           }
          ],
          "table": [
           {
            "cells": {
             "fill": {
              "color": "#EBF0F8"
             },
             "line": {
              "color": "white"
             }
            },
            "header": {
             "fill": {
              "color": "#C8D4E3"
             },
             "line": {
              "color": "white"
             }
            },
            "type": "table"
           }
          ]
         },
         "layout": {
          "annotationdefaults": {
           "arrowcolor": "#2a3f5f",
           "arrowhead": 0,
           "arrowwidth": 1
          },
          "autotypenumbers": "strict",
          "coloraxis": {
           "colorbar": {
            "outlinewidth": 0,
            "ticks": ""
           }
          },
          "colorscale": {
           "diverging": [
            [
             0,
             "#8e0152"
            ],
            [
             0.1,
             "#c51b7d"
            ],
            [
             0.2,
             "#de77ae"
            ],
            [
             0.3,
             "#f1b6da"
            ],
            [
             0.4,
             "#fde0ef"
            ],
            [
             0.5,
             "#f7f7f7"
            ],
            [
             0.6,
             "#e6f5d0"
            ],
            [
             0.7,
             "#b8e186"
            ],
            [
             0.8,
             "#7fbc41"
            ],
            [
             0.9,
             "#4d9221"
            ],
            [
             1,
             "#276419"
            ]
           ],
           "sequential": [
            [
             0,
             "#0d0887"
            ],
            [
             0.1111111111111111,
             "#46039f"
            ],
            [
             0.2222222222222222,
             "#7201a8"
            ],
            [
             0.3333333333333333,
             "#9c179e"
            ],
            [
             0.4444444444444444,
             "#bd3786"
            ],
            [
             0.5555555555555556,
             "#d8576b"
            ],
            [
             0.6666666666666666,
             "#ed7953"
            ],
            [
             0.7777777777777778,
             "#fb9f3a"
            ],
            [
             0.8888888888888888,
             "#fdca26"
            ],
            [
             1,
             "#f0f921"
            ]
           ],
           "sequentialminus": [
            [
             0,
             "#0d0887"
            ],
            [
             0.1111111111111111,
             "#46039f"
            ],
            [
             0.2222222222222222,
             "#7201a8"
            ],
            [
             0.3333333333333333,
             "#9c179e"
            ],
            [
             0.4444444444444444,
             "#bd3786"
            ],
            [
             0.5555555555555556,
             "#d8576b"
            ],
            [
             0.6666666666666666,
             "#ed7953"
            ],
            [
             0.7777777777777778,
             "#fb9f3a"
            ],
            [
             0.8888888888888888,
             "#fdca26"
            ],
            [
             1,
             "#f0f921"
            ]
           ]
          },
          "colorway": [
           "#636efa",
           "#EF553B",
           "#00cc96",
           "#ab63fa",
           "#FFA15A",
           "#19d3f3",
           "#FF6692",
           "#B6E880",
           "#FF97FF",
           "#FECB52"
          ],
          "font": {
           "color": "#2a3f5f"
          },
          "geo": {
           "bgcolor": "white",
           "lakecolor": "white",
           "landcolor": "#E5ECF6",
           "showlakes": true,
           "showland": true,
           "subunitcolor": "white"
          },
          "hoverlabel": {
           "align": "left"
          },
          "hovermode": "closest",
          "mapbox": {
           "style": "light"
          },
          "paper_bgcolor": "white",
          "plot_bgcolor": "#E5ECF6",
          "polar": {
           "angularaxis": {
            "gridcolor": "white",
            "linecolor": "white",
            "ticks": ""
           },
           "bgcolor": "#E5ECF6",
           "radialaxis": {
            "gridcolor": "white",
            "linecolor": "white",
            "ticks": ""
           }
          },
          "scene": {
           "xaxis": {
            "backgroundcolor": "#E5ECF6",
            "gridcolor": "white",
            "gridwidth": 2,
            "linecolor": "white",
            "showbackground": true,
            "ticks": "",
            "zerolinecolor": "white"
           },
           "yaxis": {
            "backgroundcolor": "#E5ECF6",
            "gridcolor": "white",
            "gridwidth": 2,
            "linecolor": "white",
            "showbackground": true,
            "ticks": "",
            "zerolinecolor": "white"
           },
           "zaxis": {
            "backgroundcolor": "#E5ECF6",
            "gridcolor": "white",
            "gridwidth": 2,
            "linecolor": "white",
            "showbackground": true,
            "ticks": "",
            "zerolinecolor": "white"
           }
          },
          "shapedefaults": {
           "line": {
            "color": "#2a3f5f"
           }
          },
          "ternary": {
           "aaxis": {
            "gridcolor": "white",
            "linecolor": "white",
            "ticks": ""
           },
           "baxis": {
            "gridcolor": "white",
            "linecolor": "white",
            "ticks": ""
           },
           "bgcolor": "#E5ECF6",
           "caxis": {
            "gridcolor": "white",
            "linecolor": "white",
            "ticks": ""
           }
          },
          "title": {
           "x": 0.05
          },
          "xaxis": {
           "automargin": true,
           "gridcolor": "white",
           "linecolor": "white",
           "ticks": "",
           "title": {
            "standoff": 15
           },
           "zerolinecolor": "white",
           "zerolinewidth": 2
          },
          "yaxis": {
           "automargin": true,
           "gridcolor": "white",
           "linecolor": "white",
           "ticks": "",
           "title": {
            "standoff": 15
           },
           "zerolinecolor": "white",
           "zerolinewidth": 2
          }
         }
        },
        "title": {
         "font": {
          "color": "#4D5663"
         }
        },
        "xaxis": {
         "gridcolor": "#E1E5ED",
         "showgrid": true,
         "tickfont": {
          "color": "#4D5663"
         },
         "title": {
          "font": {
           "color": "#4D5663"
          },
          "text": ""
         },
         "zerolinecolor": "#E1E5ED"
        },
        "yaxis": {
         "gridcolor": "#E1E5ED",
         "showgrid": true,
         "tickfont": {
          "color": "#4D5663"
         },
         "title": {
          "font": {
           "color": "#4D5663"
          },
          "text": ""
         },
         "zerolinecolor": "#E1E5ED"
        }
       }
      },
      "text/html": [
       "<div>                            <div id=\"2450eb94-c5b1-4454-82a0-4c51e89c87ab\" class=\"plotly-graph-div\" style=\"height:525px; width:100%;\"></div>            <script type=\"text/javascript\">                require([\"plotly\"], function(Plotly) {                    window.PLOTLYENV=window.PLOTLYENV || {};\n",
       "                    window.PLOTLYENV.BASE_URL='https://plot.ly';                                    if (document.getElementById(\"2450eb94-c5b1-4454-82a0-4c51e89c87ab\")) {                    Plotly.newPlot(                        \"2450eb94-c5b1-4454-82a0-4c51e89c87ab\",                        [{\"line\":{\"color\":\"rgba(255, 153, 51, 1.0)\",\"dash\":\"solid\",\"shape\":\"linear\",\"width\":1.3},\"mode\":\"lines\",\"name\":\"A\",\"text\":\"\",\"x\":[0,1,2,3,4,5,6,7,8,9,10,11,12,13,14,15,16,17,18,19,20,21,22,23,24,25,26,27,28,29,30,31,32,33,34,35,36,37,38,39,40,41,42,43,44,45,46,47,48,49,50,51,52,53,54,55,56,57,58,59,60,61,62,63,64,65,66,67,68,69,70,71,72,73,74,75,76,77,78,79,80,81,82,83,84,85,86,87,88,89,90,91,92,93,94,95,96,97,98,99],\"y\":[-1.9755500137656816,-0.061947778504821194,1.5859026175116797,-1.2531388336614748,-0.05439570455517902,-0.6099892593578193,-0.42597212415335045,1.30054514318552,1.6745245836944143,0.16101375678398513,-0.49292541050026917,-0.11917095742151543,-0.7009747802886002,-0.47467091820681706,-0.4017079488724917,-0.42615585580718507,0.0902833090343134,-0.03383157680340645,0.25125800723855946,0.09501082946377389,0.5867512968998098,-0.4693010654392666,0.46168204660174567,0.06495267830063275,0.2681084284590157,-1.4989026795597802,1.7641427480382965,1.4859196786280577,0.1539020337302631,-0.6840507459974362,-0.13423049695369402,0.7460726140571591,-0.7550366137892188,-0.0512034730653333,-0.4748090640569612,-2.3679114992432004,-0.30779199050609957,-0.49193289903124116,-0.7649607105286698,-2.613800799990971,0.6362381962494086,-0.8198854452978208,-0.4784810420305522,-0.30559539406897873,1.7417622654227076,1.9097958194435793,0.9406674466573566,-1.2094515522929468,0.6724277066552841,0.6042558126336943,1.695812684537749,-0.8894533401640422,-1.0307224681600358,0.004523554592124752,1.9757360700018838,0.5429180447534881,-0.47199893155343664,0.4749452873600385,-0.283517983931913,-0.04096698814947355,0.968045533265399,0.8935691476562685,-0.1899689680365186,-0.5352024057664848,-0.6306762033186569,-0.8819772809327792,-0.9249869852557837,-1.2795987736093142,-1.4906513234849743,-1.100933806912293,0.4967968785061232,0.4776917332224903,0.19840480678120576,-0.5678729808054858,-0.47050311886264523,-0.6848928388732589,-0.3447172724962305,-0.23794258475612443,2.165413060815801,0.6632483590585299,2.000157263583068,-0.05164465663250612,-0.32950100556886297,0.1233413534161667,-1.024280593332221,1.6328302707578288,-0.8922019505656237,-0.19277947000847248,1.778582913528921,1.2861142967242434,0.7478696272647315,0.7044550353283147,-0.4948989732262082,2.162621138218643,-0.07173258766074306,-0.9714490326513098,-0.25668971020006276,-0.9861809495110716,-1.157103541842868,1.1992610142491917],\"type\":\"scatter\"},{\"line\":{\"color\":\"rgba(55, 128, 191, 1.0)\",\"dash\":\"solid\",\"shape\":\"linear\",\"width\":1.3},\"mode\":\"lines\",\"name\":\"B\",\"text\":\"\",\"x\":[0,1,2,3,4,5,6,7,8,9,10,11,12,13,14,15,16,17,18,19,20,21,22,23,24,25,26,27,28,29,30,31,32,33,34,35,36,37,38,39,40,41,42,43,44,45,46,47,48,49,50,51,52,53,54,55,56,57,58,59,60,61,62,63,64,65,66,67,68,69,70,71,72,73,74,75,76,77,78,79,80,81,82,83,84,85,86,87,88,89,90,91,92,93,94,95,96,97,98,99],\"y\":[-0.6016205567329608,-0.6867847793895484,-1.004201098081681,0.5459610858692364,-0.5134277048058766,-1.7713803666089118,0.306265766114442,-0.4673808534970285,0.47774761494497525,0.5773418911213518,-0.9716562852965338,0.5691019831236278,0.47140735466440037,0.09296487685387636,0.36346199486628045,-0.21785167686542148,0.43661427182523044,-1.1043395826762386,-0.02671525336627313,1.6340557489474088,-0.4116937959977908,0.760627438099993,-1.419951605103263,1.56554617148626,-1.0612550505986134,-0.2791022850093874,-0.6538496117164647,-0.5413662862932657,0.770850384913509,0.5112478057109159,0.444885186950138,1.3539004781978206,2.2623286874734436,-0.862557473719299,0.5541222476581766,0.4349526898898684,1.3003541024884273,-0.9334222914281395,-0.018468505151828317,0.301456771856218,0.8893522858810824,0.9676579983417197,0.40723522186669053,0.8049924749506939,-0.040571046598925915,-0.7668702851597023,1.2011848352922634,1.7413782411913143,-0.3627601644549942,0.8029425027984123,-1.2379383287509398,0.650388747065542,1.1512941141212873,0.8082910662466302,0.002804675896032924,0.040444707117679946,1.0075910275877349,1.566362282752962,1.727518610682044,0.43208798978099616,-0.37729306749409824,0.3583192853709636,2.245267346888914,-1.2931892852342348,0.49825288910292637,0.18173575684733229,-0.003765766788964723,0.788228363907951,0.14540007233038146,-2.8471785813920847,0.901525280729787,0.47931178935779756,-0.75054262406477,-0.1895272526767355,-0.16111055958515572,0.43926869577158684,-2.007298526805992,0.14872350274937846,-0.7897899064104688,-0.8739822093248697,0.8077072001297577,1.0106425845267275,-1.3871824837780988,-0.802777519106265,-0.665337553159498,-0.5965212412716,0.8824586708505167,-1.31436743946511,-0.11327313080949342,0.3357969652076104,0.7522800234797223,-1.1915982770371818,-0.6620972204720901,-1.5865209839733985,0.25954986753324477,-0.34864819900329097,0.6164677893891793,-0.006340506992387929,0.05375386835791097,-0.04750243008043119],\"type\":\"scatter\"},{\"line\":{\"color\":\"rgba(50, 171, 96, 1.0)\",\"dash\":\"solid\",\"shape\":\"linear\",\"width\":1.3},\"mode\":\"lines\",\"name\":\"C\",\"text\":\"\",\"x\":[0,1,2,3,4,5,6,7,8,9,10,11,12,13,14,15,16,17,18,19,20,21,22,23,24,25,26,27,28,29,30,31,32,33,34,35,36,37,38,39,40,41,42,43,44,45,46,47,48,49,50,51,52,53,54,55,56,57,58,59,60,61,62,63,64,65,66,67,68,69,70,71,72,73,74,75,76,77,78,79,80,81,82,83,84,85,86,87,88,89,90,91,92,93,94,95,96,97,98,99],\"y\":[-0.6704082264197347,-0.9712370065255008,0.4111150132211941,0.06505043483094419,0.09597347386637531,-0.17805257026137314,0.6266282123253187,-0.06944538525399793,1.0434066129333317,0.8321859041473956,0.23176254064018448,-0.36957242731347956,0.9693310064414132,-1.065613557626272,-0.08607110397003176,0.38839255569323583,-0.6766161417161143,-1.2143473333630788,1.1433139815906899,1.1489106765854245,-0.4233004052413279,-0.14674342975009205,-1.5470081603989874,0.5449565142853104,0.9436920674861845,-0.8578130086197939,-0.8706007914367132,-0.4674439125957368,0.7295679758333566,-1.5659532199503727,-0.6302577800291368,0.002036162897837701,0.08527473566789949,0.4114993953567297,0.5831547536114501,-0.8417649892373862,-0.15206125243366583,0.6558559082815361,0.4739620700333792,1.6503138194249127,0.261093633651454,1.488587165162164,0.29469611827486414,0.25496389058589275,-1.2652526156028097,-0.7532256723724051,-0.9099639520318753,1.1441345960738158,0.5949919924224334,-0.10782459485723767,0.2140567254164145,0.14147781374699772,1.0340849306590991,0.24670441031205223,0.583944717414109,-0.4151649571540205,-1.5680514211874341,1.0757553302227085,-2.196377096070879,-1.0909931476373194,-0.4456730180087001,0.22966449358967897,0.5457957358256748,0.8832981164864001,-1.1263605017015514,-0.40180359216850925,-1.232443932460566,0.26566029104465116,1.0724285813704941,0.04514430706016189,0.37813651962983186,1.1153581424377124,-0.2879208413779026,0.08049124917956914,-0.06135085527396157,-0.37693758217424916,1.1830320069813256,0.16995226333775676,1.7774620506505168,-0.8895255904170345,1.3944174805345486,-1.850060721313199,-1.3417035530645616,0.9391082966584445,0.9700589698321128,-1.604452147419455,0.6676364870219649,-1.1239638929995208,0.9866181703538464,-0.47245120246747085,0.14307948466401546,1.6194032925395008,0.28707929556088013,-2.0633114742281067,0.984871614465747,-0.0005197875955629226,1.28016775843392,0.38145099065980237,1.0181992084337197,0.0007496653025990152],\"type\":\"scatter\"},{\"line\":{\"color\":\"rgba(128, 0, 128, 1.0)\",\"dash\":\"solid\",\"shape\":\"linear\",\"width\":1.3},\"mode\":\"lines\",\"name\":\"D\",\"text\":\"\",\"x\":[0,1,2,3,4,5,6,7,8,9,10,11,12,13,14,15,16,17,18,19,20,21,22,23,24,25,26,27,28,29,30,31,32,33,34,35,36,37,38,39,40,41,42,43,44,45,46,47,48,49,50,51,52,53,54,55,56,57,58,59,60,61,62,63,64,65,66,67,68,69,70,71,72,73,74,75,76,77,78,79,80,81,82,83,84,85,86,87,88,89,90,91,92,93,94,95,96,97,98,99],\"y\":[-2.737247075994404,-0.371622137785998,0.4977872389088978,-0.25556722608188853,0.134844530196423,-0.9602501249253127,-0.2397917100705879,1.0344184850748666,0.8514263520822619,1.35122525523941,2.604635190520853,1.947767040875128,-1.3512387261342127,-0.9427769645828806,-2.063505088898325,-0.4870830116381731,0.25588158907185315,-1.0742236315172862,0.956877807016473,0.7333863213035633,-1.213437837026288,2.2599800326715225,-1.3391245764493112,-0.20150175200419704,-1.4517678541192687,0.1016744241682496,-1.5033897478410911,-0.1243391491925989,1.4436217338806754,-1.7133911850641386,0.26108774988306366,1.0056905498192663,-0.26248250730553535,0.24236503012727867,1.0519009772779324,0.321102619498424,-0.6304503190093411,0.8010048587525489,-0.026863296121999822,-0.6005877821544191,-0.0049922649277795465,-2.6221756364222157,-0.42984055050945774,-0.1443655516573191,-0.904478920086068,-0.07364609801508223,1.018411591964657,-0.43294602375333335,-0.5695326411619899,0.7594130903281197,-0.2006312780575331,-0.2347940580504846,0.8139954950920132,-0.8807999455752871,0.7163484752256508,0.40615245114971854,-0.8071198924710938,0.7767107762697273,-0.28877910715950894,0.8149223997578482,-0.3362381266307819,0.9522356397473453,-0.5898704926150133,-0.9772068149269224,0.737315638695283,0.34127453265489327,-0.6552094825700808,-1.6030076880442323,-1.5895923338532951,-0.012103775562117147,-0.29541678817590195,-0.12222407499725159,-1.0574075864876884,0.03501734189575078,-0.4077052603736408,0.21432227712942017,1.3691699925778178,-0.539074619860555,-0.8037180119982591,-0.7443299088773537,1.522871279279115,-0.08863780207150675,1.3100439989179171,-1.5140910484576355,1.6857952570240735,-1.9593945449784622,0.618036635263452,0.5793747989395617,-0.18701217121788372,-0.4302273446214045,-0.18418614363508462,0.48564593255997734,1.1067954050511588,-0.48813267343725975,-0.6718716102419712,-0.19220311340207014,0.6295952841880968,-0.651678727558497,1.3370584169131228,0.35362929920522856],\"type\":\"scatter\"}],                        {\"legend\":{\"bgcolor\":\"#F5F6F9\",\"font\":{\"color\":\"#4D5663\"}},\"paper_bgcolor\":\"#F5F6F9\",\"plot_bgcolor\":\"#F5F6F9\",\"template\":{\"data\":{\"barpolar\":[{\"marker\":{\"line\":{\"color\":\"#E5ECF6\",\"width\":0.5},\"pattern\":{\"fillmode\":\"overlay\",\"size\":10,\"solidity\":0.2}},\"type\":\"barpolar\"}],\"bar\":[{\"error_x\":{\"color\":\"#2a3f5f\"},\"error_y\":{\"color\":\"#2a3f5f\"},\"marker\":{\"line\":{\"color\":\"#E5ECF6\",\"width\":0.5},\"pattern\":{\"fillmode\":\"overlay\",\"size\":10,\"solidity\":0.2}},\"type\":\"bar\"}],\"carpet\":[{\"aaxis\":{\"endlinecolor\":\"#2a3f5f\",\"gridcolor\":\"white\",\"linecolor\":\"white\",\"minorgridcolor\":\"white\",\"startlinecolor\":\"#2a3f5f\"},\"baxis\":{\"endlinecolor\":\"#2a3f5f\",\"gridcolor\":\"white\",\"linecolor\":\"white\",\"minorgridcolor\":\"white\",\"startlinecolor\":\"#2a3f5f\"},\"type\":\"carpet\"}],\"choropleth\":[{\"colorbar\":{\"outlinewidth\":0,\"ticks\":\"\"},\"type\":\"choropleth\"}],\"contourcarpet\":[{\"colorbar\":{\"outlinewidth\":0,\"ticks\":\"\"},\"type\":\"contourcarpet\"}],\"contour\":[{\"colorbar\":{\"outlinewidth\":0,\"ticks\":\"\"},\"colorscale\":[[0.0,\"#0d0887\"],[0.1111111111111111,\"#46039f\"],[0.2222222222222222,\"#7201a8\"],[0.3333333333333333,\"#9c179e\"],[0.4444444444444444,\"#bd3786\"],[0.5555555555555556,\"#d8576b\"],[0.6666666666666666,\"#ed7953\"],[0.7777777777777778,\"#fb9f3a\"],[0.8888888888888888,\"#fdca26\"],[1.0,\"#f0f921\"]],\"type\":\"contour\"}],\"heatmapgl\":[{\"colorbar\":{\"outlinewidth\":0,\"ticks\":\"\"},\"colorscale\":[[0.0,\"#0d0887\"],[0.1111111111111111,\"#46039f\"],[0.2222222222222222,\"#7201a8\"],[0.3333333333333333,\"#9c179e\"],[0.4444444444444444,\"#bd3786\"],[0.5555555555555556,\"#d8576b\"],[0.6666666666666666,\"#ed7953\"],[0.7777777777777778,\"#fb9f3a\"],[0.8888888888888888,\"#fdca26\"],[1.0,\"#f0f921\"]],\"type\":\"heatmapgl\"}],\"heatmap\":[{\"colorbar\":{\"outlinewidth\":0,\"ticks\":\"\"},\"colorscale\":[[0.0,\"#0d0887\"],[0.1111111111111111,\"#46039f\"],[0.2222222222222222,\"#7201a8\"],[0.3333333333333333,\"#9c179e\"],[0.4444444444444444,\"#bd3786\"],[0.5555555555555556,\"#d8576b\"],[0.6666666666666666,\"#ed7953\"],[0.7777777777777778,\"#fb9f3a\"],[0.8888888888888888,\"#fdca26\"],[1.0,\"#f0f921\"]],\"type\":\"heatmap\"}],\"histogram2dcontour\":[{\"colorbar\":{\"outlinewidth\":0,\"ticks\":\"\"},\"colorscale\":[[0.0,\"#0d0887\"],[0.1111111111111111,\"#46039f\"],[0.2222222222222222,\"#7201a8\"],[0.3333333333333333,\"#9c179e\"],[0.4444444444444444,\"#bd3786\"],[0.5555555555555556,\"#d8576b\"],[0.6666666666666666,\"#ed7953\"],[0.7777777777777778,\"#fb9f3a\"],[0.8888888888888888,\"#fdca26\"],[1.0,\"#f0f921\"]],\"type\":\"histogram2dcontour\"}],\"histogram2d\":[{\"colorbar\":{\"outlinewidth\":0,\"ticks\":\"\"},\"colorscale\":[[0.0,\"#0d0887\"],[0.1111111111111111,\"#46039f\"],[0.2222222222222222,\"#7201a8\"],[0.3333333333333333,\"#9c179e\"],[0.4444444444444444,\"#bd3786\"],[0.5555555555555556,\"#d8576b\"],[0.6666666666666666,\"#ed7953\"],[0.7777777777777778,\"#fb9f3a\"],[0.8888888888888888,\"#fdca26\"],[1.0,\"#f0f921\"]],\"type\":\"histogram2d\"}],\"histogram\":[{\"marker\":{\"pattern\":{\"fillmode\":\"overlay\",\"size\":10,\"solidity\":0.2}},\"type\":\"histogram\"}],\"mesh3d\":[{\"colorbar\":{\"outlinewidth\":0,\"ticks\":\"\"},\"type\":\"mesh3d\"}],\"parcoords\":[{\"line\":{\"colorbar\":{\"outlinewidth\":0,\"ticks\":\"\"}},\"type\":\"parcoords\"}],\"pie\":[{\"automargin\":true,\"type\":\"pie\"}],\"scatter3d\":[{\"line\":{\"colorbar\":{\"outlinewidth\":0,\"ticks\":\"\"}},\"marker\":{\"colorbar\":{\"outlinewidth\":0,\"ticks\":\"\"}},\"type\":\"scatter3d\"}],\"scattercarpet\":[{\"marker\":{\"colorbar\":{\"outlinewidth\":0,\"ticks\":\"\"}},\"type\":\"scattercarpet\"}],\"scattergeo\":[{\"marker\":{\"colorbar\":{\"outlinewidth\":0,\"ticks\":\"\"}},\"type\":\"scattergeo\"}],\"scattergl\":[{\"marker\":{\"colorbar\":{\"outlinewidth\":0,\"ticks\":\"\"}},\"type\":\"scattergl\"}],\"scattermapbox\":[{\"marker\":{\"colorbar\":{\"outlinewidth\":0,\"ticks\":\"\"}},\"type\":\"scattermapbox\"}],\"scatterpolargl\":[{\"marker\":{\"colorbar\":{\"outlinewidth\":0,\"ticks\":\"\"}},\"type\":\"scatterpolargl\"}],\"scatterpolar\":[{\"marker\":{\"colorbar\":{\"outlinewidth\":0,\"ticks\":\"\"}},\"type\":\"scatterpolar\"}],\"scatter\":[{\"fillpattern\":{\"fillmode\":\"overlay\",\"size\":10,\"solidity\":0.2},\"type\":\"scatter\"}],\"scatterternary\":[{\"marker\":{\"colorbar\":{\"outlinewidth\":0,\"ticks\":\"\"}},\"type\":\"scatterternary\"}],\"surface\":[{\"colorbar\":{\"outlinewidth\":0,\"ticks\":\"\"},\"colorscale\":[[0.0,\"#0d0887\"],[0.1111111111111111,\"#46039f\"],[0.2222222222222222,\"#7201a8\"],[0.3333333333333333,\"#9c179e\"],[0.4444444444444444,\"#bd3786\"],[0.5555555555555556,\"#d8576b\"],[0.6666666666666666,\"#ed7953\"],[0.7777777777777778,\"#fb9f3a\"],[0.8888888888888888,\"#fdca26\"],[1.0,\"#f0f921\"]],\"type\":\"surface\"}],\"table\":[{\"cells\":{\"fill\":{\"color\":\"#EBF0F8\"},\"line\":{\"color\":\"white\"}},\"header\":{\"fill\":{\"color\":\"#C8D4E3\"},\"line\":{\"color\":\"white\"}},\"type\":\"table\"}]},\"layout\":{\"annotationdefaults\":{\"arrowcolor\":\"#2a3f5f\",\"arrowhead\":0,\"arrowwidth\":1},\"autotypenumbers\":\"strict\",\"coloraxis\":{\"colorbar\":{\"outlinewidth\":0,\"ticks\":\"\"}},\"colorscale\":{\"diverging\":[[0,\"#8e0152\"],[0.1,\"#c51b7d\"],[0.2,\"#de77ae\"],[0.3,\"#f1b6da\"],[0.4,\"#fde0ef\"],[0.5,\"#f7f7f7\"],[0.6,\"#e6f5d0\"],[0.7,\"#b8e186\"],[0.8,\"#7fbc41\"],[0.9,\"#4d9221\"],[1,\"#276419\"]],\"sequential\":[[0.0,\"#0d0887\"],[0.1111111111111111,\"#46039f\"],[0.2222222222222222,\"#7201a8\"],[0.3333333333333333,\"#9c179e\"],[0.4444444444444444,\"#bd3786\"],[0.5555555555555556,\"#d8576b\"],[0.6666666666666666,\"#ed7953\"],[0.7777777777777778,\"#fb9f3a\"],[0.8888888888888888,\"#fdca26\"],[1.0,\"#f0f921\"]],\"sequentialminus\":[[0.0,\"#0d0887\"],[0.1111111111111111,\"#46039f\"],[0.2222222222222222,\"#7201a8\"],[0.3333333333333333,\"#9c179e\"],[0.4444444444444444,\"#bd3786\"],[0.5555555555555556,\"#d8576b\"],[0.6666666666666666,\"#ed7953\"],[0.7777777777777778,\"#fb9f3a\"],[0.8888888888888888,\"#fdca26\"],[1.0,\"#f0f921\"]]},\"colorway\":[\"#636efa\",\"#EF553B\",\"#00cc96\",\"#ab63fa\",\"#FFA15A\",\"#19d3f3\",\"#FF6692\",\"#B6E880\",\"#FF97FF\",\"#FECB52\"],\"font\":{\"color\":\"#2a3f5f\"},\"geo\":{\"bgcolor\":\"white\",\"lakecolor\":\"white\",\"landcolor\":\"#E5ECF6\",\"showlakes\":true,\"showland\":true,\"subunitcolor\":\"white\"},\"hoverlabel\":{\"align\":\"left\"},\"hovermode\":\"closest\",\"mapbox\":{\"style\":\"light\"},\"paper_bgcolor\":\"white\",\"plot_bgcolor\":\"#E5ECF6\",\"polar\":{\"angularaxis\":{\"gridcolor\":\"white\",\"linecolor\":\"white\",\"ticks\":\"\"},\"bgcolor\":\"#E5ECF6\",\"radialaxis\":{\"gridcolor\":\"white\",\"linecolor\":\"white\",\"ticks\":\"\"}},\"scene\":{\"xaxis\":{\"backgroundcolor\":\"#E5ECF6\",\"gridcolor\":\"white\",\"gridwidth\":2,\"linecolor\":\"white\",\"showbackground\":true,\"ticks\":\"\",\"zerolinecolor\":\"white\"},\"yaxis\":{\"backgroundcolor\":\"#E5ECF6\",\"gridcolor\":\"white\",\"gridwidth\":2,\"linecolor\":\"white\",\"showbackground\":true,\"ticks\":\"\",\"zerolinecolor\":\"white\"},\"zaxis\":{\"backgroundcolor\":\"#E5ECF6\",\"gridcolor\":\"white\",\"gridwidth\":2,\"linecolor\":\"white\",\"showbackground\":true,\"ticks\":\"\",\"zerolinecolor\":\"white\"}},\"shapedefaults\":{\"line\":{\"color\":\"#2a3f5f\"}},\"ternary\":{\"aaxis\":{\"gridcolor\":\"white\",\"linecolor\":\"white\",\"ticks\":\"\"},\"baxis\":{\"gridcolor\":\"white\",\"linecolor\":\"white\",\"ticks\":\"\"},\"bgcolor\":\"#E5ECF6\",\"caxis\":{\"gridcolor\":\"white\",\"linecolor\":\"white\",\"ticks\":\"\"}},\"title\":{\"x\":0.05},\"xaxis\":{\"automargin\":true,\"gridcolor\":\"white\",\"linecolor\":\"white\",\"ticks\":\"\",\"title\":{\"standoff\":15},\"zerolinecolor\":\"white\",\"zerolinewidth\":2},\"yaxis\":{\"automargin\":true,\"gridcolor\":\"white\",\"linecolor\":\"white\",\"ticks\":\"\",\"title\":{\"standoff\":15},\"zerolinecolor\":\"white\",\"zerolinewidth\":2}}},\"title\":{\"font\":{\"color\":\"#4D5663\"}},\"xaxis\":{\"gridcolor\":\"#E1E5ED\",\"showgrid\":true,\"tickfont\":{\"color\":\"#4D5663\"},\"title\":{\"font\":{\"color\":\"#4D5663\"},\"text\":\"\"},\"zerolinecolor\":\"#E1E5ED\"},\"yaxis\":{\"gridcolor\":\"#E1E5ED\",\"showgrid\":true,\"tickfont\":{\"color\":\"#4D5663\"},\"title\":{\"font\":{\"color\":\"#4D5663\"},\"text\":\"\"},\"zerolinecolor\":\"#E1E5ED\"}},                        {\"showLink\": true, \"linkText\": \"Export to plot.ly\", \"plotlyServerURL\": \"https://plot.ly\", \"responsive\": true}                    ).then(function(){\n",
       "                            \n",
       "var gd = document.getElementById('2450eb94-c5b1-4454-82a0-4c51e89c87ab');\n",
       "var x = new MutationObserver(function (mutations, observer) {{\n",
       "        var display = window.getComputedStyle(gd).display;\n",
       "        if (!display || display === 'none') {{\n",
       "            console.log([gd, 'removed!']);\n",
       "            Plotly.purge(gd);\n",
       "            observer.disconnect();\n",
       "        }}\n",
       "}});\n",
       "\n",
       "// Listen for the removal of the full notebook cells\n",
       "var notebookContainer = gd.closest('#notebook-container');\n",
       "if (notebookContainer) {{\n",
       "    x.observe(notebookContainer, {childList: true});\n",
       "}}\n",
       "\n",
       "// Listen for the clearing of the current output cell\n",
       "var outputEl = gd.closest('.output');\n",
       "if (outputEl) {{\n",
       "    x.observe(outputEl, {childList: true});\n",
       "}}\n",
       "\n",
       "                        })                };                });            </script>        </div>"
      ]
     },
     "metadata": {},
     "output_type": "display_data"
    }
   ],
   "source": [
    "df.iplot()"
   ]
  },
  {
   "cell_type": "code",
   "execution_count": 24,
   "id": "eba3dffd",
   "metadata": {},
   "outputs": [
    {
     "data": {
      "application/vnd.plotly.v1+json": {
       "config": {
        "linkText": "Export to plot.ly",
        "plotlyServerURL": "https://plot.ly",
        "showLink": true
       },
       "data": [
        {
         "line": {
          "color": "rgba(255, 153, 51, 1.0)",
          "dash": "solid",
          "shape": "linear",
          "width": 1.3
         },
         "marker": {
          "size": 20,
          "symbol": "circle"
         },
         "mode": "markers",
         "name": "B",
         "text": "",
         "type": "scatter",
         "x": [
          -1.9755500137656816,
          -0.061947778504821194,
          1.5859026175116797,
          -1.2531388336614748,
          -0.05439570455517902,
          -0.6099892593578193,
          -0.42597212415335045,
          1.30054514318552,
          1.6745245836944143,
          0.16101375678398513,
          -0.49292541050026917,
          -0.11917095742151543,
          -0.7009747802886002,
          -0.47467091820681706,
          -0.4017079488724917,
          -0.42615585580718507,
          0.0902833090343134,
          -0.03383157680340645,
          0.25125800723855946,
          0.09501082946377389,
          0.5867512968998098,
          -0.4693010654392666,
          0.46168204660174567,
          0.06495267830063275,
          0.2681084284590157,
          -1.4989026795597802,
          1.7641427480382965,
          1.4859196786280577,
          0.1539020337302631,
          -0.6840507459974362,
          -0.13423049695369402,
          0.7460726140571591,
          -0.7550366137892188,
          -0.0512034730653333,
          -0.4748090640569612,
          -2.3679114992432004,
          -0.30779199050609957,
          -0.49193289903124116,
          -0.7649607105286698,
          -2.613800799990971,
          0.6362381962494086,
          -0.8198854452978208,
          -0.4784810420305522,
          -0.30559539406897873,
          1.7417622654227076,
          1.9097958194435793,
          0.9406674466573566,
          -1.2094515522929468,
          0.6724277066552841,
          0.6042558126336943,
          1.695812684537749,
          -0.8894533401640422,
          -1.0307224681600358,
          0.004523554592124752,
          1.9757360700018838,
          0.5429180447534881,
          -0.47199893155343664,
          0.4749452873600385,
          -0.283517983931913,
          -0.04096698814947355,
          0.968045533265399,
          0.8935691476562685,
          -0.1899689680365186,
          -0.5352024057664848,
          -0.6306762033186569,
          -0.8819772809327792,
          -0.9249869852557837,
          -1.2795987736093142,
          -1.4906513234849743,
          -1.100933806912293,
          0.4967968785061232,
          0.4776917332224903,
          0.19840480678120576,
          -0.5678729808054858,
          -0.47050311886264523,
          -0.6848928388732589,
          -0.3447172724962305,
          -0.23794258475612443,
          2.165413060815801,
          0.6632483590585299,
          2.000157263583068,
          -0.05164465663250612,
          -0.32950100556886297,
          0.1233413534161667,
          -1.024280593332221,
          1.6328302707578288,
          -0.8922019505656237,
          -0.19277947000847248,
          1.778582913528921,
          1.2861142967242434,
          0.7478696272647315,
          0.7044550353283147,
          -0.4948989732262082,
          2.162621138218643,
          -0.07173258766074306,
          -0.9714490326513098,
          -0.25668971020006276,
          -0.9861809495110716,
          -1.157103541842868,
          1.1992610142491917
         ],
         "y": [
          -0.6016205567329608,
          -0.6867847793895484,
          -1.004201098081681,
          0.5459610858692364,
          -0.5134277048058766,
          -1.7713803666089118,
          0.306265766114442,
          -0.4673808534970285,
          0.47774761494497525,
          0.5773418911213518,
          -0.9716562852965338,
          0.5691019831236278,
          0.47140735466440037,
          0.09296487685387636,
          0.36346199486628045,
          -0.21785167686542148,
          0.43661427182523044,
          -1.1043395826762386,
          -0.02671525336627313,
          1.6340557489474088,
          -0.4116937959977908,
          0.760627438099993,
          -1.419951605103263,
          1.56554617148626,
          -1.0612550505986134,
          -0.2791022850093874,
          -0.6538496117164647,
          -0.5413662862932657,
          0.770850384913509,
          0.5112478057109159,
          0.444885186950138,
          1.3539004781978206,
          2.2623286874734436,
          -0.862557473719299,
          0.5541222476581766,
          0.4349526898898684,
          1.3003541024884273,
          -0.9334222914281395,
          -0.018468505151828317,
          0.301456771856218,
          0.8893522858810824,
          0.9676579983417197,
          0.40723522186669053,
          0.8049924749506939,
          -0.040571046598925915,
          -0.7668702851597023,
          1.2011848352922634,
          1.7413782411913143,
          -0.3627601644549942,
          0.8029425027984123,
          -1.2379383287509398,
          0.650388747065542,
          1.1512941141212873,
          0.8082910662466302,
          0.002804675896032924,
          0.040444707117679946,
          1.0075910275877349,
          1.566362282752962,
          1.727518610682044,
          0.43208798978099616,
          -0.37729306749409824,
          0.3583192853709636,
          2.245267346888914,
          -1.2931892852342348,
          0.49825288910292637,
          0.18173575684733229,
          -0.003765766788964723,
          0.788228363907951,
          0.14540007233038146,
          -2.8471785813920847,
          0.901525280729787,
          0.47931178935779756,
          -0.75054262406477,
          -0.1895272526767355,
          -0.16111055958515572,
          0.43926869577158684,
          -2.007298526805992,
          0.14872350274937846,
          -0.7897899064104688,
          -0.8739822093248697,
          0.8077072001297577,
          1.0106425845267275,
          -1.3871824837780988,
          -0.802777519106265,
          -0.665337553159498,
          -0.5965212412716,
          0.8824586708505167,
          -1.31436743946511,
          -0.11327313080949342,
          0.3357969652076104,
          0.7522800234797223,
          -1.1915982770371818,
          -0.6620972204720901,
          -1.5865209839733985,
          0.25954986753324477,
          -0.34864819900329097,
          0.6164677893891793,
          -0.006340506992387929,
          0.05375386835791097,
          -0.04750243008043119
         ]
        }
       ],
       "layout": {
        "legend": {
         "bgcolor": "#F5F6F9",
         "font": {
          "color": "#4D5663"
         }
        },
        "paper_bgcolor": "#F5F6F9",
        "plot_bgcolor": "#F5F6F9",
        "template": {
         "data": {
          "bar": [
           {
            "error_x": {
             "color": "#2a3f5f"
            },
            "error_y": {
             "color": "#2a3f5f"
            },
            "marker": {
             "line": {
              "color": "#E5ECF6",
              "width": 0.5
             },
             "pattern": {
              "fillmode": "overlay",
              "size": 10,
              "solidity": 0.2
             }
            },
            "type": "bar"
           }
          ],
          "barpolar": [
           {
            "marker": {
             "line": {
              "color": "#E5ECF6",
              "width": 0.5
             },
             "pattern": {
              "fillmode": "overlay",
              "size": 10,
              "solidity": 0.2
             }
            },
            "type": "barpolar"
           }
          ],
          "carpet": [
           {
            "aaxis": {
             "endlinecolor": "#2a3f5f",
             "gridcolor": "white",
             "linecolor": "white",
             "minorgridcolor": "white",
             "startlinecolor": "#2a3f5f"
            },
            "baxis": {
             "endlinecolor": "#2a3f5f",
             "gridcolor": "white",
             "linecolor": "white",
             "minorgridcolor": "white",
             "startlinecolor": "#2a3f5f"
            },
            "type": "carpet"
           }
          ],
          "choropleth": [
           {
            "colorbar": {
             "outlinewidth": 0,
             "ticks": ""
            },
            "type": "choropleth"
           }
          ],
          "contour": [
           {
            "colorbar": {
             "outlinewidth": 0,
             "ticks": ""
            },
            "colorscale": [
             [
              0,
              "#0d0887"
             ],
             [
              0.1111111111111111,
              "#46039f"
             ],
             [
              0.2222222222222222,
              "#7201a8"
             ],
             [
              0.3333333333333333,
              "#9c179e"
             ],
             [
              0.4444444444444444,
              "#bd3786"
             ],
             [
              0.5555555555555556,
              "#d8576b"
             ],
             [
              0.6666666666666666,
              "#ed7953"
             ],
             [
              0.7777777777777778,
              "#fb9f3a"
             ],
             [
              0.8888888888888888,
              "#fdca26"
             ],
             [
              1,
              "#f0f921"
             ]
            ],
            "type": "contour"
           }
          ],
          "contourcarpet": [
           {
            "colorbar": {
             "outlinewidth": 0,
             "ticks": ""
            },
            "type": "contourcarpet"
           }
          ],
          "heatmap": [
           {
            "colorbar": {
             "outlinewidth": 0,
             "ticks": ""
            },
            "colorscale": [
             [
              0,
              "#0d0887"
             ],
             [
              0.1111111111111111,
              "#46039f"
             ],
             [
              0.2222222222222222,
              "#7201a8"
             ],
             [
              0.3333333333333333,
              "#9c179e"
             ],
             [
              0.4444444444444444,
              "#bd3786"
             ],
             [
              0.5555555555555556,
              "#d8576b"
             ],
             [
              0.6666666666666666,
              "#ed7953"
             ],
             [
              0.7777777777777778,
              "#fb9f3a"
             ],
             [
              0.8888888888888888,
              "#fdca26"
             ],
             [
              1,
              "#f0f921"
             ]
            ],
            "type": "heatmap"
           }
          ],
          "heatmapgl": [
           {
            "colorbar": {
             "outlinewidth": 0,
             "ticks": ""
            },
            "colorscale": [
             [
              0,
              "#0d0887"
             ],
             [
              0.1111111111111111,
              "#46039f"
             ],
             [
              0.2222222222222222,
              "#7201a8"
             ],
             [
              0.3333333333333333,
              "#9c179e"
             ],
             [
              0.4444444444444444,
              "#bd3786"
             ],
             [
              0.5555555555555556,
              "#d8576b"
             ],
             [
              0.6666666666666666,
              "#ed7953"
             ],
             [
              0.7777777777777778,
              "#fb9f3a"
             ],
             [
              0.8888888888888888,
              "#fdca26"
             ],
             [
              1,
              "#f0f921"
             ]
            ],
            "type": "heatmapgl"
           }
          ],
          "histogram": [
           {
            "marker": {
             "pattern": {
              "fillmode": "overlay",
              "size": 10,
              "solidity": 0.2
             }
            },
            "type": "histogram"
           }
          ],
          "histogram2d": [
           {
            "colorbar": {
             "outlinewidth": 0,
             "ticks": ""
            },
            "colorscale": [
             [
              0,
              "#0d0887"
             ],
             [
              0.1111111111111111,
              "#46039f"
             ],
             [
              0.2222222222222222,
              "#7201a8"
             ],
             [
              0.3333333333333333,
              "#9c179e"
             ],
             [
              0.4444444444444444,
              "#bd3786"
             ],
             [
              0.5555555555555556,
              "#d8576b"
             ],
             [
              0.6666666666666666,
              "#ed7953"
             ],
             [
              0.7777777777777778,
              "#fb9f3a"
             ],
             [
              0.8888888888888888,
              "#fdca26"
             ],
             [
              1,
              "#f0f921"
             ]
            ],
            "type": "histogram2d"
           }
          ],
          "histogram2dcontour": [
           {
            "colorbar": {
             "outlinewidth": 0,
             "ticks": ""
            },
            "colorscale": [
             [
              0,
              "#0d0887"
             ],
             [
              0.1111111111111111,
              "#46039f"
             ],
             [
              0.2222222222222222,
              "#7201a8"
             ],
             [
              0.3333333333333333,
              "#9c179e"
             ],
             [
              0.4444444444444444,
              "#bd3786"
             ],
             [
              0.5555555555555556,
              "#d8576b"
             ],
             [
              0.6666666666666666,
              "#ed7953"
             ],
             [
              0.7777777777777778,
              "#fb9f3a"
             ],
             [
              0.8888888888888888,
              "#fdca26"
             ],
             [
              1,
              "#f0f921"
             ]
            ],
            "type": "histogram2dcontour"
           }
          ],
          "mesh3d": [
           {
            "colorbar": {
             "outlinewidth": 0,
             "ticks": ""
            },
            "type": "mesh3d"
           }
          ],
          "parcoords": [
           {
            "line": {
             "colorbar": {
              "outlinewidth": 0,
              "ticks": ""
             }
            },
            "type": "parcoords"
           }
          ],
          "pie": [
           {
            "automargin": true,
            "type": "pie"
           }
          ],
          "scatter": [
           {
            "fillpattern": {
             "fillmode": "overlay",
             "size": 10,
             "solidity": 0.2
            },
            "type": "scatter"
           }
          ],
          "scatter3d": [
           {
            "line": {
             "colorbar": {
              "outlinewidth": 0,
              "ticks": ""
             }
            },
            "marker": {
             "colorbar": {
              "outlinewidth": 0,
              "ticks": ""
             }
            },
            "type": "scatter3d"
           }
          ],
          "scattercarpet": [
           {
            "marker": {
             "colorbar": {
              "outlinewidth": 0,
              "ticks": ""
             }
            },
            "type": "scattercarpet"
           }
          ],
          "scattergeo": [
           {
            "marker": {
             "colorbar": {
              "outlinewidth": 0,
              "ticks": ""
             }
            },
            "type": "scattergeo"
           }
          ],
          "scattergl": [
           {
            "marker": {
             "colorbar": {
              "outlinewidth": 0,
              "ticks": ""
             }
            },
            "type": "scattergl"
           }
          ],
          "scattermapbox": [
           {
            "marker": {
             "colorbar": {
              "outlinewidth": 0,
              "ticks": ""
             }
            },
            "type": "scattermapbox"
           }
          ],
          "scatterpolar": [
           {
            "marker": {
             "colorbar": {
              "outlinewidth": 0,
              "ticks": ""
             }
            },
            "type": "scatterpolar"
           }
          ],
          "scatterpolargl": [
           {
            "marker": {
             "colorbar": {
              "outlinewidth": 0,
              "ticks": ""
             }
            },
            "type": "scatterpolargl"
           }
          ],
          "scatterternary": [
           {
            "marker": {
             "colorbar": {
              "outlinewidth": 0,
              "ticks": ""
             }
            },
            "type": "scatterternary"
           }
          ],
          "surface": [
           {
            "colorbar": {
             "outlinewidth": 0,
             "ticks": ""
            },
            "colorscale": [
             [
              0,
              "#0d0887"
             ],
             [
              0.1111111111111111,
              "#46039f"
             ],
             [
              0.2222222222222222,
              "#7201a8"
             ],
             [
              0.3333333333333333,
              "#9c179e"
             ],
             [
              0.4444444444444444,
              "#bd3786"
             ],
             [
              0.5555555555555556,
              "#d8576b"
             ],
             [
              0.6666666666666666,
              "#ed7953"
             ],
             [
              0.7777777777777778,
              "#fb9f3a"
             ],
             [
              0.8888888888888888,
              "#fdca26"
             ],
             [
              1,
              "#f0f921"
             ]
            ],
            "type": "surface"
           }
          ],
          "table": [
           {
            "cells": {
             "fill": {
              "color": "#EBF0F8"
             },
             "line": {
              "color": "white"
             }
            },
            "header": {
             "fill": {
              "color": "#C8D4E3"
             },
             "line": {
              "color": "white"
             }
            },
            "type": "table"
           }
          ]
         },
         "layout": {
          "annotationdefaults": {
           "arrowcolor": "#2a3f5f",
           "arrowhead": 0,
           "arrowwidth": 1
          },
          "autotypenumbers": "strict",
          "coloraxis": {
           "colorbar": {
            "outlinewidth": 0,
            "ticks": ""
           }
          },
          "colorscale": {
           "diverging": [
            [
             0,
             "#8e0152"
            ],
            [
             0.1,
             "#c51b7d"
            ],
            [
             0.2,
             "#de77ae"
            ],
            [
             0.3,
             "#f1b6da"
            ],
            [
             0.4,
             "#fde0ef"
            ],
            [
             0.5,
             "#f7f7f7"
            ],
            [
             0.6,
             "#e6f5d0"
            ],
            [
             0.7,
             "#b8e186"
            ],
            [
             0.8,
             "#7fbc41"
            ],
            [
             0.9,
             "#4d9221"
            ],
            [
             1,
             "#276419"
            ]
           ],
           "sequential": [
            [
             0,
             "#0d0887"
            ],
            [
             0.1111111111111111,
             "#46039f"
            ],
            [
             0.2222222222222222,
             "#7201a8"
            ],
            [
             0.3333333333333333,
             "#9c179e"
            ],
            [
             0.4444444444444444,
             "#bd3786"
            ],
            [
             0.5555555555555556,
             "#d8576b"
            ],
            [
             0.6666666666666666,
             "#ed7953"
            ],
            [
             0.7777777777777778,
             "#fb9f3a"
            ],
            [
             0.8888888888888888,
             "#fdca26"
            ],
            [
             1,
             "#f0f921"
            ]
           ],
           "sequentialminus": [
            [
             0,
             "#0d0887"
            ],
            [
             0.1111111111111111,
             "#46039f"
            ],
            [
             0.2222222222222222,
             "#7201a8"
            ],
            [
             0.3333333333333333,
             "#9c179e"
            ],
            [
             0.4444444444444444,
             "#bd3786"
            ],
            [
             0.5555555555555556,
             "#d8576b"
            ],
            [
             0.6666666666666666,
             "#ed7953"
            ],
            [
             0.7777777777777778,
             "#fb9f3a"
            ],
            [
             0.8888888888888888,
             "#fdca26"
            ],
            [
             1,
             "#f0f921"
            ]
           ]
          },
          "colorway": [
           "#636efa",
           "#EF553B",
           "#00cc96",
           "#ab63fa",
           "#FFA15A",
           "#19d3f3",
           "#FF6692",
           "#B6E880",
           "#FF97FF",
           "#FECB52"
          ],
          "font": {
           "color": "#2a3f5f"
          },
          "geo": {
           "bgcolor": "white",
           "lakecolor": "white",
           "landcolor": "#E5ECF6",
           "showlakes": true,
           "showland": true,
           "subunitcolor": "white"
          },
          "hoverlabel": {
           "align": "left"
          },
          "hovermode": "closest",
          "mapbox": {
           "style": "light"
          },
          "paper_bgcolor": "white",
          "plot_bgcolor": "#E5ECF6",
          "polar": {
           "angularaxis": {
            "gridcolor": "white",
            "linecolor": "white",
            "ticks": ""
           },
           "bgcolor": "#E5ECF6",
           "radialaxis": {
            "gridcolor": "white",
            "linecolor": "white",
            "ticks": ""
           }
          },
          "scene": {
           "xaxis": {
            "backgroundcolor": "#E5ECF6",
            "gridcolor": "white",
            "gridwidth": 2,
            "linecolor": "white",
            "showbackground": true,
            "ticks": "",
            "zerolinecolor": "white"
           },
           "yaxis": {
            "backgroundcolor": "#E5ECF6",
            "gridcolor": "white",
            "gridwidth": 2,
            "linecolor": "white",
            "showbackground": true,
            "ticks": "",
            "zerolinecolor": "white"
           },
           "zaxis": {
            "backgroundcolor": "#E5ECF6",
            "gridcolor": "white",
            "gridwidth": 2,
            "linecolor": "white",
            "showbackground": true,
            "ticks": "",
            "zerolinecolor": "white"
           }
          },
          "shapedefaults": {
           "line": {
            "color": "#2a3f5f"
           }
          },
          "ternary": {
           "aaxis": {
            "gridcolor": "white",
            "linecolor": "white",
            "ticks": ""
           },
           "baxis": {
            "gridcolor": "white",
            "linecolor": "white",
            "ticks": ""
           },
           "bgcolor": "#E5ECF6",
           "caxis": {
            "gridcolor": "white",
            "linecolor": "white",
            "ticks": ""
           }
          },
          "title": {
           "x": 0.05
          },
          "xaxis": {
           "automargin": true,
           "gridcolor": "white",
           "linecolor": "white",
           "ticks": "",
           "title": {
            "standoff": 15
           },
           "zerolinecolor": "white",
           "zerolinewidth": 2
          },
          "yaxis": {
           "automargin": true,
           "gridcolor": "white",
           "linecolor": "white",
           "ticks": "",
           "title": {
            "standoff": 15
           },
           "zerolinecolor": "white",
           "zerolinewidth": 2
          }
         }
        },
        "title": {
         "font": {
          "color": "#4D5663"
         }
        },
        "xaxis": {
         "gridcolor": "#E1E5ED",
         "showgrid": true,
         "tickfont": {
          "color": "#4D5663"
         },
         "title": {
          "font": {
           "color": "#4D5663"
          },
          "text": ""
         },
         "zerolinecolor": "#E1E5ED"
        },
        "yaxis": {
         "gridcolor": "#E1E5ED",
         "showgrid": true,
         "tickfont": {
          "color": "#4D5663"
         },
         "title": {
          "font": {
           "color": "#4D5663"
          },
          "text": ""
         },
         "zerolinecolor": "#E1E5ED"
        }
       }
      },
      "text/html": [
       "<div>                            <div id=\"5ceab8b4-a606-426b-b0e8-b9580c184486\" class=\"plotly-graph-div\" style=\"height:525px; width:100%;\"></div>            <script type=\"text/javascript\">                require([\"plotly\"], function(Plotly) {                    window.PLOTLYENV=window.PLOTLYENV || {};\n",
       "                    window.PLOTLYENV.BASE_URL='https://plot.ly';                                    if (document.getElementById(\"5ceab8b4-a606-426b-b0e8-b9580c184486\")) {                    Plotly.newPlot(                        \"5ceab8b4-a606-426b-b0e8-b9580c184486\",                        [{\"line\":{\"color\":\"rgba(255, 153, 51, 1.0)\",\"dash\":\"solid\",\"shape\":\"linear\",\"width\":1.3},\"marker\":{\"size\":20,\"symbol\":\"circle\"},\"mode\":\"markers\",\"name\":\"B\",\"text\":\"\",\"x\":[-1.9755500137656816,-0.061947778504821194,1.5859026175116797,-1.2531388336614748,-0.05439570455517902,-0.6099892593578193,-0.42597212415335045,1.30054514318552,1.6745245836944143,0.16101375678398513,-0.49292541050026917,-0.11917095742151543,-0.7009747802886002,-0.47467091820681706,-0.4017079488724917,-0.42615585580718507,0.0902833090343134,-0.03383157680340645,0.25125800723855946,0.09501082946377389,0.5867512968998098,-0.4693010654392666,0.46168204660174567,0.06495267830063275,0.2681084284590157,-1.4989026795597802,1.7641427480382965,1.4859196786280577,0.1539020337302631,-0.6840507459974362,-0.13423049695369402,0.7460726140571591,-0.7550366137892188,-0.0512034730653333,-0.4748090640569612,-2.3679114992432004,-0.30779199050609957,-0.49193289903124116,-0.7649607105286698,-2.613800799990971,0.6362381962494086,-0.8198854452978208,-0.4784810420305522,-0.30559539406897873,1.7417622654227076,1.9097958194435793,0.9406674466573566,-1.2094515522929468,0.6724277066552841,0.6042558126336943,1.695812684537749,-0.8894533401640422,-1.0307224681600358,0.004523554592124752,1.9757360700018838,0.5429180447534881,-0.47199893155343664,0.4749452873600385,-0.283517983931913,-0.04096698814947355,0.968045533265399,0.8935691476562685,-0.1899689680365186,-0.5352024057664848,-0.6306762033186569,-0.8819772809327792,-0.9249869852557837,-1.2795987736093142,-1.4906513234849743,-1.100933806912293,0.4967968785061232,0.4776917332224903,0.19840480678120576,-0.5678729808054858,-0.47050311886264523,-0.6848928388732589,-0.3447172724962305,-0.23794258475612443,2.165413060815801,0.6632483590585299,2.000157263583068,-0.05164465663250612,-0.32950100556886297,0.1233413534161667,-1.024280593332221,1.6328302707578288,-0.8922019505656237,-0.19277947000847248,1.778582913528921,1.2861142967242434,0.7478696272647315,0.7044550353283147,-0.4948989732262082,2.162621138218643,-0.07173258766074306,-0.9714490326513098,-0.25668971020006276,-0.9861809495110716,-1.157103541842868,1.1992610142491917],\"y\":[-0.6016205567329608,-0.6867847793895484,-1.004201098081681,0.5459610858692364,-0.5134277048058766,-1.7713803666089118,0.306265766114442,-0.4673808534970285,0.47774761494497525,0.5773418911213518,-0.9716562852965338,0.5691019831236278,0.47140735466440037,0.09296487685387636,0.36346199486628045,-0.21785167686542148,0.43661427182523044,-1.1043395826762386,-0.02671525336627313,1.6340557489474088,-0.4116937959977908,0.760627438099993,-1.419951605103263,1.56554617148626,-1.0612550505986134,-0.2791022850093874,-0.6538496117164647,-0.5413662862932657,0.770850384913509,0.5112478057109159,0.444885186950138,1.3539004781978206,2.2623286874734436,-0.862557473719299,0.5541222476581766,0.4349526898898684,1.3003541024884273,-0.9334222914281395,-0.018468505151828317,0.301456771856218,0.8893522858810824,0.9676579983417197,0.40723522186669053,0.8049924749506939,-0.040571046598925915,-0.7668702851597023,1.2011848352922634,1.7413782411913143,-0.3627601644549942,0.8029425027984123,-1.2379383287509398,0.650388747065542,1.1512941141212873,0.8082910662466302,0.002804675896032924,0.040444707117679946,1.0075910275877349,1.566362282752962,1.727518610682044,0.43208798978099616,-0.37729306749409824,0.3583192853709636,2.245267346888914,-1.2931892852342348,0.49825288910292637,0.18173575684733229,-0.003765766788964723,0.788228363907951,0.14540007233038146,-2.8471785813920847,0.901525280729787,0.47931178935779756,-0.75054262406477,-0.1895272526767355,-0.16111055958515572,0.43926869577158684,-2.007298526805992,0.14872350274937846,-0.7897899064104688,-0.8739822093248697,0.8077072001297577,1.0106425845267275,-1.3871824837780988,-0.802777519106265,-0.665337553159498,-0.5965212412716,0.8824586708505167,-1.31436743946511,-0.11327313080949342,0.3357969652076104,0.7522800234797223,-1.1915982770371818,-0.6620972204720901,-1.5865209839733985,0.25954986753324477,-0.34864819900329097,0.6164677893891793,-0.006340506992387929,0.05375386835791097,-0.04750243008043119],\"type\":\"scatter\"}],                        {\"legend\":{\"bgcolor\":\"#F5F6F9\",\"font\":{\"color\":\"#4D5663\"}},\"paper_bgcolor\":\"#F5F6F9\",\"plot_bgcolor\":\"#F5F6F9\",\"template\":{\"data\":{\"barpolar\":[{\"marker\":{\"line\":{\"color\":\"#E5ECF6\",\"width\":0.5},\"pattern\":{\"fillmode\":\"overlay\",\"size\":10,\"solidity\":0.2}},\"type\":\"barpolar\"}],\"bar\":[{\"error_x\":{\"color\":\"#2a3f5f\"},\"error_y\":{\"color\":\"#2a3f5f\"},\"marker\":{\"line\":{\"color\":\"#E5ECF6\",\"width\":0.5},\"pattern\":{\"fillmode\":\"overlay\",\"size\":10,\"solidity\":0.2}},\"type\":\"bar\"}],\"carpet\":[{\"aaxis\":{\"endlinecolor\":\"#2a3f5f\",\"gridcolor\":\"white\",\"linecolor\":\"white\",\"minorgridcolor\":\"white\",\"startlinecolor\":\"#2a3f5f\"},\"baxis\":{\"endlinecolor\":\"#2a3f5f\",\"gridcolor\":\"white\",\"linecolor\":\"white\",\"minorgridcolor\":\"white\",\"startlinecolor\":\"#2a3f5f\"},\"type\":\"carpet\"}],\"choropleth\":[{\"colorbar\":{\"outlinewidth\":0,\"ticks\":\"\"},\"type\":\"choropleth\"}],\"contourcarpet\":[{\"colorbar\":{\"outlinewidth\":0,\"ticks\":\"\"},\"type\":\"contourcarpet\"}],\"contour\":[{\"colorbar\":{\"outlinewidth\":0,\"ticks\":\"\"},\"colorscale\":[[0.0,\"#0d0887\"],[0.1111111111111111,\"#46039f\"],[0.2222222222222222,\"#7201a8\"],[0.3333333333333333,\"#9c179e\"],[0.4444444444444444,\"#bd3786\"],[0.5555555555555556,\"#d8576b\"],[0.6666666666666666,\"#ed7953\"],[0.7777777777777778,\"#fb9f3a\"],[0.8888888888888888,\"#fdca26\"],[1.0,\"#f0f921\"]],\"type\":\"contour\"}],\"heatmapgl\":[{\"colorbar\":{\"outlinewidth\":0,\"ticks\":\"\"},\"colorscale\":[[0.0,\"#0d0887\"],[0.1111111111111111,\"#46039f\"],[0.2222222222222222,\"#7201a8\"],[0.3333333333333333,\"#9c179e\"],[0.4444444444444444,\"#bd3786\"],[0.5555555555555556,\"#d8576b\"],[0.6666666666666666,\"#ed7953\"],[0.7777777777777778,\"#fb9f3a\"],[0.8888888888888888,\"#fdca26\"],[1.0,\"#f0f921\"]],\"type\":\"heatmapgl\"}],\"heatmap\":[{\"colorbar\":{\"outlinewidth\":0,\"ticks\":\"\"},\"colorscale\":[[0.0,\"#0d0887\"],[0.1111111111111111,\"#46039f\"],[0.2222222222222222,\"#7201a8\"],[0.3333333333333333,\"#9c179e\"],[0.4444444444444444,\"#bd3786\"],[0.5555555555555556,\"#d8576b\"],[0.6666666666666666,\"#ed7953\"],[0.7777777777777778,\"#fb9f3a\"],[0.8888888888888888,\"#fdca26\"],[1.0,\"#f0f921\"]],\"type\":\"heatmap\"}],\"histogram2dcontour\":[{\"colorbar\":{\"outlinewidth\":0,\"ticks\":\"\"},\"colorscale\":[[0.0,\"#0d0887\"],[0.1111111111111111,\"#46039f\"],[0.2222222222222222,\"#7201a8\"],[0.3333333333333333,\"#9c179e\"],[0.4444444444444444,\"#bd3786\"],[0.5555555555555556,\"#d8576b\"],[0.6666666666666666,\"#ed7953\"],[0.7777777777777778,\"#fb9f3a\"],[0.8888888888888888,\"#fdca26\"],[1.0,\"#f0f921\"]],\"type\":\"histogram2dcontour\"}],\"histogram2d\":[{\"colorbar\":{\"outlinewidth\":0,\"ticks\":\"\"},\"colorscale\":[[0.0,\"#0d0887\"],[0.1111111111111111,\"#46039f\"],[0.2222222222222222,\"#7201a8\"],[0.3333333333333333,\"#9c179e\"],[0.4444444444444444,\"#bd3786\"],[0.5555555555555556,\"#d8576b\"],[0.6666666666666666,\"#ed7953\"],[0.7777777777777778,\"#fb9f3a\"],[0.8888888888888888,\"#fdca26\"],[1.0,\"#f0f921\"]],\"type\":\"histogram2d\"}],\"histogram\":[{\"marker\":{\"pattern\":{\"fillmode\":\"overlay\",\"size\":10,\"solidity\":0.2}},\"type\":\"histogram\"}],\"mesh3d\":[{\"colorbar\":{\"outlinewidth\":0,\"ticks\":\"\"},\"type\":\"mesh3d\"}],\"parcoords\":[{\"line\":{\"colorbar\":{\"outlinewidth\":0,\"ticks\":\"\"}},\"type\":\"parcoords\"}],\"pie\":[{\"automargin\":true,\"type\":\"pie\"}],\"scatter3d\":[{\"line\":{\"colorbar\":{\"outlinewidth\":0,\"ticks\":\"\"}},\"marker\":{\"colorbar\":{\"outlinewidth\":0,\"ticks\":\"\"}},\"type\":\"scatter3d\"}],\"scattercarpet\":[{\"marker\":{\"colorbar\":{\"outlinewidth\":0,\"ticks\":\"\"}},\"type\":\"scattercarpet\"}],\"scattergeo\":[{\"marker\":{\"colorbar\":{\"outlinewidth\":0,\"ticks\":\"\"}},\"type\":\"scattergeo\"}],\"scattergl\":[{\"marker\":{\"colorbar\":{\"outlinewidth\":0,\"ticks\":\"\"}},\"type\":\"scattergl\"}],\"scattermapbox\":[{\"marker\":{\"colorbar\":{\"outlinewidth\":0,\"ticks\":\"\"}},\"type\":\"scattermapbox\"}],\"scatterpolargl\":[{\"marker\":{\"colorbar\":{\"outlinewidth\":0,\"ticks\":\"\"}},\"type\":\"scatterpolargl\"}],\"scatterpolar\":[{\"marker\":{\"colorbar\":{\"outlinewidth\":0,\"ticks\":\"\"}},\"type\":\"scatterpolar\"}],\"scatter\":[{\"fillpattern\":{\"fillmode\":\"overlay\",\"size\":10,\"solidity\":0.2},\"type\":\"scatter\"}],\"scatterternary\":[{\"marker\":{\"colorbar\":{\"outlinewidth\":0,\"ticks\":\"\"}},\"type\":\"scatterternary\"}],\"surface\":[{\"colorbar\":{\"outlinewidth\":0,\"ticks\":\"\"},\"colorscale\":[[0.0,\"#0d0887\"],[0.1111111111111111,\"#46039f\"],[0.2222222222222222,\"#7201a8\"],[0.3333333333333333,\"#9c179e\"],[0.4444444444444444,\"#bd3786\"],[0.5555555555555556,\"#d8576b\"],[0.6666666666666666,\"#ed7953\"],[0.7777777777777778,\"#fb9f3a\"],[0.8888888888888888,\"#fdca26\"],[1.0,\"#f0f921\"]],\"type\":\"surface\"}],\"table\":[{\"cells\":{\"fill\":{\"color\":\"#EBF0F8\"},\"line\":{\"color\":\"white\"}},\"header\":{\"fill\":{\"color\":\"#C8D4E3\"},\"line\":{\"color\":\"white\"}},\"type\":\"table\"}]},\"layout\":{\"annotationdefaults\":{\"arrowcolor\":\"#2a3f5f\",\"arrowhead\":0,\"arrowwidth\":1},\"autotypenumbers\":\"strict\",\"coloraxis\":{\"colorbar\":{\"outlinewidth\":0,\"ticks\":\"\"}},\"colorscale\":{\"diverging\":[[0,\"#8e0152\"],[0.1,\"#c51b7d\"],[0.2,\"#de77ae\"],[0.3,\"#f1b6da\"],[0.4,\"#fde0ef\"],[0.5,\"#f7f7f7\"],[0.6,\"#e6f5d0\"],[0.7,\"#b8e186\"],[0.8,\"#7fbc41\"],[0.9,\"#4d9221\"],[1,\"#276419\"]],\"sequential\":[[0.0,\"#0d0887\"],[0.1111111111111111,\"#46039f\"],[0.2222222222222222,\"#7201a8\"],[0.3333333333333333,\"#9c179e\"],[0.4444444444444444,\"#bd3786\"],[0.5555555555555556,\"#d8576b\"],[0.6666666666666666,\"#ed7953\"],[0.7777777777777778,\"#fb9f3a\"],[0.8888888888888888,\"#fdca26\"],[1.0,\"#f0f921\"]],\"sequentialminus\":[[0.0,\"#0d0887\"],[0.1111111111111111,\"#46039f\"],[0.2222222222222222,\"#7201a8\"],[0.3333333333333333,\"#9c179e\"],[0.4444444444444444,\"#bd3786\"],[0.5555555555555556,\"#d8576b\"],[0.6666666666666666,\"#ed7953\"],[0.7777777777777778,\"#fb9f3a\"],[0.8888888888888888,\"#fdca26\"],[1.0,\"#f0f921\"]]},\"colorway\":[\"#636efa\",\"#EF553B\",\"#00cc96\",\"#ab63fa\",\"#FFA15A\",\"#19d3f3\",\"#FF6692\",\"#B6E880\",\"#FF97FF\",\"#FECB52\"],\"font\":{\"color\":\"#2a3f5f\"},\"geo\":{\"bgcolor\":\"white\",\"lakecolor\":\"white\",\"landcolor\":\"#E5ECF6\",\"showlakes\":true,\"showland\":true,\"subunitcolor\":\"white\"},\"hoverlabel\":{\"align\":\"left\"},\"hovermode\":\"closest\",\"mapbox\":{\"style\":\"light\"},\"paper_bgcolor\":\"white\",\"plot_bgcolor\":\"#E5ECF6\",\"polar\":{\"angularaxis\":{\"gridcolor\":\"white\",\"linecolor\":\"white\",\"ticks\":\"\"},\"bgcolor\":\"#E5ECF6\",\"radialaxis\":{\"gridcolor\":\"white\",\"linecolor\":\"white\",\"ticks\":\"\"}},\"scene\":{\"xaxis\":{\"backgroundcolor\":\"#E5ECF6\",\"gridcolor\":\"white\",\"gridwidth\":2,\"linecolor\":\"white\",\"showbackground\":true,\"ticks\":\"\",\"zerolinecolor\":\"white\"},\"yaxis\":{\"backgroundcolor\":\"#E5ECF6\",\"gridcolor\":\"white\",\"gridwidth\":2,\"linecolor\":\"white\",\"showbackground\":true,\"ticks\":\"\",\"zerolinecolor\":\"white\"},\"zaxis\":{\"backgroundcolor\":\"#E5ECF6\",\"gridcolor\":\"white\",\"gridwidth\":2,\"linecolor\":\"white\",\"showbackground\":true,\"ticks\":\"\",\"zerolinecolor\":\"white\"}},\"shapedefaults\":{\"line\":{\"color\":\"#2a3f5f\"}},\"ternary\":{\"aaxis\":{\"gridcolor\":\"white\",\"linecolor\":\"white\",\"ticks\":\"\"},\"baxis\":{\"gridcolor\":\"white\",\"linecolor\":\"white\",\"ticks\":\"\"},\"bgcolor\":\"#E5ECF6\",\"caxis\":{\"gridcolor\":\"white\",\"linecolor\":\"white\",\"ticks\":\"\"}},\"title\":{\"x\":0.05},\"xaxis\":{\"automargin\":true,\"gridcolor\":\"white\",\"linecolor\":\"white\",\"ticks\":\"\",\"title\":{\"standoff\":15},\"zerolinecolor\":\"white\",\"zerolinewidth\":2},\"yaxis\":{\"automargin\":true,\"gridcolor\":\"white\",\"linecolor\":\"white\",\"ticks\":\"\",\"title\":{\"standoff\":15},\"zerolinecolor\":\"white\",\"zerolinewidth\":2}}},\"title\":{\"font\":{\"color\":\"#4D5663\"}},\"xaxis\":{\"gridcolor\":\"#E1E5ED\",\"showgrid\":true,\"tickfont\":{\"color\":\"#4D5663\"},\"title\":{\"font\":{\"color\":\"#4D5663\"},\"text\":\"\"},\"zerolinecolor\":\"#E1E5ED\"},\"yaxis\":{\"gridcolor\":\"#E1E5ED\",\"showgrid\":true,\"tickfont\":{\"color\":\"#4D5663\"},\"title\":{\"font\":{\"color\":\"#4D5663\"},\"text\":\"\"},\"zerolinecolor\":\"#E1E5ED\"}},                        {\"showLink\": true, \"linkText\": \"Export to plot.ly\", \"plotlyServerURL\": \"https://plot.ly\", \"responsive\": true}                    ).then(function(){\n",
       "                            \n",
       "var gd = document.getElementById('5ceab8b4-a606-426b-b0e8-b9580c184486');\n",
       "var x = new MutationObserver(function (mutations, observer) {{\n",
       "        var display = window.getComputedStyle(gd).display;\n",
       "        if (!display || display === 'none') {{\n",
       "            console.log([gd, 'removed!']);\n",
       "            Plotly.purge(gd);\n",
       "            observer.disconnect();\n",
       "        }}\n",
       "}});\n",
       "\n",
       "// Listen for the removal of the full notebook cells\n",
       "var notebookContainer = gd.closest('#notebook-container');\n",
       "if (notebookContainer) {{\n",
       "    x.observe(notebookContainer, {childList: true});\n",
       "}}\n",
       "\n",
       "// Listen for the clearing of the current output cell\n",
       "var outputEl = gd.closest('.output');\n",
       "if (outputEl) {{\n",
       "    x.observe(outputEl, {childList: true});\n",
       "}}\n",
       "\n",
       "                        })                };                });            </script>        </div>"
      ]
     },
     "metadata": {},
     "output_type": "display_data"
    }
   ],
   "source": [
    "df.iplot(kind='scatter',x='A',y='B', mode = 'markers',size=20)"
   ]
  },
  {
   "cell_type": "code",
   "execution_count": 25,
   "id": "fbb920b1",
   "metadata": {},
   "outputs": [
    {
     "data": {
      "application/vnd.plotly.v1+json": {
       "config": {
        "linkText": "Export to plot.ly",
        "plotlyServerURL": "https://plot.ly",
        "showLink": true
       },
       "data": [
        {
         "marker": {
          "color": "rgba(255, 153, 51, 0.6)",
          "line": {
           "color": "rgba(255, 153, 51, 1.0)",
           "width": 1
          }
         },
         "name": "Values",
         "orientation": "v",
         "text": "",
         "type": "bar",
         "x": [
          "A",
          "B",
          "C"
         ],
         "y": [
          32,
          43,
          50
         ]
        }
       ],
       "layout": {
        "legend": {
         "bgcolor": "#F5F6F9",
         "font": {
          "color": "#4D5663"
         }
        },
        "paper_bgcolor": "#F5F6F9",
        "plot_bgcolor": "#F5F6F9",
        "template": {
         "data": {
          "bar": [
           {
            "error_x": {
             "color": "#2a3f5f"
            },
            "error_y": {
             "color": "#2a3f5f"
            },
            "marker": {
             "line": {
              "color": "#E5ECF6",
              "width": 0.5
             },
             "pattern": {
              "fillmode": "overlay",
              "size": 10,
              "solidity": 0.2
             }
            },
            "type": "bar"
           }
          ],
          "barpolar": [
           {
            "marker": {
             "line": {
              "color": "#E5ECF6",
              "width": 0.5
             },
             "pattern": {
              "fillmode": "overlay",
              "size": 10,
              "solidity": 0.2
             }
            },
            "type": "barpolar"
           }
          ],
          "carpet": [
           {
            "aaxis": {
             "endlinecolor": "#2a3f5f",
             "gridcolor": "white",
             "linecolor": "white",
             "minorgridcolor": "white",
             "startlinecolor": "#2a3f5f"
            },
            "baxis": {
             "endlinecolor": "#2a3f5f",
             "gridcolor": "white",
             "linecolor": "white",
             "minorgridcolor": "white",
             "startlinecolor": "#2a3f5f"
            },
            "type": "carpet"
           }
          ],
          "choropleth": [
           {
            "colorbar": {
             "outlinewidth": 0,
             "ticks": ""
            },
            "type": "choropleth"
           }
          ],
          "contour": [
           {
            "colorbar": {
             "outlinewidth": 0,
             "ticks": ""
            },
            "colorscale": [
             [
              0,
              "#0d0887"
             ],
             [
              0.1111111111111111,
              "#46039f"
             ],
             [
              0.2222222222222222,
              "#7201a8"
             ],
             [
              0.3333333333333333,
              "#9c179e"
             ],
             [
              0.4444444444444444,
              "#bd3786"
             ],
             [
              0.5555555555555556,
              "#d8576b"
             ],
             [
              0.6666666666666666,
              "#ed7953"
             ],
             [
              0.7777777777777778,
              "#fb9f3a"
             ],
             [
              0.8888888888888888,
              "#fdca26"
             ],
             [
              1,
              "#f0f921"
             ]
            ],
            "type": "contour"
           }
          ],
          "contourcarpet": [
           {
            "colorbar": {
             "outlinewidth": 0,
             "ticks": ""
            },
            "type": "contourcarpet"
           }
          ],
          "heatmap": [
           {
            "colorbar": {
             "outlinewidth": 0,
             "ticks": ""
            },
            "colorscale": [
             [
              0,
              "#0d0887"
             ],
             [
              0.1111111111111111,
              "#46039f"
             ],
             [
              0.2222222222222222,
              "#7201a8"
             ],
             [
              0.3333333333333333,
              "#9c179e"
             ],
             [
              0.4444444444444444,
              "#bd3786"
             ],
             [
              0.5555555555555556,
              "#d8576b"
             ],
             [
              0.6666666666666666,
              "#ed7953"
             ],
             [
              0.7777777777777778,
              "#fb9f3a"
             ],
             [
              0.8888888888888888,
              "#fdca26"
             ],
             [
              1,
              "#f0f921"
             ]
            ],
            "type": "heatmap"
           }
          ],
          "heatmapgl": [
           {
            "colorbar": {
             "outlinewidth": 0,
             "ticks": ""
            },
            "colorscale": [
             [
              0,
              "#0d0887"
             ],
             [
              0.1111111111111111,
              "#46039f"
             ],
             [
              0.2222222222222222,
              "#7201a8"
             ],
             [
              0.3333333333333333,
              "#9c179e"
             ],
             [
              0.4444444444444444,
              "#bd3786"
             ],
             [
              0.5555555555555556,
              "#d8576b"
             ],
             [
              0.6666666666666666,
              "#ed7953"
             ],
             [
              0.7777777777777778,
              "#fb9f3a"
             ],
             [
              0.8888888888888888,
              "#fdca26"
             ],
             [
              1,
              "#f0f921"
             ]
            ],
            "type": "heatmapgl"
           }
          ],
          "histogram": [
           {
            "marker": {
             "pattern": {
              "fillmode": "overlay",
              "size": 10,
              "solidity": 0.2
             }
            },
            "type": "histogram"
           }
          ],
          "histogram2d": [
           {
            "colorbar": {
             "outlinewidth": 0,
             "ticks": ""
            },
            "colorscale": [
             [
              0,
              "#0d0887"
             ],
             [
              0.1111111111111111,
              "#46039f"
             ],
             [
              0.2222222222222222,
              "#7201a8"
             ],
             [
              0.3333333333333333,
              "#9c179e"
             ],
             [
              0.4444444444444444,
              "#bd3786"
             ],
             [
              0.5555555555555556,
              "#d8576b"
             ],
             [
              0.6666666666666666,
              "#ed7953"
             ],
             [
              0.7777777777777778,
              "#fb9f3a"
             ],
             [
              0.8888888888888888,
              "#fdca26"
             ],
             [
              1,
              "#f0f921"
             ]
            ],
            "type": "histogram2d"
           }
          ],
          "histogram2dcontour": [
           {
            "colorbar": {
             "outlinewidth": 0,
             "ticks": ""
            },
            "colorscale": [
             [
              0,
              "#0d0887"
             ],
             [
              0.1111111111111111,
              "#46039f"
             ],
             [
              0.2222222222222222,
              "#7201a8"
             ],
             [
              0.3333333333333333,
              "#9c179e"
             ],
             [
              0.4444444444444444,
              "#bd3786"
             ],
             [
              0.5555555555555556,
              "#d8576b"
             ],
             [
              0.6666666666666666,
              "#ed7953"
             ],
             [
              0.7777777777777778,
              "#fb9f3a"
             ],
             [
              0.8888888888888888,
              "#fdca26"
             ],
             [
              1,
              "#f0f921"
             ]
            ],
            "type": "histogram2dcontour"
           }
          ],
          "mesh3d": [
           {
            "colorbar": {
             "outlinewidth": 0,
             "ticks": ""
            },
            "type": "mesh3d"
           }
          ],
          "parcoords": [
           {
            "line": {
             "colorbar": {
              "outlinewidth": 0,
              "ticks": ""
             }
            },
            "type": "parcoords"
           }
          ],
          "pie": [
           {
            "automargin": true,
            "type": "pie"
           }
          ],
          "scatter": [
           {
            "fillpattern": {
             "fillmode": "overlay",
             "size": 10,
             "solidity": 0.2
            },
            "type": "scatter"
           }
          ],
          "scatter3d": [
           {
            "line": {
             "colorbar": {
              "outlinewidth": 0,
              "ticks": ""
             }
            },
            "marker": {
             "colorbar": {
              "outlinewidth": 0,
              "ticks": ""
             }
            },
            "type": "scatter3d"
           }
          ],
          "scattercarpet": [
           {
            "marker": {
             "colorbar": {
              "outlinewidth": 0,
              "ticks": ""
             }
            },
            "type": "scattercarpet"
           }
          ],
          "scattergeo": [
           {
            "marker": {
             "colorbar": {
              "outlinewidth": 0,
              "ticks": ""
             }
            },
            "type": "scattergeo"
           }
          ],
          "scattergl": [
           {
            "marker": {
             "colorbar": {
              "outlinewidth": 0,
              "ticks": ""
             }
            },
            "type": "scattergl"
           }
          ],
          "scattermapbox": [
           {
            "marker": {
             "colorbar": {
              "outlinewidth": 0,
              "ticks": ""
             }
            },
            "type": "scattermapbox"
           }
          ],
          "scatterpolar": [
           {
            "marker": {
             "colorbar": {
              "outlinewidth": 0,
              "ticks": ""
             }
            },
            "type": "scatterpolar"
           }
          ],
          "scatterpolargl": [
           {
            "marker": {
             "colorbar": {
              "outlinewidth": 0,
              "ticks": ""
             }
            },
            "type": "scatterpolargl"
           }
          ],
          "scatterternary": [
           {
            "marker": {
             "colorbar": {
              "outlinewidth": 0,
              "ticks": ""
             }
            },
            "type": "scatterternary"
           }
          ],
          "surface": [
           {
            "colorbar": {
             "outlinewidth": 0,
             "ticks": ""
            },
            "colorscale": [
             [
              0,
              "#0d0887"
             ],
             [
              0.1111111111111111,
              "#46039f"
             ],
             [
              0.2222222222222222,
              "#7201a8"
             ],
             [
              0.3333333333333333,
              "#9c179e"
             ],
             [
              0.4444444444444444,
              "#bd3786"
             ],
             [
              0.5555555555555556,
              "#d8576b"
             ],
             [
              0.6666666666666666,
              "#ed7953"
             ],
             [
              0.7777777777777778,
              "#fb9f3a"
             ],
             [
              0.8888888888888888,
              "#fdca26"
             ],
             [
              1,
              "#f0f921"
             ]
            ],
            "type": "surface"
           }
          ],
          "table": [
           {
            "cells": {
             "fill": {
              "color": "#EBF0F8"
             },
             "line": {
              "color": "white"
             }
            },
            "header": {
             "fill": {
              "color": "#C8D4E3"
             },
             "line": {
              "color": "white"
             }
            },
            "type": "table"
           }
          ]
         },
         "layout": {
          "annotationdefaults": {
           "arrowcolor": "#2a3f5f",
           "arrowhead": 0,
           "arrowwidth": 1
          },
          "autotypenumbers": "strict",
          "coloraxis": {
           "colorbar": {
            "outlinewidth": 0,
            "ticks": ""
           }
          },
          "colorscale": {
           "diverging": [
            [
             0,
             "#8e0152"
            ],
            [
             0.1,
             "#c51b7d"
            ],
            [
             0.2,
             "#de77ae"
            ],
            [
             0.3,
             "#f1b6da"
            ],
            [
             0.4,
             "#fde0ef"
            ],
            [
             0.5,
             "#f7f7f7"
            ],
            [
             0.6,
             "#e6f5d0"
            ],
            [
             0.7,
             "#b8e186"
            ],
            [
             0.8,
             "#7fbc41"
            ],
            [
             0.9,
             "#4d9221"
            ],
            [
             1,
             "#276419"
            ]
           ],
           "sequential": [
            [
             0,
             "#0d0887"
            ],
            [
             0.1111111111111111,
             "#46039f"
            ],
            [
             0.2222222222222222,
             "#7201a8"
            ],
            [
             0.3333333333333333,
             "#9c179e"
            ],
            [
             0.4444444444444444,
             "#bd3786"
            ],
            [
             0.5555555555555556,
             "#d8576b"
            ],
            [
             0.6666666666666666,
             "#ed7953"
            ],
            [
             0.7777777777777778,
             "#fb9f3a"
            ],
            [
             0.8888888888888888,
             "#fdca26"
            ],
            [
             1,
             "#f0f921"
            ]
           ],
           "sequentialminus": [
            [
             0,
             "#0d0887"
            ],
            [
             0.1111111111111111,
             "#46039f"
            ],
            [
             0.2222222222222222,
             "#7201a8"
            ],
            [
             0.3333333333333333,
             "#9c179e"
            ],
            [
             0.4444444444444444,
             "#bd3786"
            ],
            [
             0.5555555555555556,
             "#d8576b"
            ],
            [
             0.6666666666666666,
             "#ed7953"
            ],
            [
             0.7777777777777778,
             "#fb9f3a"
            ],
            [
             0.8888888888888888,
             "#fdca26"
            ],
            [
             1,
             "#f0f921"
            ]
           ]
          },
          "colorway": [
           "#636efa",
           "#EF553B",
           "#00cc96",
           "#ab63fa",
           "#FFA15A",
           "#19d3f3",
           "#FF6692",
           "#B6E880",
           "#FF97FF",
           "#FECB52"
          ],
          "font": {
           "color": "#2a3f5f"
          },
          "geo": {
           "bgcolor": "white",
           "lakecolor": "white",
           "landcolor": "#E5ECF6",
           "showlakes": true,
           "showland": true,
           "subunitcolor": "white"
          },
          "hoverlabel": {
           "align": "left"
          },
          "hovermode": "closest",
          "mapbox": {
           "style": "light"
          },
          "paper_bgcolor": "white",
          "plot_bgcolor": "#E5ECF6",
          "polar": {
           "angularaxis": {
            "gridcolor": "white",
            "linecolor": "white",
            "ticks": ""
           },
           "bgcolor": "#E5ECF6",
           "radialaxis": {
            "gridcolor": "white",
            "linecolor": "white",
            "ticks": ""
           }
          },
          "scene": {
           "xaxis": {
            "backgroundcolor": "#E5ECF6",
            "gridcolor": "white",
            "gridwidth": 2,
            "linecolor": "white",
            "showbackground": true,
            "ticks": "",
            "zerolinecolor": "white"
           },
           "yaxis": {
            "backgroundcolor": "#E5ECF6",
            "gridcolor": "white",
            "gridwidth": 2,
            "linecolor": "white",
            "showbackground": true,
            "ticks": "",
            "zerolinecolor": "white"
           },
           "zaxis": {
            "backgroundcolor": "#E5ECF6",
            "gridcolor": "white",
            "gridwidth": 2,
            "linecolor": "white",
            "showbackground": true,
            "ticks": "",
            "zerolinecolor": "white"
           }
          },
          "shapedefaults": {
           "line": {
            "color": "#2a3f5f"
           }
          },
          "ternary": {
           "aaxis": {
            "gridcolor": "white",
            "linecolor": "white",
            "ticks": ""
           },
           "baxis": {
            "gridcolor": "white",
            "linecolor": "white",
            "ticks": ""
           },
           "bgcolor": "#E5ECF6",
           "caxis": {
            "gridcolor": "white",
            "linecolor": "white",
            "ticks": ""
           }
          },
          "title": {
           "x": 0.05
          },
          "xaxis": {
           "automargin": true,
           "gridcolor": "white",
           "linecolor": "white",
           "ticks": "",
           "title": {
            "standoff": 15
           },
           "zerolinecolor": "white",
           "zerolinewidth": 2
          },
          "yaxis": {
           "automargin": true,
           "gridcolor": "white",
           "linecolor": "white",
           "ticks": "",
           "title": {
            "standoff": 15
           },
           "zerolinecolor": "white",
           "zerolinewidth": 2
          }
         }
        },
        "title": {
         "font": {
          "color": "#4D5663"
         }
        },
        "xaxis": {
         "gridcolor": "#E1E5ED",
         "showgrid": true,
         "tickfont": {
          "color": "#4D5663"
         },
         "title": {
          "font": {
           "color": "#4D5663"
          },
          "text": ""
         },
         "zerolinecolor": "#E1E5ED"
        },
        "yaxis": {
         "gridcolor": "#E1E5ED",
         "showgrid": true,
         "tickfont": {
          "color": "#4D5663"
         },
         "title": {
          "font": {
           "color": "#4D5663"
          },
          "text": ""
         },
         "zerolinecolor": "#E1E5ED"
        }
       }
      },
      "text/html": [
       "<div>                            <div id=\"99a5fdb1-2ab2-4625-b62c-d8edb80af9a7\" class=\"plotly-graph-div\" style=\"height:525px; width:100%;\"></div>            <script type=\"text/javascript\">                require([\"plotly\"], function(Plotly) {                    window.PLOTLYENV=window.PLOTLYENV || {};\n",
       "                    window.PLOTLYENV.BASE_URL='https://plot.ly';                                    if (document.getElementById(\"99a5fdb1-2ab2-4625-b62c-d8edb80af9a7\")) {                    Plotly.newPlot(                        \"99a5fdb1-2ab2-4625-b62c-d8edb80af9a7\",                        [{\"marker\":{\"color\":\"rgba(255, 153, 51, 0.6)\",\"line\":{\"color\":\"rgba(255, 153, 51, 1.0)\",\"width\":1}},\"name\":\"Values\",\"orientation\":\"v\",\"text\":\"\",\"x\":[\"A\",\"B\",\"C\"],\"y\":[32,43,50],\"type\":\"bar\"}],                        {\"legend\":{\"bgcolor\":\"#F5F6F9\",\"font\":{\"color\":\"#4D5663\"}},\"paper_bgcolor\":\"#F5F6F9\",\"plot_bgcolor\":\"#F5F6F9\",\"template\":{\"data\":{\"barpolar\":[{\"marker\":{\"line\":{\"color\":\"#E5ECF6\",\"width\":0.5},\"pattern\":{\"fillmode\":\"overlay\",\"size\":10,\"solidity\":0.2}},\"type\":\"barpolar\"}],\"bar\":[{\"error_x\":{\"color\":\"#2a3f5f\"},\"error_y\":{\"color\":\"#2a3f5f\"},\"marker\":{\"line\":{\"color\":\"#E5ECF6\",\"width\":0.5},\"pattern\":{\"fillmode\":\"overlay\",\"size\":10,\"solidity\":0.2}},\"type\":\"bar\"}],\"carpet\":[{\"aaxis\":{\"endlinecolor\":\"#2a3f5f\",\"gridcolor\":\"white\",\"linecolor\":\"white\",\"minorgridcolor\":\"white\",\"startlinecolor\":\"#2a3f5f\"},\"baxis\":{\"endlinecolor\":\"#2a3f5f\",\"gridcolor\":\"white\",\"linecolor\":\"white\",\"minorgridcolor\":\"white\",\"startlinecolor\":\"#2a3f5f\"},\"type\":\"carpet\"}],\"choropleth\":[{\"colorbar\":{\"outlinewidth\":0,\"ticks\":\"\"},\"type\":\"choropleth\"}],\"contourcarpet\":[{\"colorbar\":{\"outlinewidth\":0,\"ticks\":\"\"},\"type\":\"contourcarpet\"}],\"contour\":[{\"colorbar\":{\"outlinewidth\":0,\"ticks\":\"\"},\"colorscale\":[[0.0,\"#0d0887\"],[0.1111111111111111,\"#46039f\"],[0.2222222222222222,\"#7201a8\"],[0.3333333333333333,\"#9c179e\"],[0.4444444444444444,\"#bd3786\"],[0.5555555555555556,\"#d8576b\"],[0.6666666666666666,\"#ed7953\"],[0.7777777777777778,\"#fb9f3a\"],[0.8888888888888888,\"#fdca26\"],[1.0,\"#f0f921\"]],\"type\":\"contour\"}],\"heatmapgl\":[{\"colorbar\":{\"outlinewidth\":0,\"ticks\":\"\"},\"colorscale\":[[0.0,\"#0d0887\"],[0.1111111111111111,\"#46039f\"],[0.2222222222222222,\"#7201a8\"],[0.3333333333333333,\"#9c179e\"],[0.4444444444444444,\"#bd3786\"],[0.5555555555555556,\"#d8576b\"],[0.6666666666666666,\"#ed7953\"],[0.7777777777777778,\"#fb9f3a\"],[0.8888888888888888,\"#fdca26\"],[1.0,\"#f0f921\"]],\"type\":\"heatmapgl\"}],\"heatmap\":[{\"colorbar\":{\"outlinewidth\":0,\"ticks\":\"\"},\"colorscale\":[[0.0,\"#0d0887\"],[0.1111111111111111,\"#46039f\"],[0.2222222222222222,\"#7201a8\"],[0.3333333333333333,\"#9c179e\"],[0.4444444444444444,\"#bd3786\"],[0.5555555555555556,\"#d8576b\"],[0.6666666666666666,\"#ed7953\"],[0.7777777777777778,\"#fb9f3a\"],[0.8888888888888888,\"#fdca26\"],[1.0,\"#f0f921\"]],\"type\":\"heatmap\"}],\"histogram2dcontour\":[{\"colorbar\":{\"outlinewidth\":0,\"ticks\":\"\"},\"colorscale\":[[0.0,\"#0d0887\"],[0.1111111111111111,\"#46039f\"],[0.2222222222222222,\"#7201a8\"],[0.3333333333333333,\"#9c179e\"],[0.4444444444444444,\"#bd3786\"],[0.5555555555555556,\"#d8576b\"],[0.6666666666666666,\"#ed7953\"],[0.7777777777777778,\"#fb9f3a\"],[0.8888888888888888,\"#fdca26\"],[1.0,\"#f0f921\"]],\"type\":\"histogram2dcontour\"}],\"histogram2d\":[{\"colorbar\":{\"outlinewidth\":0,\"ticks\":\"\"},\"colorscale\":[[0.0,\"#0d0887\"],[0.1111111111111111,\"#46039f\"],[0.2222222222222222,\"#7201a8\"],[0.3333333333333333,\"#9c179e\"],[0.4444444444444444,\"#bd3786\"],[0.5555555555555556,\"#d8576b\"],[0.6666666666666666,\"#ed7953\"],[0.7777777777777778,\"#fb9f3a\"],[0.8888888888888888,\"#fdca26\"],[1.0,\"#f0f921\"]],\"type\":\"histogram2d\"}],\"histogram\":[{\"marker\":{\"pattern\":{\"fillmode\":\"overlay\",\"size\":10,\"solidity\":0.2}},\"type\":\"histogram\"}],\"mesh3d\":[{\"colorbar\":{\"outlinewidth\":0,\"ticks\":\"\"},\"type\":\"mesh3d\"}],\"parcoords\":[{\"line\":{\"colorbar\":{\"outlinewidth\":0,\"ticks\":\"\"}},\"type\":\"parcoords\"}],\"pie\":[{\"automargin\":true,\"type\":\"pie\"}],\"scatter3d\":[{\"line\":{\"colorbar\":{\"outlinewidth\":0,\"ticks\":\"\"}},\"marker\":{\"colorbar\":{\"outlinewidth\":0,\"ticks\":\"\"}},\"type\":\"scatter3d\"}],\"scattercarpet\":[{\"marker\":{\"colorbar\":{\"outlinewidth\":0,\"ticks\":\"\"}},\"type\":\"scattercarpet\"}],\"scattergeo\":[{\"marker\":{\"colorbar\":{\"outlinewidth\":0,\"ticks\":\"\"}},\"type\":\"scattergeo\"}],\"scattergl\":[{\"marker\":{\"colorbar\":{\"outlinewidth\":0,\"ticks\":\"\"}},\"type\":\"scattergl\"}],\"scattermapbox\":[{\"marker\":{\"colorbar\":{\"outlinewidth\":0,\"ticks\":\"\"}},\"type\":\"scattermapbox\"}],\"scatterpolargl\":[{\"marker\":{\"colorbar\":{\"outlinewidth\":0,\"ticks\":\"\"}},\"type\":\"scatterpolargl\"}],\"scatterpolar\":[{\"marker\":{\"colorbar\":{\"outlinewidth\":0,\"ticks\":\"\"}},\"type\":\"scatterpolar\"}],\"scatter\":[{\"fillpattern\":{\"fillmode\":\"overlay\",\"size\":10,\"solidity\":0.2},\"type\":\"scatter\"}],\"scatterternary\":[{\"marker\":{\"colorbar\":{\"outlinewidth\":0,\"ticks\":\"\"}},\"type\":\"scatterternary\"}],\"surface\":[{\"colorbar\":{\"outlinewidth\":0,\"ticks\":\"\"},\"colorscale\":[[0.0,\"#0d0887\"],[0.1111111111111111,\"#46039f\"],[0.2222222222222222,\"#7201a8\"],[0.3333333333333333,\"#9c179e\"],[0.4444444444444444,\"#bd3786\"],[0.5555555555555556,\"#d8576b\"],[0.6666666666666666,\"#ed7953\"],[0.7777777777777778,\"#fb9f3a\"],[0.8888888888888888,\"#fdca26\"],[1.0,\"#f0f921\"]],\"type\":\"surface\"}],\"table\":[{\"cells\":{\"fill\":{\"color\":\"#EBF0F8\"},\"line\":{\"color\":\"white\"}},\"header\":{\"fill\":{\"color\":\"#C8D4E3\"},\"line\":{\"color\":\"white\"}},\"type\":\"table\"}]},\"layout\":{\"annotationdefaults\":{\"arrowcolor\":\"#2a3f5f\",\"arrowhead\":0,\"arrowwidth\":1},\"autotypenumbers\":\"strict\",\"coloraxis\":{\"colorbar\":{\"outlinewidth\":0,\"ticks\":\"\"}},\"colorscale\":{\"diverging\":[[0,\"#8e0152\"],[0.1,\"#c51b7d\"],[0.2,\"#de77ae\"],[0.3,\"#f1b6da\"],[0.4,\"#fde0ef\"],[0.5,\"#f7f7f7\"],[0.6,\"#e6f5d0\"],[0.7,\"#b8e186\"],[0.8,\"#7fbc41\"],[0.9,\"#4d9221\"],[1,\"#276419\"]],\"sequential\":[[0.0,\"#0d0887\"],[0.1111111111111111,\"#46039f\"],[0.2222222222222222,\"#7201a8\"],[0.3333333333333333,\"#9c179e\"],[0.4444444444444444,\"#bd3786\"],[0.5555555555555556,\"#d8576b\"],[0.6666666666666666,\"#ed7953\"],[0.7777777777777778,\"#fb9f3a\"],[0.8888888888888888,\"#fdca26\"],[1.0,\"#f0f921\"]],\"sequentialminus\":[[0.0,\"#0d0887\"],[0.1111111111111111,\"#46039f\"],[0.2222222222222222,\"#7201a8\"],[0.3333333333333333,\"#9c179e\"],[0.4444444444444444,\"#bd3786\"],[0.5555555555555556,\"#d8576b\"],[0.6666666666666666,\"#ed7953\"],[0.7777777777777778,\"#fb9f3a\"],[0.8888888888888888,\"#fdca26\"],[1.0,\"#f0f921\"]]},\"colorway\":[\"#636efa\",\"#EF553B\",\"#00cc96\",\"#ab63fa\",\"#FFA15A\",\"#19d3f3\",\"#FF6692\",\"#B6E880\",\"#FF97FF\",\"#FECB52\"],\"font\":{\"color\":\"#2a3f5f\"},\"geo\":{\"bgcolor\":\"white\",\"lakecolor\":\"white\",\"landcolor\":\"#E5ECF6\",\"showlakes\":true,\"showland\":true,\"subunitcolor\":\"white\"},\"hoverlabel\":{\"align\":\"left\"},\"hovermode\":\"closest\",\"mapbox\":{\"style\":\"light\"},\"paper_bgcolor\":\"white\",\"plot_bgcolor\":\"#E5ECF6\",\"polar\":{\"angularaxis\":{\"gridcolor\":\"white\",\"linecolor\":\"white\",\"ticks\":\"\"},\"bgcolor\":\"#E5ECF6\",\"radialaxis\":{\"gridcolor\":\"white\",\"linecolor\":\"white\",\"ticks\":\"\"}},\"scene\":{\"xaxis\":{\"backgroundcolor\":\"#E5ECF6\",\"gridcolor\":\"white\",\"gridwidth\":2,\"linecolor\":\"white\",\"showbackground\":true,\"ticks\":\"\",\"zerolinecolor\":\"white\"},\"yaxis\":{\"backgroundcolor\":\"#E5ECF6\",\"gridcolor\":\"white\",\"gridwidth\":2,\"linecolor\":\"white\",\"showbackground\":true,\"ticks\":\"\",\"zerolinecolor\":\"white\"},\"zaxis\":{\"backgroundcolor\":\"#E5ECF6\",\"gridcolor\":\"white\",\"gridwidth\":2,\"linecolor\":\"white\",\"showbackground\":true,\"ticks\":\"\",\"zerolinecolor\":\"white\"}},\"shapedefaults\":{\"line\":{\"color\":\"#2a3f5f\"}},\"ternary\":{\"aaxis\":{\"gridcolor\":\"white\",\"linecolor\":\"white\",\"ticks\":\"\"},\"baxis\":{\"gridcolor\":\"white\",\"linecolor\":\"white\",\"ticks\":\"\"},\"bgcolor\":\"#E5ECF6\",\"caxis\":{\"gridcolor\":\"white\",\"linecolor\":\"white\",\"ticks\":\"\"}},\"title\":{\"x\":0.05},\"xaxis\":{\"automargin\":true,\"gridcolor\":\"white\",\"linecolor\":\"white\",\"ticks\":\"\",\"title\":{\"standoff\":15},\"zerolinecolor\":\"white\",\"zerolinewidth\":2},\"yaxis\":{\"automargin\":true,\"gridcolor\":\"white\",\"linecolor\":\"white\",\"ticks\":\"\",\"title\":{\"standoff\":15},\"zerolinecolor\":\"white\",\"zerolinewidth\":2}}},\"title\":{\"font\":{\"color\":\"#4D5663\"}},\"xaxis\":{\"gridcolor\":\"#E1E5ED\",\"showgrid\":true,\"tickfont\":{\"color\":\"#4D5663\"},\"title\":{\"font\":{\"color\":\"#4D5663\"},\"text\":\"\"},\"zerolinecolor\":\"#E1E5ED\"},\"yaxis\":{\"gridcolor\":\"#E1E5ED\",\"showgrid\":true,\"tickfont\":{\"color\":\"#4D5663\"},\"title\":{\"font\":{\"color\":\"#4D5663\"},\"text\":\"\"},\"zerolinecolor\":\"#E1E5ED\"}},                        {\"showLink\": true, \"linkText\": \"Export to plot.ly\", \"plotlyServerURL\": \"https://plot.ly\", \"responsive\": true}                    ).then(function(){\n",
       "                            \n",
       "var gd = document.getElementById('99a5fdb1-2ab2-4625-b62c-d8edb80af9a7');\n",
       "var x = new MutationObserver(function (mutations, observer) {{\n",
       "        var display = window.getComputedStyle(gd).display;\n",
       "        if (!display || display === 'none') {{\n",
       "            console.log([gd, 'removed!']);\n",
       "            Plotly.purge(gd);\n",
       "            observer.disconnect();\n",
       "        }}\n",
       "}});\n",
       "\n",
       "// Listen for the removal of the full notebook cells\n",
       "var notebookContainer = gd.closest('#notebook-container');\n",
       "if (notebookContainer) {{\n",
       "    x.observe(notebookContainer, {childList: true});\n",
       "}}\n",
       "\n",
       "// Listen for the clearing of the current output cell\n",
       "var outputEl = gd.closest('.output');\n",
       "if (outputEl) {{\n",
       "    x.observe(outputEl, {childList: true});\n",
       "}}\n",
       "\n",
       "                        })                };                });            </script>        </div>"
      ]
     },
     "metadata": {},
     "output_type": "display_data"
    }
   ],
   "source": [
    "df2.iplot(kind='bar',x='Category',y='Values')"
   ]
  },
  {
   "cell_type": "code",
   "execution_count": 26,
   "id": "3b804b23",
   "metadata": {},
   "outputs": [
    {
     "data": {
      "text/html": [
       "<div>\n",
       "<style scoped>\n",
       "    .dataframe tbody tr th:only-of-type {\n",
       "        vertical-align: middle;\n",
       "    }\n",
       "\n",
       "    .dataframe tbody tr th {\n",
       "        vertical-align: top;\n",
       "    }\n",
       "\n",
       "    .dataframe thead th {\n",
       "        text-align: right;\n",
       "    }\n",
       "</style>\n",
       "<table border=\"1\" class=\"dataframe\">\n",
       "  <thead>\n",
       "    <tr style=\"text-align: right;\">\n",
       "      <th></th>\n",
       "      <th>A</th>\n",
       "      <th>B</th>\n",
       "      <th>C</th>\n",
       "      <th>D</th>\n",
       "    </tr>\n",
       "  </thead>\n",
       "  <tbody>\n",
       "    <tr>\n",
       "      <th>0</th>\n",
       "      <td>-1.975550</td>\n",
       "      <td>-0.601621</td>\n",
       "      <td>-0.670408</td>\n",
       "      <td>-2.737247</td>\n",
       "    </tr>\n",
       "    <tr>\n",
       "      <th>1</th>\n",
       "      <td>-0.061948</td>\n",
       "      <td>-0.686785</td>\n",
       "      <td>-0.971237</td>\n",
       "      <td>-0.371622</td>\n",
       "    </tr>\n",
       "    <tr>\n",
       "      <th>2</th>\n",
       "      <td>1.585903</td>\n",
       "      <td>-1.004201</td>\n",
       "      <td>0.411115</td>\n",
       "      <td>0.497787</td>\n",
       "    </tr>\n",
       "    <tr>\n",
       "      <th>3</th>\n",
       "      <td>-1.253139</td>\n",
       "      <td>0.545961</td>\n",
       "      <td>0.065050</td>\n",
       "      <td>-0.255567</td>\n",
       "    </tr>\n",
       "    <tr>\n",
       "      <th>4</th>\n",
       "      <td>-0.054396</td>\n",
       "      <td>-0.513428</td>\n",
       "      <td>0.095973</td>\n",
       "      <td>0.134845</td>\n",
       "    </tr>\n",
       "    <tr>\n",
       "      <th>...</th>\n",
       "      <td>...</td>\n",
       "      <td>...</td>\n",
       "      <td>...</td>\n",
       "      <td>...</td>\n",
       "    </tr>\n",
       "    <tr>\n",
       "      <th>95</th>\n",
       "      <td>-0.971449</td>\n",
       "      <td>-0.348648</td>\n",
       "      <td>-0.000520</td>\n",
       "      <td>-0.192203</td>\n",
       "    </tr>\n",
       "    <tr>\n",
       "      <th>96</th>\n",
       "      <td>-0.256690</td>\n",
       "      <td>0.616468</td>\n",
       "      <td>1.280168</td>\n",
       "      <td>0.629595</td>\n",
       "    </tr>\n",
       "    <tr>\n",
       "      <th>97</th>\n",
       "      <td>-0.986181</td>\n",
       "      <td>-0.006341</td>\n",
       "      <td>0.381451</td>\n",
       "      <td>-0.651679</td>\n",
       "    </tr>\n",
       "    <tr>\n",
       "      <th>98</th>\n",
       "      <td>-1.157104</td>\n",
       "      <td>0.053754</td>\n",
       "      <td>1.018199</td>\n",
       "      <td>1.337058</td>\n",
       "    </tr>\n",
       "    <tr>\n",
       "      <th>99</th>\n",
       "      <td>1.199261</td>\n",
       "      <td>-0.047502</td>\n",
       "      <td>0.000750</td>\n",
       "      <td>0.353629</td>\n",
       "    </tr>\n",
       "  </tbody>\n",
       "</table>\n",
       "<p>100 rows × 4 columns</p>\n",
       "</div>"
      ],
      "text/plain": [
       "           A         B         C         D\n",
       "0  -1.975550 -0.601621 -0.670408 -2.737247\n",
       "1  -0.061948 -0.686785 -0.971237 -0.371622\n",
       "2   1.585903 -1.004201  0.411115  0.497787\n",
       "3  -1.253139  0.545961  0.065050 -0.255567\n",
       "4  -0.054396 -0.513428  0.095973  0.134845\n",
       "..       ...       ...       ...       ...\n",
       "95 -0.971449 -0.348648 -0.000520 -0.192203\n",
       "96 -0.256690  0.616468  1.280168  0.629595\n",
       "97 -0.986181 -0.006341  0.381451 -0.651679\n",
       "98 -1.157104  0.053754  1.018199  1.337058\n",
       "99  1.199261 -0.047502  0.000750  0.353629\n",
       "\n",
       "[100 rows x 4 columns]"
      ]
     },
     "execution_count": 26,
     "metadata": {},
     "output_type": "execute_result"
    }
   ],
   "source": [
    "df"
   ]
  },
  {
   "cell_type": "code",
   "execution_count": 29,
   "id": "9a1452b4",
   "metadata": {},
   "outputs": [
    {
     "data": {
      "application/vnd.plotly.v1+json": {
       "config": {
        "linkText": "Export to plot.ly",
        "plotlyServerURL": "https://plot.ly",
        "showLink": true
       },
       "data": [
        {
         "marker": {
          "color": "rgba(255, 153, 51, 0.6)",
          "line": {
           "color": "rgba(255, 153, 51, 1.0)",
           "width": 1
          }
         },
         "name": "None",
         "orientation": "v",
         "text": "",
         "type": "bar",
         "x": [
          "A",
          "B",
          "C",
          "D"
         ],
         "y": [
          0.44473173229128116,
          6.87040163493107,
          4.400496759423857,
          -6.804470020160638
         ]
        }
       ],
       "layout": {
        "legend": {
         "bgcolor": "#F5F6F9",
         "font": {
          "color": "#4D5663"
         }
        },
        "paper_bgcolor": "#F5F6F9",
        "plot_bgcolor": "#F5F6F9",
        "template": {
         "data": {
          "bar": [
           {
            "error_x": {
             "color": "#2a3f5f"
            },
            "error_y": {
             "color": "#2a3f5f"
            },
            "marker": {
             "line": {
              "color": "#E5ECF6",
              "width": 0.5
             },
             "pattern": {
              "fillmode": "overlay",
              "size": 10,
              "solidity": 0.2
             }
            },
            "type": "bar"
           }
          ],
          "barpolar": [
           {
            "marker": {
             "line": {
              "color": "#E5ECF6",
              "width": 0.5
             },
             "pattern": {
              "fillmode": "overlay",
              "size": 10,
              "solidity": 0.2
             }
            },
            "type": "barpolar"
           }
          ],
          "carpet": [
           {
            "aaxis": {
             "endlinecolor": "#2a3f5f",
             "gridcolor": "white",
             "linecolor": "white",
             "minorgridcolor": "white",
             "startlinecolor": "#2a3f5f"
            },
            "baxis": {
             "endlinecolor": "#2a3f5f",
             "gridcolor": "white",
             "linecolor": "white",
             "minorgridcolor": "white",
             "startlinecolor": "#2a3f5f"
            },
            "type": "carpet"
           }
          ],
          "choropleth": [
           {
            "colorbar": {
             "outlinewidth": 0,
             "ticks": ""
            },
            "type": "choropleth"
           }
          ],
          "contour": [
           {
            "colorbar": {
             "outlinewidth": 0,
             "ticks": ""
            },
            "colorscale": [
             [
              0,
              "#0d0887"
             ],
             [
              0.1111111111111111,
              "#46039f"
             ],
             [
              0.2222222222222222,
              "#7201a8"
             ],
             [
              0.3333333333333333,
              "#9c179e"
             ],
             [
              0.4444444444444444,
              "#bd3786"
             ],
             [
              0.5555555555555556,
              "#d8576b"
             ],
             [
              0.6666666666666666,
              "#ed7953"
             ],
             [
              0.7777777777777778,
              "#fb9f3a"
             ],
             [
              0.8888888888888888,
              "#fdca26"
             ],
             [
              1,
              "#f0f921"
             ]
            ],
            "type": "contour"
           }
          ],
          "contourcarpet": [
           {
            "colorbar": {
             "outlinewidth": 0,
             "ticks": ""
            },
            "type": "contourcarpet"
           }
          ],
          "heatmap": [
           {
            "colorbar": {
             "outlinewidth": 0,
             "ticks": ""
            },
            "colorscale": [
             [
              0,
              "#0d0887"
             ],
             [
              0.1111111111111111,
              "#46039f"
             ],
             [
              0.2222222222222222,
              "#7201a8"
             ],
             [
              0.3333333333333333,
              "#9c179e"
             ],
             [
              0.4444444444444444,
              "#bd3786"
             ],
             [
              0.5555555555555556,
              "#d8576b"
             ],
             [
              0.6666666666666666,
              "#ed7953"
             ],
             [
              0.7777777777777778,
              "#fb9f3a"
             ],
             [
              0.8888888888888888,
              "#fdca26"
             ],
             [
              1,
              "#f0f921"
             ]
            ],
            "type": "heatmap"
           }
          ],
          "heatmapgl": [
           {
            "colorbar": {
             "outlinewidth": 0,
             "ticks": ""
            },
            "colorscale": [
             [
              0,
              "#0d0887"
             ],
             [
              0.1111111111111111,
              "#46039f"
             ],
             [
              0.2222222222222222,
              "#7201a8"
             ],
             [
              0.3333333333333333,
              "#9c179e"
             ],
             [
              0.4444444444444444,
              "#bd3786"
             ],
             [
              0.5555555555555556,
              "#d8576b"
             ],
             [
              0.6666666666666666,
              "#ed7953"
             ],
             [
              0.7777777777777778,
              "#fb9f3a"
             ],
             [
              0.8888888888888888,
              "#fdca26"
             ],
             [
              1,
              "#f0f921"
             ]
            ],
            "type": "heatmapgl"
           }
          ],
          "histogram": [
           {
            "marker": {
             "pattern": {
              "fillmode": "overlay",
              "size": 10,
              "solidity": 0.2
             }
            },
            "type": "histogram"
           }
          ],
          "histogram2d": [
           {
            "colorbar": {
             "outlinewidth": 0,
             "ticks": ""
            },
            "colorscale": [
             [
              0,
              "#0d0887"
             ],
             [
              0.1111111111111111,
              "#46039f"
             ],
             [
              0.2222222222222222,
              "#7201a8"
             ],
             [
              0.3333333333333333,
              "#9c179e"
             ],
             [
              0.4444444444444444,
              "#bd3786"
             ],
             [
              0.5555555555555556,
              "#d8576b"
             ],
             [
              0.6666666666666666,
              "#ed7953"
             ],
             [
              0.7777777777777778,
              "#fb9f3a"
             ],
             [
              0.8888888888888888,
              "#fdca26"
             ],
             [
              1,
              "#f0f921"
             ]
            ],
            "type": "histogram2d"
           }
          ],
          "histogram2dcontour": [
           {
            "colorbar": {
             "outlinewidth": 0,
             "ticks": ""
            },
            "colorscale": [
             [
              0,
              "#0d0887"
             ],
             [
              0.1111111111111111,
              "#46039f"
             ],
             [
              0.2222222222222222,
              "#7201a8"
             ],
             [
              0.3333333333333333,
              "#9c179e"
             ],
             [
              0.4444444444444444,
              "#bd3786"
             ],
             [
              0.5555555555555556,
              "#d8576b"
             ],
             [
              0.6666666666666666,
              "#ed7953"
             ],
             [
              0.7777777777777778,
              "#fb9f3a"
             ],
             [
              0.8888888888888888,
              "#fdca26"
             ],
             [
              1,
              "#f0f921"
             ]
            ],
            "type": "histogram2dcontour"
           }
          ],
          "mesh3d": [
           {
            "colorbar": {
             "outlinewidth": 0,
             "ticks": ""
            },
            "type": "mesh3d"
           }
          ],
          "parcoords": [
           {
            "line": {
             "colorbar": {
              "outlinewidth": 0,
              "ticks": ""
             }
            },
            "type": "parcoords"
           }
          ],
          "pie": [
           {
            "automargin": true,
            "type": "pie"
           }
          ],
          "scatter": [
           {
            "fillpattern": {
             "fillmode": "overlay",
             "size": 10,
             "solidity": 0.2
            },
            "type": "scatter"
           }
          ],
          "scatter3d": [
           {
            "line": {
             "colorbar": {
              "outlinewidth": 0,
              "ticks": ""
             }
            },
            "marker": {
             "colorbar": {
              "outlinewidth": 0,
              "ticks": ""
             }
            },
            "type": "scatter3d"
           }
          ],
          "scattercarpet": [
           {
            "marker": {
             "colorbar": {
              "outlinewidth": 0,
              "ticks": ""
             }
            },
            "type": "scattercarpet"
           }
          ],
          "scattergeo": [
           {
            "marker": {
             "colorbar": {
              "outlinewidth": 0,
              "ticks": ""
             }
            },
            "type": "scattergeo"
           }
          ],
          "scattergl": [
           {
            "marker": {
             "colorbar": {
              "outlinewidth": 0,
              "ticks": ""
             }
            },
            "type": "scattergl"
           }
          ],
          "scattermapbox": [
           {
            "marker": {
             "colorbar": {
              "outlinewidth": 0,
              "ticks": ""
             }
            },
            "type": "scattermapbox"
           }
          ],
          "scatterpolar": [
           {
            "marker": {
             "colorbar": {
              "outlinewidth": 0,
              "ticks": ""
             }
            },
            "type": "scatterpolar"
           }
          ],
          "scatterpolargl": [
           {
            "marker": {
             "colorbar": {
              "outlinewidth": 0,
              "ticks": ""
             }
            },
            "type": "scatterpolargl"
           }
          ],
          "scatterternary": [
           {
            "marker": {
             "colorbar": {
              "outlinewidth": 0,
              "ticks": ""
             }
            },
            "type": "scatterternary"
           }
          ],
          "surface": [
           {
            "colorbar": {
             "outlinewidth": 0,
             "ticks": ""
            },
            "colorscale": [
             [
              0,
              "#0d0887"
             ],
             [
              0.1111111111111111,
              "#46039f"
             ],
             [
              0.2222222222222222,
              "#7201a8"
             ],
             [
              0.3333333333333333,
              "#9c179e"
             ],
             [
              0.4444444444444444,
              "#bd3786"
             ],
             [
              0.5555555555555556,
              "#d8576b"
             ],
             [
              0.6666666666666666,
              "#ed7953"
             ],
             [
              0.7777777777777778,
              "#fb9f3a"
             ],
             [
              0.8888888888888888,
              "#fdca26"
             ],
             [
              1,
              "#f0f921"
             ]
            ],
            "type": "surface"
           }
          ],
          "table": [
           {
            "cells": {
             "fill": {
              "color": "#EBF0F8"
             },
             "line": {
              "color": "white"
             }
            },
            "header": {
             "fill": {
              "color": "#C8D4E3"
             },
             "line": {
              "color": "white"
             }
            },
            "type": "table"
           }
          ]
         },
         "layout": {
          "annotationdefaults": {
           "arrowcolor": "#2a3f5f",
           "arrowhead": 0,
           "arrowwidth": 1
          },
          "autotypenumbers": "strict",
          "coloraxis": {
           "colorbar": {
            "outlinewidth": 0,
            "ticks": ""
           }
          },
          "colorscale": {
           "diverging": [
            [
             0,
             "#8e0152"
            ],
            [
             0.1,
             "#c51b7d"
            ],
            [
             0.2,
             "#de77ae"
            ],
            [
             0.3,
             "#f1b6da"
            ],
            [
             0.4,
             "#fde0ef"
            ],
            [
             0.5,
             "#f7f7f7"
            ],
            [
             0.6,
             "#e6f5d0"
            ],
            [
             0.7,
             "#b8e186"
            ],
            [
             0.8,
             "#7fbc41"
            ],
            [
             0.9,
             "#4d9221"
            ],
            [
             1,
             "#276419"
            ]
           ],
           "sequential": [
            [
             0,
             "#0d0887"
            ],
            [
             0.1111111111111111,
             "#46039f"
            ],
            [
             0.2222222222222222,
             "#7201a8"
            ],
            [
             0.3333333333333333,
             "#9c179e"
            ],
            [
             0.4444444444444444,
             "#bd3786"
            ],
            [
             0.5555555555555556,
             "#d8576b"
            ],
            [
             0.6666666666666666,
             "#ed7953"
            ],
            [
             0.7777777777777778,
             "#fb9f3a"
            ],
            [
             0.8888888888888888,
             "#fdca26"
            ],
            [
             1,
             "#f0f921"
            ]
           ],
           "sequentialminus": [
            [
             0,
             "#0d0887"
            ],
            [
             0.1111111111111111,
             "#46039f"
            ],
            [
             0.2222222222222222,
             "#7201a8"
            ],
            [
             0.3333333333333333,
             "#9c179e"
            ],
            [
             0.4444444444444444,
             "#bd3786"
            ],
            [
             0.5555555555555556,
             "#d8576b"
            ],
            [
             0.6666666666666666,
             "#ed7953"
            ],
            [
             0.7777777777777778,
             "#fb9f3a"
            ],
            [
             0.8888888888888888,
             "#fdca26"
            ],
            [
             1,
             "#f0f921"
            ]
           ]
          },
          "colorway": [
           "#636efa",
           "#EF553B",
           "#00cc96",
           "#ab63fa",
           "#FFA15A",
           "#19d3f3",
           "#FF6692",
           "#B6E880",
           "#FF97FF",
           "#FECB52"
          ],
          "font": {
           "color": "#2a3f5f"
          },
          "geo": {
           "bgcolor": "white",
           "lakecolor": "white",
           "landcolor": "#E5ECF6",
           "showlakes": true,
           "showland": true,
           "subunitcolor": "white"
          },
          "hoverlabel": {
           "align": "left"
          },
          "hovermode": "closest",
          "mapbox": {
           "style": "light"
          },
          "paper_bgcolor": "white",
          "plot_bgcolor": "#E5ECF6",
          "polar": {
           "angularaxis": {
            "gridcolor": "white",
            "linecolor": "white",
            "ticks": ""
           },
           "bgcolor": "#E5ECF6",
           "radialaxis": {
            "gridcolor": "white",
            "linecolor": "white",
            "ticks": ""
           }
          },
          "scene": {
           "xaxis": {
            "backgroundcolor": "#E5ECF6",
            "gridcolor": "white",
            "gridwidth": 2,
            "linecolor": "white",
            "showbackground": true,
            "ticks": "",
            "zerolinecolor": "white"
           },
           "yaxis": {
            "backgroundcolor": "#E5ECF6",
            "gridcolor": "white",
            "gridwidth": 2,
            "linecolor": "white",
            "showbackground": true,
            "ticks": "",
            "zerolinecolor": "white"
           },
           "zaxis": {
            "backgroundcolor": "#E5ECF6",
            "gridcolor": "white",
            "gridwidth": 2,
            "linecolor": "white",
            "showbackground": true,
            "ticks": "",
            "zerolinecolor": "white"
           }
          },
          "shapedefaults": {
           "line": {
            "color": "#2a3f5f"
           }
          },
          "ternary": {
           "aaxis": {
            "gridcolor": "white",
            "linecolor": "white",
            "ticks": ""
           },
           "baxis": {
            "gridcolor": "white",
            "linecolor": "white",
            "ticks": ""
           },
           "bgcolor": "#E5ECF6",
           "caxis": {
            "gridcolor": "white",
            "linecolor": "white",
            "ticks": ""
           }
          },
          "title": {
           "x": 0.05
          },
          "xaxis": {
           "automargin": true,
           "gridcolor": "white",
           "linecolor": "white",
           "ticks": "",
           "title": {
            "standoff": 15
           },
           "zerolinecolor": "white",
           "zerolinewidth": 2
          },
          "yaxis": {
           "automargin": true,
           "gridcolor": "white",
           "linecolor": "white",
           "ticks": "",
           "title": {
            "standoff": 15
           },
           "zerolinecolor": "white",
           "zerolinewidth": 2
          }
         }
        },
        "title": {
         "font": {
          "color": "#4D5663"
         }
        },
        "xaxis": {
         "gridcolor": "#E1E5ED",
         "showgrid": true,
         "tickfont": {
          "color": "#4D5663"
         },
         "title": {
          "font": {
           "color": "#4D5663"
          },
          "text": ""
         },
         "zerolinecolor": "#E1E5ED"
        },
        "yaxis": {
         "gridcolor": "#E1E5ED",
         "showgrid": true,
         "tickfont": {
          "color": "#4D5663"
         },
         "title": {
          "font": {
           "color": "#4D5663"
          },
          "text": ""
         },
         "zerolinecolor": "#E1E5ED"
        }
       }
      },
      "text/html": [
       "<div>                            <div id=\"35de4dc8-9aba-4815-bc1e-d1679083912f\" class=\"plotly-graph-div\" style=\"height:525px; width:100%;\"></div>            <script type=\"text/javascript\">                require([\"plotly\"], function(Plotly) {                    window.PLOTLYENV=window.PLOTLYENV || {};\n",
       "                    window.PLOTLYENV.BASE_URL='https://plot.ly';                                    if (document.getElementById(\"35de4dc8-9aba-4815-bc1e-d1679083912f\")) {                    Plotly.newPlot(                        \"35de4dc8-9aba-4815-bc1e-d1679083912f\",                        [{\"marker\":{\"color\":\"rgba(255, 153, 51, 0.6)\",\"line\":{\"color\":\"rgba(255, 153, 51, 1.0)\",\"width\":1}},\"name\":\"None\",\"orientation\":\"v\",\"text\":\"\",\"x\":[\"A\",\"B\",\"C\",\"D\"],\"y\":[0.44473173229128116,6.87040163493107,4.400496759423857,-6.804470020160638],\"type\":\"bar\"}],                        {\"legend\":{\"bgcolor\":\"#F5F6F9\",\"font\":{\"color\":\"#4D5663\"}},\"paper_bgcolor\":\"#F5F6F9\",\"plot_bgcolor\":\"#F5F6F9\",\"template\":{\"data\":{\"barpolar\":[{\"marker\":{\"line\":{\"color\":\"#E5ECF6\",\"width\":0.5},\"pattern\":{\"fillmode\":\"overlay\",\"size\":10,\"solidity\":0.2}},\"type\":\"barpolar\"}],\"bar\":[{\"error_x\":{\"color\":\"#2a3f5f\"},\"error_y\":{\"color\":\"#2a3f5f\"},\"marker\":{\"line\":{\"color\":\"#E5ECF6\",\"width\":0.5},\"pattern\":{\"fillmode\":\"overlay\",\"size\":10,\"solidity\":0.2}},\"type\":\"bar\"}],\"carpet\":[{\"aaxis\":{\"endlinecolor\":\"#2a3f5f\",\"gridcolor\":\"white\",\"linecolor\":\"white\",\"minorgridcolor\":\"white\",\"startlinecolor\":\"#2a3f5f\"},\"baxis\":{\"endlinecolor\":\"#2a3f5f\",\"gridcolor\":\"white\",\"linecolor\":\"white\",\"minorgridcolor\":\"white\",\"startlinecolor\":\"#2a3f5f\"},\"type\":\"carpet\"}],\"choropleth\":[{\"colorbar\":{\"outlinewidth\":0,\"ticks\":\"\"},\"type\":\"choropleth\"}],\"contourcarpet\":[{\"colorbar\":{\"outlinewidth\":0,\"ticks\":\"\"},\"type\":\"contourcarpet\"}],\"contour\":[{\"colorbar\":{\"outlinewidth\":0,\"ticks\":\"\"},\"colorscale\":[[0.0,\"#0d0887\"],[0.1111111111111111,\"#46039f\"],[0.2222222222222222,\"#7201a8\"],[0.3333333333333333,\"#9c179e\"],[0.4444444444444444,\"#bd3786\"],[0.5555555555555556,\"#d8576b\"],[0.6666666666666666,\"#ed7953\"],[0.7777777777777778,\"#fb9f3a\"],[0.8888888888888888,\"#fdca26\"],[1.0,\"#f0f921\"]],\"type\":\"contour\"}],\"heatmapgl\":[{\"colorbar\":{\"outlinewidth\":0,\"ticks\":\"\"},\"colorscale\":[[0.0,\"#0d0887\"],[0.1111111111111111,\"#46039f\"],[0.2222222222222222,\"#7201a8\"],[0.3333333333333333,\"#9c179e\"],[0.4444444444444444,\"#bd3786\"],[0.5555555555555556,\"#d8576b\"],[0.6666666666666666,\"#ed7953\"],[0.7777777777777778,\"#fb9f3a\"],[0.8888888888888888,\"#fdca26\"],[1.0,\"#f0f921\"]],\"type\":\"heatmapgl\"}],\"heatmap\":[{\"colorbar\":{\"outlinewidth\":0,\"ticks\":\"\"},\"colorscale\":[[0.0,\"#0d0887\"],[0.1111111111111111,\"#46039f\"],[0.2222222222222222,\"#7201a8\"],[0.3333333333333333,\"#9c179e\"],[0.4444444444444444,\"#bd3786\"],[0.5555555555555556,\"#d8576b\"],[0.6666666666666666,\"#ed7953\"],[0.7777777777777778,\"#fb9f3a\"],[0.8888888888888888,\"#fdca26\"],[1.0,\"#f0f921\"]],\"type\":\"heatmap\"}],\"histogram2dcontour\":[{\"colorbar\":{\"outlinewidth\":0,\"ticks\":\"\"},\"colorscale\":[[0.0,\"#0d0887\"],[0.1111111111111111,\"#46039f\"],[0.2222222222222222,\"#7201a8\"],[0.3333333333333333,\"#9c179e\"],[0.4444444444444444,\"#bd3786\"],[0.5555555555555556,\"#d8576b\"],[0.6666666666666666,\"#ed7953\"],[0.7777777777777778,\"#fb9f3a\"],[0.8888888888888888,\"#fdca26\"],[1.0,\"#f0f921\"]],\"type\":\"histogram2dcontour\"}],\"histogram2d\":[{\"colorbar\":{\"outlinewidth\":0,\"ticks\":\"\"},\"colorscale\":[[0.0,\"#0d0887\"],[0.1111111111111111,\"#46039f\"],[0.2222222222222222,\"#7201a8\"],[0.3333333333333333,\"#9c179e\"],[0.4444444444444444,\"#bd3786\"],[0.5555555555555556,\"#d8576b\"],[0.6666666666666666,\"#ed7953\"],[0.7777777777777778,\"#fb9f3a\"],[0.8888888888888888,\"#fdca26\"],[1.0,\"#f0f921\"]],\"type\":\"histogram2d\"}],\"histogram\":[{\"marker\":{\"pattern\":{\"fillmode\":\"overlay\",\"size\":10,\"solidity\":0.2}},\"type\":\"histogram\"}],\"mesh3d\":[{\"colorbar\":{\"outlinewidth\":0,\"ticks\":\"\"},\"type\":\"mesh3d\"}],\"parcoords\":[{\"line\":{\"colorbar\":{\"outlinewidth\":0,\"ticks\":\"\"}},\"type\":\"parcoords\"}],\"pie\":[{\"automargin\":true,\"type\":\"pie\"}],\"scatter3d\":[{\"line\":{\"colorbar\":{\"outlinewidth\":0,\"ticks\":\"\"}},\"marker\":{\"colorbar\":{\"outlinewidth\":0,\"ticks\":\"\"}},\"type\":\"scatter3d\"}],\"scattercarpet\":[{\"marker\":{\"colorbar\":{\"outlinewidth\":0,\"ticks\":\"\"}},\"type\":\"scattercarpet\"}],\"scattergeo\":[{\"marker\":{\"colorbar\":{\"outlinewidth\":0,\"ticks\":\"\"}},\"type\":\"scattergeo\"}],\"scattergl\":[{\"marker\":{\"colorbar\":{\"outlinewidth\":0,\"ticks\":\"\"}},\"type\":\"scattergl\"}],\"scattermapbox\":[{\"marker\":{\"colorbar\":{\"outlinewidth\":0,\"ticks\":\"\"}},\"type\":\"scattermapbox\"}],\"scatterpolargl\":[{\"marker\":{\"colorbar\":{\"outlinewidth\":0,\"ticks\":\"\"}},\"type\":\"scatterpolargl\"}],\"scatterpolar\":[{\"marker\":{\"colorbar\":{\"outlinewidth\":0,\"ticks\":\"\"}},\"type\":\"scatterpolar\"}],\"scatter\":[{\"fillpattern\":{\"fillmode\":\"overlay\",\"size\":10,\"solidity\":0.2},\"type\":\"scatter\"}],\"scatterternary\":[{\"marker\":{\"colorbar\":{\"outlinewidth\":0,\"ticks\":\"\"}},\"type\":\"scatterternary\"}],\"surface\":[{\"colorbar\":{\"outlinewidth\":0,\"ticks\":\"\"},\"colorscale\":[[0.0,\"#0d0887\"],[0.1111111111111111,\"#46039f\"],[0.2222222222222222,\"#7201a8\"],[0.3333333333333333,\"#9c179e\"],[0.4444444444444444,\"#bd3786\"],[0.5555555555555556,\"#d8576b\"],[0.6666666666666666,\"#ed7953\"],[0.7777777777777778,\"#fb9f3a\"],[0.8888888888888888,\"#fdca26\"],[1.0,\"#f0f921\"]],\"type\":\"surface\"}],\"table\":[{\"cells\":{\"fill\":{\"color\":\"#EBF0F8\"},\"line\":{\"color\":\"white\"}},\"header\":{\"fill\":{\"color\":\"#C8D4E3\"},\"line\":{\"color\":\"white\"}},\"type\":\"table\"}]},\"layout\":{\"annotationdefaults\":{\"arrowcolor\":\"#2a3f5f\",\"arrowhead\":0,\"arrowwidth\":1},\"autotypenumbers\":\"strict\",\"coloraxis\":{\"colorbar\":{\"outlinewidth\":0,\"ticks\":\"\"}},\"colorscale\":{\"diverging\":[[0,\"#8e0152\"],[0.1,\"#c51b7d\"],[0.2,\"#de77ae\"],[0.3,\"#f1b6da\"],[0.4,\"#fde0ef\"],[0.5,\"#f7f7f7\"],[0.6,\"#e6f5d0\"],[0.7,\"#b8e186\"],[0.8,\"#7fbc41\"],[0.9,\"#4d9221\"],[1,\"#276419\"]],\"sequential\":[[0.0,\"#0d0887\"],[0.1111111111111111,\"#46039f\"],[0.2222222222222222,\"#7201a8\"],[0.3333333333333333,\"#9c179e\"],[0.4444444444444444,\"#bd3786\"],[0.5555555555555556,\"#d8576b\"],[0.6666666666666666,\"#ed7953\"],[0.7777777777777778,\"#fb9f3a\"],[0.8888888888888888,\"#fdca26\"],[1.0,\"#f0f921\"]],\"sequentialminus\":[[0.0,\"#0d0887\"],[0.1111111111111111,\"#46039f\"],[0.2222222222222222,\"#7201a8\"],[0.3333333333333333,\"#9c179e\"],[0.4444444444444444,\"#bd3786\"],[0.5555555555555556,\"#d8576b\"],[0.6666666666666666,\"#ed7953\"],[0.7777777777777778,\"#fb9f3a\"],[0.8888888888888888,\"#fdca26\"],[1.0,\"#f0f921\"]]},\"colorway\":[\"#636efa\",\"#EF553B\",\"#00cc96\",\"#ab63fa\",\"#FFA15A\",\"#19d3f3\",\"#FF6692\",\"#B6E880\",\"#FF97FF\",\"#FECB52\"],\"font\":{\"color\":\"#2a3f5f\"},\"geo\":{\"bgcolor\":\"white\",\"lakecolor\":\"white\",\"landcolor\":\"#E5ECF6\",\"showlakes\":true,\"showland\":true,\"subunitcolor\":\"white\"},\"hoverlabel\":{\"align\":\"left\"},\"hovermode\":\"closest\",\"mapbox\":{\"style\":\"light\"},\"paper_bgcolor\":\"white\",\"plot_bgcolor\":\"#E5ECF6\",\"polar\":{\"angularaxis\":{\"gridcolor\":\"white\",\"linecolor\":\"white\",\"ticks\":\"\"},\"bgcolor\":\"#E5ECF6\",\"radialaxis\":{\"gridcolor\":\"white\",\"linecolor\":\"white\",\"ticks\":\"\"}},\"scene\":{\"xaxis\":{\"backgroundcolor\":\"#E5ECF6\",\"gridcolor\":\"white\",\"gridwidth\":2,\"linecolor\":\"white\",\"showbackground\":true,\"ticks\":\"\",\"zerolinecolor\":\"white\"},\"yaxis\":{\"backgroundcolor\":\"#E5ECF6\",\"gridcolor\":\"white\",\"gridwidth\":2,\"linecolor\":\"white\",\"showbackground\":true,\"ticks\":\"\",\"zerolinecolor\":\"white\"},\"zaxis\":{\"backgroundcolor\":\"#E5ECF6\",\"gridcolor\":\"white\",\"gridwidth\":2,\"linecolor\":\"white\",\"showbackground\":true,\"ticks\":\"\",\"zerolinecolor\":\"white\"}},\"shapedefaults\":{\"line\":{\"color\":\"#2a3f5f\"}},\"ternary\":{\"aaxis\":{\"gridcolor\":\"white\",\"linecolor\":\"white\",\"ticks\":\"\"},\"baxis\":{\"gridcolor\":\"white\",\"linecolor\":\"white\",\"ticks\":\"\"},\"bgcolor\":\"#E5ECF6\",\"caxis\":{\"gridcolor\":\"white\",\"linecolor\":\"white\",\"ticks\":\"\"}},\"title\":{\"x\":0.05},\"xaxis\":{\"automargin\":true,\"gridcolor\":\"white\",\"linecolor\":\"white\",\"ticks\":\"\",\"title\":{\"standoff\":15},\"zerolinecolor\":\"white\",\"zerolinewidth\":2},\"yaxis\":{\"automargin\":true,\"gridcolor\":\"white\",\"linecolor\":\"white\",\"ticks\":\"\",\"title\":{\"standoff\":15},\"zerolinecolor\":\"white\",\"zerolinewidth\":2}}},\"title\":{\"font\":{\"color\":\"#4D5663\"}},\"xaxis\":{\"gridcolor\":\"#E1E5ED\",\"showgrid\":true,\"tickfont\":{\"color\":\"#4D5663\"},\"title\":{\"font\":{\"color\":\"#4D5663\"},\"text\":\"\"},\"zerolinecolor\":\"#E1E5ED\"},\"yaxis\":{\"gridcolor\":\"#E1E5ED\",\"showgrid\":true,\"tickfont\":{\"color\":\"#4D5663\"},\"title\":{\"font\":{\"color\":\"#4D5663\"},\"text\":\"\"},\"zerolinecolor\":\"#E1E5ED\"}},                        {\"showLink\": true, \"linkText\": \"Export to plot.ly\", \"plotlyServerURL\": \"https://plot.ly\", \"responsive\": true}                    ).then(function(){\n",
       "                            \n",
       "var gd = document.getElementById('35de4dc8-9aba-4815-bc1e-d1679083912f');\n",
       "var x = new MutationObserver(function (mutations, observer) {{\n",
       "        var display = window.getComputedStyle(gd).display;\n",
       "        if (!display || display === 'none') {{\n",
       "            console.log([gd, 'removed!']);\n",
       "            Plotly.purge(gd);\n",
       "            observer.disconnect();\n",
       "        }}\n",
       "}});\n",
       "\n",
       "// Listen for the removal of the full notebook cells\n",
       "var notebookContainer = gd.closest('#notebook-container');\n",
       "if (notebookContainer) {{\n",
       "    x.observe(notebookContainer, {childList: true});\n",
       "}}\n",
       "\n",
       "// Listen for the clearing of the current output cell\n",
       "var outputEl = gd.closest('.output');\n",
       "if (outputEl) {{\n",
       "    x.observe(outputEl, {childList: true});\n",
       "}}\n",
       "\n",
       "                        })                };                });            </script>        </div>"
      ]
     },
     "metadata": {},
     "output_type": "display_data"
    }
   ],
   "source": [
    "df.sum().iplot(kind='bar')"
   ]
  },
  {
   "cell_type": "code",
   "execution_count": 31,
   "id": "681663cd",
   "metadata": {},
   "outputs": [
    {
     "data": {
      "application/vnd.plotly.v1+json": {
       "config": {
        "linkText": "Export to plot.ly",
        "plotlyServerURL": "https://plot.ly",
        "showLink": true
       },
       "data": [
        {
         "boxpoints": false,
         "line": {
          "width": 1.3
         },
         "marker": {
          "color": "rgba(255, 153, 51, 1.0)"
         },
         "name": "A",
         "orientation": "v",
         "type": "box",
         "y": [
          -1.9755500137656816,
          -0.061947778504821194,
          1.5859026175116797,
          -1.2531388336614748,
          -0.05439570455517902,
          -0.6099892593578193,
          -0.42597212415335045,
          1.30054514318552,
          1.6745245836944143,
          0.16101375678398513,
          -0.49292541050026917,
          -0.11917095742151543,
          -0.7009747802886002,
          -0.47467091820681706,
          -0.4017079488724917,
          -0.42615585580718507,
          0.0902833090343134,
          -0.03383157680340645,
          0.25125800723855946,
          0.09501082946377389,
          0.5867512968998098,
          -0.4693010654392666,
          0.46168204660174567,
          0.06495267830063275,
          0.2681084284590157,
          -1.4989026795597802,
          1.7641427480382965,
          1.4859196786280577,
          0.1539020337302631,
          -0.6840507459974362,
          -0.13423049695369402,
          0.7460726140571591,
          -0.7550366137892188,
          -0.0512034730653333,
          -0.4748090640569612,
          -2.3679114992432004,
          -0.30779199050609957,
          -0.49193289903124116,
          -0.7649607105286698,
          -2.613800799990971,
          0.6362381962494086,
          -0.8198854452978208,
          -0.4784810420305522,
          -0.30559539406897873,
          1.7417622654227076,
          1.9097958194435793,
          0.9406674466573566,
          -1.2094515522929468,
          0.6724277066552841,
          0.6042558126336943,
          1.695812684537749,
          -0.8894533401640422,
          -1.0307224681600358,
          0.004523554592124752,
          1.9757360700018838,
          0.5429180447534881,
          -0.47199893155343664,
          0.4749452873600385,
          -0.283517983931913,
          -0.04096698814947355,
          0.968045533265399,
          0.8935691476562685,
          -0.1899689680365186,
          -0.5352024057664848,
          -0.6306762033186569,
          -0.8819772809327792,
          -0.9249869852557837,
          -1.2795987736093142,
          -1.4906513234849743,
          -1.100933806912293,
          0.4967968785061232,
          0.4776917332224903,
          0.19840480678120576,
          -0.5678729808054858,
          -0.47050311886264523,
          -0.6848928388732589,
          -0.3447172724962305,
          -0.23794258475612443,
          2.165413060815801,
          0.6632483590585299,
          2.000157263583068,
          -0.05164465663250612,
          -0.32950100556886297,
          0.1233413534161667,
          -1.024280593332221,
          1.6328302707578288,
          -0.8922019505656237,
          -0.19277947000847248,
          1.778582913528921,
          1.2861142967242434,
          0.7478696272647315,
          0.7044550353283147,
          -0.4948989732262082,
          2.162621138218643,
          -0.07173258766074306,
          -0.9714490326513098,
          -0.25668971020006276,
          -0.9861809495110716,
          -1.157103541842868,
          1.1992610142491917
         ]
        },
        {
         "boxpoints": false,
         "line": {
          "width": 1.3
         },
         "marker": {
          "color": "rgba(55, 128, 191, 1.0)"
         },
         "name": "B",
         "orientation": "v",
         "type": "box",
         "y": [
          -0.6016205567329608,
          -0.6867847793895484,
          -1.004201098081681,
          0.5459610858692364,
          -0.5134277048058766,
          -1.7713803666089118,
          0.306265766114442,
          -0.4673808534970285,
          0.47774761494497525,
          0.5773418911213518,
          -0.9716562852965338,
          0.5691019831236278,
          0.47140735466440037,
          0.09296487685387636,
          0.36346199486628045,
          -0.21785167686542148,
          0.43661427182523044,
          -1.1043395826762386,
          -0.02671525336627313,
          1.6340557489474088,
          -0.4116937959977908,
          0.760627438099993,
          -1.419951605103263,
          1.56554617148626,
          -1.0612550505986134,
          -0.2791022850093874,
          -0.6538496117164647,
          -0.5413662862932657,
          0.770850384913509,
          0.5112478057109159,
          0.444885186950138,
          1.3539004781978206,
          2.2623286874734436,
          -0.862557473719299,
          0.5541222476581766,
          0.4349526898898684,
          1.3003541024884273,
          -0.9334222914281395,
          -0.018468505151828317,
          0.301456771856218,
          0.8893522858810824,
          0.9676579983417197,
          0.40723522186669053,
          0.8049924749506939,
          -0.040571046598925915,
          -0.7668702851597023,
          1.2011848352922634,
          1.7413782411913143,
          -0.3627601644549942,
          0.8029425027984123,
          -1.2379383287509398,
          0.650388747065542,
          1.1512941141212873,
          0.8082910662466302,
          0.002804675896032924,
          0.040444707117679946,
          1.0075910275877349,
          1.566362282752962,
          1.727518610682044,
          0.43208798978099616,
          -0.37729306749409824,
          0.3583192853709636,
          2.245267346888914,
          -1.2931892852342348,
          0.49825288910292637,
          0.18173575684733229,
          -0.003765766788964723,
          0.788228363907951,
          0.14540007233038146,
          -2.8471785813920847,
          0.901525280729787,
          0.47931178935779756,
          -0.75054262406477,
          -0.1895272526767355,
          -0.16111055958515572,
          0.43926869577158684,
          -2.007298526805992,
          0.14872350274937846,
          -0.7897899064104688,
          -0.8739822093248697,
          0.8077072001297577,
          1.0106425845267275,
          -1.3871824837780988,
          -0.802777519106265,
          -0.665337553159498,
          -0.5965212412716,
          0.8824586708505167,
          -1.31436743946511,
          -0.11327313080949342,
          0.3357969652076104,
          0.7522800234797223,
          -1.1915982770371818,
          -0.6620972204720901,
          -1.5865209839733985,
          0.25954986753324477,
          -0.34864819900329097,
          0.6164677893891793,
          -0.006340506992387929,
          0.05375386835791097,
          -0.04750243008043119
         ]
        },
        {
         "boxpoints": false,
         "line": {
          "width": 1.3
         },
         "marker": {
          "color": "rgba(50, 171, 96, 1.0)"
         },
         "name": "C",
         "orientation": "v",
         "type": "box",
         "y": [
          -0.6704082264197347,
          -0.9712370065255008,
          0.4111150132211941,
          0.06505043483094419,
          0.09597347386637531,
          -0.17805257026137314,
          0.6266282123253187,
          -0.06944538525399793,
          1.0434066129333317,
          0.8321859041473956,
          0.23176254064018448,
          -0.36957242731347956,
          0.9693310064414132,
          -1.065613557626272,
          -0.08607110397003176,
          0.38839255569323583,
          -0.6766161417161143,
          -1.2143473333630788,
          1.1433139815906899,
          1.1489106765854245,
          -0.4233004052413279,
          -0.14674342975009205,
          -1.5470081603989874,
          0.5449565142853104,
          0.9436920674861845,
          -0.8578130086197939,
          -0.8706007914367132,
          -0.4674439125957368,
          0.7295679758333566,
          -1.5659532199503727,
          -0.6302577800291368,
          0.002036162897837701,
          0.08527473566789949,
          0.4114993953567297,
          0.5831547536114501,
          -0.8417649892373862,
          -0.15206125243366583,
          0.6558559082815361,
          0.4739620700333792,
          1.6503138194249127,
          0.261093633651454,
          1.488587165162164,
          0.29469611827486414,
          0.25496389058589275,
          -1.2652526156028097,
          -0.7532256723724051,
          -0.9099639520318753,
          1.1441345960738158,
          0.5949919924224334,
          -0.10782459485723767,
          0.2140567254164145,
          0.14147781374699772,
          1.0340849306590991,
          0.24670441031205223,
          0.583944717414109,
          -0.4151649571540205,
          -1.5680514211874341,
          1.0757553302227085,
          -2.196377096070879,
          -1.0909931476373194,
          -0.4456730180087001,
          0.22966449358967897,
          0.5457957358256748,
          0.8832981164864001,
          -1.1263605017015514,
          -0.40180359216850925,
          -1.232443932460566,
          0.26566029104465116,
          1.0724285813704941,
          0.04514430706016189,
          0.37813651962983186,
          1.1153581424377124,
          -0.2879208413779026,
          0.08049124917956914,
          -0.06135085527396157,
          -0.37693758217424916,
          1.1830320069813256,
          0.16995226333775676,
          1.7774620506505168,
          -0.8895255904170345,
          1.3944174805345486,
          -1.850060721313199,
          -1.3417035530645616,
          0.9391082966584445,
          0.9700589698321128,
          -1.604452147419455,
          0.6676364870219649,
          -1.1239638929995208,
          0.9866181703538464,
          -0.47245120246747085,
          0.14307948466401546,
          1.6194032925395008,
          0.28707929556088013,
          -2.0633114742281067,
          0.984871614465747,
          -0.0005197875955629226,
          1.28016775843392,
          0.38145099065980237,
          1.0181992084337197,
          0.0007496653025990152
         ]
        },
        {
         "boxpoints": false,
         "line": {
          "width": 1.3
         },
         "marker": {
          "color": "rgba(128, 0, 128, 1.0)"
         },
         "name": "D",
         "orientation": "v",
         "type": "box",
         "y": [
          -2.737247075994404,
          -0.371622137785998,
          0.4977872389088978,
          -0.25556722608188853,
          0.134844530196423,
          -0.9602501249253127,
          -0.2397917100705879,
          1.0344184850748666,
          0.8514263520822619,
          1.35122525523941,
          2.604635190520853,
          1.947767040875128,
          -1.3512387261342127,
          -0.9427769645828806,
          -2.063505088898325,
          -0.4870830116381731,
          0.25588158907185315,
          -1.0742236315172862,
          0.956877807016473,
          0.7333863213035633,
          -1.213437837026288,
          2.2599800326715225,
          -1.3391245764493112,
          -0.20150175200419704,
          -1.4517678541192687,
          0.1016744241682496,
          -1.5033897478410911,
          -0.1243391491925989,
          1.4436217338806754,
          -1.7133911850641386,
          0.26108774988306366,
          1.0056905498192663,
          -0.26248250730553535,
          0.24236503012727867,
          1.0519009772779324,
          0.321102619498424,
          -0.6304503190093411,
          0.8010048587525489,
          -0.026863296121999822,
          -0.6005877821544191,
          -0.0049922649277795465,
          -2.6221756364222157,
          -0.42984055050945774,
          -0.1443655516573191,
          -0.904478920086068,
          -0.07364609801508223,
          1.018411591964657,
          -0.43294602375333335,
          -0.5695326411619899,
          0.7594130903281197,
          -0.2006312780575331,
          -0.2347940580504846,
          0.8139954950920132,
          -0.8807999455752871,
          0.7163484752256508,
          0.40615245114971854,
          -0.8071198924710938,
          0.7767107762697273,
          -0.28877910715950894,
          0.8149223997578482,
          -0.3362381266307819,
          0.9522356397473453,
          -0.5898704926150133,
          -0.9772068149269224,
          0.737315638695283,
          0.34127453265489327,
          -0.6552094825700808,
          -1.6030076880442323,
          -1.5895923338532951,
          -0.012103775562117147,
          -0.29541678817590195,
          -0.12222407499725159,
          -1.0574075864876884,
          0.03501734189575078,
          -0.4077052603736408,
          0.21432227712942017,
          1.3691699925778178,
          -0.539074619860555,
          -0.8037180119982591,
          -0.7443299088773537,
          1.522871279279115,
          -0.08863780207150675,
          1.3100439989179171,
          -1.5140910484576355,
          1.6857952570240735,
          -1.9593945449784622,
          0.618036635263452,
          0.5793747989395617,
          -0.18701217121788372,
          -0.4302273446214045,
          -0.18418614363508462,
          0.48564593255997734,
          1.1067954050511588,
          -0.48813267343725975,
          -0.6718716102419712,
          -0.19220311340207014,
          0.6295952841880968,
          -0.651678727558497,
          1.3370584169131228,
          0.35362929920522856
         ]
        }
       ],
       "layout": {
        "legend": {
         "bgcolor": "#F5F6F9",
         "font": {
          "color": "#4D5663"
         }
        },
        "paper_bgcolor": "#F5F6F9",
        "plot_bgcolor": "#F5F6F9",
        "template": {
         "data": {
          "bar": [
           {
            "error_x": {
             "color": "#2a3f5f"
            },
            "error_y": {
             "color": "#2a3f5f"
            },
            "marker": {
             "line": {
              "color": "#E5ECF6",
              "width": 0.5
             },
             "pattern": {
              "fillmode": "overlay",
              "size": 10,
              "solidity": 0.2
             }
            },
            "type": "bar"
           }
          ],
          "barpolar": [
           {
            "marker": {
             "line": {
              "color": "#E5ECF6",
              "width": 0.5
             },
             "pattern": {
              "fillmode": "overlay",
              "size": 10,
              "solidity": 0.2
             }
            },
            "type": "barpolar"
           }
          ],
          "carpet": [
           {
            "aaxis": {
             "endlinecolor": "#2a3f5f",
             "gridcolor": "white",
             "linecolor": "white",
             "minorgridcolor": "white",
             "startlinecolor": "#2a3f5f"
            },
            "baxis": {
             "endlinecolor": "#2a3f5f",
             "gridcolor": "white",
             "linecolor": "white",
             "minorgridcolor": "white",
             "startlinecolor": "#2a3f5f"
            },
            "type": "carpet"
           }
          ],
          "choropleth": [
           {
            "colorbar": {
             "outlinewidth": 0,
             "ticks": ""
            },
            "type": "choropleth"
           }
          ],
          "contour": [
           {
            "colorbar": {
             "outlinewidth": 0,
             "ticks": ""
            },
            "colorscale": [
             [
              0,
              "#0d0887"
             ],
             [
              0.1111111111111111,
              "#46039f"
             ],
             [
              0.2222222222222222,
              "#7201a8"
             ],
             [
              0.3333333333333333,
              "#9c179e"
             ],
             [
              0.4444444444444444,
              "#bd3786"
             ],
             [
              0.5555555555555556,
              "#d8576b"
             ],
             [
              0.6666666666666666,
              "#ed7953"
             ],
             [
              0.7777777777777778,
              "#fb9f3a"
             ],
             [
              0.8888888888888888,
              "#fdca26"
             ],
             [
              1,
              "#f0f921"
             ]
            ],
            "type": "contour"
           }
          ],
          "contourcarpet": [
           {
            "colorbar": {
             "outlinewidth": 0,
             "ticks": ""
            },
            "type": "contourcarpet"
           }
          ],
          "heatmap": [
           {
            "colorbar": {
             "outlinewidth": 0,
             "ticks": ""
            },
            "colorscale": [
             [
              0,
              "#0d0887"
             ],
             [
              0.1111111111111111,
              "#46039f"
             ],
             [
              0.2222222222222222,
              "#7201a8"
             ],
             [
              0.3333333333333333,
              "#9c179e"
             ],
             [
              0.4444444444444444,
              "#bd3786"
             ],
             [
              0.5555555555555556,
              "#d8576b"
             ],
             [
              0.6666666666666666,
              "#ed7953"
             ],
             [
              0.7777777777777778,
              "#fb9f3a"
             ],
             [
              0.8888888888888888,
              "#fdca26"
             ],
             [
              1,
              "#f0f921"
             ]
            ],
            "type": "heatmap"
           }
          ],
          "heatmapgl": [
           {
            "colorbar": {
             "outlinewidth": 0,
             "ticks": ""
            },
            "colorscale": [
             [
              0,
              "#0d0887"
             ],
             [
              0.1111111111111111,
              "#46039f"
             ],
             [
              0.2222222222222222,
              "#7201a8"
             ],
             [
              0.3333333333333333,
              "#9c179e"
             ],
             [
              0.4444444444444444,
              "#bd3786"
             ],
             [
              0.5555555555555556,
              "#d8576b"
             ],
             [
              0.6666666666666666,
              "#ed7953"
             ],
             [
              0.7777777777777778,
              "#fb9f3a"
             ],
             [
              0.8888888888888888,
              "#fdca26"
             ],
             [
              1,
              "#f0f921"
             ]
            ],
            "type": "heatmapgl"
           }
          ],
          "histogram": [
           {
            "marker": {
             "pattern": {
              "fillmode": "overlay",
              "size": 10,
              "solidity": 0.2
             }
            },
            "type": "histogram"
           }
          ],
          "histogram2d": [
           {
            "colorbar": {
             "outlinewidth": 0,
             "ticks": ""
            },
            "colorscale": [
             [
              0,
              "#0d0887"
             ],
             [
              0.1111111111111111,
              "#46039f"
             ],
             [
              0.2222222222222222,
              "#7201a8"
             ],
             [
              0.3333333333333333,
              "#9c179e"
             ],
             [
              0.4444444444444444,
              "#bd3786"
             ],
             [
              0.5555555555555556,
              "#d8576b"
             ],
             [
              0.6666666666666666,
              "#ed7953"
             ],
             [
              0.7777777777777778,
              "#fb9f3a"
             ],
             [
              0.8888888888888888,
              "#fdca26"
             ],
             [
              1,
              "#f0f921"
             ]
            ],
            "type": "histogram2d"
           }
          ],
          "histogram2dcontour": [
           {
            "colorbar": {
             "outlinewidth": 0,
             "ticks": ""
            },
            "colorscale": [
             [
              0,
              "#0d0887"
             ],
             [
              0.1111111111111111,
              "#46039f"
             ],
             [
              0.2222222222222222,
              "#7201a8"
             ],
             [
              0.3333333333333333,
              "#9c179e"
             ],
             [
              0.4444444444444444,
              "#bd3786"
             ],
             [
              0.5555555555555556,
              "#d8576b"
             ],
             [
              0.6666666666666666,
              "#ed7953"
             ],
             [
              0.7777777777777778,
              "#fb9f3a"
             ],
             [
              0.8888888888888888,
              "#fdca26"
             ],
             [
              1,
              "#f0f921"
             ]
            ],
            "type": "histogram2dcontour"
           }
          ],
          "mesh3d": [
           {
            "colorbar": {
             "outlinewidth": 0,
             "ticks": ""
            },
            "type": "mesh3d"
           }
          ],
          "parcoords": [
           {
            "line": {
             "colorbar": {
              "outlinewidth": 0,
              "ticks": ""
             }
            },
            "type": "parcoords"
           }
          ],
          "pie": [
           {
            "automargin": true,
            "type": "pie"
           }
          ],
          "scatter": [
           {
            "fillpattern": {
             "fillmode": "overlay",
             "size": 10,
             "solidity": 0.2
            },
            "type": "scatter"
           }
          ],
          "scatter3d": [
           {
            "line": {
             "colorbar": {
              "outlinewidth": 0,
              "ticks": ""
             }
            },
            "marker": {
             "colorbar": {
              "outlinewidth": 0,
              "ticks": ""
             }
            },
            "type": "scatter3d"
           }
          ],
          "scattercarpet": [
           {
            "marker": {
             "colorbar": {
              "outlinewidth": 0,
              "ticks": ""
             }
            },
            "type": "scattercarpet"
           }
          ],
          "scattergeo": [
           {
            "marker": {
             "colorbar": {
              "outlinewidth": 0,
              "ticks": ""
             }
            },
            "type": "scattergeo"
           }
          ],
          "scattergl": [
           {
            "marker": {
             "colorbar": {
              "outlinewidth": 0,
              "ticks": ""
             }
            },
            "type": "scattergl"
           }
          ],
          "scattermapbox": [
           {
            "marker": {
             "colorbar": {
              "outlinewidth": 0,
              "ticks": ""
             }
            },
            "type": "scattermapbox"
           }
          ],
          "scatterpolar": [
           {
            "marker": {
             "colorbar": {
              "outlinewidth": 0,
              "ticks": ""
             }
            },
            "type": "scatterpolar"
           }
          ],
          "scatterpolargl": [
           {
            "marker": {
             "colorbar": {
              "outlinewidth": 0,
              "ticks": ""
             }
            },
            "type": "scatterpolargl"
           }
          ],
          "scatterternary": [
           {
            "marker": {
             "colorbar": {
              "outlinewidth": 0,
              "ticks": ""
             }
            },
            "type": "scatterternary"
           }
          ],
          "surface": [
           {
            "colorbar": {
             "outlinewidth": 0,
             "ticks": ""
            },
            "colorscale": [
             [
              0,
              "#0d0887"
             ],
             [
              0.1111111111111111,
              "#46039f"
             ],
             [
              0.2222222222222222,
              "#7201a8"
             ],
             [
              0.3333333333333333,
              "#9c179e"
             ],
             [
              0.4444444444444444,
              "#bd3786"
             ],
             [
              0.5555555555555556,
              "#d8576b"
             ],
             [
              0.6666666666666666,
              "#ed7953"
             ],
             [
              0.7777777777777778,
              "#fb9f3a"
             ],
             [
              0.8888888888888888,
              "#fdca26"
             ],
             [
              1,
              "#f0f921"
             ]
            ],
            "type": "surface"
           }
          ],
          "table": [
           {
            "cells": {
             "fill": {
              "color": "#EBF0F8"
             },
             "line": {
              "color": "white"
             }
            },
            "header": {
             "fill": {
              "color": "#C8D4E3"
             },
             "line": {
              "color": "white"
             }
            },
            "type": "table"
           }
          ]
         },
         "layout": {
          "annotationdefaults": {
           "arrowcolor": "#2a3f5f",
           "arrowhead": 0,
           "arrowwidth": 1
          },
          "autotypenumbers": "strict",
          "coloraxis": {
           "colorbar": {
            "outlinewidth": 0,
            "ticks": ""
           }
          },
          "colorscale": {
           "diverging": [
            [
             0,
             "#8e0152"
            ],
            [
             0.1,
             "#c51b7d"
            ],
            [
             0.2,
             "#de77ae"
            ],
            [
             0.3,
             "#f1b6da"
            ],
            [
             0.4,
             "#fde0ef"
            ],
            [
             0.5,
             "#f7f7f7"
            ],
            [
             0.6,
             "#e6f5d0"
            ],
            [
             0.7,
             "#b8e186"
            ],
            [
             0.8,
             "#7fbc41"
            ],
            [
             0.9,
             "#4d9221"
            ],
            [
             1,
             "#276419"
            ]
           ],
           "sequential": [
            [
             0,
             "#0d0887"
            ],
            [
             0.1111111111111111,
             "#46039f"
            ],
            [
             0.2222222222222222,
             "#7201a8"
            ],
            [
             0.3333333333333333,
             "#9c179e"
            ],
            [
             0.4444444444444444,
             "#bd3786"
            ],
            [
             0.5555555555555556,
             "#d8576b"
            ],
            [
             0.6666666666666666,
             "#ed7953"
            ],
            [
             0.7777777777777778,
             "#fb9f3a"
            ],
            [
             0.8888888888888888,
             "#fdca26"
            ],
            [
             1,
             "#f0f921"
            ]
           ],
           "sequentialminus": [
            [
             0,
             "#0d0887"
            ],
            [
             0.1111111111111111,
             "#46039f"
            ],
            [
             0.2222222222222222,
             "#7201a8"
            ],
            [
             0.3333333333333333,
             "#9c179e"
            ],
            [
             0.4444444444444444,
             "#bd3786"
            ],
            [
             0.5555555555555556,
             "#d8576b"
            ],
            [
             0.6666666666666666,
             "#ed7953"
            ],
            [
             0.7777777777777778,
             "#fb9f3a"
            ],
            [
             0.8888888888888888,
             "#fdca26"
            ],
            [
             1,
             "#f0f921"
            ]
           ]
          },
          "colorway": [
           "#636efa",
           "#EF553B",
           "#00cc96",
           "#ab63fa",
           "#FFA15A",
           "#19d3f3",
           "#FF6692",
           "#B6E880",
           "#FF97FF",
           "#FECB52"
          ],
          "font": {
           "color": "#2a3f5f"
          },
          "geo": {
           "bgcolor": "white",
           "lakecolor": "white",
           "landcolor": "#E5ECF6",
           "showlakes": true,
           "showland": true,
           "subunitcolor": "white"
          },
          "hoverlabel": {
           "align": "left"
          },
          "hovermode": "closest",
          "mapbox": {
           "style": "light"
          },
          "paper_bgcolor": "white",
          "plot_bgcolor": "#E5ECF6",
          "polar": {
           "angularaxis": {
            "gridcolor": "white",
            "linecolor": "white",
            "ticks": ""
           },
           "bgcolor": "#E5ECF6",
           "radialaxis": {
            "gridcolor": "white",
            "linecolor": "white",
            "ticks": ""
           }
          },
          "scene": {
           "xaxis": {
            "backgroundcolor": "#E5ECF6",
            "gridcolor": "white",
            "gridwidth": 2,
            "linecolor": "white",
            "showbackground": true,
            "ticks": "",
            "zerolinecolor": "white"
           },
           "yaxis": {
            "backgroundcolor": "#E5ECF6",
            "gridcolor": "white",
            "gridwidth": 2,
            "linecolor": "white",
            "showbackground": true,
            "ticks": "",
            "zerolinecolor": "white"
           },
           "zaxis": {
            "backgroundcolor": "#E5ECF6",
            "gridcolor": "white",
            "gridwidth": 2,
            "linecolor": "white",
            "showbackground": true,
            "ticks": "",
            "zerolinecolor": "white"
           }
          },
          "shapedefaults": {
           "line": {
            "color": "#2a3f5f"
           }
          },
          "ternary": {
           "aaxis": {
            "gridcolor": "white",
            "linecolor": "white",
            "ticks": ""
           },
           "baxis": {
            "gridcolor": "white",
            "linecolor": "white",
            "ticks": ""
           },
           "bgcolor": "#E5ECF6",
           "caxis": {
            "gridcolor": "white",
            "linecolor": "white",
            "ticks": ""
           }
          },
          "title": {
           "x": 0.05
          },
          "xaxis": {
           "automargin": true,
           "gridcolor": "white",
           "linecolor": "white",
           "ticks": "",
           "title": {
            "standoff": 15
           },
           "zerolinecolor": "white",
           "zerolinewidth": 2
          },
          "yaxis": {
           "automargin": true,
           "gridcolor": "white",
           "linecolor": "white",
           "ticks": "",
           "title": {
            "standoff": 15
           },
           "zerolinecolor": "white",
           "zerolinewidth": 2
          }
         }
        },
        "title": {
         "font": {
          "color": "#4D5663"
         }
        },
        "xaxis": {
         "gridcolor": "#E1E5ED",
         "showgrid": true,
         "tickfont": {
          "color": "#4D5663"
         },
         "title": {
          "font": {
           "color": "#4D5663"
          },
          "text": ""
         },
         "zerolinecolor": "#E1E5ED"
        },
        "yaxis": {
         "gridcolor": "#E1E5ED",
         "showgrid": true,
         "tickfont": {
          "color": "#4D5663"
         },
         "title": {
          "font": {
           "color": "#4D5663"
          },
          "text": ""
         },
         "zerolinecolor": "#E1E5ED"
        }
       }
      },
      "text/html": [
       "<div>                            <div id=\"d74cf8fe-b6c1-4b45-8341-57a15899aa8c\" class=\"plotly-graph-div\" style=\"height:525px; width:100%;\"></div>            <script type=\"text/javascript\">                require([\"plotly\"], function(Plotly) {                    window.PLOTLYENV=window.PLOTLYENV || {};\n",
       "                    window.PLOTLYENV.BASE_URL='https://plot.ly';                                    if (document.getElementById(\"d74cf8fe-b6c1-4b45-8341-57a15899aa8c\")) {                    Plotly.newPlot(                        \"d74cf8fe-b6c1-4b45-8341-57a15899aa8c\",                        [{\"boxpoints\":false,\"line\":{\"width\":1.3},\"marker\":{\"color\":\"rgba(255, 153, 51, 1.0)\"},\"name\":\"A\",\"orientation\":\"v\",\"y\":[-1.9755500137656816,-0.061947778504821194,1.5859026175116797,-1.2531388336614748,-0.05439570455517902,-0.6099892593578193,-0.42597212415335045,1.30054514318552,1.6745245836944143,0.16101375678398513,-0.49292541050026917,-0.11917095742151543,-0.7009747802886002,-0.47467091820681706,-0.4017079488724917,-0.42615585580718507,0.0902833090343134,-0.03383157680340645,0.25125800723855946,0.09501082946377389,0.5867512968998098,-0.4693010654392666,0.46168204660174567,0.06495267830063275,0.2681084284590157,-1.4989026795597802,1.7641427480382965,1.4859196786280577,0.1539020337302631,-0.6840507459974362,-0.13423049695369402,0.7460726140571591,-0.7550366137892188,-0.0512034730653333,-0.4748090640569612,-2.3679114992432004,-0.30779199050609957,-0.49193289903124116,-0.7649607105286698,-2.613800799990971,0.6362381962494086,-0.8198854452978208,-0.4784810420305522,-0.30559539406897873,1.7417622654227076,1.9097958194435793,0.9406674466573566,-1.2094515522929468,0.6724277066552841,0.6042558126336943,1.695812684537749,-0.8894533401640422,-1.0307224681600358,0.004523554592124752,1.9757360700018838,0.5429180447534881,-0.47199893155343664,0.4749452873600385,-0.283517983931913,-0.04096698814947355,0.968045533265399,0.8935691476562685,-0.1899689680365186,-0.5352024057664848,-0.6306762033186569,-0.8819772809327792,-0.9249869852557837,-1.2795987736093142,-1.4906513234849743,-1.100933806912293,0.4967968785061232,0.4776917332224903,0.19840480678120576,-0.5678729808054858,-0.47050311886264523,-0.6848928388732589,-0.3447172724962305,-0.23794258475612443,2.165413060815801,0.6632483590585299,2.000157263583068,-0.05164465663250612,-0.32950100556886297,0.1233413534161667,-1.024280593332221,1.6328302707578288,-0.8922019505656237,-0.19277947000847248,1.778582913528921,1.2861142967242434,0.7478696272647315,0.7044550353283147,-0.4948989732262082,2.162621138218643,-0.07173258766074306,-0.9714490326513098,-0.25668971020006276,-0.9861809495110716,-1.157103541842868,1.1992610142491917],\"type\":\"box\"},{\"boxpoints\":false,\"line\":{\"width\":1.3},\"marker\":{\"color\":\"rgba(55, 128, 191, 1.0)\"},\"name\":\"B\",\"orientation\":\"v\",\"y\":[-0.6016205567329608,-0.6867847793895484,-1.004201098081681,0.5459610858692364,-0.5134277048058766,-1.7713803666089118,0.306265766114442,-0.4673808534970285,0.47774761494497525,0.5773418911213518,-0.9716562852965338,0.5691019831236278,0.47140735466440037,0.09296487685387636,0.36346199486628045,-0.21785167686542148,0.43661427182523044,-1.1043395826762386,-0.02671525336627313,1.6340557489474088,-0.4116937959977908,0.760627438099993,-1.419951605103263,1.56554617148626,-1.0612550505986134,-0.2791022850093874,-0.6538496117164647,-0.5413662862932657,0.770850384913509,0.5112478057109159,0.444885186950138,1.3539004781978206,2.2623286874734436,-0.862557473719299,0.5541222476581766,0.4349526898898684,1.3003541024884273,-0.9334222914281395,-0.018468505151828317,0.301456771856218,0.8893522858810824,0.9676579983417197,0.40723522186669053,0.8049924749506939,-0.040571046598925915,-0.7668702851597023,1.2011848352922634,1.7413782411913143,-0.3627601644549942,0.8029425027984123,-1.2379383287509398,0.650388747065542,1.1512941141212873,0.8082910662466302,0.002804675896032924,0.040444707117679946,1.0075910275877349,1.566362282752962,1.727518610682044,0.43208798978099616,-0.37729306749409824,0.3583192853709636,2.245267346888914,-1.2931892852342348,0.49825288910292637,0.18173575684733229,-0.003765766788964723,0.788228363907951,0.14540007233038146,-2.8471785813920847,0.901525280729787,0.47931178935779756,-0.75054262406477,-0.1895272526767355,-0.16111055958515572,0.43926869577158684,-2.007298526805992,0.14872350274937846,-0.7897899064104688,-0.8739822093248697,0.8077072001297577,1.0106425845267275,-1.3871824837780988,-0.802777519106265,-0.665337553159498,-0.5965212412716,0.8824586708505167,-1.31436743946511,-0.11327313080949342,0.3357969652076104,0.7522800234797223,-1.1915982770371818,-0.6620972204720901,-1.5865209839733985,0.25954986753324477,-0.34864819900329097,0.6164677893891793,-0.006340506992387929,0.05375386835791097,-0.04750243008043119],\"type\":\"box\"},{\"boxpoints\":false,\"line\":{\"width\":1.3},\"marker\":{\"color\":\"rgba(50, 171, 96, 1.0)\"},\"name\":\"C\",\"orientation\":\"v\",\"y\":[-0.6704082264197347,-0.9712370065255008,0.4111150132211941,0.06505043483094419,0.09597347386637531,-0.17805257026137314,0.6266282123253187,-0.06944538525399793,1.0434066129333317,0.8321859041473956,0.23176254064018448,-0.36957242731347956,0.9693310064414132,-1.065613557626272,-0.08607110397003176,0.38839255569323583,-0.6766161417161143,-1.2143473333630788,1.1433139815906899,1.1489106765854245,-0.4233004052413279,-0.14674342975009205,-1.5470081603989874,0.5449565142853104,0.9436920674861845,-0.8578130086197939,-0.8706007914367132,-0.4674439125957368,0.7295679758333566,-1.5659532199503727,-0.6302577800291368,0.002036162897837701,0.08527473566789949,0.4114993953567297,0.5831547536114501,-0.8417649892373862,-0.15206125243366583,0.6558559082815361,0.4739620700333792,1.6503138194249127,0.261093633651454,1.488587165162164,0.29469611827486414,0.25496389058589275,-1.2652526156028097,-0.7532256723724051,-0.9099639520318753,1.1441345960738158,0.5949919924224334,-0.10782459485723767,0.2140567254164145,0.14147781374699772,1.0340849306590991,0.24670441031205223,0.583944717414109,-0.4151649571540205,-1.5680514211874341,1.0757553302227085,-2.196377096070879,-1.0909931476373194,-0.4456730180087001,0.22966449358967897,0.5457957358256748,0.8832981164864001,-1.1263605017015514,-0.40180359216850925,-1.232443932460566,0.26566029104465116,1.0724285813704941,0.04514430706016189,0.37813651962983186,1.1153581424377124,-0.2879208413779026,0.08049124917956914,-0.06135085527396157,-0.37693758217424916,1.1830320069813256,0.16995226333775676,1.7774620506505168,-0.8895255904170345,1.3944174805345486,-1.850060721313199,-1.3417035530645616,0.9391082966584445,0.9700589698321128,-1.604452147419455,0.6676364870219649,-1.1239638929995208,0.9866181703538464,-0.47245120246747085,0.14307948466401546,1.6194032925395008,0.28707929556088013,-2.0633114742281067,0.984871614465747,-0.0005197875955629226,1.28016775843392,0.38145099065980237,1.0181992084337197,0.0007496653025990152],\"type\":\"box\"},{\"boxpoints\":false,\"line\":{\"width\":1.3},\"marker\":{\"color\":\"rgba(128, 0, 128, 1.0)\"},\"name\":\"D\",\"orientation\":\"v\",\"y\":[-2.737247075994404,-0.371622137785998,0.4977872389088978,-0.25556722608188853,0.134844530196423,-0.9602501249253127,-0.2397917100705879,1.0344184850748666,0.8514263520822619,1.35122525523941,2.604635190520853,1.947767040875128,-1.3512387261342127,-0.9427769645828806,-2.063505088898325,-0.4870830116381731,0.25588158907185315,-1.0742236315172862,0.956877807016473,0.7333863213035633,-1.213437837026288,2.2599800326715225,-1.3391245764493112,-0.20150175200419704,-1.4517678541192687,0.1016744241682496,-1.5033897478410911,-0.1243391491925989,1.4436217338806754,-1.7133911850641386,0.26108774988306366,1.0056905498192663,-0.26248250730553535,0.24236503012727867,1.0519009772779324,0.321102619498424,-0.6304503190093411,0.8010048587525489,-0.026863296121999822,-0.6005877821544191,-0.0049922649277795465,-2.6221756364222157,-0.42984055050945774,-0.1443655516573191,-0.904478920086068,-0.07364609801508223,1.018411591964657,-0.43294602375333335,-0.5695326411619899,0.7594130903281197,-0.2006312780575331,-0.2347940580504846,0.8139954950920132,-0.8807999455752871,0.7163484752256508,0.40615245114971854,-0.8071198924710938,0.7767107762697273,-0.28877910715950894,0.8149223997578482,-0.3362381266307819,0.9522356397473453,-0.5898704926150133,-0.9772068149269224,0.737315638695283,0.34127453265489327,-0.6552094825700808,-1.6030076880442323,-1.5895923338532951,-0.012103775562117147,-0.29541678817590195,-0.12222407499725159,-1.0574075864876884,0.03501734189575078,-0.4077052603736408,0.21432227712942017,1.3691699925778178,-0.539074619860555,-0.8037180119982591,-0.7443299088773537,1.522871279279115,-0.08863780207150675,1.3100439989179171,-1.5140910484576355,1.6857952570240735,-1.9593945449784622,0.618036635263452,0.5793747989395617,-0.18701217121788372,-0.4302273446214045,-0.18418614363508462,0.48564593255997734,1.1067954050511588,-0.48813267343725975,-0.6718716102419712,-0.19220311340207014,0.6295952841880968,-0.651678727558497,1.3370584169131228,0.35362929920522856],\"type\":\"box\"}],                        {\"legend\":{\"bgcolor\":\"#F5F6F9\",\"font\":{\"color\":\"#4D5663\"}},\"paper_bgcolor\":\"#F5F6F9\",\"plot_bgcolor\":\"#F5F6F9\",\"template\":{\"data\":{\"barpolar\":[{\"marker\":{\"line\":{\"color\":\"#E5ECF6\",\"width\":0.5},\"pattern\":{\"fillmode\":\"overlay\",\"size\":10,\"solidity\":0.2}},\"type\":\"barpolar\"}],\"bar\":[{\"error_x\":{\"color\":\"#2a3f5f\"},\"error_y\":{\"color\":\"#2a3f5f\"},\"marker\":{\"line\":{\"color\":\"#E5ECF6\",\"width\":0.5},\"pattern\":{\"fillmode\":\"overlay\",\"size\":10,\"solidity\":0.2}},\"type\":\"bar\"}],\"carpet\":[{\"aaxis\":{\"endlinecolor\":\"#2a3f5f\",\"gridcolor\":\"white\",\"linecolor\":\"white\",\"minorgridcolor\":\"white\",\"startlinecolor\":\"#2a3f5f\"},\"baxis\":{\"endlinecolor\":\"#2a3f5f\",\"gridcolor\":\"white\",\"linecolor\":\"white\",\"minorgridcolor\":\"white\",\"startlinecolor\":\"#2a3f5f\"},\"type\":\"carpet\"}],\"choropleth\":[{\"colorbar\":{\"outlinewidth\":0,\"ticks\":\"\"},\"type\":\"choropleth\"}],\"contourcarpet\":[{\"colorbar\":{\"outlinewidth\":0,\"ticks\":\"\"},\"type\":\"contourcarpet\"}],\"contour\":[{\"colorbar\":{\"outlinewidth\":0,\"ticks\":\"\"},\"colorscale\":[[0.0,\"#0d0887\"],[0.1111111111111111,\"#46039f\"],[0.2222222222222222,\"#7201a8\"],[0.3333333333333333,\"#9c179e\"],[0.4444444444444444,\"#bd3786\"],[0.5555555555555556,\"#d8576b\"],[0.6666666666666666,\"#ed7953\"],[0.7777777777777778,\"#fb9f3a\"],[0.8888888888888888,\"#fdca26\"],[1.0,\"#f0f921\"]],\"type\":\"contour\"}],\"heatmapgl\":[{\"colorbar\":{\"outlinewidth\":0,\"ticks\":\"\"},\"colorscale\":[[0.0,\"#0d0887\"],[0.1111111111111111,\"#46039f\"],[0.2222222222222222,\"#7201a8\"],[0.3333333333333333,\"#9c179e\"],[0.4444444444444444,\"#bd3786\"],[0.5555555555555556,\"#d8576b\"],[0.6666666666666666,\"#ed7953\"],[0.7777777777777778,\"#fb9f3a\"],[0.8888888888888888,\"#fdca26\"],[1.0,\"#f0f921\"]],\"type\":\"heatmapgl\"}],\"heatmap\":[{\"colorbar\":{\"outlinewidth\":0,\"ticks\":\"\"},\"colorscale\":[[0.0,\"#0d0887\"],[0.1111111111111111,\"#46039f\"],[0.2222222222222222,\"#7201a8\"],[0.3333333333333333,\"#9c179e\"],[0.4444444444444444,\"#bd3786\"],[0.5555555555555556,\"#d8576b\"],[0.6666666666666666,\"#ed7953\"],[0.7777777777777778,\"#fb9f3a\"],[0.8888888888888888,\"#fdca26\"],[1.0,\"#f0f921\"]],\"type\":\"heatmap\"}],\"histogram2dcontour\":[{\"colorbar\":{\"outlinewidth\":0,\"ticks\":\"\"},\"colorscale\":[[0.0,\"#0d0887\"],[0.1111111111111111,\"#46039f\"],[0.2222222222222222,\"#7201a8\"],[0.3333333333333333,\"#9c179e\"],[0.4444444444444444,\"#bd3786\"],[0.5555555555555556,\"#d8576b\"],[0.6666666666666666,\"#ed7953\"],[0.7777777777777778,\"#fb9f3a\"],[0.8888888888888888,\"#fdca26\"],[1.0,\"#f0f921\"]],\"type\":\"histogram2dcontour\"}],\"histogram2d\":[{\"colorbar\":{\"outlinewidth\":0,\"ticks\":\"\"},\"colorscale\":[[0.0,\"#0d0887\"],[0.1111111111111111,\"#46039f\"],[0.2222222222222222,\"#7201a8\"],[0.3333333333333333,\"#9c179e\"],[0.4444444444444444,\"#bd3786\"],[0.5555555555555556,\"#d8576b\"],[0.6666666666666666,\"#ed7953\"],[0.7777777777777778,\"#fb9f3a\"],[0.8888888888888888,\"#fdca26\"],[1.0,\"#f0f921\"]],\"type\":\"histogram2d\"}],\"histogram\":[{\"marker\":{\"pattern\":{\"fillmode\":\"overlay\",\"size\":10,\"solidity\":0.2}},\"type\":\"histogram\"}],\"mesh3d\":[{\"colorbar\":{\"outlinewidth\":0,\"ticks\":\"\"},\"type\":\"mesh3d\"}],\"parcoords\":[{\"line\":{\"colorbar\":{\"outlinewidth\":0,\"ticks\":\"\"}},\"type\":\"parcoords\"}],\"pie\":[{\"automargin\":true,\"type\":\"pie\"}],\"scatter3d\":[{\"line\":{\"colorbar\":{\"outlinewidth\":0,\"ticks\":\"\"}},\"marker\":{\"colorbar\":{\"outlinewidth\":0,\"ticks\":\"\"}},\"type\":\"scatter3d\"}],\"scattercarpet\":[{\"marker\":{\"colorbar\":{\"outlinewidth\":0,\"ticks\":\"\"}},\"type\":\"scattercarpet\"}],\"scattergeo\":[{\"marker\":{\"colorbar\":{\"outlinewidth\":0,\"ticks\":\"\"}},\"type\":\"scattergeo\"}],\"scattergl\":[{\"marker\":{\"colorbar\":{\"outlinewidth\":0,\"ticks\":\"\"}},\"type\":\"scattergl\"}],\"scattermapbox\":[{\"marker\":{\"colorbar\":{\"outlinewidth\":0,\"ticks\":\"\"}},\"type\":\"scattermapbox\"}],\"scatterpolargl\":[{\"marker\":{\"colorbar\":{\"outlinewidth\":0,\"ticks\":\"\"}},\"type\":\"scatterpolargl\"}],\"scatterpolar\":[{\"marker\":{\"colorbar\":{\"outlinewidth\":0,\"ticks\":\"\"}},\"type\":\"scatterpolar\"}],\"scatter\":[{\"fillpattern\":{\"fillmode\":\"overlay\",\"size\":10,\"solidity\":0.2},\"type\":\"scatter\"}],\"scatterternary\":[{\"marker\":{\"colorbar\":{\"outlinewidth\":0,\"ticks\":\"\"}},\"type\":\"scatterternary\"}],\"surface\":[{\"colorbar\":{\"outlinewidth\":0,\"ticks\":\"\"},\"colorscale\":[[0.0,\"#0d0887\"],[0.1111111111111111,\"#46039f\"],[0.2222222222222222,\"#7201a8\"],[0.3333333333333333,\"#9c179e\"],[0.4444444444444444,\"#bd3786\"],[0.5555555555555556,\"#d8576b\"],[0.6666666666666666,\"#ed7953\"],[0.7777777777777778,\"#fb9f3a\"],[0.8888888888888888,\"#fdca26\"],[1.0,\"#f0f921\"]],\"type\":\"surface\"}],\"table\":[{\"cells\":{\"fill\":{\"color\":\"#EBF0F8\"},\"line\":{\"color\":\"white\"}},\"header\":{\"fill\":{\"color\":\"#C8D4E3\"},\"line\":{\"color\":\"white\"}},\"type\":\"table\"}]},\"layout\":{\"annotationdefaults\":{\"arrowcolor\":\"#2a3f5f\",\"arrowhead\":0,\"arrowwidth\":1},\"autotypenumbers\":\"strict\",\"coloraxis\":{\"colorbar\":{\"outlinewidth\":0,\"ticks\":\"\"}},\"colorscale\":{\"diverging\":[[0,\"#8e0152\"],[0.1,\"#c51b7d\"],[0.2,\"#de77ae\"],[0.3,\"#f1b6da\"],[0.4,\"#fde0ef\"],[0.5,\"#f7f7f7\"],[0.6,\"#e6f5d0\"],[0.7,\"#b8e186\"],[0.8,\"#7fbc41\"],[0.9,\"#4d9221\"],[1,\"#276419\"]],\"sequential\":[[0.0,\"#0d0887\"],[0.1111111111111111,\"#46039f\"],[0.2222222222222222,\"#7201a8\"],[0.3333333333333333,\"#9c179e\"],[0.4444444444444444,\"#bd3786\"],[0.5555555555555556,\"#d8576b\"],[0.6666666666666666,\"#ed7953\"],[0.7777777777777778,\"#fb9f3a\"],[0.8888888888888888,\"#fdca26\"],[1.0,\"#f0f921\"]],\"sequentialminus\":[[0.0,\"#0d0887\"],[0.1111111111111111,\"#46039f\"],[0.2222222222222222,\"#7201a8\"],[0.3333333333333333,\"#9c179e\"],[0.4444444444444444,\"#bd3786\"],[0.5555555555555556,\"#d8576b\"],[0.6666666666666666,\"#ed7953\"],[0.7777777777777778,\"#fb9f3a\"],[0.8888888888888888,\"#fdca26\"],[1.0,\"#f0f921\"]]},\"colorway\":[\"#636efa\",\"#EF553B\",\"#00cc96\",\"#ab63fa\",\"#FFA15A\",\"#19d3f3\",\"#FF6692\",\"#B6E880\",\"#FF97FF\",\"#FECB52\"],\"font\":{\"color\":\"#2a3f5f\"},\"geo\":{\"bgcolor\":\"white\",\"lakecolor\":\"white\",\"landcolor\":\"#E5ECF6\",\"showlakes\":true,\"showland\":true,\"subunitcolor\":\"white\"},\"hoverlabel\":{\"align\":\"left\"},\"hovermode\":\"closest\",\"mapbox\":{\"style\":\"light\"},\"paper_bgcolor\":\"white\",\"plot_bgcolor\":\"#E5ECF6\",\"polar\":{\"angularaxis\":{\"gridcolor\":\"white\",\"linecolor\":\"white\",\"ticks\":\"\"},\"bgcolor\":\"#E5ECF6\",\"radialaxis\":{\"gridcolor\":\"white\",\"linecolor\":\"white\",\"ticks\":\"\"}},\"scene\":{\"xaxis\":{\"backgroundcolor\":\"#E5ECF6\",\"gridcolor\":\"white\",\"gridwidth\":2,\"linecolor\":\"white\",\"showbackground\":true,\"ticks\":\"\",\"zerolinecolor\":\"white\"},\"yaxis\":{\"backgroundcolor\":\"#E5ECF6\",\"gridcolor\":\"white\",\"gridwidth\":2,\"linecolor\":\"white\",\"showbackground\":true,\"ticks\":\"\",\"zerolinecolor\":\"white\"},\"zaxis\":{\"backgroundcolor\":\"#E5ECF6\",\"gridcolor\":\"white\",\"gridwidth\":2,\"linecolor\":\"white\",\"showbackground\":true,\"ticks\":\"\",\"zerolinecolor\":\"white\"}},\"shapedefaults\":{\"line\":{\"color\":\"#2a3f5f\"}},\"ternary\":{\"aaxis\":{\"gridcolor\":\"white\",\"linecolor\":\"white\",\"ticks\":\"\"},\"baxis\":{\"gridcolor\":\"white\",\"linecolor\":\"white\",\"ticks\":\"\"},\"bgcolor\":\"#E5ECF6\",\"caxis\":{\"gridcolor\":\"white\",\"linecolor\":\"white\",\"ticks\":\"\"}},\"title\":{\"x\":0.05},\"xaxis\":{\"automargin\":true,\"gridcolor\":\"white\",\"linecolor\":\"white\",\"ticks\":\"\",\"title\":{\"standoff\":15},\"zerolinecolor\":\"white\",\"zerolinewidth\":2},\"yaxis\":{\"automargin\":true,\"gridcolor\":\"white\",\"linecolor\":\"white\",\"ticks\":\"\",\"title\":{\"standoff\":15},\"zerolinecolor\":\"white\",\"zerolinewidth\":2}}},\"title\":{\"font\":{\"color\":\"#4D5663\"}},\"xaxis\":{\"gridcolor\":\"#E1E5ED\",\"showgrid\":true,\"tickfont\":{\"color\":\"#4D5663\"},\"title\":{\"font\":{\"color\":\"#4D5663\"},\"text\":\"\"},\"zerolinecolor\":\"#E1E5ED\"},\"yaxis\":{\"gridcolor\":\"#E1E5ED\",\"showgrid\":true,\"tickfont\":{\"color\":\"#4D5663\"},\"title\":{\"font\":{\"color\":\"#4D5663\"},\"text\":\"\"},\"zerolinecolor\":\"#E1E5ED\"}},                        {\"showLink\": true, \"linkText\": \"Export to plot.ly\", \"plotlyServerURL\": \"https://plot.ly\", \"responsive\": true}                    ).then(function(){\n",
       "                            \n",
       "var gd = document.getElementById('d74cf8fe-b6c1-4b45-8341-57a15899aa8c');\n",
       "var x = new MutationObserver(function (mutations, observer) {{\n",
       "        var display = window.getComputedStyle(gd).display;\n",
       "        if (!display || display === 'none') {{\n",
       "            console.log([gd, 'removed!']);\n",
       "            Plotly.purge(gd);\n",
       "            observer.disconnect();\n",
       "        }}\n",
       "}});\n",
       "\n",
       "// Listen for the removal of the full notebook cells\n",
       "var notebookContainer = gd.closest('#notebook-container');\n",
       "if (notebookContainer) {{\n",
       "    x.observe(notebookContainer, {childList: true});\n",
       "}}\n",
       "\n",
       "// Listen for the clearing of the current output cell\n",
       "var outputEl = gd.closest('.output');\n",
       "if (outputEl) {{\n",
       "    x.observe(outputEl, {childList: true});\n",
       "}}\n",
       "\n",
       "                        })                };                });            </script>        </div>"
      ]
     },
     "metadata": {},
     "output_type": "display_data"
    }
   ],
   "source": [
    "df.iplot(kind='box')"
   ]
  },
  {
   "cell_type": "code",
   "execution_count": 33,
   "id": "b8c0d905",
   "metadata": {},
   "outputs": [],
   "source": [
    "df3=pd.DataFrame({'x':[1,2,3,4,5],'y':[10,20,30,40,50],'z':[500,400,300,200,100]})"
   ]
  },
  {
   "cell_type": "code",
   "execution_count": 34,
   "id": "7323930b",
   "metadata": {},
   "outputs": [
    {
     "data": {
      "text/html": [
       "<div>\n",
       "<style scoped>\n",
       "    .dataframe tbody tr th:only-of-type {\n",
       "        vertical-align: middle;\n",
       "    }\n",
       "\n",
       "    .dataframe tbody tr th {\n",
       "        vertical-align: top;\n",
       "    }\n",
       "\n",
       "    .dataframe thead th {\n",
       "        text-align: right;\n",
       "    }\n",
       "</style>\n",
       "<table border=\"1\" class=\"dataframe\">\n",
       "  <thead>\n",
       "    <tr style=\"text-align: right;\">\n",
       "      <th></th>\n",
       "      <th>x</th>\n",
       "      <th>y</th>\n",
       "      <th>z</th>\n",
       "    </tr>\n",
       "  </thead>\n",
       "  <tbody>\n",
       "    <tr>\n",
       "      <th>0</th>\n",
       "      <td>1</td>\n",
       "      <td>10</td>\n",
       "      <td>500</td>\n",
       "    </tr>\n",
       "    <tr>\n",
       "      <th>1</th>\n",
       "      <td>2</td>\n",
       "      <td>20</td>\n",
       "      <td>400</td>\n",
       "    </tr>\n",
       "    <tr>\n",
       "      <th>2</th>\n",
       "      <td>3</td>\n",
       "      <td>30</td>\n",
       "      <td>300</td>\n",
       "    </tr>\n",
       "    <tr>\n",
       "      <th>3</th>\n",
       "      <td>4</td>\n",
       "      <td>40</td>\n",
       "      <td>200</td>\n",
       "    </tr>\n",
       "    <tr>\n",
       "      <th>4</th>\n",
       "      <td>5</td>\n",
       "      <td>50</td>\n",
       "      <td>100</td>\n",
       "    </tr>\n",
       "  </tbody>\n",
       "</table>\n",
       "</div>"
      ],
      "text/plain": [
       "   x   y    z\n",
       "0  1  10  500\n",
       "1  2  20  400\n",
       "2  3  30  300\n",
       "3  4  40  200\n",
       "4  5  50  100"
      ]
     },
     "execution_count": 34,
     "metadata": {},
     "output_type": "execute_result"
    }
   ],
   "source": [
    "df3"
   ]
  },
  {
   "cell_type": "code",
   "execution_count": 35,
   "id": "c8fd5900",
   "metadata": {},
   "outputs": [
    {
     "data": {
      "application/vnd.plotly.v1+json": {
       "config": {
        "linkText": "Export to plot.ly",
        "plotlyServerURL": "https://plot.ly",
        "showLink": true
       },
       "data": [
        {
         "colorscale": [
          [
           0,
           "rgb(255, 153, 51)"
          ],
          [
           0.1111111111111111,
           "rgb(55, 128, 191)"
          ],
          [
           0.2222222222222222,
           "rgb(50, 171, 96)"
          ],
          [
           0.3333333333333333,
           "rgb(128, 0, 128)"
          ],
          [
           0.4444444444444444,
           "rgb(219, 64, 82)"
          ],
          [
           0.5555555555555556,
           "rgb(0, 128, 128)"
          ],
          [
           0.6666666666666666,
           "rgb(255, 255, 51)"
          ],
          [
           0.7777777777777778,
           "rgb(128, 128, 0)"
          ],
          [
           0.8888888888888888,
           "rgb(251, 128, 114)"
          ],
          [
           1,
           "rgb(128, 177, 211)"
          ]
         ],
         "type": "surface",
         "x": [
          0,
          1,
          2,
          3,
          4
         ],
         "y": [
          "x",
          "y",
          "z"
         ],
         "z": [
          [
           1,
           2,
           3,
           4,
           5
          ],
          [
           10,
           20,
           30,
           40,
           50
          ],
          [
           500,
           400,
           300,
           200,
           100
          ]
         ]
        }
       ],
       "layout": {
        "legend": {
         "bgcolor": "#F5F6F9",
         "font": {
          "color": "#4D5663"
         }
        },
        "paper_bgcolor": "#F5F6F9",
        "plot_bgcolor": "#F5F6F9",
        "template": {
         "data": {
          "bar": [
           {
            "error_x": {
             "color": "#2a3f5f"
            },
            "error_y": {
             "color": "#2a3f5f"
            },
            "marker": {
             "line": {
              "color": "#E5ECF6",
              "width": 0.5
             },
             "pattern": {
              "fillmode": "overlay",
              "size": 10,
              "solidity": 0.2
             }
            },
            "type": "bar"
           }
          ],
          "barpolar": [
           {
            "marker": {
             "line": {
              "color": "#E5ECF6",
              "width": 0.5
             },
             "pattern": {
              "fillmode": "overlay",
              "size": 10,
              "solidity": 0.2
             }
            },
            "type": "barpolar"
           }
          ],
          "carpet": [
           {
            "aaxis": {
             "endlinecolor": "#2a3f5f",
             "gridcolor": "white",
             "linecolor": "white",
             "minorgridcolor": "white",
             "startlinecolor": "#2a3f5f"
            },
            "baxis": {
             "endlinecolor": "#2a3f5f",
             "gridcolor": "white",
             "linecolor": "white",
             "minorgridcolor": "white",
             "startlinecolor": "#2a3f5f"
            },
            "type": "carpet"
           }
          ],
          "choropleth": [
           {
            "colorbar": {
             "outlinewidth": 0,
             "ticks": ""
            },
            "type": "choropleth"
           }
          ],
          "contour": [
           {
            "colorbar": {
             "outlinewidth": 0,
             "ticks": ""
            },
            "colorscale": [
             [
              0,
              "#0d0887"
             ],
             [
              0.1111111111111111,
              "#46039f"
             ],
             [
              0.2222222222222222,
              "#7201a8"
             ],
             [
              0.3333333333333333,
              "#9c179e"
             ],
             [
              0.4444444444444444,
              "#bd3786"
             ],
             [
              0.5555555555555556,
              "#d8576b"
             ],
             [
              0.6666666666666666,
              "#ed7953"
             ],
             [
              0.7777777777777778,
              "#fb9f3a"
             ],
             [
              0.8888888888888888,
              "#fdca26"
             ],
             [
              1,
              "#f0f921"
             ]
            ],
            "type": "contour"
           }
          ],
          "contourcarpet": [
           {
            "colorbar": {
             "outlinewidth": 0,
             "ticks": ""
            },
            "type": "contourcarpet"
           }
          ],
          "heatmap": [
           {
            "colorbar": {
             "outlinewidth": 0,
             "ticks": ""
            },
            "colorscale": [
             [
              0,
              "#0d0887"
             ],
             [
              0.1111111111111111,
              "#46039f"
             ],
             [
              0.2222222222222222,
              "#7201a8"
             ],
             [
              0.3333333333333333,
              "#9c179e"
             ],
             [
              0.4444444444444444,
              "#bd3786"
             ],
             [
              0.5555555555555556,
              "#d8576b"
             ],
             [
              0.6666666666666666,
              "#ed7953"
             ],
             [
              0.7777777777777778,
              "#fb9f3a"
             ],
             [
              0.8888888888888888,
              "#fdca26"
             ],
             [
              1,
              "#f0f921"
             ]
            ],
            "type": "heatmap"
           }
          ],
          "heatmapgl": [
           {
            "colorbar": {
             "outlinewidth": 0,
             "ticks": ""
            },
            "colorscale": [
             [
              0,
              "#0d0887"
             ],
             [
              0.1111111111111111,
              "#46039f"
             ],
             [
              0.2222222222222222,
              "#7201a8"
             ],
             [
              0.3333333333333333,
              "#9c179e"
             ],
             [
              0.4444444444444444,
              "#bd3786"
             ],
             [
              0.5555555555555556,
              "#d8576b"
             ],
             [
              0.6666666666666666,
              "#ed7953"
             ],
             [
              0.7777777777777778,
              "#fb9f3a"
             ],
             [
              0.8888888888888888,
              "#fdca26"
             ],
             [
              1,
              "#f0f921"
             ]
            ],
            "type": "heatmapgl"
           }
          ],
          "histogram": [
           {
            "marker": {
             "pattern": {
              "fillmode": "overlay",
              "size": 10,
              "solidity": 0.2
             }
            },
            "type": "histogram"
           }
          ],
          "histogram2d": [
           {
            "colorbar": {
             "outlinewidth": 0,
             "ticks": ""
            },
            "colorscale": [
             [
              0,
              "#0d0887"
             ],
             [
              0.1111111111111111,
              "#46039f"
             ],
             [
              0.2222222222222222,
              "#7201a8"
             ],
             [
              0.3333333333333333,
              "#9c179e"
             ],
             [
              0.4444444444444444,
              "#bd3786"
             ],
             [
              0.5555555555555556,
              "#d8576b"
             ],
             [
              0.6666666666666666,
              "#ed7953"
             ],
             [
              0.7777777777777778,
              "#fb9f3a"
             ],
             [
              0.8888888888888888,
              "#fdca26"
             ],
             [
              1,
              "#f0f921"
             ]
            ],
            "type": "histogram2d"
           }
          ],
          "histogram2dcontour": [
           {
            "colorbar": {
             "outlinewidth": 0,
             "ticks": ""
            },
            "colorscale": [
             [
              0,
              "#0d0887"
             ],
             [
              0.1111111111111111,
              "#46039f"
             ],
             [
              0.2222222222222222,
              "#7201a8"
             ],
             [
              0.3333333333333333,
              "#9c179e"
             ],
             [
              0.4444444444444444,
              "#bd3786"
             ],
             [
              0.5555555555555556,
              "#d8576b"
             ],
             [
              0.6666666666666666,
              "#ed7953"
             ],
             [
              0.7777777777777778,
              "#fb9f3a"
             ],
             [
              0.8888888888888888,
              "#fdca26"
             ],
             [
              1,
              "#f0f921"
             ]
            ],
            "type": "histogram2dcontour"
           }
          ],
          "mesh3d": [
           {
            "colorbar": {
             "outlinewidth": 0,
             "ticks": ""
            },
            "type": "mesh3d"
           }
          ],
          "parcoords": [
           {
            "line": {
             "colorbar": {
              "outlinewidth": 0,
              "ticks": ""
             }
            },
            "type": "parcoords"
           }
          ],
          "pie": [
           {
            "automargin": true,
            "type": "pie"
           }
          ],
          "scatter": [
           {
            "fillpattern": {
             "fillmode": "overlay",
             "size": 10,
             "solidity": 0.2
            },
            "type": "scatter"
           }
          ],
          "scatter3d": [
           {
            "line": {
             "colorbar": {
              "outlinewidth": 0,
              "ticks": ""
             }
            },
            "marker": {
             "colorbar": {
              "outlinewidth": 0,
              "ticks": ""
             }
            },
            "type": "scatter3d"
           }
          ],
          "scattercarpet": [
           {
            "marker": {
             "colorbar": {
              "outlinewidth": 0,
              "ticks": ""
             }
            },
            "type": "scattercarpet"
           }
          ],
          "scattergeo": [
           {
            "marker": {
             "colorbar": {
              "outlinewidth": 0,
              "ticks": ""
             }
            },
            "type": "scattergeo"
           }
          ],
          "scattergl": [
           {
            "marker": {
             "colorbar": {
              "outlinewidth": 0,
              "ticks": ""
             }
            },
            "type": "scattergl"
           }
          ],
          "scattermapbox": [
           {
            "marker": {
             "colorbar": {
              "outlinewidth": 0,
              "ticks": ""
             }
            },
            "type": "scattermapbox"
           }
          ],
          "scatterpolar": [
           {
            "marker": {
             "colorbar": {
              "outlinewidth": 0,
              "ticks": ""
             }
            },
            "type": "scatterpolar"
           }
          ],
          "scatterpolargl": [
           {
            "marker": {
             "colorbar": {
              "outlinewidth": 0,
              "ticks": ""
             }
            },
            "type": "scatterpolargl"
           }
          ],
          "scatterternary": [
           {
            "marker": {
             "colorbar": {
              "outlinewidth": 0,
              "ticks": ""
             }
            },
            "type": "scatterternary"
           }
          ],
          "surface": [
           {
            "colorbar": {
             "outlinewidth": 0,
             "ticks": ""
            },
            "colorscale": [
             [
              0,
              "#0d0887"
             ],
             [
              0.1111111111111111,
              "#46039f"
             ],
             [
              0.2222222222222222,
              "#7201a8"
             ],
             [
              0.3333333333333333,
              "#9c179e"
             ],
             [
              0.4444444444444444,
              "#bd3786"
             ],
             [
              0.5555555555555556,
              "#d8576b"
             ],
             [
              0.6666666666666666,
              "#ed7953"
             ],
             [
              0.7777777777777778,
              "#fb9f3a"
             ],
             [
              0.8888888888888888,
              "#fdca26"
             ],
             [
              1,
              "#f0f921"
             ]
            ],
            "type": "surface"
           }
          ],
          "table": [
           {
            "cells": {
             "fill": {
              "color": "#EBF0F8"
             },
             "line": {
              "color": "white"
             }
            },
            "header": {
             "fill": {
              "color": "#C8D4E3"
             },
             "line": {
              "color": "white"
             }
            },
            "type": "table"
           }
          ]
         },
         "layout": {
          "annotationdefaults": {
           "arrowcolor": "#2a3f5f",
           "arrowhead": 0,
           "arrowwidth": 1
          },
          "autotypenumbers": "strict",
          "coloraxis": {
           "colorbar": {
            "outlinewidth": 0,
            "ticks": ""
           }
          },
          "colorscale": {
           "diverging": [
            [
             0,
             "#8e0152"
            ],
            [
             0.1,
             "#c51b7d"
            ],
            [
             0.2,
             "#de77ae"
            ],
            [
             0.3,
             "#f1b6da"
            ],
            [
             0.4,
             "#fde0ef"
            ],
            [
             0.5,
             "#f7f7f7"
            ],
            [
             0.6,
             "#e6f5d0"
            ],
            [
             0.7,
             "#b8e186"
            ],
            [
             0.8,
             "#7fbc41"
            ],
            [
             0.9,
             "#4d9221"
            ],
            [
             1,
             "#276419"
            ]
           ],
           "sequential": [
            [
             0,
             "#0d0887"
            ],
            [
             0.1111111111111111,
             "#46039f"
            ],
            [
             0.2222222222222222,
             "#7201a8"
            ],
            [
             0.3333333333333333,
             "#9c179e"
            ],
            [
             0.4444444444444444,
             "#bd3786"
            ],
            [
             0.5555555555555556,
             "#d8576b"
            ],
            [
             0.6666666666666666,
             "#ed7953"
            ],
            [
             0.7777777777777778,
             "#fb9f3a"
            ],
            [
             0.8888888888888888,
             "#fdca26"
            ],
            [
             1,
             "#f0f921"
            ]
           ],
           "sequentialminus": [
            [
             0,
             "#0d0887"
            ],
            [
             0.1111111111111111,
             "#46039f"
            ],
            [
             0.2222222222222222,
             "#7201a8"
            ],
            [
             0.3333333333333333,
             "#9c179e"
            ],
            [
             0.4444444444444444,
             "#bd3786"
            ],
            [
             0.5555555555555556,
             "#d8576b"
            ],
            [
             0.6666666666666666,
             "#ed7953"
            ],
            [
             0.7777777777777778,
             "#fb9f3a"
            ],
            [
             0.8888888888888888,
             "#fdca26"
            ],
            [
             1,
             "#f0f921"
            ]
           ]
          },
          "colorway": [
           "#636efa",
           "#EF553B",
           "#00cc96",
           "#ab63fa",
           "#FFA15A",
           "#19d3f3",
           "#FF6692",
           "#B6E880",
           "#FF97FF",
           "#FECB52"
          ],
          "font": {
           "color": "#2a3f5f"
          },
          "geo": {
           "bgcolor": "white",
           "lakecolor": "white",
           "landcolor": "#E5ECF6",
           "showlakes": true,
           "showland": true,
           "subunitcolor": "white"
          },
          "hoverlabel": {
           "align": "left"
          },
          "hovermode": "closest",
          "mapbox": {
           "style": "light"
          },
          "paper_bgcolor": "white",
          "plot_bgcolor": "#E5ECF6",
          "polar": {
           "angularaxis": {
            "gridcolor": "white",
            "linecolor": "white",
            "ticks": ""
           },
           "bgcolor": "#E5ECF6",
           "radialaxis": {
            "gridcolor": "white",
            "linecolor": "white",
            "ticks": ""
           }
          },
          "scene": {
           "xaxis": {
            "backgroundcolor": "#E5ECF6",
            "gridcolor": "white",
            "gridwidth": 2,
            "linecolor": "white",
            "showbackground": true,
            "ticks": "",
            "zerolinecolor": "white"
           },
           "yaxis": {
            "backgroundcolor": "#E5ECF6",
            "gridcolor": "white",
            "gridwidth": 2,
            "linecolor": "white",
            "showbackground": true,
            "ticks": "",
            "zerolinecolor": "white"
           },
           "zaxis": {
            "backgroundcolor": "#E5ECF6",
            "gridcolor": "white",
            "gridwidth": 2,
            "linecolor": "white",
            "showbackground": true,
            "ticks": "",
            "zerolinecolor": "white"
           }
          },
          "shapedefaults": {
           "line": {
            "color": "#2a3f5f"
           }
          },
          "ternary": {
           "aaxis": {
            "gridcolor": "white",
            "linecolor": "white",
            "ticks": ""
           },
           "baxis": {
            "gridcolor": "white",
            "linecolor": "white",
            "ticks": ""
           },
           "bgcolor": "#E5ECF6",
           "caxis": {
            "gridcolor": "white",
            "linecolor": "white",
            "ticks": ""
           }
          },
          "title": {
           "x": 0.05
          },
          "xaxis": {
           "automargin": true,
           "gridcolor": "white",
           "linecolor": "white",
           "ticks": "",
           "title": {
            "standoff": 15
           },
           "zerolinecolor": "white",
           "zerolinewidth": 2
          },
          "yaxis": {
           "automargin": true,
           "gridcolor": "white",
           "linecolor": "white",
           "ticks": "",
           "title": {
            "standoff": 15
           },
           "zerolinecolor": "white",
           "zerolinewidth": 2
          }
         }
        },
        "title": {
         "font": {
          "color": "#4D5663"
         }
        },
        "xaxis": {
         "gridcolor": "#E1E5ED",
         "showgrid": true,
         "tickfont": {
          "color": "#4D5663"
         },
         "title": {
          "font": {
           "color": "#4D5663"
          },
          "text": ""
         },
         "zerolinecolor": "#E1E5ED"
        },
        "yaxis": {
         "gridcolor": "#E1E5ED",
         "showgrid": true,
         "tickfont": {
          "color": "#4D5663"
         },
         "title": {
          "font": {
           "color": "#4D5663"
          },
          "text": ""
         },
         "zerolinecolor": "#E1E5ED"
        }
       }
      },
      "text/html": [
       "<div>                            <div id=\"09dd4582-60d4-4d68-8047-ff0e645990c5\" class=\"plotly-graph-div\" style=\"height:525px; width:100%;\"></div>            <script type=\"text/javascript\">                require([\"plotly\"], function(Plotly) {                    window.PLOTLYENV=window.PLOTLYENV || {};\n",
       "                    window.PLOTLYENV.BASE_URL='https://plot.ly';                                    if (document.getElementById(\"09dd4582-60d4-4d68-8047-ff0e645990c5\")) {                    Plotly.newPlot(                        \"09dd4582-60d4-4d68-8047-ff0e645990c5\",                        [{\"colorscale\":[[0.0,\"rgb(255, 153, 51)\"],[0.1111111111111111,\"rgb(55, 128, 191)\"],[0.2222222222222222,\"rgb(50, 171, 96)\"],[0.3333333333333333,\"rgb(128, 0, 128)\"],[0.4444444444444444,\"rgb(219, 64, 82)\"],[0.5555555555555556,\"rgb(0, 128, 128)\"],[0.6666666666666666,\"rgb(255, 255, 51)\"],[0.7777777777777778,\"rgb(128, 128, 0)\"],[0.8888888888888888,\"rgb(251, 128, 114)\"],[1.0,\"rgb(128, 177, 211)\"]],\"x\":[0,1,2,3,4],\"y\":[\"x\",\"y\",\"z\"],\"z\":[[1,2,3,4,5],[10,20,30,40,50],[500,400,300,200,100]],\"type\":\"surface\"}],                        {\"legend\":{\"bgcolor\":\"#F5F6F9\",\"font\":{\"color\":\"#4D5663\"}},\"paper_bgcolor\":\"#F5F6F9\",\"plot_bgcolor\":\"#F5F6F9\",\"template\":{\"data\":{\"barpolar\":[{\"marker\":{\"line\":{\"color\":\"#E5ECF6\",\"width\":0.5},\"pattern\":{\"fillmode\":\"overlay\",\"size\":10,\"solidity\":0.2}},\"type\":\"barpolar\"}],\"bar\":[{\"error_x\":{\"color\":\"#2a3f5f\"},\"error_y\":{\"color\":\"#2a3f5f\"},\"marker\":{\"line\":{\"color\":\"#E5ECF6\",\"width\":0.5},\"pattern\":{\"fillmode\":\"overlay\",\"size\":10,\"solidity\":0.2}},\"type\":\"bar\"}],\"carpet\":[{\"aaxis\":{\"endlinecolor\":\"#2a3f5f\",\"gridcolor\":\"white\",\"linecolor\":\"white\",\"minorgridcolor\":\"white\",\"startlinecolor\":\"#2a3f5f\"},\"baxis\":{\"endlinecolor\":\"#2a3f5f\",\"gridcolor\":\"white\",\"linecolor\":\"white\",\"minorgridcolor\":\"white\",\"startlinecolor\":\"#2a3f5f\"},\"type\":\"carpet\"}],\"choropleth\":[{\"colorbar\":{\"outlinewidth\":0,\"ticks\":\"\"},\"type\":\"choropleth\"}],\"contourcarpet\":[{\"colorbar\":{\"outlinewidth\":0,\"ticks\":\"\"},\"type\":\"contourcarpet\"}],\"contour\":[{\"colorbar\":{\"outlinewidth\":0,\"ticks\":\"\"},\"colorscale\":[[0.0,\"#0d0887\"],[0.1111111111111111,\"#46039f\"],[0.2222222222222222,\"#7201a8\"],[0.3333333333333333,\"#9c179e\"],[0.4444444444444444,\"#bd3786\"],[0.5555555555555556,\"#d8576b\"],[0.6666666666666666,\"#ed7953\"],[0.7777777777777778,\"#fb9f3a\"],[0.8888888888888888,\"#fdca26\"],[1.0,\"#f0f921\"]],\"type\":\"contour\"}],\"heatmapgl\":[{\"colorbar\":{\"outlinewidth\":0,\"ticks\":\"\"},\"colorscale\":[[0.0,\"#0d0887\"],[0.1111111111111111,\"#46039f\"],[0.2222222222222222,\"#7201a8\"],[0.3333333333333333,\"#9c179e\"],[0.4444444444444444,\"#bd3786\"],[0.5555555555555556,\"#d8576b\"],[0.6666666666666666,\"#ed7953\"],[0.7777777777777778,\"#fb9f3a\"],[0.8888888888888888,\"#fdca26\"],[1.0,\"#f0f921\"]],\"type\":\"heatmapgl\"}],\"heatmap\":[{\"colorbar\":{\"outlinewidth\":0,\"ticks\":\"\"},\"colorscale\":[[0.0,\"#0d0887\"],[0.1111111111111111,\"#46039f\"],[0.2222222222222222,\"#7201a8\"],[0.3333333333333333,\"#9c179e\"],[0.4444444444444444,\"#bd3786\"],[0.5555555555555556,\"#d8576b\"],[0.6666666666666666,\"#ed7953\"],[0.7777777777777778,\"#fb9f3a\"],[0.8888888888888888,\"#fdca26\"],[1.0,\"#f0f921\"]],\"type\":\"heatmap\"}],\"histogram2dcontour\":[{\"colorbar\":{\"outlinewidth\":0,\"ticks\":\"\"},\"colorscale\":[[0.0,\"#0d0887\"],[0.1111111111111111,\"#46039f\"],[0.2222222222222222,\"#7201a8\"],[0.3333333333333333,\"#9c179e\"],[0.4444444444444444,\"#bd3786\"],[0.5555555555555556,\"#d8576b\"],[0.6666666666666666,\"#ed7953\"],[0.7777777777777778,\"#fb9f3a\"],[0.8888888888888888,\"#fdca26\"],[1.0,\"#f0f921\"]],\"type\":\"histogram2dcontour\"}],\"histogram2d\":[{\"colorbar\":{\"outlinewidth\":0,\"ticks\":\"\"},\"colorscale\":[[0.0,\"#0d0887\"],[0.1111111111111111,\"#46039f\"],[0.2222222222222222,\"#7201a8\"],[0.3333333333333333,\"#9c179e\"],[0.4444444444444444,\"#bd3786\"],[0.5555555555555556,\"#d8576b\"],[0.6666666666666666,\"#ed7953\"],[0.7777777777777778,\"#fb9f3a\"],[0.8888888888888888,\"#fdca26\"],[1.0,\"#f0f921\"]],\"type\":\"histogram2d\"}],\"histogram\":[{\"marker\":{\"pattern\":{\"fillmode\":\"overlay\",\"size\":10,\"solidity\":0.2}},\"type\":\"histogram\"}],\"mesh3d\":[{\"colorbar\":{\"outlinewidth\":0,\"ticks\":\"\"},\"type\":\"mesh3d\"}],\"parcoords\":[{\"line\":{\"colorbar\":{\"outlinewidth\":0,\"ticks\":\"\"}},\"type\":\"parcoords\"}],\"pie\":[{\"automargin\":true,\"type\":\"pie\"}],\"scatter3d\":[{\"line\":{\"colorbar\":{\"outlinewidth\":0,\"ticks\":\"\"}},\"marker\":{\"colorbar\":{\"outlinewidth\":0,\"ticks\":\"\"}},\"type\":\"scatter3d\"}],\"scattercarpet\":[{\"marker\":{\"colorbar\":{\"outlinewidth\":0,\"ticks\":\"\"}},\"type\":\"scattercarpet\"}],\"scattergeo\":[{\"marker\":{\"colorbar\":{\"outlinewidth\":0,\"ticks\":\"\"}},\"type\":\"scattergeo\"}],\"scattergl\":[{\"marker\":{\"colorbar\":{\"outlinewidth\":0,\"ticks\":\"\"}},\"type\":\"scattergl\"}],\"scattermapbox\":[{\"marker\":{\"colorbar\":{\"outlinewidth\":0,\"ticks\":\"\"}},\"type\":\"scattermapbox\"}],\"scatterpolargl\":[{\"marker\":{\"colorbar\":{\"outlinewidth\":0,\"ticks\":\"\"}},\"type\":\"scatterpolargl\"}],\"scatterpolar\":[{\"marker\":{\"colorbar\":{\"outlinewidth\":0,\"ticks\":\"\"}},\"type\":\"scatterpolar\"}],\"scatter\":[{\"fillpattern\":{\"fillmode\":\"overlay\",\"size\":10,\"solidity\":0.2},\"type\":\"scatter\"}],\"scatterternary\":[{\"marker\":{\"colorbar\":{\"outlinewidth\":0,\"ticks\":\"\"}},\"type\":\"scatterternary\"}],\"surface\":[{\"colorbar\":{\"outlinewidth\":0,\"ticks\":\"\"},\"colorscale\":[[0.0,\"#0d0887\"],[0.1111111111111111,\"#46039f\"],[0.2222222222222222,\"#7201a8\"],[0.3333333333333333,\"#9c179e\"],[0.4444444444444444,\"#bd3786\"],[0.5555555555555556,\"#d8576b\"],[0.6666666666666666,\"#ed7953\"],[0.7777777777777778,\"#fb9f3a\"],[0.8888888888888888,\"#fdca26\"],[1.0,\"#f0f921\"]],\"type\":\"surface\"}],\"table\":[{\"cells\":{\"fill\":{\"color\":\"#EBF0F8\"},\"line\":{\"color\":\"white\"}},\"header\":{\"fill\":{\"color\":\"#C8D4E3\"},\"line\":{\"color\":\"white\"}},\"type\":\"table\"}]},\"layout\":{\"annotationdefaults\":{\"arrowcolor\":\"#2a3f5f\",\"arrowhead\":0,\"arrowwidth\":1},\"autotypenumbers\":\"strict\",\"coloraxis\":{\"colorbar\":{\"outlinewidth\":0,\"ticks\":\"\"}},\"colorscale\":{\"diverging\":[[0,\"#8e0152\"],[0.1,\"#c51b7d\"],[0.2,\"#de77ae\"],[0.3,\"#f1b6da\"],[0.4,\"#fde0ef\"],[0.5,\"#f7f7f7\"],[0.6,\"#e6f5d0\"],[0.7,\"#b8e186\"],[0.8,\"#7fbc41\"],[0.9,\"#4d9221\"],[1,\"#276419\"]],\"sequential\":[[0.0,\"#0d0887\"],[0.1111111111111111,\"#46039f\"],[0.2222222222222222,\"#7201a8\"],[0.3333333333333333,\"#9c179e\"],[0.4444444444444444,\"#bd3786\"],[0.5555555555555556,\"#d8576b\"],[0.6666666666666666,\"#ed7953\"],[0.7777777777777778,\"#fb9f3a\"],[0.8888888888888888,\"#fdca26\"],[1.0,\"#f0f921\"]],\"sequentialminus\":[[0.0,\"#0d0887\"],[0.1111111111111111,\"#46039f\"],[0.2222222222222222,\"#7201a8\"],[0.3333333333333333,\"#9c179e\"],[0.4444444444444444,\"#bd3786\"],[0.5555555555555556,\"#d8576b\"],[0.6666666666666666,\"#ed7953\"],[0.7777777777777778,\"#fb9f3a\"],[0.8888888888888888,\"#fdca26\"],[1.0,\"#f0f921\"]]},\"colorway\":[\"#636efa\",\"#EF553B\",\"#00cc96\",\"#ab63fa\",\"#FFA15A\",\"#19d3f3\",\"#FF6692\",\"#B6E880\",\"#FF97FF\",\"#FECB52\"],\"font\":{\"color\":\"#2a3f5f\"},\"geo\":{\"bgcolor\":\"white\",\"lakecolor\":\"white\",\"landcolor\":\"#E5ECF6\",\"showlakes\":true,\"showland\":true,\"subunitcolor\":\"white\"},\"hoverlabel\":{\"align\":\"left\"},\"hovermode\":\"closest\",\"mapbox\":{\"style\":\"light\"},\"paper_bgcolor\":\"white\",\"plot_bgcolor\":\"#E5ECF6\",\"polar\":{\"angularaxis\":{\"gridcolor\":\"white\",\"linecolor\":\"white\",\"ticks\":\"\"},\"bgcolor\":\"#E5ECF6\",\"radialaxis\":{\"gridcolor\":\"white\",\"linecolor\":\"white\",\"ticks\":\"\"}},\"scene\":{\"xaxis\":{\"backgroundcolor\":\"#E5ECF6\",\"gridcolor\":\"white\",\"gridwidth\":2,\"linecolor\":\"white\",\"showbackground\":true,\"ticks\":\"\",\"zerolinecolor\":\"white\"},\"yaxis\":{\"backgroundcolor\":\"#E5ECF6\",\"gridcolor\":\"white\",\"gridwidth\":2,\"linecolor\":\"white\",\"showbackground\":true,\"ticks\":\"\",\"zerolinecolor\":\"white\"},\"zaxis\":{\"backgroundcolor\":\"#E5ECF6\",\"gridcolor\":\"white\",\"gridwidth\":2,\"linecolor\":\"white\",\"showbackground\":true,\"ticks\":\"\",\"zerolinecolor\":\"white\"}},\"shapedefaults\":{\"line\":{\"color\":\"#2a3f5f\"}},\"ternary\":{\"aaxis\":{\"gridcolor\":\"white\",\"linecolor\":\"white\",\"ticks\":\"\"},\"baxis\":{\"gridcolor\":\"white\",\"linecolor\":\"white\",\"ticks\":\"\"},\"bgcolor\":\"#E5ECF6\",\"caxis\":{\"gridcolor\":\"white\",\"linecolor\":\"white\",\"ticks\":\"\"}},\"title\":{\"x\":0.05},\"xaxis\":{\"automargin\":true,\"gridcolor\":\"white\",\"linecolor\":\"white\",\"ticks\":\"\",\"title\":{\"standoff\":15},\"zerolinecolor\":\"white\",\"zerolinewidth\":2},\"yaxis\":{\"automargin\":true,\"gridcolor\":\"white\",\"linecolor\":\"white\",\"ticks\":\"\",\"title\":{\"standoff\":15},\"zerolinecolor\":\"white\",\"zerolinewidth\":2}}},\"title\":{\"font\":{\"color\":\"#4D5663\"}},\"xaxis\":{\"gridcolor\":\"#E1E5ED\",\"showgrid\":true,\"tickfont\":{\"color\":\"#4D5663\"},\"title\":{\"font\":{\"color\":\"#4D5663\"},\"text\":\"\"},\"zerolinecolor\":\"#E1E5ED\"},\"yaxis\":{\"gridcolor\":\"#E1E5ED\",\"showgrid\":true,\"tickfont\":{\"color\":\"#4D5663\"},\"title\":{\"font\":{\"color\":\"#4D5663\"},\"text\":\"\"},\"zerolinecolor\":\"#E1E5ED\"}},                        {\"showLink\": true, \"linkText\": \"Export to plot.ly\", \"plotlyServerURL\": \"https://plot.ly\", \"responsive\": true}                    ).then(function(){\n",
       "                            \n",
       "var gd = document.getElementById('09dd4582-60d4-4d68-8047-ff0e645990c5');\n",
       "var x = new MutationObserver(function (mutations, observer) {{\n",
       "        var display = window.getComputedStyle(gd).display;\n",
       "        if (!display || display === 'none') {{\n",
       "            console.log([gd, 'removed!']);\n",
       "            Plotly.purge(gd);\n",
       "            observer.disconnect();\n",
       "        }}\n",
       "}});\n",
       "\n",
       "// Listen for the removal of the full notebook cells\n",
       "var notebookContainer = gd.closest('#notebook-container');\n",
       "if (notebookContainer) {{\n",
       "    x.observe(notebookContainer, {childList: true});\n",
       "}}\n",
       "\n",
       "// Listen for the clearing of the current output cell\n",
       "var outputEl = gd.closest('.output');\n",
       "if (outputEl) {{\n",
       "    x.observe(outputEl, {childList: true});\n",
       "}}\n",
       "\n",
       "                        })                };                });            </script>        </div>"
      ]
     },
     "metadata": {},
     "output_type": "display_data"
    }
   ],
   "source": [
    "df3.iplot(kind='surface')"
   ]
  },
  {
   "cell_type": "code",
   "execution_count": 36,
   "id": "4606d4c5",
   "metadata": {},
   "outputs": [],
   "source": [
    "df3=pd.DataFrame({'x':[1,2,3,4,5],'y':[10,20,30,40,50],'z':[5,4,3,2,1]})"
   ]
  },
  {
   "cell_type": "code",
   "execution_count": 39,
   "id": "475c6e0d",
   "metadata": {},
   "outputs": [
    {
     "data": {
      "application/vnd.plotly.v1+json": {
       "config": {
        "linkText": "Export to plot.ly",
        "plotlyServerURL": "https://plot.ly",
        "showLink": true
       },
       "data": [
        {
         "colorscale": [
          [
           0,
           "rgb(165,0,38)"
          ],
          [
           0.1,
           "rgb(215,48,39)"
          ],
          [
           0.2,
           "rgb(244,109,67)"
          ],
          [
           0.3,
           "rgb(253,174,97)"
          ],
          [
           0.4,
           "rgb(254,224,144)"
          ],
          [
           0.5,
           "rgb(255,255,191)"
          ],
          [
           0.6,
           "rgb(224,243,248)"
          ],
          [
           0.7,
           "rgb(171,217,233)"
          ],
          [
           0.8,
           "rgb(116,173,209)"
          ],
          [
           0.9,
           "rgb(69,117,180)"
          ],
          [
           1,
           "rgb(49,54,149)"
          ]
         ],
         "type": "surface",
         "x": [
          0,
          1,
          2,
          3,
          4
         ],
         "y": [
          "x",
          "y",
          "z"
         ],
         "z": [
          [
           1,
           2,
           3,
           4,
           5
          ],
          [
           10,
           20,
           30,
           40,
           50
          ],
          [
           5,
           4,
           3,
           2,
           1
          ]
         ]
        }
       ],
       "layout": {
        "legend": {
         "bgcolor": "#F5F6F9",
         "font": {
          "color": "#4D5663"
         }
        },
        "paper_bgcolor": "#F5F6F9",
        "plot_bgcolor": "#F5F6F9",
        "template": {
         "data": {
          "bar": [
           {
            "error_x": {
             "color": "#2a3f5f"
            },
            "error_y": {
             "color": "#2a3f5f"
            },
            "marker": {
             "line": {
              "color": "#E5ECF6",
              "width": 0.5
             },
             "pattern": {
              "fillmode": "overlay",
              "size": 10,
              "solidity": 0.2
             }
            },
            "type": "bar"
           }
          ],
          "barpolar": [
           {
            "marker": {
             "line": {
              "color": "#E5ECF6",
              "width": 0.5
             },
             "pattern": {
              "fillmode": "overlay",
              "size": 10,
              "solidity": 0.2
             }
            },
            "type": "barpolar"
           }
          ],
          "carpet": [
           {
            "aaxis": {
             "endlinecolor": "#2a3f5f",
             "gridcolor": "white",
             "linecolor": "white",
             "minorgridcolor": "white",
             "startlinecolor": "#2a3f5f"
            },
            "baxis": {
             "endlinecolor": "#2a3f5f",
             "gridcolor": "white",
             "linecolor": "white",
             "minorgridcolor": "white",
             "startlinecolor": "#2a3f5f"
            },
            "type": "carpet"
           }
          ],
          "choropleth": [
           {
            "colorbar": {
             "outlinewidth": 0,
             "ticks": ""
            },
            "type": "choropleth"
           }
          ],
          "contour": [
           {
            "colorbar": {
             "outlinewidth": 0,
             "ticks": ""
            },
            "colorscale": [
             [
              0,
              "#0d0887"
             ],
             [
              0.1111111111111111,
              "#46039f"
             ],
             [
              0.2222222222222222,
              "#7201a8"
             ],
             [
              0.3333333333333333,
              "#9c179e"
             ],
             [
              0.4444444444444444,
              "#bd3786"
             ],
             [
              0.5555555555555556,
              "#d8576b"
             ],
             [
              0.6666666666666666,
              "#ed7953"
             ],
             [
              0.7777777777777778,
              "#fb9f3a"
             ],
             [
              0.8888888888888888,
              "#fdca26"
             ],
             [
              1,
              "#f0f921"
             ]
            ],
            "type": "contour"
           }
          ],
          "contourcarpet": [
           {
            "colorbar": {
             "outlinewidth": 0,
             "ticks": ""
            },
            "type": "contourcarpet"
           }
          ],
          "heatmap": [
           {
            "colorbar": {
             "outlinewidth": 0,
             "ticks": ""
            },
            "colorscale": [
             [
              0,
              "#0d0887"
             ],
             [
              0.1111111111111111,
              "#46039f"
             ],
             [
              0.2222222222222222,
              "#7201a8"
             ],
             [
              0.3333333333333333,
              "#9c179e"
             ],
             [
              0.4444444444444444,
              "#bd3786"
             ],
             [
              0.5555555555555556,
              "#d8576b"
             ],
             [
              0.6666666666666666,
              "#ed7953"
             ],
             [
              0.7777777777777778,
              "#fb9f3a"
             ],
             [
              0.8888888888888888,
              "#fdca26"
             ],
             [
              1,
              "#f0f921"
             ]
            ],
            "type": "heatmap"
           }
          ],
          "heatmapgl": [
           {
            "colorbar": {
             "outlinewidth": 0,
             "ticks": ""
            },
            "colorscale": [
             [
              0,
              "#0d0887"
             ],
             [
              0.1111111111111111,
              "#46039f"
             ],
             [
              0.2222222222222222,
              "#7201a8"
             ],
             [
              0.3333333333333333,
              "#9c179e"
             ],
             [
              0.4444444444444444,
              "#bd3786"
             ],
             [
              0.5555555555555556,
              "#d8576b"
             ],
             [
              0.6666666666666666,
              "#ed7953"
             ],
             [
              0.7777777777777778,
              "#fb9f3a"
             ],
             [
              0.8888888888888888,
              "#fdca26"
             ],
             [
              1,
              "#f0f921"
             ]
            ],
            "type": "heatmapgl"
           }
          ],
          "histogram": [
           {
            "marker": {
             "pattern": {
              "fillmode": "overlay",
              "size": 10,
              "solidity": 0.2
             }
            },
            "type": "histogram"
           }
          ],
          "histogram2d": [
           {
            "colorbar": {
             "outlinewidth": 0,
             "ticks": ""
            },
            "colorscale": [
             [
              0,
              "#0d0887"
             ],
             [
              0.1111111111111111,
              "#46039f"
             ],
             [
              0.2222222222222222,
              "#7201a8"
             ],
             [
              0.3333333333333333,
              "#9c179e"
             ],
             [
              0.4444444444444444,
              "#bd3786"
             ],
             [
              0.5555555555555556,
              "#d8576b"
             ],
             [
              0.6666666666666666,
              "#ed7953"
             ],
             [
              0.7777777777777778,
              "#fb9f3a"
             ],
             [
              0.8888888888888888,
              "#fdca26"
             ],
             [
              1,
              "#f0f921"
             ]
            ],
            "type": "histogram2d"
           }
          ],
          "histogram2dcontour": [
           {
            "colorbar": {
             "outlinewidth": 0,
             "ticks": ""
            },
            "colorscale": [
             [
              0,
              "#0d0887"
             ],
             [
              0.1111111111111111,
              "#46039f"
             ],
             [
              0.2222222222222222,
              "#7201a8"
             ],
             [
              0.3333333333333333,
              "#9c179e"
             ],
             [
              0.4444444444444444,
              "#bd3786"
             ],
             [
              0.5555555555555556,
              "#d8576b"
             ],
             [
              0.6666666666666666,
              "#ed7953"
             ],
             [
              0.7777777777777778,
              "#fb9f3a"
             ],
             [
              0.8888888888888888,
              "#fdca26"
             ],
             [
              1,
              "#f0f921"
             ]
            ],
            "type": "histogram2dcontour"
           }
          ],
          "mesh3d": [
           {
            "colorbar": {
             "outlinewidth": 0,
             "ticks": ""
            },
            "type": "mesh3d"
           }
          ],
          "parcoords": [
           {
            "line": {
             "colorbar": {
              "outlinewidth": 0,
              "ticks": ""
             }
            },
            "type": "parcoords"
           }
          ],
          "pie": [
           {
            "automargin": true,
            "type": "pie"
           }
          ],
          "scatter": [
           {
            "fillpattern": {
             "fillmode": "overlay",
             "size": 10,
             "solidity": 0.2
            },
            "type": "scatter"
           }
          ],
          "scatter3d": [
           {
            "line": {
             "colorbar": {
              "outlinewidth": 0,
              "ticks": ""
             }
            },
            "marker": {
             "colorbar": {
              "outlinewidth": 0,
              "ticks": ""
             }
            },
            "type": "scatter3d"
           }
          ],
          "scattercarpet": [
           {
            "marker": {
             "colorbar": {
              "outlinewidth": 0,
              "ticks": ""
             }
            },
            "type": "scattercarpet"
           }
          ],
          "scattergeo": [
           {
            "marker": {
             "colorbar": {
              "outlinewidth": 0,
              "ticks": ""
             }
            },
            "type": "scattergeo"
           }
          ],
          "scattergl": [
           {
            "marker": {
             "colorbar": {
              "outlinewidth": 0,
              "ticks": ""
             }
            },
            "type": "scattergl"
           }
          ],
          "scattermapbox": [
           {
            "marker": {
             "colorbar": {
              "outlinewidth": 0,
              "ticks": ""
             }
            },
            "type": "scattermapbox"
           }
          ],
          "scatterpolar": [
           {
            "marker": {
             "colorbar": {
              "outlinewidth": 0,
              "ticks": ""
             }
            },
            "type": "scatterpolar"
           }
          ],
          "scatterpolargl": [
           {
            "marker": {
             "colorbar": {
              "outlinewidth": 0,
              "ticks": ""
             }
            },
            "type": "scatterpolargl"
           }
          ],
          "scatterternary": [
           {
            "marker": {
             "colorbar": {
              "outlinewidth": 0,
              "ticks": ""
             }
            },
            "type": "scatterternary"
           }
          ],
          "surface": [
           {
            "colorbar": {
             "outlinewidth": 0,
             "ticks": ""
            },
            "colorscale": [
             [
              0,
              "#0d0887"
             ],
             [
              0.1111111111111111,
              "#46039f"
             ],
             [
              0.2222222222222222,
              "#7201a8"
             ],
             [
              0.3333333333333333,
              "#9c179e"
             ],
             [
              0.4444444444444444,
              "#bd3786"
             ],
             [
              0.5555555555555556,
              "#d8576b"
             ],
             [
              0.6666666666666666,
              "#ed7953"
             ],
             [
              0.7777777777777778,
              "#fb9f3a"
             ],
             [
              0.8888888888888888,
              "#fdca26"
             ],
             [
              1,
              "#f0f921"
             ]
            ],
            "type": "surface"
           }
          ],
          "table": [
           {
            "cells": {
             "fill": {
              "color": "#EBF0F8"
             },
             "line": {
              "color": "white"
             }
            },
            "header": {
             "fill": {
              "color": "#C8D4E3"
             },
             "line": {
              "color": "white"
             }
            },
            "type": "table"
           }
          ]
         },
         "layout": {
          "annotationdefaults": {
           "arrowcolor": "#2a3f5f",
           "arrowhead": 0,
           "arrowwidth": 1
          },
          "autotypenumbers": "strict",
          "coloraxis": {
           "colorbar": {
            "outlinewidth": 0,
            "ticks": ""
           }
          },
          "colorscale": {
           "diverging": [
            [
             0,
             "#8e0152"
            ],
            [
             0.1,
             "#c51b7d"
            ],
            [
             0.2,
             "#de77ae"
            ],
            [
             0.3,
             "#f1b6da"
            ],
            [
             0.4,
             "#fde0ef"
            ],
            [
             0.5,
             "#f7f7f7"
            ],
            [
             0.6,
             "#e6f5d0"
            ],
            [
             0.7,
             "#b8e186"
            ],
            [
             0.8,
             "#7fbc41"
            ],
            [
             0.9,
             "#4d9221"
            ],
            [
             1,
             "#276419"
            ]
           ],
           "sequential": [
            [
             0,
             "#0d0887"
            ],
            [
             0.1111111111111111,
             "#46039f"
            ],
            [
             0.2222222222222222,
             "#7201a8"
            ],
            [
             0.3333333333333333,
             "#9c179e"
            ],
            [
             0.4444444444444444,
             "#bd3786"
            ],
            [
             0.5555555555555556,
             "#d8576b"
            ],
            [
             0.6666666666666666,
             "#ed7953"
            ],
            [
             0.7777777777777778,
             "#fb9f3a"
            ],
            [
             0.8888888888888888,
             "#fdca26"
            ],
            [
             1,
             "#f0f921"
            ]
           ],
           "sequentialminus": [
            [
             0,
             "#0d0887"
            ],
            [
             0.1111111111111111,
             "#46039f"
            ],
            [
             0.2222222222222222,
             "#7201a8"
            ],
            [
             0.3333333333333333,
             "#9c179e"
            ],
            [
             0.4444444444444444,
             "#bd3786"
            ],
            [
             0.5555555555555556,
             "#d8576b"
            ],
            [
             0.6666666666666666,
             "#ed7953"
            ],
            [
             0.7777777777777778,
             "#fb9f3a"
            ],
            [
             0.8888888888888888,
             "#fdca26"
            ],
            [
             1,
             "#f0f921"
            ]
           ]
          },
          "colorway": [
           "#636efa",
           "#EF553B",
           "#00cc96",
           "#ab63fa",
           "#FFA15A",
           "#19d3f3",
           "#FF6692",
           "#B6E880",
           "#FF97FF",
           "#FECB52"
          ],
          "font": {
           "color": "#2a3f5f"
          },
          "geo": {
           "bgcolor": "white",
           "lakecolor": "white",
           "landcolor": "#E5ECF6",
           "showlakes": true,
           "showland": true,
           "subunitcolor": "white"
          },
          "hoverlabel": {
           "align": "left"
          },
          "hovermode": "closest",
          "mapbox": {
           "style": "light"
          },
          "paper_bgcolor": "white",
          "plot_bgcolor": "#E5ECF6",
          "polar": {
           "angularaxis": {
            "gridcolor": "white",
            "linecolor": "white",
            "ticks": ""
           },
           "bgcolor": "#E5ECF6",
           "radialaxis": {
            "gridcolor": "white",
            "linecolor": "white",
            "ticks": ""
           }
          },
          "scene": {
           "xaxis": {
            "backgroundcolor": "#E5ECF6",
            "gridcolor": "white",
            "gridwidth": 2,
            "linecolor": "white",
            "showbackground": true,
            "ticks": "",
            "zerolinecolor": "white"
           },
           "yaxis": {
            "backgroundcolor": "#E5ECF6",
            "gridcolor": "white",
            "gridwidth": 2,
            "linecolor": "white",
            "showbackground": true,
            "ticks": "",
            "zerolinecolor": "white"
           },
           "zaxis": {
            "backgroundcolor": "#E5ECF6",
            "gridcolor": "white",
            "gridwidth": 2,
            "linecolor": "white",
            "showbackground": true,
            "ticks": "",
            "zerolinecolor": "white"
           }
          },
          "shapedefaults": {
           "line": {
            "color": "#2a3f5f"
           }
          },
          "ternary": {
           "aaxis": {
            "gridcolor": "white",
            "linecolor": "white",
            "ticks": ""
           },
           "baxis": {
            "gridcolor": "white",
            "linecolor": "white",
            "ticks": ""
           },
           "bgcolor": "#E5ECF6",
           "caxis": {
            "gridcolor": "white",
            "linecolor": "white",
            "ticks": ""
           }
          },
          "title": {
           "x": 0.05
          },
          "xaxis": {
           "automargin": true,
           "gridcolor": "white",
           "linecolor": "white",
           "ticks": "",
           "title": {
            "standoff": 15
           },
           "zerolinecolor": "white",
           "zerolinewidth": 2
          },
          "yaxis": {
           "automargin": true,
           "gridcolor": "white",
           "linecolor": "white",
           "ticks": "",
           "title": {
            "standoff": 15
           },
           "zerolinecolor": "white",
           "zerolinewidth": 2
          }
         }
        },
        "title": {
         "font": {
          "color": "#4D5663"
         }
        },
        "xaxis": {
         "gridcolor": "#E1E5ED",
         "showgrid": true,
         "tickfont": {
          "color": "#4D5663"
         },
         "title": {
          "font": {
           "color": "#4D5663"
          },
          "text": ""
         },
         "zerolinecolor": "#E1E5ED"
        },
        "yaxis": {
         "gridcolor": "#E1E5ED",
         "showgrid": true,
         "tickfont": {
          "color": "#4D5663"
         },
         "title": {
          "font": {
           "color": "#4D5663"
          },
          "text": ""
         },
         "zerolinecolor": "#E1E5ED"
        }
       }
      },
      "text/html": [
       "<div>                            <div id=\"fd868366-b2b3-4e71-9b43-84d32bc8607a\" class=\"plotly-graph-div\" style=\"height:525px; width:100%;\"></div>            <script type=\"text/javascript\">                require([\"plotly\"], function(Plotly) {                    window.PLOTLYENV=window.PLOTLYENV || {};\n",
       "                    window.PLOTLYENV.BASE_URL='https://plot.ly';                                    if (document.getElementById(\"fd868366-b2b3-4e71-9b43-84d32bc8607a\")) {                    Plotly.newPlot(                        \"fd868366-b2b3-4e71-9b43-84d32bc8607a\",                        [{\"colorscale\":[[0.0,\"rgb(165,0,38)\"],[0.1,\"rgb(215,48,39)\"],[0.2,\"rgb(244,109,67)\"],[0.3,\"rgb(253,174,97)\"],[0.4,\"rgb(254,224,144)\"],[0.5,\"rgb(255,255,191)\"],[0.6,\"rgb(224,243,248)\"],[0.7,\"rgb(171,217,233)\"],[0.8,\"rgb(116,173,209)\"],[0.9,\"rgb(69,117,180)\"],[1.0,\"rgb(49,54,149)\"]],\"x\":[0,1,2,3,4],\"y\":[\"x\",\"y\",\"z\"],\"z\":[[1,2,3,4,5],[10,20,30,40,50],[5,4,3,2,1]],\"type\":\"surface\"}],                        {\"legend\":{\"bgcolor\":\"#F5F6F9\",\"font\":{\"color\":\"#4D5663\"}},\"paper_bgcolor\":\"#F5F6F9\",\"plot_bgcolor\":\"#F5F6F9\",\"template\":{\"data\":{\"barpolar\":[{\"marker\":{\"line\":{\"color\":\"#E5ECF6\",\"width\":0.5},\"pattern\":{\"fillmode\":\"overlay\",\"size\":10,\"solidity\":0.2}},\"type\":\"barpolar\"}],\"bar\":[{\"error_x\":{\"color\":\"#2a3f5f\"},\"error_y\":{\"color\":\"#2a3f5f\"},\"marker\":{\"line\":{\"color\":\"#E5ECF6\",\"width\":0.5},\"pattern\":{\"fillmode\":\"overlay\",\"size\":10,\"solidity\":0.2}},\"type\":\"bar\"}],\"carpet\":[{\"aaxis\":{\"endlinecolor\":\"#2a3f5f\",\"gridcolor\":\"white\",\"linecolor\":\"white\",\"minorgridcolor\":\"white\",\"startlinecolor\":\"#2a3f5f\"},\"baxis\":{\"endlinecolor\":\"#2a3f5f\",\"gridcolor\":\"white\",\"linecolor\":\"white\",\"minorgridcolor\":\"white\",\"startlinecolor\":\"#2a3f5f\"},\"type\":\"carpet\"}],\"choropleth\":[{\"colorbar\":{\"outlinewidth\":0,\"ticks\":\"\"},\"type\":\"choropleth\"}],\"contourcarpet\":[{\"colorbar\":{\"outlinewidth\":0,\"ticks\":\"\"},\"type\":\"contourcarpet\"}],\"contour\":[{\"colorbar\":{\"outlinewidth\":0,\"ticks\":\"\"},\"colorscale\":[[0.0,\"#0d0887\"],[0.1111111111111111,\"#46039f\"],[0.2222222222222222,\"#7201a8\"],[0.3333333333333333,\"#9c179e\"],[0.4444444444444444,\"#bd3786\"],[0.5555555555555556,\"#d8576b\"],[0.6666666666666666,\"#ed7953\"],[0.7777777777777778,\"#fb9f3a\"],[0.8888888888888888,\"#fdca26\"],[1.0,\"#f0f921\"]],\"type\":\"contour\"}],\"heatmapgl\":[{\"colorbar\":{\"outlinewidth\":0,\"ticks\":\"\"},\"colorscale\":[[0.0,\"#0d0887\"],[0.1111111111111111,\"#46039f\"],[0.2222222222222222,\"#7201a8\"],[0.3333333333333333,\"#9c179e\"],[0.4444444444444444,\"#bd3786\"],[0.5555555555555556,\"#d8576b\"],[0.6666666666666666,\"#ed7953\"],[0.7777777777777778,\"#fb9f3a\"],[0.8888888888888888,\"#fdca26\"],[1.0,\"#f0f921\"]],\"type\":\"heatmapgl\"}],\"heatmap\":[{\"colorbar\":{\"outlinewidth\":0,\"ticks\":\"\"},\"colorscale\":[[0.0,\"#0d0887\"],[0.1111111111111111,\"#46039f\"],[0.2222222222222222,\"#7201a8\"],[0.3333333333333333,\"#9c179e\"],[0.4444444444444444,\"#bd3786\"],[0.5555555555555556,\"#d8576b\"],[0.6666666666666666,\"#ed7953\"],[0.7777777777777778,\"#fb9f3a\"],[0.8888888888888888,\"#fdca26\"],[1.0,\"#f0f921\"]],\"type\":\"heatmap\"}],\"histogram2dcontour\":[{\"colorbar\":{\"outlinewidth\":0,\"ticks\":\"\"},\"colorscale\":[[0.0,\"#0d0887\"],[0.1111111111111111,\"#46039f\"],[0.2222222222222222,\"#7201a8\"],[0.3333333333333333,\"#9c179e\"],[0.4444444444444444,\"#bd3786\"],[0.5555555555555556,\"#d8576b\"],[0.6666666666666666,\"#ed7953\"],[0.7777777777777778,\"#fb9f3a\"],[0.8888888888888888,\"#fdca26\"],[1.0,\"#f0f921\"]],\"type\":\"histogram2dcontour\"}],\"histogram2d\":[{\"colorbar\":{\"outlinewidth\":0,\"ticks\":\"\"},\"colorscale\":[[0.0,\"#0d0887\"],[0.1111111111111111,\"#46039f\"],[0.2222222222222222,\"#7201a8\"],[0.3333333333333333,\"#9c179e\"],[0.4444444444444444,\"#bd3786\"],[0.5555555555555556,\"#d8576b\"],[0.6666666666666666,\"#ed7953\"],[0.7777777777777778,\"#fb9f3a\"],[0.8888888888888888,\"#fdca26\"],[1.0,\"#f0f921\"]],\"type\":\"histogram2d\"}],\"histogram\":[{\"marker\":{\"pattern\":{\"fillmode\":\"overlay\",\"size\":10,\"solidity\":0.2}},\"type\":\"histogram\"}],\"mesh3d\":[{\"colorbar\":{\"outlinewidth\":0,\"ticks\":\"\"},\"type\":\"mesh3d\"}],\"parcoords\":[{\"line\":{\"colorbar\":{\"outlinewidth\":0,\"ticks\":\"\"}},\"type\":\"parcoords\"}],\"pie\":[{\"automargin\":true,\"type\":\"pie\"}],\"scatter3d\":[{\"line\":{\"colorbar\":{\"outlinewidth\":0,\"ticks\":\"\"}},\"marker\":{\"colorbar\":{\"outlinewidth\":0,\"ticks\":\"\"}},\"type\":\"scatter3d\"}],\"scattercarpet\":[{\"marker\":{\"colorbar\":{\"outlinewidth\":0,\"ticks\":\"\"}},\"type\":\"scattercarpet\"}],\"scattergeo\":[{\"marker\":{\"colorbar\":{\"outlinewidth\":0,\"ticks\":\"\"}},\"type\":\"scattergeo\"}],\"scattergl\":[{\"marker\":{\"colorbar\":{\"outlinewidth\":0,\"ticks\":\"\"}},\"type\":\"scattergl\"}],\"scattermapbox\":[{\"marker\":{\"colorbar\":{\"outlinewidth\":0,\"ticks\":\"\"}},\"type\":\"scattermapbox\"}],\"scatterpolargl\":[{\"marker\":{\"colorbar\":{\"outlinewidth\":0,\"ticks\":\"\"}},\"type\":\"scatterpolargl\"}],\"scatterpolar\":[{\"marker\":{\"colorbar\":{\"outlinewidth\":0,\"ticks\":\"\"}},\"type\":\"scatterpolar\"}],\"scatter\":[{\"fillpattern\":{\"fillmode\":\"overlay\",\"size\":10,\"solidity\":0.2},\"type\":\"scatter\"}],\"scatterternary\":[{\"marker\":{\"colorbar\":{\"outlinewidth\":0,\"ticks\":\"\"}},\"type\":\"scatterternary\"}],\"surface\":[{\"colorbar\":{\"outlinewidth\":0,\"ticks\":\"\"},\"colorscale\":[[0.0,\"#0d0887\"],[0.1111111111111111,\"#46039f\"],[0.2222222222222222,\"#7201a8\"],[0.3333333333333333,\"#9c179e\"],[0.4444444444444444,\"#bd3786\"],[0.5555555555555556,\"#d8576b\"],[0.6666666666666666,\"#ed7953\"],[0.7777777777777778,\"#fb9f3a\"],[0.8888888888888888,\"#fdca26\"],[1.0,\"#f0f921\"]],\"type\":\"surface\"}],\"table\":[{\"cells\":{\"fill\":{\"color\":\"#EBF0F8\"},\"line\":{\"color\":\"white\"}},\"header\":{\"fill\":{\"color\":\"#C8D4E3\"},\"line\":{\"color\":\"white\"}},\"type\":\"table\"}]},\"layout\":{\"annotationdefaults\":{\"arrowcolor\":\"#2a3f5f\",\"arrowhead\":0,\"arrowwidth\":1},\"autotypenumbers\":\"strict\",\"coloraxis\":{\"colorbar\":{\"outlinewidth\":0,\"ticks\":\"\"}},\"colorscale\":{\"diverging\":[[0,\"#8e0152\"],[0.1,\"#c51b7d\"],[0.2,\"#de77ae\"],[0.3,\"#f1b6da\"],[0.4,\"#fde0ef\"],[0.5,\"#f7f7f7\"],[0.6,\"#e6f5d0\"],[0.7,\"#b8e186\"],[0.8,\"#7fbc41\"],[0.9,\"#4d9221\"],[1,\"#276419\"]],\"sequential\":[[0.0,\"#0d0887\"],[0.1111111111111111,\"#46039f\"],[0.2222222222222222,\"#7201a8\"],[0.3333333333333333,\"#9c179e\"],[0.4444444444444444,\"#bd3786\"],[0.5555555555555556,\"#d8576b\"],[0.6666666666666666,\"#ed7953\"],[0.7777777777777778,\"#fb9f3a\"],[0.8888888888888888,\"#fdca26\"],[1.0,\"#f0f921\"]],\"sequentialminus\":[[0.0,\"#0d0887\"],[0.1111111111111111,\"#46039f\"],[0.2222222222222222,\"#7201a8\"],[0.3333333333333333,\"#9c179e\"],[0.4444444444444444,\"#bd3786\"],[0.5555555555555556,\"#d8576b\"],[0.6666666666666666,\"#ed7953\"],[0.7777777777777778,\"#fb9f3a\"],[0.8888888888888888,\"#fdca26\"],[1.0,\"#f0f921\"]]},\"colorway\":[\"#636efa\",\"#EF553B\",\"#00cc96\",\"#ab63fa\",\"#FFA15A\",\"#19d3f3\",\"#FF6692\",\"#B6E880\",\"#FF97FF\",\"#FECB52\"],\"font\":{\"color\":\"#2a3f5f\"},\"geo\":{\"bgcolor\":\"white\",\"lakecolor\":\"white\",\"landcolor\":\"#E5ECF6\",\"showlakes\":true,\"showland\":true,\"subunitcolor\":\"white\"},\"hoverlabel\":{\"align\":\"left\"},\"hovermode\":\"closest\",\"mapbox\":{\"style\":\"light\"},\"paper_bgcolor\":\"white\",\"plot_bgcolor\":\"#E5ECF6\",\"polar\":{\"angularaxis\":{\"gridcolor\":\"white\",\"linecolor\":\"white\",\"ticks\":\"\"},\"bgcolor\":\"#E5ECF6\",\"radialaxis\":{\"gridcolor\":\"white\",\"linecolor\":\"white\",\"ticks\":\"\"}},\"scene\":{\"xaxis\":{\"backgroundcolor\":\"#E5ECF6\",\"gridcolor\":\"white\",\"gridwidth\":2,\"linecolor\":\"white\",\"showbackground\":true,\"ticks\":\"\",\"zerolinecolor\":\"white\"},\"yaxis\":{\"backgroundcolor\":\"#E5ECF6\",\"gridcolor\":\"white\",\"gridwidth\":2,\"linecolor\":\"white\",\"showbackground\":true,\"ticks\":\"\",\"zerolinecolor\":\"white\"},\"zaxis\":{\"backgroundcolor\":\"#E5ECF6\",\"gridcolor\":\"white\",\"gridwidth\":2,\"linecolor\":\"white\",\"showbackground\":true,\"ticks\":\"\",\"zerolinecolor\":\"white\"}},\"shapedefaults\":{\"line\":{\"color\":\"#2a3f5f\"}},\"ternary\":{\"aaxis\":{\"gridcolor\":\"white\",\"linecolor\":\"white\",\"ticks\":\"\"},\"baxis\":{\"gridcolor\":\"white\",\"linecolor\":\"white\",\"ticks\":\"\"},\"bgcolor\":\"#E5ECF6\",\"caxis\":{\"gridcolor\":\"white\",\"linecolor\":\"white\",\"ticks\":\"\"}},\"title\":{\"x\":0.05},\"xaxis\":{\"automargin\":true,\"gridcolor\":\"white\",\"linecolor\":\"white\",\"ticks\":\"\",\"title\":{\"standoff\":15},\"zerolinecolor\":\"white\",\"zerolinewidth\":2},\"yaxis\":{\"automargin\":true,\"gridcolor\":\"white\",\"linecolor\":\"white\",\"ticks\":\"\",\"title\":{\"standoff\":15},\"zerolinecolor\":\"white\",\"zerolinewidth\":2}}},\"title\":{\"font\":{\"color\":\"#4D5663\"}},\"xaxis\":{\"gridcolor\":\"#E1E5ED\",\"showgrid\":true,\"tickfont\":{\"color\":\"#4D5663\"},\"title\":{\"font\":{\"color\":\"#4D5663\"},\"text\":\"\"},\"zerolinecolor\":\"#E1E5ED\"},\"yaxis\":{\"gridcolor\":\"#E1E5ED\",\"showgrid\":true,\"tickfont\":{\"color\":\"#4D5663\"},\"title\":{\"font\":{\"color\":\"#4D5663\"},\"text\":\"\"},\"zerolinecolor\":\"#E1E5ED\"}},                        {\"showLink\": true, \"linkText\": \"Export to plot.ly\", \"plotlyServerURL\": \"https://plot.ly\", \"responsive\": true}                    ).then(function(){\n",
       "                            \n",
       "var gd = document.getElementById('fd868366-b2b3-4e71-9b43-84d32bc8607a');\n",
       "var x = new MutationObserver(function (mutations, observer) {{\n",
       "        var display = window.getComputedStyle(gd).display;\n",
       "        if (!display || display === 'none') {{\n",
       "            console.log([gd, 'removed!']);\n",
       "            Plotly.purge(gd);\n",
       "            observer.disconnect();\n",
       "        }}\n",
       "}});\n",
       "\n",
       "// Listen for the removal of the full notebook cells\n",
       "var notebookContainer = gd.closest('#notebook-container');\n",
       "if (notebookContainer) {{\n",
       "    x.observe(notebookContainer, {childList: true});\n",
       "}}\n",
       "\n",
       "// Listen for the clearing of the current output cell\n",
       "var outputEl = gd.closest('.output');\n",
       "if (outputEl) {{\n",
       "    x.observe(outputEl, {childList: true});\n",
       "}}\n",
       "\n",
       "                        })                };                });            </script>        </div>"
      ]
     },
     "metadata": {},
     "output_type": "display_data"
    }
   ],
   "source": [
    "df3.iplot(kind='surface',colorscale='rdylbu')"
   ]
  },
  {
   "cell_type": "code",
   "execution_count": 41,
   "id": "99c2a360",
   "metadata": {},
   "outputs": [
    {
     "data": {
      "application/vnd.plotly.v1+json": {
       "config": {
        "linkText": "Export to plot.ly",
        "plotlyServerURL": "https://plot.ly",
        "showLink": true
       },
       "data": [
        {
         "histfunc": "count",
         "histnorm": "",
         "marker": {
          "color": "rgba(255, 153, 51, 1.0)",
          "line": {
           "color": "#4D5663",
           "width": 1.3
          }
         },
         "name": "A",
         "nbinsx": 50,
         "opacity": 0.8,
         "orientation": "v",
         "type": "histogram",
         "x": [
          -1.9755500137656816,
          -0.061947778504821194,
          1.5859026175116797,
          -1.2531388336614748,
          -0.05439570455517902,
          -0.6099892593578193,
          -0.42597212415335045,
          1.30054514318552,
          1.6745245836944143,
          0.16101375678398513,
          -0.49292541050026917,
          -0.11917095742151543,
          -0.7009747802886002,
          -0.47467091820681706,
          -0.4017079488724917,
          -0.42615585580718507,
          0.0902833090343134,
          -0.03383157680340645,
          0.25125800723855946,
          0.09501082946377389,
          0.5867512968998098,
          -0.4693010654392666,
          0.46168204660174567,
          0.06495267830063275,
          0.2681084284590157,
          -1.4989026795597802,
          1.7641427480382965,
          1.4859196786280577,
          0.1539020337302631,
          -0.6840507459974362,
          -0.13423049695369402,
          0.7460726140571591,
          -0.7550366137892188,
          -0.0512034730653333,
          -0.4748090640569612,
          -2.3679114992432004,
          -0.30779199050609957,
          -0.49193289903124116,
          -0.7649607105286698,
          -2.613800799990971,
          0.6362381962494086,
          -0.8198854452978208,
          -0.4784810420305522,
          -0.30559539406897873,
          1.7417622654227076,
          1.9097958194435793,
          0.9406674466573566,
          -1.2094515522929468,
          0.6724277066552841,
          0.6042558126336943,
          1.695812684537749,
          -0.8894533401640422,
          -1.0307224681600358,
          0.004523554592124752,
          1.9757360700018838,
          0.5429180447534881,
          -0.47199893155343664,
          0.4749452873600385,
          -0.283517983931913,
          -0.04096698814947355,
          0.968045533265399,
          0.8935691476562685,
          -0.1899689680365186,
          -0.5352024057664848,
          -0.6306762033186569,
          -0.8819772809327792,
          -0.9249869852557837,
          -1.2795987736093142,
          -1.4906513234849743,
          -1.100933806912293,
          0.4967968785061232,
          0.4776917332224903,
          0.19840480678120576,
          -0.5678729808054858,
          -0.47050311886264523,
          -0.6848928388732589,
          -0.3447172724962305,
          -0.23794258475612443,
          2.165413060815801,
          0.6632483590585299,
          2.000157263583068,
          -0.05164465663250612,
          -0.32950100556886297,
          0.1233413534161667,
          -1.024280593332221,
          1.6328302707578288,
          -0.8922019505656237,
          -0.19277947000847248,
          1.778582913528921,
          1.2861142967242434,
          0.7478696272647315,
          0.7044550353283147,
          -0.4948989732262082,
          2.162621138218643,
          -0.07173258766074306,
          -0.9714490326513098,
          -0.25668971020006276,
          -0.9861809495110716,
          -1.157103541842868,
          1.1992610142491917
         ]
        }
       ],
       "layout": {
        "barmode": "overlay",
        "legend": {
         "bgcolor": "#F5F6F9",
         "font": {
          "color": "#4D5663"
         }
        },
        "paper_bgcolor": "#F5F6F9",
        "plot_bgcolor": "#F5F6F9",
        "template": {
         "data": {
          "bar": [
           {
            "error_x": {
             "color": "#2a3f5f"
            },
            "error_y": {
             "color": "#2a3f5f"
            },
            "marker": {
             "line": {
              "color": "#E5ECF6",
              "width": 0.5
             },
             "pattern": {
              "fillmode": "overlay",
              "size": 10,
              "solidity": 0.2
             }
            },
            "type": "bar"
           }
          ],
          "barpolar": [
           {
            "marker": {
             "line": {
              "color": "#E5ECF6",
              "width": 0.5
             },
             "pattern": {
              "fillmode": "overlay",
              "size": 10,
              "solidity": 0.2
             }
            },
            "type": "barpolar"
           }
          ],
          "carpet": [
           {
            "aaxis": {
             "endlinecolor": "#2a3f5f",
             "gridcolor": "white",
             "linecolor": "white",
             "minorgridcolor": "white",
             "startlinecolor": "#2a3f5f"
            },
            "baxis": {
             "endlinecolor": "#2a3f5f",
             "gridcolor": "white",
             "linecolor": "white",
             "minorgridcolor": "white",
             "startlinecolor": "#2a3f5f"
            },
            "type": "carpet"
           }
          ],
          "choropleth": [
           {
            "colorbar": {
             "outlinewidth": 0,
             "ticks": ""
            },
            "type": "choropleth"
           }
          ],
          "contour": [
           {
            "colorbar": {
             "outlinewidth": 0,
             "ticks": ""
            },
            "colorscale": [
             [
              0,
              "#0d0887"
             ],
             [
              0.1111111111111111,
              "#46039f"
             ],
             [
              0.2222222222222222,
              "#7201a8"
             ],
             [
              0.3333333333333333,
              "#9c179e"
             ],
             [
              0.4444444444444444,
              "#bd3786"
             ],
             [
              0.5555555555555556,
              "#d8576b"
             ],
             [
              0.6666666666666666,
              "#ed7953"
             ],
             [
              0.7777777777777778,
              "#fb9f3a"
             ],
             [
              0.8888888888888888,
              "#fdca26"
             ],
             [
              1,
              "#f0f921"
             ]
            ],
            "type": "contour"
           }
          ],
          "contourcarpet": [
           {
            "colorbar": {
             "outlinewidth": 0,
             "ticks": ""
            },
            "type": "contourcarpet"
           }
          ],
          "heatmap": [
           {
            "colorbar": {
             "outlinewidth": 0,
             "ticks": ""
            },
            "colorscale": [
             [
              0,
              "#0d0887"
             ],
             [
              0.1111111111111111,
              "#46039f"
             ],
             [
              0.2222222222222222,
              "#7201a8"
             ],
             [
              0.3333333333333333,
              "#9c179e"
             ],
             [
              0.4444444444444444,
              "#bd3786"
             ],
             [
              0.5555555555555556,
              "#d8576b"
             ],
             [
              0.6666666666666666,
              "#ed7953"
             ],
             [
              0.7777777777777778,
              "#fb9f3a"
             ],
             [
              0.8888888888888888,
              "#fdca26"
             ],
             [
              1,
              "#f0f921"
             ]
            ],
            "type": "heatmap"
           }
          ],
          "heatmapgl": [
           {
            "colorbar": {
             "outlinewidth": 0,
             "ticks": ""
            },
            "colorscale": [
             [
              0,
              "#0d0887"
             ],
             [
              0.1111111111111111,
              "#46039f"
             ],
             [
              0.2222222222222222,
              "#7201a8"
             ],
             [
              0.3333333333333333,
              "#9c179e"
             ],
             [
              0.4444444444444444,
              "#bd3786"
             ],
             [
              0.5555555555555556,
              "#d8576b"
             ],
             [
              0.6666666666666666,
              "#ed7953"
             ],
             [
              0.7777777777777778,
              "#fb9f3a"
             ],
             [
              0.8888888888888888,
              "#fdca26"
             ],
             [
              1,
              "#f0f921"
             ]
            ],
            "type": "heatmapgl"
           }
          ],
          "histogram": [
           {
            "marker": {
             "pattern": {
              "fillmode": "overlay",
              "size": 10,
              "solidity": 0.2
             }
            },
            "type": "histogram"
           }
          ],
          "histogram2d": [
           {
            "colorbar": {
             "outlinewidth": 0,
             "ticks": ""
            },
            "colorscale": [
             [
              0,
              "#0d0887"
             ],
             [
              0.1111111111111111,
              "#46039f"
             ],
             [
              0.2222222222222222,
              "#7201a8"
             ],
             [
              0.3333333333333333,
              "#9c179e"
             ],
             [
              0.4444444444444444,
              "#bd3786"
             ],
             [
              0.5555555555555556,
              "#d8576b"
             ],
             [
              0.6666666666666666,
              "#ed7953"
             ],
             [
              0.7777777777777778,
              "#fb9f3a"
             ],
             [
              0.8888888888888888,
              "#fdca26"
             ],
             [
              1,
              "#f0f921"
             ]
            ],
            "type": "histogram2d"
           }
          ],
          "histogram2dcontour": [
           {
            "colorbar": {
             "outlinewidth": 0,
             "ticks": ""
            },
            "colorscale": [
             [
              0,
              "#0d0887"
             ],
             [
              0.1111111111111111,
              "#46039f"
             ],
             [
              0.2222222222222222,
              "#7201a8"
             ],
             [
              0.3333333333333333,
              "#9c179e"
             ],
             [
              0.4444444444444444,
              "#bd3786"
             ],
             [
              0.5555555555555556,
              "#d8576b"
             ],
             [
              0.6666666666666666,
              "#ed7953"
             ],
             [
              0.7777777777777778,
              "#fb9f3a"
             ],
             [
              0.8888888888888888,
              "#fdca26"
             ],
             [
              1,
              "#f0f921"
             ]
            ],
            "type": "histogram2dcontour"
           }
          ],
          "mesh3d": [
           {
            "colorbar": {
             "outlinewidth": 0,
             "ticks": ""
            },
            "type": "mesh3d"
           }
          ],
          "parcoords": [
           {
            "line": {
             "colorbar": {
              "outlinewidth": 0,
              "ticks": ""
             }
            },
            "type": "parcoords"
           }
          ],
          "pie": [
           {
            "automargin": true,
            "type": "pie"
           }
          ],
          "scatter": [
           {
            "fillpattern": {
             "fillmode": "overlay",
             "size": 10,
             "solidity": 0.2
            },
            "type": "scatter"
           }
          ],
          "scatter3d": [
           {
            "line": {
             "colorbar": {
              "outlinewidth": 0,
              "ticks": ""
             }
            },
            "marker": {
             "colorbar": {
              "outlinewidth": 0,
              "ticks": ""
             }
            },
            "type": "scatter3d"
           }
          ],
          "scattercarpet": [
           {
            "marker": {
             "colorbar": {
              "outlinewidth": 0,
              "ticks": ""
             }
            },
            "type": "scattercarpet"
           }
          ],
          "scattergeo": [
           {
            "marker": {
             "colorbar": {
              "outlinewidth": 0,
              "ticks": ""
             }
            },
            "type": "scattergeo"
           }
          ],
          "scattergl": [
           {
            "marker": {
             "colorbar": {
              "outlinewidth": 0,
              "ticks": ""
             }
            },
            "type": "scattergl"
           }
          ],
          "scattermapbox": [
           {
            "marker": {
             "colorbar": {
              "outlinewidth": 0,
              "ticks": ""
             }
            },
            "type": "scattermapbox"
           }
          ],
          "scatterpolar": [
           {
            "marker": {
             "colorbar": {
              "outlinewidth": 0,
              "ticks": ""
             }
            },
            "type": "scatterpolar"
           }
          ],
          "scatterpolargl": [
           {
            "marker": {
             "colorbar": {
              "outlinewidth": 0,
              "ticks": ""
             }
            },
            "type": "scatterpolargl"
           }
          ],
          "scatterternary": [
           {
            "marker": {
             "colorbar": {
              "outlinewidth": 0,
              "ticks": ""
             }
            },
            "type": "scatterternary"
           }
          ],
          "surface": [
           {
            "colorbar": {
             "outlinewidth": 0,
             "ticks": ""
            },
            "colorscale": [
             [
              0,
              "#0d0887"
             ],
             [
              0.1111111111111111,
              "#46039f"
             ],
             [
              0.2222222222222222,
              "#7201a8"
             ],
             [
              0.3333333333333333,
              "#9c179e"
             ],
             [
              0.4444444444444444,
              "#bd3786"
             ],
             [
              0.5555555555555556,
              "#d8576b"
             ],
             [
              0.6666666666666666,
              "#ed7953"
             ],
             [
              0.7777777777777778,
              "#fb9f3a"
             ],
             [
              0.8888888888888888,
              "#fdca26"
             ],
             [
              1,
              "#f0f921"
             ]
            ],
            "type": "surface"
           }
          ],
          "table": [
           {
            "cells": {
             "fill": {
              "color": "#EBF0F8"
             },
             "line": {
              "color": "white"
             }
            },
            "header": {
             "fill": {
              "color": "#C8D4E3"
             },
             "line": {
              "color": "white"
             }
            },
            "type": "table"
           }
          ]
         },
         "layout": {
          "annotationdefaults": {
           "arrowcolor": "#2a3f5f",
           "arrowhead": 0,
           "arrowwidth": 1
          },
          "autotypenumbers": "strict",
          "coloraxis": {
           "colorbar": {
            "outlinewidth": 0,
            "ticks": ""
           }
          },
          "colorscale": {
           "diverging": [
            [
             0,
             "#8e0152"
            ],
            [
             0.1,
             "#c51b7d"
            ],
            [
             0.2,
             "#de77ae"
            ],
            [
             0.3,
             "#f1b6da"
            ],
            [
             0.4,
             "#fde0ef"
            ],
            [
             0.5,
             "#f7f7f7"
            ],
            [
             0.6,
             "#e6f5d0"
            ],
            [
             0.7,
             "#b8e186"
            ],
            [
             0.8,
             "#7fbc41"
            ],
            [
             0.9,
             "#4d9221"
            ],
            [
             1,
             "#276419"
            ]
           ],
           "sequential": [
            [
             0,
             "#0d0887"
            ],
            [
             0.1111111111111111,
             "#46039f"
            ],
            [
             0.2222222222222222,
             "#7201a8"
            ],
            [
             0.3333333333333333,
             "#9c179e"
            ],
            [
             0.4444444444444444,
             "#bd3786"
            ],
            [
             0.5555555555555556,
             "#d8576b"
            ],
            [
             0.6666666666666666,
             "#ed7953"
            ],
            [
             0.7777777777777778,
             "#fb9f3a"
            ],
            [
             0.8888888888888888,
             "#fdca26"
            ],
            [
             1,
             "#f0f921"
            ]
           ],
           "sequentialminus": [
            [
             0,
             "#0d0887"
            ],
            [
             0.1111111111111111,
             "#46039f"
            ],
            [
             0.2222222222222222,
             "#7201a8"
            ],
            [
             0.3333333333333333,
             "#9c179e"
            ],
            [
             0.4444444444444444,
             "#bd3786"
            ],
            [
             0.5555555555555556,
             "#d8576b"
            ],
            [
             0.6666666666666666,
             "#ed7953"
            ],
            [
             0.7777777777777778,
             "#fb9f3a"
            ],
            [
             0.8888888888888888,
             "#fdca26"
            ],
            [
             1,
             "#f0f921"
            ]
           ]
          },
          "colorway": [
           "#636efa",
           "#EF553B",
           "#00cc96",
           "#ab63fa",
           "#FFA15A",
           "#19d3f3",
           "#FF6692",
           "#B6E880",
           "#FF97FF",
           "#FECB52"
          ],
          "font": {
           "color": "#2a3f5f"
          },
          "geo": {
           "bgcolor": "white",
           "lakecolor": "white",
           "landcolor": "#E5ECF6",
           "showlakes": true,
           "showland": true,
           "subunitcolor": "white"
          },
          "hoverlabel": {
           "align": "left"
          },
          "hovermode": "closest",
          "mapbox": {
           "style": "light"
          },
          "paper_bgcolor": "white",
          "plot_bgcolor": "#E5ECF6",
          "polar": {
           "angularaxis": {
            "gridcolor": "white",
            "linecolor": "white",
            "ticks": ""
           },
           "bgcolor": "#E5ECF6",
           "radialaxis": {
            "gridcolor": "white",
            "linecolor": "white",
            "ticks": ""
           }
          },
          "scene": {
           "xaxis": {
            "backgroundcolor": "#E5ECF6",
            "gridcolor": "white",
            "gridwidth": 2,
            "linecolor": "white",
            "showbackground": true,
            "ticks": "",
            "zerolinecolor": "white"
           },
           "yaxis": {
            "backgroundcolor": "#E5ECF6",
            "gridcolor": "white",
            "gridwidth": 2,
            "linecolor": "white",
            "showbackground": true,
            "ticks": "",
            "zerolinecolor": "white"
           },
           "zaxis": {
            "backgroundcolor": "#E5ECF6",
            "gridcolor": "white",
            "gridwidth": 2,
            "linecolor": "white",
            "showbackground": true,
            "ticks": "",
            "zerolinecolor": "white"
           }
          },
          "shapedefaults": {
           "line": {
            "color": "#2a3f5f"
           }
          },
          "ternary": {
           "aaxis": {
            "gridcolor": "white",
            "linecolor": "white",
            "ticks": ""
           },
           "baxis": {
            "gridcolor": "white",
            "linecolor": "white",
            "ticks": ""
           },
           "bgcolor": "#E5ECF6",
           "caxis": {
            "gridcolor": "white",
            "linecolor": "white",
            "ticks": ""
           }
          },
          "title": {
           "x": 0.05
          },
          "xaxis": {
           "automargin": true,
           "gridcolor": "white",
           "linecolor": "white",
           "ticks": "",
           "title": {
            "standoff": 15
           },
           "zerolinecolor": "white",
           "zerolinewidth": 2
          },
          "yaxis": {
           "automargin": true,
           "gridcolor": "white",
           "linecolor": "white",
           "ticks": "",
           "title": {
            "standoff": 15
           },
           "zerolinecolor": "white",
           "zerolinewidth": 2
          }
         }
        },
        "title": {
         "font": {
          "color": "#4D5663"
         }
        },
        "xaxis": {
         "gridcolor": "#E1E5ED",
         "showgrid": true,
         "tickfont": {
          "color": "#4D5663"
         },
         "title": {
          "font": {
           "color": "#4D5663"
          },
          "text": ""
         },
         "zerolinecolor": "#E1E5ED"
        },
        "yaxis": {
         "gridcolor": "#E1E5ED",
         "showgrid": true,
         "tickfont": {
          "color": "#4D5663"
         },
         "title": {
          "font": {
           "color": "#4D5663"
          },
          "text": ""
         },
         "zerolinecolor": "#E1E5ED"
        }
       }
      },
      "text/html": [
       "<div>                            <div id=\"350d7eb3-85a0-423e-af16-9ebb3af74c9e\" class=\"plotly-graph-div\" style=\"height:525px; width:100%;\"></div>            <script type=\"text/javascript\">                require([\"plotly\"], function(Plotly) {                    window.PLOTLYENV=window.PLOTLYENV || {};\n",
       "                    window.PLOTLYENV.BASE_URL='https://plot.ly';                                    if (document.getElementById(\"350d7eb3-85a0-423e-af16-9ebb3af74c9e\")) {                    Plotly.newPlot(                        \"350d7eb3-85a0-423e-af16-9ebb3af74c9e\",                        [{\"histfunc\":\"count\",\"histnorm\":\"\",\"marker\":{\"color\":\"rgba(255, 153, 51, 1.0)\",\"line\":{\"color\":\"#4D5663\",\"width\":1.3}},\"name\":\"A\",\"nbinsx\":50,\"opacity\":0.8,\"orientation\":\"v\",\"x\":[-1.9755500137656816,-0.061947778504821194,1.5859026175116797,-1.2531388336614748,-0.05439570455517902,-0.6099892593578193,-0.42597212415335045,1.30054514318552,1.6745245836944143,0.16101375678398513,-0.49292541050026917,-0.11917095742151543,-0.7009747802886002,-0.47467091820681706,-0.4017079488724917,-0.42615585580718507,0.0902833090343134,-0.03383157680340645,0.25125800723855946,0.09501082946377389,0.5867512968998098,-0.4693010654392666,0.46168204660174567,0.06495267830063275,0.2681084284590157,-1.4989026795597802,1.7641427480382965,1.4859196786280577,0.1539020337302631,-0.6840507459974362,-0.13423049695369402,0.7460726140571591,-0.7550366137892188,-0.0512034730653333,-0.4748090640569612,-2.3679114992432004,-0.30779199050609957,-0.49193289903124116,-0.7649607105286698,-2.613800799990971,0.6362381962494086,-0.8198854452978208,-0.4784810420305522,-0.30559539406897873,1.7417622654227076,1.9097958194435793,0.9406674466573566,-1.2094515522929468,0.6724277066552841,0.6042558126336943,1.695812684537749,-0.8894533401640422,-1.0307224681600358,0.004523554592124752,1.9757360700018838,0.5429180447534881,-0.47199893155343664,0.4749452873600385,-0.283517983931913,-0.04096698814947355,0.968045533265399,0.8935691476562685,-0.1899689680365186,-0.5352024057664848,-0.6306762033186569,-0.8819772809327792,-0.9249869852557837,-1.2795987736093142,-1.4906513234849743,-1.100933806912293,0.4967968785061232,0.4776917332224903,0.19840480678120576,-0.5678729808054858,-0.47050311886264523,-0.6848928388732589,-0.3447172724962305,-0.23794258475612443,2.165413060815801,0.6632483590585299,2.000157263583068,-0.05164465663250612,-0.32950100556886297,0.1233413534161667,-1.024280593332221,1.6328302707578288,-0.8922019505656237,-0.19277947000847248,1.778582913528921,1.2861142967242434,0.7478696272647315,0.7044550353283147,-0.4948989732262082,2.162621138218643,-0.07173258766074306,-0.9714490326513098,-0.25668971020006276,-0.9861809495110716,-1.157103541842868,1.1992610142491917],\"type\":\"histogram\"}],                        {\"barmode\":\"overlay\",\"legend\":{\"bgcolor\":\"#F5F6F9\",\"font\":{\"color\":\"#4D5663\"}},\"paper_bgcolor\":\"#F5F6F9\",\"plot_bgcolor\":\"#F5F6F9\",\"template\":{\"data\":{\"barpolar\":[{\"marker\":{\"line\":{\"color\":\"#E5ECF6\",\"width\":0.5},\"pattern\":{\"fillmode\":\"overlay\",\"size\":10,\"solidity\":0.2}},\"type\":\"barpolar\"}],\"bar\":[{\"error_x\":{\"color\":\"#2a3f5f\"},\"error_y\":{\"color\":\"#2a3f5f\"},\"marker\":{\"line\":{\"color\":\"#E5ECF6\",\"width\":0.5},\"pattern\":{\"fillmode\":\"overlay\",\"size\":10,\"solidity\":0.2}},\"type\":\"bar\"}],\"carpet\":[{\"aaxis\":{\"endlinecolor\":\"#2a3f5f\",\"gridcolor\":\"white\",\"linecolor\":\"white\",\"minorgridcolor\":\"white\",\"startlinecolor\":\"#2a3f5f\"},\"baxis\":{\"endlinecolor\":\"#2a3f5f\",\"gridcolor\":\"white\",\"linecolor\":\"white\",\"minorgridcolor\":\"white\",\"startlinecolor\":\"#2a3f5f\"},\"type\":\"carpet\"}],\"choropleth\":[{\"colorbar\":{\"outlinewidth\":0,\"ticks\":\"\"},\"type\":\"choropleth\"}],\"contourcarpet\":[{\"colorbar\":{\"outlinewidth\":0,\"ticks\":\"\"},\"type\":\"contourcarpet\"}],\"contour\":[{\"colorbar\":{\"outlinewidth\":0,\"ticks\":\"\"},\"colorscale\":[[0.0,\"#0d0887\"],[0.1111111111111111,\"#46039f\"],[0.2222222222222222,\"#7201a8\"],[0.3333333333333333,\"#9c179e\"],[0.4444444444444444,\"#bd3786\"],[0.5555555555555556,\"#d8576b\"],[0.6666666666666666,\"#ed7953\"],[0.7777777777777778,\"#fb9f3a\"],[0.8888888888888888,\"#fdca26\"],[1.0,\"#f0f921\"]],\"type\":\"contour\"}],\"heatmapgl\":[{\"colorbar\":{\"outlinewidth\":0,\"ticks\":\"\"},\"colorscale\":[[0.0,\"#0d0887\"],[0.1111111111111111,\"#46039f\"],[0.2222222222222222,\"#7201a8\"],[0.3333333333333333,\"#9c179e\"],[0.4444444444444444,\"#bd3786\"],[0.5555555555555556,\"#d8576b\"],[0.6666666666666666,\"#ed7953\"],[0.7777777777777778,\"#fb9f3a\"],[0.8888888888888888,\"#fdca26\"],[1.0,\"#f0f921\"]],\"type\":\"heatmapgl\"}],\"heatmap\":[{\"colorbar\":{\"outlinewidth\":0,\"ticks\":\"\"},\"colorscale\":[[0.0,\"#0d0887\"],[0.1111111111111111,\"#46039f\"],[0.2222222222222222,\"#7201a8\"],[0.3333333333333333,\"#9c179e\"],[0.4444444444444444,\"#bd3786\"],[0.5555555555555556,\"#d8576b\"],[0.6666666666666666,\"#ed7953\"],[0.7777777777777778,\"#fb9f3a\"],[0.8888888888888888,\"#fdca26\"],[1.0,\"#f0f921\"]],\"type\":\"heatmap\"}],\"histogram2dcontour\":[{\"colorbar\":{\"outlinewidth\":0,\"ticks\":\"\"},\"colorscale\":[[0.0,\"#0d0887\"],[0.1111111111111111,\"#46039f\"],[0.2222222222222222,\"#7201a8\"],[0.3333333333333333,\"#9c179e\"],[0.4444444444444444,\"#bd3786\"],[0.5555555555555556,\"#d8576b\"],[0.6666666666666666,\"#ed7953\"],[0.7777777777777778,\"#fb9f3a\"],[0.8888888888888888,\"#fdca26\"],[1.0,\"#f0f921\"]],\"type\":\"histogram2dcontour\"}],\"histogram2d\":[{\"colorbar\":{\"outlinewidth\":0,\"ticks\":\"\"},\"colorscale\":[[0.0,\"#0d0887\"],[0.1111111111111111,\"#46039f\"],[0.2222222222222222,\"#7201a8\"],[0.3333333333333333,\"#9c179e\"],[0.4444444444444444,\"#bd3786\"],[0.5555555555555556,\"#d8576b\"],[0.6666666666666666,\"#ed7953\"],[0.7777777777777778,\"#fb9f3a\"],[0.8888888888888888,\"#fdca26\"],[1.0,\"#f0f921\"]],\"type\":\"histogram2d\"}],\"histogram\":[{\"marker\":{\"pattern\":{\"fillmode\":\"overlay\",\"size\":10,\"solidity\":0.2}},\"type\":\"histogram\"}],\"mesh3d\":[{\"colorbar\":{\"outlinewidth\":0,\"ticks\":\"\"},\"type\":\"mesh3d\"}],\"parcoords\":[{\"line\":{\"colorbar\":{\"outlinewidth\":0,\"ticks\":\"\"}},\"type\":\"parcoords\"}],\"pie\":[{\"automargin\":true,\"type\":\"pie\"}],\"scatter3d\":[{\"line\":{\"colorbar\":{\"outlinewidth\":0,\"ticks\":\"\"}},\"marker\":{\"colorbar\":{\"outlinewidth\":0,\"ticks\":\"\"}},\"type\":\"scatter3d\"}],\"scattercarpet\":[{\"marker\":{\"colorbar\":{\"outlinewidth\":0,\"ticks\":\"\"}},\"type\":\"scattercarpet\"}],\"scattergeo\":[{\"marker\":{\"colorbar\":{\"outlinewidth\":0,\"ticks\":\"\"}},\"type\":\"scattergeo\"}],\"scattergl\":[{\"marker\":{\"colorbar\":{\"outlinewidth\":0,\"ticks\":\"\"}},\"type\":\"scattergl\"}],\"scattermapbox\":[{\"marker\":{\"colorbar\":{\"outlinewidth\":0,\"ticks\":\"\"}},\"type\":\"scattermapbox\"}],\"scatterpolargl\":[{\"marker\":{\"colorbar\":{\"outlinewidth\":0,\"ticks\":\"\"}},\"type\":\"scatterpolargl\"}],\"scatterpolar\":[{\"marker\":{\"colorbar\":{\"outlinewidth\":0,\"ticks\":\"\"}},\"type\":\"scatterpolar\"}],\"scatter\":[{\"fillpattern\":{\"fillmode\":\"overlay\",\"size\":10,\"solidity\":0.2},\"type\":\"scatter\"}],\"scatterternary\":[{\"marker\":{\"colorbar\":{\"outlinewidth\":0,\"ticks\":\"\"}},\"type\":\"scatterternary\"}],\"surface\":[{\"colorbar\":{\"outlinewidth\":0,\"ticks\":\"\"},\"colorscale\":[[0.0,\"#0d0887\"],[0.1111111111111111,\"#46039f\"],[0.2222222222222222,\"#7201a8\"],[0.3333333333333333,\"#9c179e\"],[0.4444444444444444,\"#bd3786\"],[0.5555555555555556,\"#d8576b\"],[0.6666666666666666,\"#ed7953\"],[0.7777777777777778,\"#fb9f3a\"],[0.8888888888888888,\"#fdca26\"],[1.0,\"#f0f921\"]],\"type\":\"surface\"}],\"table\":[{\"cells\":{\"fill\":{\"color\":\"#EBF0F8\"},\"line\":{\"color\":\"white\"}},\"header\":{\"fill\":{\"color\":\"#C8D4E3\"},\"line\":{\"color\":\"white\"}},\"type\":\"table\"}]},\"layout\":{\"annotationdefaults\":{\"arrowcolor\":\"#2a3f5f\",\"arrowhead\":0,\"arrowwidth\":1},\"autotypenumbers\":\"strict\",\"coloraxis\":{\"colorbar\":{\"outlinewidth\":0,\"ticks\":\"\"}},\"colorscale\":{\"diverging\":[[0,\"#8e0152\"],[0.1,\"#c51b7d\"],[0.2,\"#de77ae\"],[0.3,\"#f1b6da\"],[0.4,\"#fde0ef\"],[0.5,\"#f7f7f7\"],[0.6,\"#e6f5d0\"],[0.7,\"#b8e186\"],[0.8,\"#7fbc41\"],[0.9,\"#4d9221\"],[1,\"#276419\"]],\"sequential\":[[0.0,\"#0d0887\"],[0.1111111111111111,\"#46039f\"],[0.2222222222222222,\"#7201a8\"],[0.3333333333333333,\"#9c179e\"],[0.4444444444444444,\"#bd3786\"],[0.5555555555555556,\"#d8576b\"],[0.6666666666666666,\"#ed7953\"],[0.7777777777777778,\"#fb9f3a\"],[0.8888888888888888,\"#fdca26\"],[1.0,\"#f0f921\"]],\"sequentialminus\":[[0.0,\"#0d0887\"],[0.1111111111111111,\"#46039f\"],[0.2222222222222222,\"#7201a8\"],[0.3333333333333333,\"#9c179e\"],[0.4444444444444444,\"#bd3786\"],[0.5555555555555556,\"#d8576b\"],[0.6666666666666666,\"#ed7953\"],[0.7777777777777778,\"#fb9f3a\"],[0.8888888888888888,\"#fdca26\"],[1.0,\"#f0f921\"]]},\"colorway\":[\"#636efa\",\"#EF553B\",\"#00cc96\",\"#ab63fa\",\"#FFA15A\",\"#19d3f3\",\"#FF6692\",\"#B6E880\",\"#FF97FF\",\"#FECB52\"],\"font\":{\"color\":\"#2a3f5f\"},\"geo\":{\"bgcolor\":\"white\",\"lakecolor\":\"white\",\"landcolor\":\"#E5ECF6\",\"showlakes\":true,\"showland\":true,\"subunitcolor\":\"white\"},\"hoverlabel\":{\"align\":\"left\"},\"hovermode\":\"closest\",\"mapbox\":{\"style\":\"light\"},\"paper_bgcolor\":\"white\",\"plot_bgcolor\":\"#E5ECF6\",\"polar\":{\"angularaxis\":{\"gridcolor\":\"white\",\"linecolor\":\"white\",\"ticks\":\"\"},\"bgcolor\":\"#E5ECF6\",\"radialaxis\":{\"gridcolor\":\"white\",\"linecolor\":\"white\",\"ticks\":\"\"}},\"scene\":{\"xaxis\":{\"backgroundcolor\":\"#E5ECF6\",\"gridcolor\":\"white\",\"gridwidth\":2,\"linecolor\":\"white\",\"showbackground\":true,\"ticks\":\"\",\"zerolinecolor\":\"white\"},\"yaxis\":{\"backgroundcolor\":\"#E5ECF6\",\"gridcolor\":\"white\",\"gridwidth\":2,\"linecolor\":\"white\",\"showbackground\":true,\"ticks\":\"\",\"zerolinecolor\":\"white\"},\"zaxis\":{\"backgroundcolor\":\"#E5ECF6\",\"gridcolor\":\"white\",\"gridwidth\":2,\"linecolor\":\"white\",\"showbackground\":true,\"ticks\":\"\",\"zerolinecolor\":\"white\"}},\"shapedefaults\":{\"line\":{\"color\":\"#2a3f5f\"}},\"ternary\":{\"aaxis\":{\"gridcolor\":\"white\",\"linecolor\":\"white\",\"ticks\":\"\"},\"baxis\":{\"gridcolor\":\"white\",\"linecolor\":\"white\",\"ticks\":\"\"},\"bgcolor\":\"#E5ECF6\",\"caxis\":{\"gridcolor\":\"white\",\"linecolor\":\"white\",\"ticks\":\"\"}},\"title\":{\"x\":0.05},\"xaxis\":{\"automargin\":true,\"gridcolor\":\"white\",\"linecolor\":\"white\",\"ticks\":\"\",\"title\":{\"standoff\":15},\"zerolinecolor\":\"white\",\"zerolinewidth\":2},\"yaxis\":{\"automargin\":true,\"gridcolor\":\"white\",\"linecolor\":\"white\",\"ticks\":\"\",\"title\":{\"standoff\":15},\"zerolinecolor\":\"white\",\"zerolinewidth\":2}}},\"title\":{\"font\":{\"color\":\"#4D5663\"}},\"xaxis\":{\"gridcolor\":\"#E1E5ED\",\"showgrid\":true,\"tickfont\":{\"color\":\"#4D5663\"},\"title\":{\"font\":{\"color\":\"#4D5663\"},\"text\":\"\"},\"zerolinecolor\":\"#E1E5ED\"},\"yaxis\":{\"gridcolor\":\"#E1E5ED\",\"showgrid\":true,\"tickfont\":{\"color\":\"#4D5663\"},\"title\":{\"font\":{\"color\":\"#4D5663\"},\"text\":\"\"},\"zerolinecolor\":\"#E1E5ED\"}},                        {\"showLink\": true, \"linkText\": \"Export to plot.ly\", \"plotlyServerURL\": \"https://plot.ly\", \"responsive\": true}                    ).then(function(){\n",
       "                            \n",
       "var gd = document.getElementById('350d7eb3-85a0-423e-af16-9ebb3af74c9e');\n",
       "var x = new MutationObserver(function (mutations, observer) {{\n",
       "        var display = window.getComputedStyle(gd).display;\n",
       "        if (!display || display === 'none') {{\n",
       "            console.log([gd, 'removed!']);\n",
       "            Plotly.purge(gd);\n",
       "            observer.disconnect();\n",
       "        }}\n",
       "}});\n",
       "\n",
       "// Listen for the removal of the full notebook cells\n",
       "var notebookContainer = gd.closest('#notebook-container');\n",
       "if (notebookContainer) {{\n",
       "    x.observe(notebookContainer, {childList: true});\n",
       "}}\n",
       "\n",
       "// Listen for the clearing of the current output cell\n",
       "var outputEl = gd.closest('.output');\n",
       "if (outputEl) {{\n",
       "    x.observe(outputEl, {childList: true});\n",
       "}}\n",
       "\n",
       "                        })                };                });            </script>        </div>"
      ]
     },
     "metadata": {},
     "output_type": "display_data"
    }
   ],
   "source": [
    "df['A'].iplot(kind='hist',bins=50)"
   ]
  },
  {
   "cell_type": "code",
   "execution_count": 42,
   "id": "5f8a70e8",
   "metadata": {},
   "outputs": [
    {
     "data": {
      "application/vnd.plotly.v1+json": {
       "config": {
        "linkText": "Export to plot.ly",
        "plotlyServerURL": "https://plot.ly",
        "showLink": true
       },
       "data": [
        {
         "histfunc": "count",
         "histnorm": "",
         "marker": {
          "color": "rgba(255, 153, 51, 1.0)",
          "line": {
           "color": "#4D5663",
           "width": 1.3
          }
         },
         "name": "A",
         "nbinsx": 50,
         "opacity": 0.8,
         "orientation": "v",
         "type": "histogram",
         "x": [
          -1.9755500137656816,
          -0.061947778504821194,
          1.5859026175116797,
          -1.2531388336614748,
          -0.05439570455517902,
          -0.6099892593578193,
          -0.42597212415335045,
          1.30054514318552,
          1.6745245836944143,
          0.16101375678398513,
          -0.49292541050026917,
          -0.11917095742151543,
          -0.7009747802886002,
          -0.47467091820681706,
          -0.4017079488724917,
          -0.42615585580718507,
          0.0902833090343134,
          -0.03383157680340645,
          0.25125800723855946,
          0.09501082946377389,
          0.5867512968998098,
          -0.4693010654392666,
          0.46168204660174567,
          0.06495267830063275,
          0.2681084284590157,
          -1.4989026795597802,
          1.7641427480382965,
          1.4859196786280577,
          0.1539020337302631,
          -0.6840507459974362,
          -0.13423049695369402,
          0.7460726140571591,
          -0.7550366137892188,
          -0.0512034730653333,
          -0.4748090640569612,
          -2.3679114992432004,
          -0.30779199050609957,
          -0.49193289903124116,
          -0.7649607105286698,
          -2.613800799990971,
          0.6362381962494086,
          -0.8198854452978208,
          -0.4784810420305522,
          -0.30559539406897873,
          1.7417622654227076,
          1.9097958194435793,
          0.9406674466573566,
          -1.2094515522929468,
          0.6724277066552841,
          0.6042558126336943,
          1.695812684537749,
          -0.8894533401640422,
          -1.0307224681600358,
          0.004523554592124752,
          1.9757360700018838,
          0.5429180447534881,
          -0.47199893155343664,
          0.4749452873600385,
          -0.283517983931913,
          -0.04096698814947355,
          0.968045533265399,
          0.8935691476562685,
          -0.1899689680365186,
          -0.5352024057664848,
          -0.6306762033186569,
          -0.8819772809327792,
          -0.9249869852557837,
          -1.2795987736093142,
          -1.4906513234849743,
          -1.100933806912293,
          0.4967968785061232,
          0.4776917332224903,
          0.19840480678120576,
          -0.5678729808054858,
          -0.47050311886264523,
          -0.6848928388732589,
          -0.3447172724962305,
          -0.23794258475612443,
          2.165413060815801,
          0.6632483590585299,
          2.000157263583068,
          -0.05164465663250612,
          -0.32950100556886297,
          0.1233413534161667,
          -1.024280593332221,
          1.6328302707578288,
          -0.8922019505656237,
          -0.19277947000847248,
          1.778582913528921,
          1.2861142967242434,
          0.7478696272647315,
          0.7044550353283147,
          -0.4948989732262082,
          2.162621138218643,
          -0.07173258766074306,
          -0.9714490326513098,
          -0.25668971020006276,
          -0.9861809495110716,
          -1.157103541842868,
          1.1992610142491917
         ]
        },
        {
         "histfunc": "count",
         "histnorm": "",
         "marker": {
          "color": "rgba(55, 128, 191, 1.0)",
          "line": {
           "color": "#4D5663",
           "width": 1.3
          }
         },
         "name": "B",
         "nbinsx": 50,
         "opacity": 0.8,
         "orientation": "v",
         "type": "histogram",
         "x": [
          -0.6016205567329608,
          -0.6867847793895484,
          -1.004201098081681,
          0.5459610858692364,
          -0.5134277048058766,
          -1.7713803666089118,
          0.306265766114442,
          -0.4673808534970285,
          0.47774761494497525,
          0.5773418911213518,
          -0.9716562852965338,
          0.5691019831236278,
          0.47140735466440037,
          0.09296487685387636,
          0.36346199486628045,
          -0.21785167686542148,
          0.43661427182523044,
          -1.1043395826762386,
          -0.02671525336627313,
          1.6340557489474088,
          -0.4116937959977908,
          0.760627438099993,
          -1.419951605103263,
          1.56554617148626,
          -1.0612550505986134,
          -0.2791022850093874,
          -0.6538496117164647,
          -0.5413662862932657,
          0.770850384913509,
          0.5112478057109159,
          0.444885186950138,
          1.3539004781978206,
          2.2623286874734436,
          -0.862557473719299,
          0.5541222476581766,
          0.4349526898898684,
          1.3003541024884273,
          -0.9334222914281395,
          -0.018468505151828317,
          0.301456771856218,
          0.8893522858810824,
          0.9676579983417197,
          0.40723522186669053,
          0.8049924749506939,
          -0.040571046598925915,
          -0.7668702851597023,
          1.2011848352922634,
          1.7413782411913143,
          -0.3627601644549942,
          0.8029425027984123,
          -1.2379383287509398,
          0.650388747065542,
          1.1512941141212873,
          0.8082910662466302,
          0.002804675896032924,
          0.040444707117679946,
          1.0075910275877349,
          1.566362282752962,
          1.727518610682044,
          0.43208798978099616,
          -0.37729306749409824,
          0.3583192853709636,
          2.245267346888914,
          -1.2931892852342348,
          0.49825288910292637,
          0.18173575684733229,
          -0.003765766788964723,
          0.788228363907951,
          0.14540007233038146,
          -2.8471785813920847,
          0.901525280729787,
          0.47931178935779756,
          -0.75054262406477,
          -0.1895272526767355,
          -0.16111055958515572,
          0.43926869577158684,
          -2.007298526805992,
          0.14872350274937846,
          -0.7897899064104688,
          -0.8739822093248697,
          0.8077072001297577,
          1.0106425845267275,
          -1.3871824837780988,
          -0.802777519106265,
          -0.665337553159498,
          -0.5965212412716,
          0.8824586708505167,
          -1.31436743946511,
          -0.11327313080949342,
          0.3357969652076104,
          0.7522800234797223,
          -1.1915982770371818,
          -0.6620972204720901,
          -1.5865209839733985,
          0.25954986753324477,
          -0.34864819900329097,
          0.6164677893891793,
          -0.006340506992387929,
          0.05375386835791097,
          -0.04750243008043119
         ]
        },
        {
         "histfunc": "count",
         "histnorm": "",
         "marker": {
          "color": "rgba(50, 171, 96, 1.0)",
          "line": {
           "color": "#4D5663",
           "width": 1.3
          }
         },
         "name": "C",
         "nbinsx": 50,
         "opacity": 0.8,
         "orientation": "v",
         "type": "histogram",
         "x": [
          -0.6704082264197347,
          -0.9712370065255008,
          0.4111150132211941,
          0.06505043483094419,
          0.09597347386637531,
          -0.17805257026137314,
          0.6266282123253187,
          -0.06944538525399793,
          1.0434066129333317,
          0.8321859041473956,
          0.23176254064018448,
          -0.36957242731347956,
          0.9693310064414132,
          -1.065613557626272,
          -0.08607110397003176,
          0.38839255569323583,
          -0.6766161417161143,
          -1.2143473333630788,
          1.1433139815906899,
          1.1489106765854245,
          -0.4233004052413279,
          -0.14674342975009205,
          -1.5470081603989874,
          0.5449565142853104,
          0.9436920674861845,
          -0.8578130086197939,
          -0.8706007914367132,
          -0.4674439125957368,
          0.7295679758333566,
          -1.5659532199503727,
          -0.6302577800291368,
          0.002036162897837701,
          0.08527473566789949,
          0.4114993953567297,
          0.5831547536114501,
          -0.8417649892373862,
          -0.15206125243366583,
          0.6558559082815361,
          0.4739620700333792,
          1.6503138194249127,
          0.261093633651454,
          1.488587165162164,
          0.29469611827486414,
          0.25496389058589275,
          -1.2652526156028097,
          -0.7532256723724051,
          -0.9099639520318753,
          1.1441345960738158,
          0.5949919924224334,
          -0.10782459485723767,
          0.2140567254164145,
          0.14147781374699772,
          1.0340849306590991,
          0.24670441031205223,
          0.583944717414109,
          -0.4151649571540205,
          -1.5680514211874341,
          1.0757553302227085,
          -2.196377096070879,
          -1.0909931476373194,
          -0.4456730180087001,
          0.22966449358967897,
          0.5457957358256748,
          0.8832981164864001,
          -1.1263605017015514,
          -0.40180359216850925,
          -1.232443932460566,
          0.26566029104465116,
          1.0724285813704941,
          0.04514430706016189,
          0.37813651962983186,
          1.1153581424377124,
          -0.2879208413779026,
          0.08049124917956914,
          -0.06135085527396157,
          -0.37693758217424916,
          1.1830320069813256,
          0.16995226333775676,
          1.7774620506505168,
          -0.8895255904170345,
          1.3944174805345486,
          -1.850060721313199,
          -1.3417035530645616,
          0.9391082966584445,
          0.9700589698321128,
          -1.604452147419455,
          0.6676364870219649,
          -1.1239638929995208,
          0.9866181703538464,
          -0.47245120246747085,
          0.14307948466401546,
          1.6194032925395008,
          0.28707929556088013,
          -2.0633114742281067,
          0.984871614465747,
          -0.0005197875955629226,
          1.28016775843392,
          0.38145099065980237,
          1.0181992084337197,
          0.0007496653025990152
         ]
        },
        {
         "histfunc": "count",
         "histnorm": "",
         "marker": {
          "color": "rgba(128, 0, 128, 1.0)",
          "line": {
           "color": "#4D5663",
           "width": 1.3
          }
         },
         "name": "D",
         "nbinsx": 50,
         "opacity": 0.8,
         "orientation": "v",
         "type": "histogram",
         "x": [
          -2.737247075994404,
          -0.371622137785998,
          0.4977872389088978,
          -0.25556722608188853,
          0.134844530196423,
          -0.9602501249253127,
          -0.2397917100705879,
          1.0344184850748666,
          0.8514263520822619,
          1.35122525523941,
          2.604635190520853,
          1.947767040875128,
          -1.3512387261342127,
          -0.9427769645828806,
          -2.063505088898325,
          -0.4870830116381731,
          0.25588158907185315,
          -1.0742236315172862,
          0.956877807016473,
          0.7333863213035633,
          -1.213437837026288,
          2.2599800326715225,
          -1.3391245764493112,
          -0.20150175200419704,
          -1.4517678541192687,
          0.1016744241682496,
          -1.5033897478410911,
          -0.1243391491925989,
          1.4436217338806754,
          -1.7133911850641386,
          0.26108774988306366,
          1.0056905498192663,
          -0.26248250730553535,
          0.24236503012727867,
          1.0519009772779324,
          0.321102619498424,
          -0.6304503190093411,
          0.8010048587525489,
          -0.026863296121999822,
          -0.6005877821544191,
          -0.0049922649277795465,
          -2.6221756364222157,
          -0.42984055050945774,
          -0.1443655516573191,
          -0.904478920086068,
          -0.07364609801508223,
          1.018411591964657,
          -0.43294602375333335,
          -0.5695326411619899,
          0.7594130903281197,
          -0.2006312780575331,
          -0.2347940580504846,
          0.8139954950920132,
          -0.8807999455752871,
          0.7163484752256508,
          0.40615245114971854,
          -0.8071198924710938,
          0.7767107762697273,
          -0.28877910715950894,
          0.8149223997578482,
          -0.3362381266307819,
          0.9522356397473453,
          -0.5898704926150133,
          -0.9772068149269224,
          0.737315638695283,
          0.34127453265489327,
          -0.6552094825700808,
          -1.6030076880442323,
          -1.5895923338532951,
          -0.012103775562117147,
          -0.29541678817590195,
          -0.12222407499725159,
          -1.0574075864876884,
          0.03501734189575078,
          -0.4077052603736408,
          0.21432227712942017,
          1.3691699925778178,
          -0.539074619860555,
          -0.8037180119982591,
          -0.7443299088773537,
          1.522871279279115,
          -0.08863780207150675,
          1.3100439989179171,
          -1.5140910484576355,
          1.6857952570240735,
          -1.9593945449784622,
          0.618036635263452,
          0.5793747989395617,
          -0.18701217121788372,
          -0.4302273446214045,
          -0.18418614363508462,
          0.48564593255997734,
          1.1067954050511588,
          -0.48813267343725975,
          -0.6718716102419712,
          -0.19220311340207014,
          0.6295952841880968,
          -0.651678727558497,
          1.3370584169131228,
          0.35362929920522856
         ]
        }
       ],
       "layout": {
        "barmode": "overlay",
        "legend": {
         "bgcolor": "#F5F6F9",
         "font": {
          "color": "#4D5663"
         }
        },
        "paper_bgcolor": "#F5F6F9",
        "plot_bgcolor": "#F5F6F9",
        "template": {
         "data": {
          "bar": [
           {
            "error_x": {
             "color": "#2a3f5f"
            },
            "error_y": {
             "color": "#2a3f5f"
            },
            "marker": {
             "line": {
              "color": "#E5ECF6",
              "width": 0.5
             },
             "pattern": {
              "fillmode": "overlay",
              "size": 10,
              "solidity": 0.2
             }
            },
            "type": "bar"
           }
          ],
          "barpolar": [
           {
            "marker": {
             "line": {
              "color": "#E5ECF6",
              "width": 0.5
             },
             "pattern": {
              "fillmode": "overlay",
              "size": 10,
              "solidity": 0.2
             }
            },
            "type": "barpolar"
           }
          ],
          "carpet": [
           {
            "aaxis": {
             "endlinecolor": "#2a3f5f",
             "gridcolor": "white",
             "linecolor": "white",
             "minorgridcolor": "white",
             "startlinecolor": "#2a3f5f"
            },
            "baxis": {
             "endlinecolor": "#2a3f5f",
             "gridcolor": "white",
             "linecolor": "white",
             "minorgridcolor": "white",
             "startlinecolor": "#2a3f5f"
            },
            "type": "carpet"
           }
          ],
          "choropleth": [
           {
            "colorbar": {
             "outlinewidth": 0,
             "ticks": ""
            },
            "type": "choropleth"
           }
          ],
          "contour": [
           {
            "colorbar": {
             "outlinewidth": 0,
             "ticks": ""
            },
            "colorscale": [
             [
              0,
              "#0d0887"
             ],
             [
              0.1111111111111111,
              "#46039f"
             ],
             [
              0.2222222222222222,
              "#7201a8"
             ],
             [
              0.3333333333333333,
              "#9c179e"
             ],
             [
              0.4444444444444444,
              "#bd3786"
             ],
             [
              0.5555555555555556,
              "#d8576b"
             ],
             [
              0.6666666666666666,
              "#ed7953"
             ],
             [
              0.7777777777777778,
              "#fb9f3a"
             ],
             [
              0.8888888888888888,
              "#fdca26"
             ],
             [
              1,
              "#f0f921"
             ]
            ],
            "type": "contour"
           }
          ],
          "contourcarpet": [
           {
            "colorbar": {
             "outlinewidth": 0,
             "ticks": ""
            },
            "type": "contourcarpet"
           }
          ],
          "heatmap": [
           {
            "colorbar": {
             "outlinewidth": 0,
             "ticks": ""
            },
            "colorscale": [
             [
              0,
              "#0d0887"
             ],
             [
              0.1111111111111111,
              "#46039f"
             ],
             [
              0.2222222222222222,
              "#7201a8"
             ],
             [
              0.3333333333333333,
              "#9c179e"
             ],
             [
              0.4444444444444444,
              "#bd3786"
             ],
             [
              0.5555555555555556,
              "#d8576b"
             ],
             [
              0.6666666666666666,
              "#ed7953"
             ],
             [
              0.7777777777777778,
              "#fb9f3a"
             ],
             [
              0.8888888888888888,
              "#fdca26"
             ],
             [
              1,
              "#f0f921"
             ]
            ],
            "type": "heatmap"
           }
          ],
          "heatmapgl": [
           {
            "colorbar": {
             "outlinewidth": 0,
             "ticks": ""
            },
            "colorscale": [
             [
              0,
              "#0d0887"
             ],
             [
              0.1111111111111111,
              "#46039f"
             ],
             [
              0.2222222222222222,
              "#7201a8"
             ],
             [
              0.3333333333333333,
              "#9c179e"
             ],
             [
              0.4444444444444444,
              "#bd3786"
             ],
             [
              0.5555555555555556,
              "#d8576b"
             ],
             [
              0.6666666666666666,
              "#ed7953"
             ],
             [
              0.7777777777777778,
              "#fb9f3a"
             ],
             [
              0.8888888888888888,
              "#fdca26"
             ],
             [
              1,
              "#f0f921"
             ]
            ],
            "type": "heatmapgl"
           }
          ],
          "histogram": [
           {
            "marker": {
             "pattern": {
              "fillmode": "overlay",
              "size": 10,
              "solidity": 0.2
             }
            },
            "type": "histogram"
           }
          ],
          "histogram2d": [
           {
            "colorbar": {
             "outlinewidth": 0,
             "ticks": ""
            },
            "colorscale": [
             [
              0,
              "#0d0887"
             ],
             [
              0.1111111111111111,
              "#46039f"
             ],
             [
              0.2222222222222222,
              "#7201a8"
             ],
             [
              0.3333333333333333,
              "#9c179e"
             ],
             [
              0.4444444444444444,
              "#bd3786"
             ],
             [
              0.5555555555555556,
              "#d8576b"
             ],
             [
              0.6666666666666666,
              "#ed7953"
             ],
             [
              0.7777777777777778,
              "#fb9f3a"
             ],
             [
              0.8888888888888888,
              "#fdca26"
             ],
             [
              1,
              "#f0f921"
             ]
            ],
            "type": "histogram2d"
           }
          ],
          "histogram2dcontour": [
           {
            "colorbar": {
             "outlinewidth": 0,
             "ticks": ""
            },
            "colorscale": [
             [
              0,
              "#0d0887"
             ],
             [
              0.1111111111111111,
              "#46039f"
             ],
             [
              0.2222222222222222,
              "#7201a8"
             ],
             [
              0.3333333333333333,
              "#9c179e"
             ],
             [
              0.4444444444444444,
              "#bd3786"
             ],
             [
              0.5555555555555556,
              "#d8576b"
             ],
             [
              0.6666666666666666,
              "#ed7953"
             ],
             [
              0.7777777777777778,
              "#fb9f3a"
             ],
             [
              0.8888888888888888,
              "#fdca26"
             ],
             [
              1,
              "#f0f921"
             ]
            ],
            "type": "histogram2dcontour"
           }
          ],
          "mesh3d": [
           {
            "colorbar": {
             "outlinewidth": 0,
             "ticks": ""
            },
            "type": "mesh3d"
           }
          ],
          "parcoords": [
           {
            "line": {
             "colorbar": {
              "outlinewidth": 0,
              "ticks": ""
             }
            },
            "type": "parcoords"
           }
          ],
          "pie": [
           {
            "automargin": true,
            "type": "pie"
           }
          ],
          "scatter": [
           {
            "fillpattern": {
             "fillmode": "overlay",
             "size": 10,
             "solidity": 0.2
            },
            "type": "scatter"
           }
          ],
          "scatter3d": [
           {
            "line": {
             "colorbar": {
              "outlinewidth": 0,
              "ticks": ""
             }
            },
            "marker": {
             "colorbar": {
              "outlinewidth": 0,
              "ticks": ""
             }
            },
            "type": "scatter3d"
           }
          ],
          "scattercarpet": [
           {
            "marker": {
             "colorbar": {
              "outlinewidth": 0,
              "ticks": ""
             }
            },
            "type": "scattercarpet"
           }
          ],
          "scattergeo": [
           {
            "marker": {
             "colorbar": {
              "outlinewidth": 0,
              "ticks": ""
             }
            },
            "type": "scattergeo"
           }
          ],
          "scattergl": [
           {
            "marker": {
             "colorbar": {
              "outlinewidth": 0,
              "ticks": ""
             }
            },
            "type": "scattergl"
           }
          ],
          "scattermapbox": [
           {
            "marker": {
             "colorbar": {
              "outlinewidth": 0,
              "ticks": ""
             }
            },
            "type": "scattermapbox"
           }
          ],
          "scatterpolar": [
           {
            "marker": {
             "colorbar": {
              "outlinewidth": 0,
              "ticks": ""
             }
            },
            "type": "scatterpolar"
           }
          ],
          "scatterpolargl": [
           {
            "marker": {
             "colorbar": {
              "outlinewidth": 0,
              "ticks": ""
             }
            },
            "type": "scatterpolargl"
           }
          ],
          "scatterternary": [
           {
            "marker": {
             "colorbar": {
              "outlinewidth": 0,
              "ticks": ""
             }
            },
            "type": "scatterternary"
           }
          ],
          "surface": [
           {
            "colorbar": {
             "outlinewidth": 0,
             "ticks": ""
            },
            "colorscale": [
             [
              0,
              "#0d0887"
             ],
             [
              0.1111111111111111,
              "#46039f"
             ],
             [
              0.2222222222222222,
              "#7201a8"
             ],
             [
              0.3333333333333333,
              "#9c179e"
             ],
             [
              0.4444444444444444,
              "#bd3786"
             ],
             [
              0.5555555555555556,
              "#d8576b"
             ],
             [
              0.6666666666666666,
              "#ed7953"
             ],
             [
              0.7777777777777778,
              "#fb9f3a"
             ],
             [
              0.8888888888888888,
              "#fdca26"
             ],
             [
              1,
              "#f0f921"
             ]
            ],
            "type": "surface"
           }
          ],
          "table": [
           {
            "cells": {
             "fill": {
              "color": "#EBF0F8"
             },
             "line": {
              "color": "white"
             }
            },
            "header": {
             "fill": {
              "color": "#C8D4E3"
             },
             "line": {
              "color": "white"
             }
            },
            "type": "table"
           }
          ]
         },
         "layout": {
          "annotationdefaults": {
           "arrowcolor": "#2a3f5f",
           "arrowhead": 0,
           "arrowwidth": 1
          },
          "autotypenumbers": "strict",
          "coloraxis": {
           "colorbar": {
            "outlinewidth": 0,
            "ticks": ""
           }
          },
          "colorscale": {
           "diverging": [
            [
             0,
             "#8e0152"
            ],
            [
             0.1,
             "#c51b7d"
            ],
            [
             0.2,
             "#de77ae"
            ],
            [
             0.3,
             "#f1b6da"
            ],
            [
             0.4,
             "#fde0ef"
            ],
            [
             0.5,
             "#f7f7f7"
            ],
            [
             0.6,
             "#e6f5d0"
            ],
            [
             0.7,
             "#b8e186"
            ],
            [
             0.8,
             "#7fbc41"
            ],
            [
             0.9,
             "#4d9221"
            ],
            [
             1,
             "#276419"
            ]
           ],
           "sequential": [
            [
             0,
             "#0d0887"
            ],
            [
             0.1111111111111111,
             "#46039f"
            ],
            [
             0.2222222222222222,
             "#7201a8"
            ],
            [
             0.3333333333333333,
             "#9c179e"
            ],
            [
             0.4444444444444444,
             "#bd3786"
            ],
            [
             0.5555555555555556,
             "#d8576b"
            ],
            [
             0.6666666666666666,
             "#ed7953"
            ],
            [
             0.7777777777777778,
             "#fb9f3a"
            ],
            [
             0.8888888888888888,
             "#fdca26"
            ],
            [
             1,
             "#f0f921"
            ]
           ],
           "sequentialminus": [
            [
             0,
             "#0d0887"
            ],
            [
             0.1111111111111111,
             "#46039f"
            ],
            [
             0.2222222222222222,
             "#7201a8"
            ],
            [
             0.3333333333333333,
             "#9c179e"
            ],
            [
             0.4444444444444444,
             "#bd3786"
            ],
            [
             0.5555555555555556,
             "#d8576b"
            ],
            [
             0.6666666666666666,
             "#ed7953"
            ],
            [
             0.7777777777777778,
             "#fb9f3a"
            ],
            [
             0.8888888888888888,
             "#fdca26"
            ],
            [
             1,
             "#f0f921"
            ]
           ]
          },
          "colorway": [
           "#636efa",
           "#EF553B",
           "#00cc96",
           "#ab63fa",
           "#FFA15A",
           "#19d3f3",
           "#FF6692",
           "#B6E880",
           "#FF97FF",
           "#FECB52"
          ],
          "font": {
           "color": "#2a3f5f"
          },
          "geo": {
           "bgcolor": "white",
           "lakecolor": "white",
           "landcolor": "#E5ECF6",
           "showlakes": true,
           "showland": true,
           "subunitcolor": "white"
          },
          "hoverlabel": {
           "align": "left"
          },
          "hovermode": "closest",
          "mapbox": {
           "style": "light"
          },
          "paper_bgcolor": "white",
          "plot_bgcolor": "#E5ECF6",
          "polar": {
           "angularaxis": {
            "gridcolor": "white",
            "linecolor": "white",
            "ticks": ""
           },
           "bgcolor": "#E5ECF6",
           "radialaxis": {
            "gridcolor": "white",
            "linecolor": "white",
            "ticks": ""
           }
          },
          "scene": {
           "xaxis": {
            "backgroundcolor": "#E5ECF6",
            "gridcolor": "white",
            "gridwidth": 2,
            "linecolor": "white",
            "showbackground": true,
            "ticks": "",
            "zerolinecolor": "white"
           },
           "yaxis": {
            "backgroundcolor": "#E5ECF6",
            "gridcolor": "white",
            "gridwidth": 2,
            "linecolor": "white",
            "showbackground": true,
            "ticks": "",
            "zerolinecolor": "white"
           },
           "zaxis": {
            "backgroundcolor": "#E5ECF6",
            "gridcolor": "white",
            "gridwidth": 2,
            "linecolor": "white",
            "showbackground": true,
            "ticks": "",
            "zerolinecolor": "white"
           }
          },
          "shapedefaults": {
           "line": {
            "color": "#2a3f5f"
           }
          },
          "ternary": {
           "aaxis": {
            "gridcolor": "white",
            "linecolor": "white",
            "ticks": ""
           },
           "baxis": {
            "gridcolor": "white",
            "linecolor": "white",
            "ticks": ""
           },
           "bgcolor": "#E5ECF6",
           "caxis": {
            "gridcolor": "white",
            "linecolor": "white",
            "ticks": ""
           }
          },
          "title": {
           "x": 0.05
          },
          "xaxis": {
           "automargin": true,
           "gridcolor": "white",
           "linecolor": "white",
           "ticks": "",
           "title": {
            "standoff": 15
           },
           "zerolinecolor": "white",
           "zerolinewidth": 2
          },
          "yaxis": {
           "automargin": true,
           "gridcolor": "white",
           "linecolor": "white",
           "ticks": "",
           "title": {
            "standoff": 15
           },
           "zerolinecolor": "white",
           "zerolinewidth": 2
          }
         }
        },
        "title": {
         "font": {
          "color": "#4D5663"
         }
        },
        "xaxis": {
         "gridcolor": "#E1E5ED",
         "showgrid": true,
         "tickfont": {
          "color": "#4D5663"
         },
         "title": {
          "font": {
           "color": "#4D5663"
          },
          "text": ""
         },
         "zerolinecolor": "#E1E5ED"
        },
        "yaxis": {
         "gridcolor": "#E1E5ED",
         "showgrid": true,
         "tickfont": {
          "color": "#4D5663"
         },
         "title": {
          "font": {
           "color": "#4D5663"
          },
          "text": ""
         },
         "zerolinecolor": "#E1E5ED"
        }
       }
      },
      "text/html": [
       "<div>                            <div id=\"27713249-2882-456d-81dc-88ed7dbcb1dc\" class=\"plotly-graph-div\" style=\"height:525px; width:100%;\"></div>            <script type=\"text/javascript\">                require([\"plotly\"], function(Plotly) {                    window.PLOTLYENV=window.PLOTLYENV || {};\n",
       "                    window.PLOTLYENV.BASE_URL='https://plot.ly';                                    if (document.getElementById(\"27713249-2882-456d-81dc-88ed7dbcb1dc\")) {                    Plotly.newPlot(                        \"27713249-2882-456d-81dc-88ed7dbcb1dc\",                        [{\"histfunc\":\"count\",\"histnorm\":\"\",\"marker\":{\"color\":\"rgba(255, 153, 51, 1.0)\",\"line\":{\"color\":\"#4D5663\",\"width\":1.3}},\"name\":\"A\",\"nbinsx\":50,\"opacity\":0.8,\"orientation\":\"v\",\"x\":[-1.9755500137656816,-0.061947778504821194,1.5859026175116797,-1.2531388336614748,-0.05439570455517902,-0.6099892593578193,-0.42597212415335045,1.30054514318552,1.6745245836944143,0.16101375678398513,-0.49292541050026917,-0.11917095742151543,-0.7009747802886002,-0.47467091820681706,-0.4017079488724917,-0.42615585580718507,0.0902833090343134,-0.03383157680340645,0.25125800723855946,0.09501082946377389,0.5867512968998098,-0.4693010654392666,0.46168204660174567,0.06495267830063275,0.2681084284590157,-1.4989026795597802,1.7641427480382965,1.4859196786280577,0.1539020337302631,-0.6840507459974362,-0.13423049695369402,0.7460726140571591,-0.7550366137892188,-0.0512034730653333,-0.4748090640569612,-2.3679114992432004,-0.30779199050609957,-0.49193289903124116,-0.7649607105286698,-2.613800799990971,0.6362381962494086,-0.8198854452978208,-0.4784810420305522,-0.30559539406897873,1.7417622654227076,1.9097958194435793,0.9406674466573566,-1.2094515522929468,0.6724277066552841,0.6042558126336943,1.695812684537749,-0.8894533401640422,-1.0307224681600358,0.004523554592124752,1.9757360700018838,0.5429180447534881,-0.47199893155343664,0.4749452873600385,-0.283517983931913,-0.04096698814947355,0.968045533265399,0.8935691476562685,-0.1899689680365186,-0.5352024057664848,-0.6306762033186569,-0.8819772809327792,-0.9249869852557837,-1.2795987736093142,-1.4906513234849743,-1.100933806912293,0.4967968785061232,0.4776917332224903,0.19840480678120576,-0.5678729808054858,-0.47050311886264523,-0.6848928388732589,-0.3447172724962305,-0.23794258475612443,2.165413060815801,0.6632483590585299,2.000157263583068,-0.05164465663250612,-0.32950100556886297,0.1233413534161667,-1.024280593332221,1.6328302707578288,-0.8922019505656237,-0.19277947000847248,1.778582913528921,1.2861142967242434,0.7478696272647315,0.7044550353283147,-0.4948989732262082,2.162621138218643,-0.07173258766074306,-0.9714490326513098,-0.25668971020006276,-0.9861809495110716,-1.157103541842868,1.1992610142491917],\"type\":\"histogram\"},{\"histfunc\":\"count\",\"histnorm\":\"\",\"marker\":{\"color\":\"rgba(55, 128, 191, 1.0)\",\"line\":{\"color\":\"#4D5663\",\"width\":1.3}},\"name\":\"B\",\"nbinsx\":50,\"opacity\":0.8,\"orientation\":\"v\",\"x\":[-0.6016205567329608,-0.6867847793895484,-1.004201098081681,0.5459610858692364,-0.5134277048058766,-1.7713803666089118,0.306265766114442,-0.4673808534970285,0.47774761494497525,0.5773418911213518,-0.9716562852965338,0.5691019831236278,0.47140735466440037,0.09296487685387636,0.36346199486628045,-0.21785167686542148,0.43661427182523044,-1.1043395826762386,-0.02671525336627313,1.6340557489474088,-0.4116937959977908,0.760627438099993,-1.419951605103263,1.56554617148626,-1.0612550505986134,-0.2791022850093874,-0.6538496117164647,-0.5413662862932657,0.770850384913509,0.5112478057109159,0.444885186950138,1.3539004781978206,2.2623286874734436,-0.862557473719299,0.5541222476581766,0.4349526898898684,1.3003541024884273,-0.9334222914281395,-0.018468505151828317,0.301456771856218,0.8893522858810824,0.9676579983417197,0.40723522186669053,0.8049924749506939,-0.040571046598925915,-0.7668702851597023,1.2011848352922634,1.7413782411913143,-0.3627601644549942,0.8029425027984123,-1.2379383287509398,0.650388747065542,1.1512941141212873,0.8082910662466302,0.002804675896032924,0.040444707117679946,1.0075910275877349,1.566362282752962,1.727518610682044,0.43208798978099616,-0.37729306749409824,0.3583192853709636,2.245267346888914,-1.2931892852342348,0.49825288910292637,0.18173575684733229,-0.003765766788964723,0.788228363907951,0.14540007233038146,-2.8471785813920847,0.901525280729787,0.47931178935779756,-0.75054262406477,-0.1895272526767355,-0.16111055958515572,0.43926869577158684,-2.007298526805992,0.14872350274937846,-0.7897899064104688,-0.8739822093248697,0.8077072001297577,1.0106425845267275,-1.3871824837780988,-0.802777519106265,-0.665337553159498,-0.5965212412716,0.8824586708505167,-1.31436743946511,-0.11327313080949342,0.3357969652076104,0.7522800234797223,-1.1915982770371818,-0.6620972204720901,-1.5865209839733985,0.25954986753324477,-0.34864819900329097,0.6164677893891793,-0.006340506992387929,0.05375386835791097,-0.04750243008043119],\"type\":\"histogram\"},{\"histfunc\":\"count\",\"histnorm\":\"\",\"marker\":{\"color\":\"rgba(50, 171, 96, 1.0)\",\"line\":{\"color\":\"#4D5663\",\"width\":1.3}},\"name\":\"C\",\"nbinsx\":50,\"opacity\":0.8,\"orientation\":\"v\",\"x\":[-0.6704082264197347,-0.9712370065255008,0.4111150132211941,0.06505043483094419,0.09597347386637531,-0.17805257026137314,0.6266282123253187,-0.06944538525399793,1.0434066129333317,0.8321859041473956,0.23176254064018448,-0.36957242731347956,0.9693310064414132,-1.065613557626272,-0.08607110397003176,0.38839255569323583,-0.6766161417161143,-1.2143473333630788,1.1433139815906899,1.1489106765854245,-0.4233004052413279,-0.14674342975009205,-1.5470081603989874,0.5449565142853104,0.9436920674861845,-0.8578130086197939,-0.8706007914367132,-0.4674439125957368,0.7295679758333566,-1.5659532199503727,-0.6302577800291368,0.002036162897837701,0.08527473566789949,0.4114993953567297,0.5831547536114501,-0.8417649892373862,-0.15206125243366583,0.6558559082815361,0.4739620700333792,1.6503138194249127,0.261093633651454,1.488587165162164,0.29469611827486414,0.25496389058589275,-1.2652526156028097,-0.7532256723724051,-0.9099639520318753,1.1441345960738158,0.5949919924224334,-0.10782459485723767,0.2140567254164145,0.14147781374699772,1.0340849306590991,0.24670441031205223,0.583944717414109,-0.4151649571540205,-1.5680514211874341,1.0757553302227085,-2.196377096070879,-1.0909931476373194,-0.4456730180087001,0.22966449358967897,0.5457957358256748,0.8832981164864001,-1.1263605017015514,-0.40180359216850925,-1.232443932460566,0.26566029104465116,1.0724285813704941,0.04514430706016189,0.37813651962983186,1.1153581424377124,-0.2879208413779026,0.08049124917956914,-0.06135085527396157,-0.37693758217424916,1.1830320069813256,0.16995226333775676,1.7774620506505168,-0.8895255904170345,1.3944174805345486,-1.850060721313199,-1.3417035530645616,0.9391082966584445,0.9700589698321128,-1.604452147419455,0.6676364870219649,-1.1239638929995208,0.9866181703538464,-0.47245120246747085,0.14307948466401546,1.6194032925395008,0.28707929556088013,-2.0633114742281067,0.984871614465747,-0.0005197875955629226,1.28016775843392,0.38145099065980237,1.0181992084337197,0.0007496653025990152],\"type\":\"histogram\"},{\"histfunc\":\"count\",\"histnorm\":\"\",\"marker\":{\"color\":\"rgba(128, 0, 128, 1.0)\",\"line\":{\"color\":\"#4D5663\",\"width\":1.3}},\"name\":\"D\",\"nbinsx\":50,\"opacity\":0.8,\"orientation\":\"v\",\"x\":[-2.737247075994404,-0.371622137785998,0.4977872389088978,-0.25556722608188853,0.134844530196423,-0.9602501249253127,-0.2397917100705879,1.0344184850748666,0.8514263520822619,1.35122525523941,2.604635190520853,1.947767040875128,-1.3512387261342127,-0.9427769645828806,-2.063505088898325,-0.4870830116381731,0.25588158907185315,-1.0742236315172862,0.956877807016473,0.7333863213035633,-1.213437837026288,2.2599800326715225,-1.3391245764493112,-0.20150175200419704,-1.4517678541192687,0.1016744241682496,-1.5033897478410911,-0.1243391491925989,1.4436217338806754,-1.7133911850641386,0.26108774988306366,1.0056905498192663,-0.26248250730553535,0.24236503012727867,1.0519009772779324,0.321102619498424,-0.6304503190093411,0.8010048587525489,-0.026863296121999822,-0.6005877821544191,-0.0049922649277795465,-2.6221756364222157,-0.42984055050945774,-0.1443655516573191,-0.904478920086068,-0.07364609801508223,1.018411591964657,-0.43294602375333335,-0.5695326411619899,0.7594130903281197,-0.2006312780575331,-0.2347940580504846,0.8139954950920132,-0.8807999455752871,0.7163484752256508,0.40615245114971854,-0.8071198924710938,0.7767107762697273,-0.28877910715950894,0.8149223997578482,-0.3362381266307819,0.9522356397473453,-0.5898704926150133,-0.9772068149269224,0.737315638695283,0.34127453265489327,-0.6552094825700808,-1.6030076880442323,-1.5895923338532951,-0.012103775562117147,-0.29541678817590195,-0.12222407499725159,-1.0574075864876884,0.03501734189575078,-0.4077052603736408,0.21432227712942017,1.3691699925778178,-0.539074619860555,-0.8037180119982591,-0.7443299088773537,1.522871279279115,-0.08863780207150675,1.3100439989179171,-1.5140910484576355,1.6857952570240735,-1.9593945449784622,0.618036635263452,0.5793747989395617,-0.18701217121788372,-0.4302273446214045,-0.18418614363508462,0.48564593255997734,1.1067954050511588,-0.48813267343725975,-0.6718716102419712,-0.19220311340207014,0.6295952841880968,-0.651678727558497,1.3370584169131228,0.35362929920522856],\"type\":\"histogram\"}],                        {\"barmode\":\"overlay\",\"legend\":{\"bgcolor\":\"#F5F6F9\",\"font\":{\"color\":\"#4D5663\"}},\"paper_bgcolor\":\"#F5F6F9\",\"plot_bgcolor\":\"#F5F6F9\",\"template\":{\"data\":{\"barpolar\":[{\"marker\":{\"line\":{\"color\":\"#E5ECF6\",\"width\":0.5},\"pattern\":{\"fillmode\":\"overlay\",\"size\":10,\"solidity\":0.2}},\"type\":\"barpolar\"}],\"bar\":[{\"error_x\":{\"color\":\"#2a3f5f\"},\"error_y\":{\"color\":\"#2a3f5f\"},\"marker\":{\"line\":{\"color\":\"#E5ECF6\",\"width\":0.5},\"pattern\":{\"fillmode\":\"overlay\",\"size\":10,\"solidity\":0.2}},\"type\":\"bar\"}],\"carpet\":[{\"aaxis\":{\"endlinecolor\":\"#2a3f5f\",\"gridcolor\":\"white\",\"linecolor\":\"white\",\"minorgridcolor\":\"white\",\"startlinecolor\":\"#2a3f5f\"},\"baxis\":{\"endlinecolor\":\"#2a3f5f\",\"gridcolor\":\"white\",\"linecolor\":\"white\",\"minorgridcolor\":\"white\",\"startlinecolor\":\"#2a3f5f\"},\"type\":\"carpet\"}],\"choropleth\":[{\"colorbar\":{\"outlinewidth\":0,\"ticks\":\"\"},\"type\":\"choropleth\"}],\"contourcarpet\":[{\"colorbar\":{\"outlinewidth\":0,\"ticks\":\"\"},\"type\":\"contourcarpet\"}],\"contour\":[{\"colorbar\":{\"outlinewidth\":0,\"ticks\":\"\"},\"colorscale\":[[0.0,\"#0d0887\"],[0.1111111111111111,\"#46039f\"],[0.2222222222222222,\"#7201a8\"],[0.3333333333333333,\"#9c179e\"],[0.4444444444444444,\"#bd3786\"],[0.5555555555555556,\"#d8576b\"],[0.6666666666666666,\"#ed7953\"],[0.7777777777777778,\"#fb9f3a\"],[0.8888888888888888,\"#fdca26\"],[1.0,\"#f0f921\"]],\"type\":\"contour\"}],\"heatmapgl\":[{\"colorbar\":{\"outlinewidth\":0,\"ticks\":\"\"},\"colorscale\":[[0.0,\"#0d0887\"],[0.1111111111111111,\"#46039f\"],[0.2222222222222222,\"#7201a8\"],[0.3333333333333333,\"#9c179e\"],[0.4444444444444444,\"#bd3786\"],[0.5555555555555556,\"#d8576b\"],[0.6666666666666666,\"#ed7953\"],[0.7777777777777778,\"#fb9f3a\"],[0.8888888888888888,\"#fdca26\"],[1.0,\"#f0f921\"]],\"type\":\"heatmapgl\"}],\"heatmap\":[{\"colorbar\":{\"outlinewidth\":0,\"ticks\":\"\"},\"colorscale\":[[0.0,\"#0d0887\"],[0.1111111111111111,\"#46039f\"],[0.2222222222222222,\"#7201a8\"],[0.3333333333333333,\"#9c179e\"],[0.4444444444444444,\"#bd3786\"],[0.5555555555555556,\"#d8576b\"],[0.6666666666666666,\"#ed7953\"],[0.7777777777777778,\"#fb9f3a\"],[0.8888888888888888,\"#fdca26\"],[1.0,\"#f0f921\"]],\"type\":\"heatmap\"}],\"histogram2dcontour\":[{\"colorbar\":{\"outlinewidth\":0,\"ticks\":\"\"},\"colorscale\":[[0.0,\"#0d0887\"],[0.1111111111111111,\"#46039f\"],[0.2222222222222222,\"#7201a8\"],[0.3333333333333333,\"#9c179e\"],[0.4444444444444444,\"#bd3786\"],[0.5555555555555556,\"#d8576b\"],[0.6666666666666666,\"#ed7953\"],[0.7777777777777778,\"#fb9f3a\"],[0.8888888888888888,\"#fdca26\"],[1.0,\"#f0f921\"]],\"type\":\"histogram2dcontour\"}],\"histogram2d\":[{\"colorbar\":{\"outlinewidth\":0,\"ticks\":\"\"},\"colorscale\":[[0.0,\"#0d0887\"],[0.1111111111111111,\"#46039f\"],[0.2222222222222222,\"#7201a8\"],[0.3333333333333333,\"#9c179e\"],[0.4444444444444444,\"#bd3786\"],[0.5555555555555556,\"#d8576b\"],[0.6666666666666666,\"#ed7953\"],[0.7777777777777778,\"#fb9f3a\"],[0.8888888888888888,\"#fdca26\"],[1.0,\"#f0f921\"]],\"type\":\"histogram2d\"}],\"histogram\":[{\"marker\":{\"pattern\":{\"fillmode\":\"overlay\",\"size\":10,\"solidity\":0.2}},\"type\":\"histogram\"}],\"mesh3d\":[{\"colorbar\":{\"outlinewidth\":0,\"ticks\":\"\"},\"type\":\"mesh3d\"}],\"parcoords\":[{\"line\":{\"colorbar\":{\"outlinewidth\":0,\"ticks\":\"\"}},\"type\":\"parcoords\"}],\"pie\":[{\"automargin\":true,\"type\":\"pie\"}],\"scatter3d\":[{\"line\":{\"colorbar\":{\"outlinewidth\":0,\"ticks\":\"\"}},\"marker\":{\"colorbar\":{\"outlinewidth\":0,\"ticks\":\"\"}},\"type\":\"scatter3d\"}],\"scattercarpet\":[{\"marker\":{\"colorbar\":{\"outlinewidth\":0,\"ticks\":\"\"}},\"type\":\"scattercarpet\"}],\"scattergeo\":[{\"marker\":{\"colorbar\":{\"outlinewidth\":0,\"ticks\":\"\"}},\"type\":\"scattergeo\"}],\"scattergl\":[{\"marker\":{\"colorbar\":{\"outlinewidth\":0,\"ticks\":\"\"}},\"type\":\"scattergl\"}],\"scattermapbox\":[{\"marker\":{\"colorbar\":{\"outlinewidth\":0,\"ticks\":\"\"}},\"type\":\"scattermapbox\"}],\"scatterpolargl\":[{\"marker\":{\"colorbar\":{\"outlinewidth\":0,\"ticks\":\"\"}},\"type\":\"scatterpolargl\"}],\"scatterpolar\":[{\"marker\":{\"colorbar\":{\"outlinewidth\":0,\"ticks\":\"\"}},\"type\":\"scatterpolar\"}],\"scatter\":[{\"fillpattern\":{\"fillmode\":\"overlay\",\"size\":10,\"solidity\":0.2},\"type\":\"scatter\"}],\"scatterternary\":[{\"marker\":{\"colorbar\":{\"outlinewidth\":0,\"ticks\":\"\"}},\"type\":\"scatterternary\"}],\"surface\":[{\"colorbar\":{\"outlinewidth\":0,\"ticks\":\"\"},\"colorscale\":[[0.0,\"#0d0887\"],[0.1111111111111111,\"#46039f\"],[0.2222222222222222,\"#7201a8\"],[0.3333333333333333,\"#9c179e\"],[0.4444444444444444,\"#bd3786\"],[0.5555555555555556,\"#d8576b\"],[0.6666666666666666,\"#ed7953\"],[0.7777777777777778,\"#fb9f3a\"],[0.8888888888888888,\"#fdca26\"],[1.0,\"#f0f921\"]],\"type\":\"surface\"}],\"table\":[{\"cells\":{\"fill\":{\"color\":\"#EBF0F8\"},\"line\":{\"color\":\"white\"}},\"header\":{\"fill\":{\"color\":\"#C8D4E3\"},\"line\":{\"color\":\"white\"}},\"type\":\"table\"}]},\"layout\":{\"annotationdefaults\":{\"arrowcolor\":\"#2a3f5f\",\"arrowhead\":0,\"arrowwidth\":1},\"autotypenumbers\":\"strict\",\"coloraxis\":{\"colorbar\":{\"outlinewidth\":0,\"ticks\":\"\"}},\"colorscale\":{\"diverging\":[[0,\"#8e0152\"],[0.1,\"#c51b7d\"],[0.2,\"#de77ae\"],[0.3,\"#f1b6da\"],[0.4,\"#fde0ef\"],[0.5,\"#f7f7f7\"],[0.6,\"#e6f5d0\"],[0.7,\"#b8e186\"],[0.8,\"#7fbc41\"],[0.9,\"#4d9221\"],[1,\"#276419\"]],\"sequential\":[[0.0,\"#0d0887\"],[0.1111111111111111,\"#46039f\"],[0.2222222222222222,\"#7201a8\"],[0.3333333333333333,\"#9c179e\"],[0.4444444444444444,\"#bd3786\"],[0.5555555555555556,\"#d8576b\"],[0.6666666666666666,\"#ed7953\"],[0.7777777777777778,\"#fb9f3a\"],[0.8888888888888888,\"#fdca26\"],[1.0,\"#f0f921\"]],\"sequentialminus\":[[0.0,\"#0d0887\"],[0.1111111111111111,\"#46039f\"],[0.2222222222222222,\"#7201a8\"],[0.3333333333333333,\"#9c179e\"],[0.4444444444444444,\"#bd3786\"],[0.5555555555555556,\"#d8576b\"],[0.6666666666666666,\"#ed7953\"],[0.7777777777777778,\"#fb9f3a\"],[0.8888888888888888,\"#fdca26\"],[1.0,\"#f0f921\"]]},\"colorway\":[\"#636efa\",\"#EF553B\",\"#00cc96\",\"#ab63fa\",\"#FFA15A\",\"#19d3f3\",\"#FF6692\",\"#B6E880\",\"#FF97FF\",\"#FECB52\"],\"font\":{\"color\":\"#2a3f5f\"},\"geo\":{\"bgcolor\":\"white\",\"lakecolor\":\"white\",\"landcolor\":\"#E5ECF6\",\"showlakes\":true,\"showland\":true,\"subunitcolor\":\"white\"},\"hoverlabel\":{\"align\":\"left\"},\"hovermode\":\"closest\",\"mapbox\":{\"style\":\"light\"},\"paper_bgcolor\":\"white\",\"plot_bgcolor\":\"#E5ECF6\",\"polar\":{\"angularaxis\":{\"gridcolor\":\"white\",\"linecolor\":\"white\",\"ticks\":\"\"},\"bgcolor\":\"#E5ECF6\",\"radialaxis\":{\"gridcolor\":\"white\",\"linecolor\":\"white\",\"ticks\":\"\"}},\"scene\":{\"xaxis\":{\"backgroundcolor\":\"#E5ECF6\",\"gridcolor\":\"white\",\"gridwidth\":2,\"linecolor\":\"white\",\"showbackground\":true,\"ticks\":\"\",\"zerolinecolor\":\"white\"},\"yaxis\":{\"backgroundcolor\":\"#E5ECF6\",\"gridcolor\":\"white\",\"gridwidth\":2,\"linecolor\":\"white\",\"showbackground\":true,\"ticks\":\"\",\"zerolinecolor\":\"white\"},\"zaxis\":{\"backgroundcolor\":\"#E5ECF6\",\"gridcolor\":\"white\",\"gridwidth\":2,\"linecolor\":\"white\",\"showbackground\":true,\"ticks\":\"\",\"zerolinecolor\":\"white\"}},\"shapedefaults\":{\"line\":{\"color\":\"#2a3f5f\"}},\"ternary\":{\"aaxis\":{\"gridcolor\":\"white\",\"linecolor\":\"white\",\"ticks\":\"\"},\"baxis\":{\"gridcolor\":\"white\",\"linecolor\":\"white\",\"ticks\":\"\"},\"bgcolor\":\"#E5ECF6\",\"caxis\":{\"gridcolor\":\"white\",\"linecolor\":\"white\",\"ticks\":\"\"}},\"title\":{\"x\":0.05},\"xaxis\":{\"automargin\":true,\"gridcolor\":\"white\",\"linecolor\":\"white\",\"ticks\":\"\",\"title\":{\"standoff\":15},\"zerolinecolor\":\"white\",\"zerolinewidth\":2},\"yaxis\":{\"automargin\":true,\"gridcolor\":\"white\",\"linecolor\":\"white\",\"ticks\":\"\",\"title\":{\"standoff\":15},\"zerolinecolor\":\"white\",\"zerolinewidth\":2}}},\"title\":{\"font\":{\"color\":\"#4D5663\"}},\"xaxis\":{\"gridcolor\":\"#E1E5ED\",\"showgrid\":true,\"tickfont\":{\"color\":\"#4D5663\"},\"title\":{\"font\":{\"color\":\"#4D5663\"},\"text\":\"\"},\"zerolinecolor\":\"#E1E5ED\"},\"yaxis\":{\"gridcolor\":\"#E1E5ED\",\"showgrid\":true,\"tickfont\":{\"color\":\"#4D5663\"},\"title\":{\"font\":{\"color\":\"#4D5663\"},\"text\":\"\"},\"zerolinecolor\":\"#E1E5ED\"}},                        {\"showLink\": true, \"linkText\": \"Export to plot.ly\", \"plotlyServerURL\": \"https://plot.ly\", \"responsive\": true}                    ).then(function(){\n",
       "                            \n",
       "var gd = document.getElementById('27713249-2882-456d-81dc-88ed7dbcb1dc');\n",
       "var x = new MutationObserver(function (mutations, observer) {{\n",
       "        var display = window.getComputedStyle(gd).display;\n",
       "        if (!display || display === 'none') {{\n",
       "            console.log([gd, 'removed!']);\n",
       "            Plotly.purge(gd);\n",
       "            observer.disconnect();\n",
       "        }}\n",
       "}});\n",
       "\n",
       "// Listen for the removal of the full notebook cells\n",
       "var notebookContainer = gd.closest('#notebook-container');\n",
       "if (notebookContainer) {{\n",
       "    x.observe(notebookContainer, {childList: true});\n",
       "}}\n",
       "\n",
       "// Listen for the clearing of the current output cell\n",
       "var outputEl = gd.closest('.output');\n",
       "if (outputEl) {{\n",
       "    x.observe(outputEl, {childList: true});\n",
       "}}\n",
       "\n",
       "                        })                };                });            </script>        </div>"
      ]
     },
     "metadata": {},
     "output_type": "display_data"
    }
   ],
   "source": [
    "df.iplot(kind='hist',bins=50)"
   ]
  },
  {
   "cell_type": "code",
   "execution_count": 43,
   "id": "e418e85b",
   "metadata": {},
   "outputs": [
    {
     "name": "stderr",
     "output_type": "stream",
     "text": [
      "C:\\Users\\NH1021\\Anaconda3\\lib\\site-packages\\cufflinks\\plotlytools.py:849: FutureWarning:\n",
      "\n",
      "The pandas.np module is deprecated and will be removed from pandas in a future version. Import numpy directly instead.\n",
      "\n",
      "C:\\Users\\NH1021\\Anaconda3\\lib\\site-packages\\cufflinks\\plotlytools.py:850: FutureWarning:\n",
      "\n",
      "The pandas.np module is deprecated and will be removed from pandas in a future version. Import numpy directly instead.\n",
      "\n"
     ]
    },
    {
     "data": {
      "application/vnd.plotly.v1+json": {
       "config": {
        "linkText": "Export to plot.ly",
        "plotlyServerURL": "https://plot.ly",
        "showLink": true
       },
       "data": [
        {
         "line": {
          "color": "rgba(255, 153, 51, 1.0)",
          "dash": "solid",
          "shape": "linear",
          "width": 1.3
         },
         "mode": "lines",
         "name": "A",
         "text": "",
         "type": "scatter",
         "x": [
          0,
          1,
          2,
          3,
          4,
          5,
          6,
          7,
          8,
          9,
          10,
          11,
          12,
          13,
          14,
          15,
          16,
          17,
          18,
          19,
          20,
          21,
          22,
          23,
          24,
          25,
          26,
          27,
          28,
          29,
          30,
          31,
          32,
          33,
          34,
          35,
          36,
          37,
          38,
          39,
          40,
          41,
          42,
          43,
          44,
          45,
          46,
          47,
          48,
          49,
          50,
          51,
          52,
          53,
          54,
          55,
          56,
          57,
          58,
          59,
          60,
          61,
          62,
          63,
          64,
          65,
          66,
          67,
          68,
          69,
          70,
          71,
          72,
          73,
          74,
          75,
          76,
          77,
          78,
          79,
          80,
          81,
          82,
          83,
          84,
          85,
          86,
          87,
          88,
          89,
          90,
          91,
          92,
          93,
          94,
          95,
          96,
          97,
          98,
          99
         ],
         "y": [
          -1.9755500137656816,
          -0.061947778504821194,
          1.5859026175116797,
          -1.2531388336614748,
          -0.05439570455517902,
          -0.6099892593578193,
          -0.42597212415335045,
          1.30054514318552,
          1.6745245836944143,
          0.16101375678398513,
          -0.49292541050026917,
          -0.11917095742151543,
          -0.7009747802886002,
          -0.47467091820681706,
          -0.4017079488724917,
          -0.42615585580718507,
          0.0902833090343134,
          -0.03383157680340645,
          0.25125800723855946,
          0.09501082946377389,
          0.5867512968998098,
          -0.4693010654392666,
          0.46168204660174567,
          0.06495267830063275,
          0.2681084284590157,
          -1.4989026795597802,
          1.7641427480382965,
          1.4859196786280577,
          0.1539020337302631,
          -0.6840507459974362,
          -0.13423049695369402,
          0.7460726140571591,
          -0.7550366137892188,
          -0.0512034730653333,
          -0.4748090640569612,
          -2.3679114992432004,
          -0.30779199050609957,
          -0.49193289903124116,
          -0.7649607105286698,
          -2.613800799990971,
          0.6362381962494086,
          -0.8198854452978208,
          -0.4784810420305522,
          -0.30559539406897873,
          1.7417622654227076,
          1.9097958194435793,
          0.9406674466573566,
          -1.2094515522929468,
          0.6724277066552841,
          0.6042558126336943,
          1.695812684537749,
          -0.8894533401640422,
          -1.0307224681600358,
          0.004523554592124752,
          1.9757360700018838,
          0.5429180447534881,
          -0.47199893155343664,
          0.4749452873600385,
          -0.283517983931913,
          -0.04096698814947355,
          0.968045533265399,
          0.8935691476562685,
          -0.1899689680365186,
          -0.5352024057664848,
          -0.6306762033186569,
          -0.8819772809327792,
          -0.9249869852557837,
          -1.2795987736093142,
          -1.4906513234849743,
          -1.100933806912293,
          0.4967968785061232,
          0.4776917332224903,
          0.19840480678120576,
          -0.5678729808054858,
          -0.47050311886264523,
          -0.6848928388732589,
          -0.3447172724962305,
          -0.23794258475612443,
          2.165413060815801,
          0.6632483590585299,
          2.000157263583068,
          -0.05164465663250612,
          -0.32950100556886297,
          0.1233413534161667,
          -1.024280593332221,
          1.6328302707578288,
          -0.8922019505656237,
          -0.19277947000847248,
          1.778582913528921,
          1.2861142967242434,
          0.7478696272647315,
          0.7044550353283147,
          -0.4948989732262082,
          2.162621138218643,
          -0.07173258766074306,
          -0.9714490326513098,
          -0.25668971020006276,
          -0.9861809495110716,
          -1.157103541842868,
          1.1992610142491917
         ]
        },
        {
         "line": {
          "color": "rgba(55, 128, 191, 1.0)",
          "dash": "solid",
          "shape": "linear",
          "width": 1.3
         },
         "mode": "lines",
         "name": "B",
         "text": "",
         "type": "scatter",
         "x": [
          0,
          1,
          2,
          3,
          4,
          5,
          6,
          7,
          8,
          9,
          10,
          11,
          12,
          13,
          14,
          15,
          16,
          17,
          18,
          19,
          20,
          21,
          22,
          23,
          24,
          25,
          26,
          27,
          28,
          29,
          30,
          31,
          32,
          33,
          34,
          35,
          36,
          37,
          38,
          39,
          40,
          41,
          42,
          43,
          44,
          45,
          46,
          47,
          48,
          49,
          50,
          51,
          52,
          53,
          54,
          55,
          56,
          57,
          58,
          59,
          60,
          61,
          62,
          63,
          64,
          65,
          66,
          67,
          68,
          69,
          70,
          71,
          72,
          73,
          74,
          75,
          76,
          77,
          78,
          79,
          80,
          81,
          82,
          83,
          84,
          85,
          86,
          87,
          88,
          89,
          90,
          91,
          92,
          93,
          94,
          95,
          96,
          97,
          98,
          99
         ],
         "y": [
          -0.6016205567329608,
          -0.6867847793895484,
          -1.004201098081681,
          0.5459610858692364,
          -0.5134277048058766,
          -1.7713803666089118,
          0.306265766114442,
          -0.4673808534970285,
          0.47774761494497525,
          0.5773418911213518,
          -0.9716562852965338,
          0.5691019831236278,
          0.47140735466440037,
          0.09296487685387636,
          0.36346199486628045,
          -0.21785167686542148,
          0.43661427182523044,
          -1.1043395826762386,
          -0.02671525336627313,
          1.6340557489474088,
          -0.4116937959977908,
          0.760627438099993,
          -1.419951605103263,
          1.56554617148626,
          -1.0612550505986134,
          -0.2791022850093874,
          -0.6538496117164647,
          -0.5413662862932657,
          0.770850384913509,
          0.5112478057109159,
          0.444885186950138,
          1.3539004781978206,
          2.2623286874734436,
          -0.862557473719299,
          0.5541222476581766,
          0.4349526898898684,
          1.3003541024884273,
          -0.9334222914281395,
          -0.018468505151828317,
          0.301456771856218,
          0.8893522858810824,
          0.9676579983417197,
          0.40723522186669053,
          0.8049924749506939,
          -0.040571046598925915,
          -0.7668702851597023,
          1.2011848352922634,
          1.7413782411913143,
          -0.3627601644549942,
          0.8029425027984123,
          -1.2379383287509398,
          0.650388747065542,
          1.1512941141212873,
          0.8082910662466302,
          0.002804675896032924,
          0.040444707117679946,
          1.0075910275877349,
          1.566362282752962,
          1.727518610682044,
          0.43208798978099616,
          -0.37729306749409824,
          0.3583192853709636,
          2.245267346888914,
          -1.2931892852342348,
          0.49825288910292637,
          0.18173575684733229,
          -0.003765766788964723,
          0.788228363907951,
          0.14540007233038146,
          -2.8471785813920847,
          0.901525280729787,
          0.47931178935779756,
          -0.75054262406477,
          -0.1895272526767355,
          -0.16111055958515572,
          0.43926869577158684,
          -2.007298526805992,
          0.14872350274937846,
          -0.7897899064104688,
          -0.8739822093248697,
          0.8077072001297577,
          1.0106425845267275,
          -1.3871824837780988,
          -0.802777519106265,
          -0.665337553159498,
          -0.5965212412716,
          0.8824586708505167,
          -1.31436743946511,
          -0.11327313080949342,
          0.3357969652076104,
          0.7522800234797223,
          -1.1915982770371818,
          -0.6620972204720901,
          -1.5865209839733985,
          0.25954986753324477,
          -0.34864819900329097,
          0.6164677893891793,
          -0.006340506992387929,
          0.05375386835791097,
          -0.04750243008043119
         ]
        },
        {
         "connectgaps": false,
         "fill": "tozeroy",
         "line": {
          "color": "green",
          "dash": "solid",
          "shape": "linear",
          "width": 0.5
         },
         "mode": "lines",
         "name": "Spread",
         "showlegend": false,
         "type": "scatter",
         "x": [
          0,
          1,
          2,
          3,
          4,
          5,
          6,
          7,
          8,
          9,
          10,
          11,
          12,
          13,
          14,
          15,
          16,
          17,
          18,
          19,
          20,
          21,
          22,
          23,
          24,
          25,
          26,
          27,
          28,
          29,
          30,
          31,
          32,
          33,
          34,
          35,
          36,
          37,
          38,
          39,
          40,
          41,
          42,
          43,
          44,
          45,
          46,
          47,
          48,
          49,
          50,
          51,
          52,
          53,
          54,
          55,
          56,
          57,
          58,
          59,
          60,
          61,
          62,
          63,
          64,
          65,
          66,
          67,
          68,
          69,
          70,
          71,
          72,
          73,
          74,
          75,
          76,
          77,
          78,
          79,
          80,
          81,
          82,
          83,
          84,
          85,
          86,
          87,
          88,
          89,
          90,
          91,
          92,
          93,
          94,
          95,
          96,
          97,
          98,
          99
         ],
         "xaxis": "x2",
         "y": [
          "",
          0.6248370008847273,
          2.5901037155933606,
          "",
          0.4590320002506976,
          1.1613911072510925,
          "",
          1.7679259966825485,
          1.196776968749439,
          "",
          0.47873087479626464,
          "",
          "",
          "",
          "",
          "",
          "",
          1.070508005872832,
          0.2779732606048326,
          "",
          0.9984450928976005,
          "",
          1.8816336517050087,
          "",
          1.329363479057629,
          "",
          2.417992359754761,
          2.0272859649213233,
          "",
          "",
          "",
          "",
          "",
          0.8113540006539657,
          "",
          "",
          "",
          0.44148939239689833,
          "",
          "",
          "",
          "",
          "",
          "",
          1.7823333120216336,
          2.6766661046032816,
          "",
          "",
          1.0351878711102782,
          "",
          2.933751013288689,
          "",
          "",
          "",
          1.9729313941058508,
          0.5024733376358081,
          "",
          "",
          "",
          "",
          1.3453386007594972,
          0.5352498622853049,
          "",
          0.75798687946775,
          "",
          "",
          "",
          "",
          "",
          1.7462447744797918,
          "",
          "",
          0.9489474308459758,
          "",
          "",
          "",
          1.6625812543097616,
          "",
          2.9552029672262696,
          1.5372305683833996,
          1.1924500634533102,
          "",
          1.0576814782092359,
          0.9261188725224317,
          "",
          2.229351512029429,
          "",
          1.1215879694566375,
          1.8918560443384145,
          0.950317331516633,
          "",
          1.8960533123654963,
          0.1671982472458819,
          3.7491421221920413,
          "",
          "",
          "",
          "",
          "",
          1.246763444329623
         ],
         "yaxis": "y2"
        },
        {
         "connectgaps": false,
         "fill": "tozeroy",
         "line": {
          "color": "red",
          "dash": "solid",
          "shape": "linear",
          "width": 0.5
         },
         "mode": "lines",
         "name": "Spread",
         "showlegend": false,
         "type": "scatter",
         "x": [
          0,
          1,
          2,
          3,
          4,
          5,
          6,
          7,
          8,
          9,
          10,
          11,
          12,
          13,
          14,
          15,
          16,
          17,
          18,
          19,
          20,
          21,
          22,
          23,
          24,
          25,
          26,
          27,
          28,
          29,
          30,
          31,
          32,
          33,
          34,
          35,
          36,
          37,
          38,
          39,
          40,
          41,
          42,
          43,
          44,
          45,
          46,
          47,
          48,
          49,
          50,
          51,
          52,
          53,
          54,
          55,
          56,
          57,
          58,
          59,
          60,
          61,
          62,
          63,
          64,
          65,
          66,
          67,
          68,
          69,
          70,
          71,
          72,
          73,
          74,
          75,
          76,
          77,
          78,
          79,
          80,
          81,
          82,
          83,
          84,
          85,
          86,
          87,
          88,
          89,
          90,
          91,
          92,
          93,
          94,
          95,
          96,
          97,
          98,
          99
         ],
         "xaxis": "x2",
         "y": [
          -1.373929457032721,
          "",
          "",
          -1.7990999195307111,
          "",
          "",
          -0.7322378902677924,
          "",
          "",
          -0.4163281343373667,
          "",
          -0.6882729405451432,
          -1.1723821349530006,
          -0.5676357950606934,
          -0.7651699437387722,
          -0.2083041789417636,
          -0.346330962790917,
          "",
          "",
          -1.5390449194836349,
          "",
          -1.2299285035392595,
          "",
          -1.5005934931856273,
          "",
          -1.2198003945503928,
          "",
          "",
          -0.6169483511832459,
          -1.195298551708352,
          -0.5791156839038321,
          -0.6078278641406615,
          -3.0173653012626627,
          "",
          -1.0289313117151377,
          -2.802864189133069,
          -1.6081460929945268,
          "",
          -0.7464922053768415,
          -2.915257571847189,
          -0.2531140896316738,
          -1.7875434436395405,
          -0.8857162638972427,
          -1.1105878690196727,
          "",
          "",
          -0.2605173886349068,
          -2.950829793484261,
          "",
          -0.19868669016471796,
          "",
          -1.5398420872295842,
          -2.182016582281323,
          -0.8037675116545054,
          "",
          "",
          -1.4795899591411716,
          -1.0914169953929234,
          -2.011036594613957,
          -0.4730549779304697,
          "",
          "",
          -2.4352363149254326,
          "",
          -1.1289290924215833,
          -1.0637130377801114,
          -0.921221218466819,
          -2.0678271375172654,
          -1.6360513958153557,
          "",
          -0.4047284022236638,
          -0.0016200561353072462,
          "",
          -0.3783457281287502,
          -0.30939255927748954,
          -1.1241615346448457,
          "",
          -0.3866660875055029,
          "",
          "",
          "",
          -1.0622872411592337,
          "",
          "",
          -0.35894304017272294,
          "",
          -1.7746606214161402,
          "",
          "",
          "",
          -0.0044103962149908416,
          "",
          "",
          "",
          -0.3312824551939878,
          -0.6228008336480189,
          -0.8731574995892422,
          -0.9798404425186836,
          -1.210857410200779,
          ""
         ],
         "yaxis": "y2"
        }
       ],
       "layout": {
        "hovermode": "x",
        "legend": {
         "bgcolor": "#F5F6F9",
         "font": {
          "color": "#4D5663"
         }
        },
        "paper_bgcolor": "#F5F6F9",
        "plot_bgcolor": "#F5F6F9",
        "template": {
         "data": {
          "bar": [
           {
            "error_x": {
             "color": "#2a3f5f"
            },
            "error_y": {
             "color": "#2a3f5f"
            },
            "marker": {
             "line": {
              "color": "#E5ECF6",
              "width": 0.5
             },
             "pattern": {
              "fillmode": "overlay",
              "size": 10,
              "solidity": 0.2
             }
            },
            "type": "bar"
           }
          ],
          "barpolar": [
           {
            "marker": {
             "line": {
              "color": "#E5ECF6",
              "width": 0.5
             },
             "pattern": {
              "fillmode": "overlay",
              "size": 10,
              "solidity": 0.2
             }
            },
            "type": "barpolar"
           }
          ],
          "carpet": [
           {
            "aaxis": {
             "endlinecolor": "#2a3f5f",
             "gridcolor": "white",
             "linecolor": "white",
             "minorgridcolor": "white",
             "startlinecolor": "#2a3f5f"
            },
            "baxis": {
             "endlinecolor": "#2a3f5f",
             "gridcolor": "white",
             "linecolor": "white",
             "minorgridcolor": "white",
             "startlinecolor": "#2a3f5f"
            },
            "type": "carpet"
           }
          ],
          "choropleth": [
           {
            "colorbar": {
             "outlinewidth": 0,
             "ticks": ""
            },
            "type": "choropleth"
           }
          ],
          "contour": [
           {
            "colorbar": {
             "outlinewidth": 0,
             "ticks": ""
            },
            "colorscale": [
             [
              0,
              "#0d0887"
             ],
             [
              0.1111111111111111,
              "#46039f"
             ],
             [
              0.2222222222222222,
              "#7201a8"
             ],
             [
              0.3333333333333333,
              "#9c179e"
             ],
             [
              0.4444444444444444,
              "#bd3786"
             ],
             [
              0.5555555555555556,
              "#d8576b"
             ],
             [
              0.6666666666666666,
              "#ed7953"
             ],
             [
              0.7777777777777778,
              "#fb9f3a"
             ],
             [
              0.8888888888888888,
              "#fdca26"
             ],
             [
              1,
              "#f0f921"
             ]
            ],
            "type": "contour"
           }
          ],
          "contourcarpet": [
           {
            "colorbar": {
             "outlinewidth": 0,
             "ticks": ""
            },
            "type": "contourcarpet"
           }
          ],
          "heatmap": [
           {
            "colorbar": {
             "outlinewidth": 0,
             "ticks": ""
            },
            "colorscale": [
             [
              0,
              "#0d0887"
             ],
             [
              0.1111111111111111,
              "#46039f"
             ],
             [
              0.2222222222222222,
              "#7201a8"
             ],
             [
              0.3333333333333333,
              "#9c179e"
             ],
             [
              0.4444444444444444,
              "#bd3786"
             ],
             [
              0.5555555555555556,
              "#d8576b"
             ],
             [
              0.6666666666666666,
              "#ed7953"
             ],
             [
              0.7777777777777778,
              "#fb9f3a"
             ],
             [
              0.8888888888888888,
              "#fdca26"
             ],
             [
              1,
              "#f0f921"
             ]
            ],
            "type": "heatmap"
           }
          ],
          "heatmapgl": [
           {
            "colorbar": {
             "outlinewidth": 0,
             "ticks": ""
            },
            "colorscale": [
             [
              0,
              "#0d0887"
             ],
             [
              0.1111111111111111,
              "#46039f"
             ],
             [
              0.2222222222222222,
              "#7201a8"
             ],
             [
              0.3333333333333333,
              "#9c179e"
             ],
             [
              0.4444444444444444,
              "#bd3786"
             ],
             [
              0.5555555555555556,
              "#d8576b"
             ],
             [
              0.6666666666666666,
              "#ed7953"
             ],
             [
              0.7777777777777778,
              "#fb9f3a"
             ],
             [
              0.8888888888888888,
              "#fdca26"
             ],
             [
              1,
              "#f0f921"
             ]
            ],
            "type": "heatmapgl"
           }
          ],
          "histogram": [
           {
            "marker": {
             "pattern": {
              "fillmode": "overlay",
              "size": 10,
              "solidity": 0.2
             }
            },
            "type": "histogram"
           }
          ],
          "histogram2d": [
           {
            "colorbar": {
             "outlinewidth": 0,
             "ticks": ""
            },
            "colorscale": [
             [
              0,
              "#0d0887"
             ],
             [
              0.1111111111111111,
              "#46039f"
             ],
             [
              0.2222222222222222,
              "#7201a8"
             ],
             [
              0.3333333333333333,
              "#9c179e"
             ],
             [
              0.4444444444444444,
              "#bd3786"
             ],
             [
              0.5555555555555556,
              "#d8576b"
             ],
             [
              0.6666666666666666,
              "#ed7953"
             ],
             [
              0.7777777777777778,
              "#fb9f3a"
             ],
             [
              0.8888888888888888,
              "#fdca26"
             ],
             [
              1,
              "#f0f921"
             ]
            ],
            "type": "histogram2d"
           }
          ],
          "histogram2dcontour": [
           {
            "colorbar": {
             "outlinewidth": 0,
             "ticks": ""
            },
            "colorscale": [
             [
              0,
              "#0d0887"
             ],
             [
              0.1111111111111111,
              "#46039f"
             ],
             [
              0.2222222222222222,
              "#7201a8"
             ],
             [
              0.3333333333333333,
              "#9c179e"
             ],
             [
              0.4444444444444444,
              "#bd3786"
             ],
             [
              0.5555555555555556,
              "#d8576b"
             ],
             [
              0.6666666666666666,
              "#ed7953"
             ],
             [
              0.7777777777777778,
              "#fb9f3a"
             ],
             [
              0.8888888888888888,
              "#fdca26"
             ],
             [
              1,
              "#f0f921"
             ]
            ],
            "type": "histogram2dcontour"
           }
          ],
          "mesh3d": [
           {
            "colorbar": {
             "outlinewidth": 0,
             "ticks": ""
            },
            "type": "mesh3d"
           }
          ],
          "parcoords": [
           {
            "line": {
             "colorbar": {
              "outlinewidth": 0,
              "ticks": ""
             }
            },
            "type": "parcoords"
           }
          ],
          "pie": [
           {
            "automargin": true,
            "type": "pie"
           }
          ],
          "scatter": [
           {
            "fillpattern": {
             "fillmode": "overlay",
             "size": 10,
             "solidity": 0.2
            },
            "type": "scatter"
           }
          ],
          "scatter3d": [
           {
            "line": {
             "colorbar": {
              "outlinewidth": 0,
              "ticks": ""
             }
            },
            "marker": {
             "colorbar": {
              "outlinewidth": 0,
              "ticks": ""
             }
            },
            "type": "scatter3d"
           }
          ],
          "scattercarpet": [
           {
            "marker": {
             "colorbar": {
              "outlinewidth": 0,
              "ticks": ""
             }
            },
            "type": "scattercarpet"
           }
          ],
          "scattergeo": [
           {
            "marker": {
             "colorbar": {
              "outlinewidth": 0,
              "ticks": ""
             }
            },
            "type": "scattergeo"
           }
          ],
          "scattergl": [
           {
            "marker": {
             "colorbar": {
              "outlinewidth": 0,
              "ticks": ""
             }
            },
            "type": "scattergl"
           }
          ],
          "scattermapbox": [
           {
            "marker": {
             "colorbar": {
              "outlinewidth": 0,
              "ticks": ""
             }
            },
            "type": "scattermapbox"
           }
          ],
          "scatterpolar": [
           {
            "marker": {
             "colorbar": {
              "outlinewidth": 0,
              "ticks": ""
             }
            },
            "type": "scatterpolar"
           }
          ],
          "scatterpolargl": [
           {
            "marker": {
             "colorbar": {
              "outlinewidth": 0,
              "ticks": ""
             }
            },
            "type": "scatterpolargl"
           }
          ],
          "scatterternary": [
           {
            "marker": {
             "colorbar": {
              "outlinewidth": 0,
              "ticks": ""
             }
            },
            "type": "scatterternary"
           }
          ],
          "surface": [
           {
            "colorbar": {
             "outlinewidth": 0,
             "ticks": ""
            },
            "colorscale": [
             [
              0,
              "#0d0887"
             ],
             [
              0.1111111111111111,
              "#46039f"
             ],
             [
              0.2222222222222222,
              "#7201a8"
             ],
             [
              0.3333333333333333,
              "#9c179e"
             ],
             [
              0.4444444444444444,
              "#bd3786"
             ],
             [
              0.5555555555555556,
              "#d8576b"
             ],
             [
              0.6666666666666666,
              "#ed7953"
             ],
             [
              0.7777777777777778,
              "#fb9f3a"
             ],
             [
              0.8888888888888888,
              "#fdca26"
             ],
             [
              1,
              "#f0f921"
             ]
            ],
            "type": "surface"
           }
          ],
          "table": [
           {
            "cells": {
             "fill": {
              "color": "#EBF0F8"
             },
             "line": {
              "color": "white"
             }
            },
            "header": {
             "fill": {
              "color": "#C8D4E3"
             },
             "line": {
              "color": "white"
             }
            },
            "type": "table"
           }
          ]
         },
         "layout": {
          "annotationdefaults": {
           "arrowcolor": "#2a3f5f",
           "arrowhead": 0,
           "arrowwidth": 1
          },
          "autotypenumbers": "strict",
          "coloraxis": {
           "colorbar": {
            "outlinewidth": 0,
            "ticks": ""
           }
          },
          "colorscale": {
           "diverging": [
            [
             0,
             "#8e0152"
            ],
            [
             0.1,
             "#c51b7d"
            ],
            [
             0.2,
             "#de77ae"
            ],
            [
             0.3,
             "#f1b6da"
            ],
            [
             0.4,
             "#fde0ef"
            ],
            [
             0.5,
             "#f7f7f7"
            ],
            [
             0.6,
             "#e6f5d0"
            ],
            [
             0.7,
             "#b8e186"
            ],
            [
             0.8,
             "#7fbc41"
            ],
            [
             0.9,
             "#4d9221"
            ],
            [
             1,
             "#276419"
            ]
           ],
           "sequential": [
            [
             0,
             "#0d0887"
            ],
            [
             0.1111111111111111,
             "#46039f"
            ],
            [
             0.2222222222222222,
             "#7201a8"
            ],
            [
             0.3333333333333333,
             "#9c179e"
            ],
            [
             0.4444444444444444,
             "#bd3786"
            ],
            [
             0.5555555555555556,
             "#d8576b"
            ],
            [
             0.6666666666666666,
             "#ed7953"
            ],
            [
             0.7777777777777778,
             "#fb9f3a"
            ],
            [
             0.8888888888888888,
             "#fdca26"
            ],
            [
             1,
             "#f0f921"
            ]
           ],
           "sequentialminus": [
            [
             0,
             "#0d0887"
            ],
            [
             0.1111111111111111,
             "#46039f"
            ],
            [
             0.2222222222222222,
             "#7201a8"
            ],
            [
             0.3333333333333333,
             "#9c179e"
            ],
            [
             0.4444444444444444,
             "#bd3786"
            ],
            [
             0.5555555555555556,
             "#d8576b"
            ],
            [
             0.6666666666666666,
             "#ed7953"
            ],
            [
             0.7777777777777778,
             "#fb9f3a"
            ],
            [
             0.8888888888888888,
             "#fdca26"
            ],
            [
             1,
             "#f0f921"
            ]
           ]
          },
          "colorway": [
           "#636efa",
           "#EF553B",
           "#00cc96",
           "#ab63fa",
           "#FFA15A",
           "#19d3f3",
           "#FF6692",
           "#B6E880",
           "#FF97FF",
           "#FECB52"
          ],
          "font": {
           "color": "#2a3f5f"
          },
          "geo": {
           "bgcolor": "white",
           "lakecolor": "white",
           "landcolor": "#E5ECF6",
           "showlakes": true,
           "showland": true,
           "subunitcolor": "white"
          },
          "hoverlabel": {
           "align": "left"
          },
          "hovermode": "closest",
          "mapbox": {
           "style": "light"
          },
          "paper_bgcolor": "white",
          "plot_bgcolor": "#E5ECF6",
          "polar": {
           "angularaxis": {
            "gridcolor": "white",
            "linecolor": "white",
            "ticks": ""
           },
           "bgcolor": "#E5ECF6",
           "radialaxis": {
            "gridcolor": "white",
            "linecolor": "white",
            "ticks": ""
           }
          },
          "scene": {
           "xaxis": {
            "backgroundcolor": "#E5ECF6",
            "gridcolor": "white",
            "gridwidth": 2,
            "linecolor": "white",
            "showbackground": true,
            "ticks": "",
            "zerolinecolor": "white"
           },
           "yaxis": {
            "backgroundcolor": "#E5ECF6",
            "gridcolor": "white",
            "gridwidth": 2,
            "linecolor": "white",
            "showbackground": true,
            "ticks": "",
            "zerolinecolor": "white"
           },
           "zaxis": {
            "backgroundcolor": "#E5ECF6",
            "gridcolor": "white",
            "gridwidth": 2,
            "linecolor": "white",
            "showbackground": true,
            "ticks": "",
            "zerolinecolor": "white"
           }
          },
          "shapedefaults": {
           "line": {
            "color": "#2a3f5f"
           }
          },
          "ternary": {
           "aaxis": {
            "gridcolor": "white",
            "linecolor": "white",
            "ticks": ""
           },
           "baxis": {
            "gridcolor": "white",
            "linecolor": "white",
            "ticks": ""
           },
           "bgcolor": "#E5ECF6",
           "caxis": {
            "gridcolor": "white",
            "linecolor": "white",
            "ticks": ""
           }
          },
          "title": {
           "x": 0.05
          },
          "xaxis": {
           "automargin": true,
           "gridcolor": "white",
           "linecolor": "white",
           "ticks": "",
           "title": {
            "standoff": 15
           },
           "zerolinecolor": "white",
           "zerolinewidth": 2
          },
          "yaxis": {
           "automargin": true,
           "gridcolor": "white",
           "linecolor": "white",
           "ticks": "",
           "title": {
            "standoff": 15
           },
           "zerolinecolor": "white",
           "zerolinewidth": 2
          }
         }
        },
        "title": {
         "font": {
          "color": "#4D5663"
         }
        },
        "xaxis": {
         "gridcolor": "#E1E5ED",
         "showgrid": true,
         "tickfont": {
          "color": "#4D5663"
         },
         "title": {
          "font": {
           "color": "#4D5663"
          },
          "text": ""
         },
         "zerolinecolor": "#E1E5ED"
        },
        "xaxis2": {
         "anchor": "y2",
         "gridcolor": "#E1E5ED",
         "showgrid": true,
         "showticklabels": false,
         "tickfont": {
          "color": "#4D5663"
         },
         "title": {
          "font": {
           "color": "#4D5663"
          },
          "text": ""
         },
         "zerolinecolor": "#E1E5ED"
        },
        "yaxis": {
         "domain": [
          0.3,
          1
         ],
         "gridcolor": "#E1E5ED",
         "showgrid": true,
         "tickfont": {
          "color": "#4D5663"
         },
         "title": {
          "font": {
           "color": "#4D5663"
          },
          "text": ""
         },
         "zerolinecolor": "#E1E5ED"
        },
        "yaxis2": {
         "domain": [
          0,
          0.25
         ],
         "gridcolor": "#E1E5ED",
         "showgrid": true,
         "tickfont": {
          "color": "#4D5663"
         },
         "title": {
          "font": {
           "color": "#4D5663"
          },
          "text": "Spread"
         },
         "zerolinecolor": "#E1E5ED"
        }
       }
      },
      "text/html": [
       "<div>                            <div id=\"c70a91c5-e268-4b97-91a7-85c5016693aa\" class=\"plotly-graph-div\" style=\"height:525px; width:100%;\"></div>            <script type=\"text/javascript\">                require([\"plotly\"], function(Plotly) {                    window.PLOTLYENV=window.PLOTLYENV || {};\n",
       "                    window.PLOTLYENV.BASE_URL='https://plot.ly';                                    if (document.getElementById(\"c70a91c5-e268-4b97-91a7-85c5016693aa\")) {                    Plotly.newPlot(                        \"c70a91c5-e268-4b97-91a7-85c5016693aa\",                        [{\"line\":{\"color\":\"rgba(255, 153, 51, 1.0)\",\"dash\":\"solid\",\"shape\":\"linear\",\"width\":1.3},\"mode\":\"lines\",\"name\":\"A\",\"text\":\"\",\"x\":[0,1,2,3,4,5,6,7,8,9,10,11,12,13,14,15,16,17,18,19,20,21,22,23,24,25,26,27,28,29,30,31,32,33,34,35,36,37,38,39,40,41,42,43,44,45,46,47,48,49,50,51,52,53,54,55,56,57,58,59,60,61,62,63,64,65,66,67,68,69,70,71,72,73,74,75,76,77,78,79,80,81,82,83,84,85,86,87,88,89,90,91,92,93,94,95,96,97,98,99],\"y\":[-1.9755500137656816,-0.061947778504821194,1.5859026175116797,-1.2531388336614748,-0.05439570455517902,-0.6099892593578193,-0.42597212415335045,1.30054514318552,1.6745245836944143,0.16101375678398513,-0.49292541050026917,-0.11917095742151543,-0.7009747802886002,-0.47467091820681706,-0.4017079488724917,-0.42615585580718507,0.0902833090343134,-0.03383157680340645,0.25125800723855946,0.09501082946377389,0.5867512968998098,-0.4693010654392666,0.46168204660174567,0.06495267830063275,0.2681084284590157,-1.4989026795597802,1.7641427480382965,1.4859196786280577,0.1539020337302631,-0.6840507459974362,-0.13423049695369402,0.7460726140571591,-0.7550366137892188,-0.0512034730653333,-0.4748090640569612,-2.3679114992432004,-0.30779199050609957,-0.49193289903124116,-0.7649607105286698,-2.613800799990971,0.6362381962494086,-0.8198854452978208,-0.4784810420305522,-0.30559539406897873,1.7417622654227076,1.9097958194435793,0.9406674466573566,-1.2094515522929468,0.6724277066552841,0.6042558126336943,1.695812684537749,-0.8894533401640422,-1.0307224681600358,0.004523554592124752,1.9757360700018838,0.5429180447534881,-0.47199893155343664,0.4749452873600385,-0.283517983931913,-0.04096698814947355,0.968045533265399,0.8935691476562685,-0.1899689680365186,-0.5352024057664848,-0.6306762033186569,-0.8819772809327792,-0.9249869852557837,-1.2795987736093142,-1.4906513234849743,-1.100933806912293,0.4967968785061232,0.4776917332224903,0.19840480678120576,-0.5678729808054858,-0.47050311886264523,-0.6848928388732589,-0.3447172724962305,-0.23794258475612443,2.165413060815801,0.6632483590585299,2.000157263583068,-0.05164465663250612,-0.32950100556886297,0.1233413534161667,-1.024280593332221,1.6328302707578288,-0.8922019505656237,-0.19277947000847248,1.778582913528921,1.2861142967242434,0.7478696272647315,0.7044550353283147,-0.4948989732262082,2.162621138218643,-0.07173258766074306,-0.9714490326513098,-0.25668971020006276,-0.9861809495110716,-1.157103541842868,1.1992610142491917],\"type\":\"scatter\"},{\"line\":{\"color\":\"rgba(55, 128, 191, 1.0)\",\"dash\":\"solid\",\"shape\":\"linear\",\"width\":1.3},\"mode\":\"lines\",\"name\":\"B\",\"text\":\"\",\"x\":[0,1,2,3,4,5,6,7,8,9,10,11,12,13,14,15,16,17,18,19,20,21,22,23,24,25,26,27,28,29,30,31,32,33,34,35,36,37,38,39,40,41,42,43,44,45,46,47,48,49,50,51,52,53,54,55,56,57,58,59,60,61,62,63,64,65,66,67,68,69,70,71,72,73,74,75,76,77,78,79,80,81,82,83,84,85,86,87,88,89,90,91,92,93,94,95,96,97,98,99],\"y\":[-0.6016205567329608,-0.6867847793895484,-1.004201098081681,0.5459610858692364,-0.5134277048058766,-1.7713803666089118,0.306265766114442,-0.4673808534970285,0.47774761494497525,0.5773418911213518,-0.9716562852965338,0.5691019831236278,0.47140735466440037,0.09296487685387636,0.36346199486628045,-0.21785167686542148,0.43661427182523044,-1.1043395826762386,-0.02671525336627313,1.6340557489474088,-0.4116937959977908,0.760627438099993,-1.419951605103263,1.56554617148626,-1.0612550505986134,-0.2791022850093874,-0.6538496117164647,-0.5413662862932657,0.770850384913509,0.5112478057109159,0.444885186950138,1.3539004781978206,2.2623286874734436,-0.862557473719299,0.5541222476581766,0.4349526898898684,1.3003541024884273,-0.9334222914281395,-0.018468505151828317,0.301456771856218,0.8893522858810824,0.9676579983417197,0.40723522186669053,0.8049924749506939,-0.040571046598925915,-0.7668702851597023,1.2011848352922634,1.7413782411913143,-0.3627601644549942,0.8029425027984123,-1.2379383287509398,0.650388747065542,1.1512941141212873,0.8082910662466302,0.002804675896032924,0.040444707117679946,1.0075910275877349,1.566362282752962,1.727518610682044,0.43208798978099616,-0.37729306749409824,0.3583192853709636,2.245267346888914,-1.2931892852342348,0.49825288910292637,0.18173575684733229,-0.003765766788964723,0.788228363907951,0.14540007233038146,-2.8471785813920847,0.901525280729787,0.47931178935779756,-0.75054262406477,-0.1895272526767355,-0.16111055958515572,0.43926869577158684,-2.007298526805992,0.14872350274937846,-0.7897899064104688,-0.8739822093248697,0.8077072001297577,1.0106425845267275,-1.3871824837780988,-0.802777519106265,-0.665337553159498,-0.5965212412716,0.8824586708505167,-1.31436743946511,-0.11327313080949342,0.3357969652076104,0.7522800234797223,-1.1915982770371818,-0.6620972204720901,-1.5865209839733985,0.25954986753324477,-0.34864819900329097,0.6164677893891793,-0.006340506992387929,0.05375386835791097,-0.04750243008043119],\"type\":\"scatter\"},{\"connectgaps\":false,\"fill\":\"tozeroy\",\"line\":{\"color\":\"green\",\"dash\":\"solid\",\"shape\":\"linear\",\"width\":0.5},\"mode\":\"lines\",\"name\":\"Spread\",\"showlegend\":false,\"x\":[0,1,2,3,4,5,6,7,8,9,10,11,12,13,14,15,16,17,18,19,20,21,22,23,24,25,26,27,28,29,30,31,32,33,34,35,36,37,38,39,40,41,42,43,44,45,46,47,48,49,50,51,52,53,54,55,56,57,58,59,60,61,62,63,64,65,66,67,68,69,70,71,72,73,74,75,76,77,78,79,80,81,82,83,84,85,86,87,88,89,90,91,92,93,94,95,96,97,98,99],\"xaxis\":\"x2\",\"y\":[\"\",0.6248370008847273,2.5901037155933606,\"\",0.4590320002506976,1.1613911072510925,\"\",1.7679259966825485,1.196776968749439,\"\",0.47873087479626464,\"\",\"\",\"\",\"\",\"\",\"\",1.070508005872832,0.2779732606048326,\"\",0.9984450928976005,\"\",1.8816336517050087,\"\",1.329363479057629,\"\",2.417992359754761,2.0272859649213233,\"\",\"\",\"\",\"\",\"\",0.8113540006539657,\"\",\"\",\"\",0.44148939239689833,\"\",\"\",\"\",\"\",\"\",\"\",1.7823333120216336,2.6766661046032816,\"\",\"\",1.0351878711102782,\"\",2.933751013288689,\"\",\"\",\"\",1.9729313941058508,0.5024733376358081,\"\",\"\",\"\",\"\",1.3453386007594972,0.5352498622853049,\"\",0.75798687946775,\"\",\"\",\"\",\"\",\"\",1.7462447744797918,\"\",\"\",0.9489474308459758,\"\",\"\",\"\",1.6625812543097616,\"\",2.9552029672262696,1.5372305683833996,1.1924500634533102,\"\",1.0576814782092359,0.9261188725224317,\"\",2.229351512029429,\"\",1.1215879694566375,1.8918560443384145,0.950317331516633,\"\",1.8960533123654963,0.1671982472458819,3.7491421221920413,\"\",\"\",\"\",\"\",\"\",1.246763444329623],\"yaxis\":\"y2\",\"type\":\"scatter\"},{\"connectgaps\":false,\"fill\":\"tozeroy\",\"line\":{\"color\":\"red\",\"dash\":\"solid\",\"shape\":\"linear\",\"width\":0.5},\"mode\":\"lines\",\"name\":\"Spread\",\"showlegend\":false,\"x\":[0,1,2,3,4,5,6,7,8,9,10,11,12,13,14,15,16,17,18,19,20,21,22,23,24,25,26,27,28,29,30,31,32,33,34,35,36,37,38,39,40,41,42,43,44,45,46,47,48,49,50,51,52,53,54,55,56,57,58,59,60,61,62,63,64,65,66,67,68,69,70,71,72,73,74,75,76,77,78,79,80,81,82,83,84,85,86,87,88,89,90,91,92,93,94,95,96,97,98,99],\"xaxis\":\"x2\",\"y\":[-1.373929457032721,\"\",\"\",-1.7990999195307111,\"\",\"\",-0.7322378902677924,\"\",\"\",-0.4163281343373667,\"\",-0.6882729405451432,-1.1723821349530006,-0.5676357950606934,-0.7651699437387722,-0.2083041789417636,-0.346330962790917,\"\",\"\",-1.5390449194836349,\"\",-1.2299285035392595,\"\",-1.5005934931856273,\"\",-1.2198003945503928,\"\",\"\",-0.6169483511832459,-1.195298551708352,-0.5791156839038321,-0.6078278641406615,-3.0173653012626627,\"\",-1.0289313117151377,-2.802864189133069,-1.6081460929945268,\"\",-0.7464922053768415,-2.915257571847189,-0.2531140896316738,-1.7875434436395405,-0.8857162638972427,-1.1105878690196727,\"\",\"\",-0.2605173886349068,-2.950829793484261,\"\",-0.19868669016471796,\"\",-1.5398420872295842,-2.182016582281323,-0.8037675116545054,\"\",\"\",-1.4795899591411716,-1.0914169953929234,-2.011036594613957,-0.4730549779304697,\"\",\"\",-2.4352363149254326,\"\",-1.1289290924215833,-1.0637130377801114,-0.921221218466819,-2.0678271375172654,-1.6360513958153557,\"\",-0.4047284022236638,-0.0016200561353072462,\"\",-0.3783457281287502,-0.30939255927748954,-1.1241615346448457,\"\",-0.3866660875055029,\"\",\"\",\"\",-1.0622872411592337,\"\",\"\",-0.35894304017272294,\"\",-1.7746606214161402,\"\",\"\",\"\",-0.0044103962149908416,\"\",\"\",\"\",-0.3312824551939878,-0.6228008336480189,-0.8731574995892422,-0.9798404425186836,-1.210857410200779,\"\"],\"yaxis\":\"y2\",\"type\":\"scatter\"}],                        {\"hovermode\":\"x\",\"legend\":{\"bgcolor\":\"#F5F6F9\",\"font\":{\"color\":\"#4D5663\"}},\"paper_bgcolor\":\"#F5F6F9\",\"plot_bgcolor\":\"#F5F6F9\",\"template\":{\"data\":{\"barpolar\":[{\"marker\":{\"line\":{\"color\":\"#E5ECF6\",\"width\":0.5},\"pattern\":{\"fillmode\":\"overlay\",\"size\":10,\"solidity\":0.2}},\"type\":\"barpolar\"}],\"bar\":[{\"error_x\":{\"color\":\"#2a3f5f\"},\"error_y\":{\"color\":\"#2a3f5f\"},\"marker\":{\"line\":{\"color\":\"#E5ECF6\",\"width\":0.5},\"pattern\":{\"fillmode\":\"overlay\",\"size\":10,\"solidity\":0.2}},\"type\":\"bar\"}],\"carpet\":[{\"aaxis\":{\"endlinecolor\":\"#2a3f5f\",\"gridcolor\":\"white\",\"linecolor\":\"white\",\"minorgridcolor\":\"white\",\"startlinecolor\":\"#2a3f5f\"},\"baxis\":{\"endlinecolor\":\"#2a3f5f\",\"gridcolor\":\"white\",\"linecolor\":\"white\",\"minorgridcolor\":\"white\",\"startlinecolor\":\"#2a3f5f\"},\"type\":\"carpet\"}],\"choropleth\":[{\"colorbar\":{\"outlinewidth\":0,\"ticks\":\"\"},\"type\":\"choropleth\"}],\"contourcarpet\":[{\"colorbar\":{\"outlinewidth\":0,\"ticks\":\"\"},\"type\":\"contourcarpet\"}],\"contour\":[{\"colorbar\":{\"outlinewidth\":0,\"ticks\":\"\"},\"colorscale\":[[0.0,\"#0d0887\"],[0.1111111111111111,\"#46039f\"],[0.2222222222222222,\"#7201a8\"],[0.3333333333333333,\"#9c179e\"],[0.4444444444444444,\"#bd3786\"],[0.5555555555555556,\"#d8576b\"],[0.6666666666666666,\"#ed7953\"],[0.7777777777777778,\"#fb9f3a\"],[0.8888888888888888,\"#fdca26\"],[1.0,\"#f0f921\"]],\"type\":\"contour\"}],\"heatmapgl\":[{\"colorbar\":{\"outlinewidth\":0,\"ticks\":\"\"},\"colorscale\":[[0.0,\"#0d0887\"],[0.1111111111111111,\"#46039f\"],[0.2222222222222222,\"#7201a8\"],[0.3333333333333333,\"#9c179e\"],[0.4444444444444444,\"#bd3786\"],[0.5555555555555556,\"#d8576b\"],[0.6666666666666666,\"#ed7953\"],[0.7777777777777778,\"#fb9f3a\"],[0.8888888888888888,\"#fdca26\"],[1.0,\"#f0f921\"]],\"type\":\"heatmapgl\"}],\"heatmap\":[{\"colorbar\":{\"outlinewidth\":0,\"ticks\":\"\"},\"colorscale\":[[0.0,\"#0d0887\"],[0.1111111111111111,\"#46039f\"],[0.2222222222222222,\"#7201a8\"],[0.3333333333333333,\"#9c179e\"],[0.4444444444444444,\"#bd3786\"],[0.5555555555555556,\"#d8576b\"],[0.6666666666666666,\"#ed7953\"],[0.7777777777777778,\"#fb9f3a\"],[0.8888888888888888,\"#fdca26\"],[1.0,\"#f0f921\"]],\"type\":\"heatmap\"}],\"histogram2dcontour\":[{\"colorbar\":{\"outlinewidth\":0,\"ticks\":\"\"},\"colorscale\":[[0.0,\"#0d0887\"],[0.1111111111111111,\"#46039f\"],[0.2222222222222222,\"#7201a8\"],[0.3333333333333333,\"#9c179e\"],[0.4444444444444444,\"#bd3786\"],[0.5555555555555556,\"#d8576b\"],[0.6666666666666666,\"#ed7953\"],[0.7777777777777778,\"#fb9f3a\"],[0.8888888888888888,\"#fdca26\"],[1.0,\"#f0f921\"]],\"type\":\"histogram2dcontour\"}],\"histogram2d\":[{\"colorbar\":{\"outlinewidth\":0,\"ticks\":\"\"},\"colorscale\":[[0.0,\"#0d0887\"],[0.1111111111111111,\"#46039f\"],[0.2222222222222222,\"#7201a8\"],[0.3333333333333333,\"#9c179e\"],[0.4444444444444444,\"#bd3786\"],[0.5555555555555556,\"#d8576b\"],[0.6666666666666666,\"#ed7953\"],[0.7777777777777778,\"#fb9f3a\"],[0.8888888888888888,\"#fdca26\"],[1.0,\"#f0f921\"]],\"type\":\"histogram2d\"}],\"histogram\":[{\"marker\":{\"pattern\":{\"fillmode\":\"overlay\",\"size\":10,\"solidity\":0.2}},\"type\":\"histogram\"}],\"mesh3d\":[{\"colorbar\":{\"outlinewidth\":0,\"ticks\":\"\"},\"type\":\"mesh3d\"}],\"parcoords\":[{\"line\":{\"colorbar\":{\"outlinewidth\":0,\"ticks\":\"\"}},\"type\":\"parcoords\"}],\"pie\":[{\"automargin\":true,\"type\":\"pie\"}],\"scatter3d\":[{\"line\":{\"colorbar\":{\"outlinewidth\":0,\"ticks\":\"\"}},\"marker\":{\"colorbar\":{\"outlinewidth\":0,\"ticks\":\"\"}},\"type\":\"scatter3d\"}],\"scattercarpet\":[{\"marker\":{\"colorbar\":{\"outlinewidth\":0,\"ticks\":\"\"}},\"type\":\"scattercarpet\"}],\"scattergeo\":[{\"marker\":{\"colorbar\":{\"outlinewidth\":0,\"ticks\":\"\"}},\"type\":\"scattergeo\"}],\"scattergl\":[{\"marker\":{\"colorbar\":{\"outlinewidth\":0,\"ticks\":\"\"}},\"type\":\"scattergl\"}],\"scattermapbox\":[{\"marker\":{\"colorbar\":{\"outlinewidth\":0,\"ticks\":\"\"}},\"type\":\"scattermapbox\"}],\"scatterpolargl\":[{\"marker\":{\"colorbar\":{\"outlinewidth\":0,\"ticks\":\"\"}},\"type\":\"scatterpolargl\"}],\"scatterpolar\":[{\"marker\":{\"colorbar\":{\"outlinewidth\":0,\"ticks\":\"\"}},\"type\":\"scatterpolar\"}],\"scatter\":[{\"fillpattern\":{\"fillmode\":\"overlay\",\"size\":10,\"solidity\":0.2},\"type\":\"scatter\"}],\"scatterternary\":[{\"marker\":{\"colorbar\":{\"outlinewidth\":0,\"ticks\":\"\"}},\"type\":\"scatterternary\"}],\"surface\":[{\"colorbar\":{\"outlinewidth\":0,\"ticks\":\"\"},\"colorscale\":[[0.0,\"#0d0887\"],[0.1111111111111111,\"#46039f\"],[0.2222222222222222,\"#7201a8\"],[0.3333333333333333,\"#9c179e\"],[0.4444444444444444,\"#bd3786\"],[0.5555555555555556,\"#d8576b\"],[0.6666666666666666,\"#ed7953\"],[0.7777777777777778,\"#fb9f3a\"],[0.8888888888888888,\"#fdca26\"],[1.0,\"#f0f921\"]],\"type\":\"surface\"}],\"table\":[{\"cells\":{\"fill\":{\"color\":\"#EBF0F8\"},\"line\":{\"color\":\"white\"}},\"header\":{\"fill\":{\"color\":\"#C8D4E3\"},\"line\":{\"color\":\"white\"}},\"type\":\"table\"}]},\"layout\":{\"annotationdefaults\":{\"arrowcolor\":\"#2a3f5f\",\"arrowhead\":0,\"arrowwidth\":1},\"autotypenumbers\":\"strict\",\"coloraxis\":{\"colorbar\":{\"outlinewidth\":0,\"ticks\":\"\"}},\"colorscale\":{\"diverging\":[[0,\"#8e0152\"],[0.1,\"#c51b7d\"],[0.2,\"#de77ae\"],[0.3,\"#f1b6da\"],[0.4,\"#fde0ef\"],[0.5,\"#f7f7f7\"],[0.6,\"#e6f5d0\"],[0.7,\"#b8e186\"],[0.8,\"#7fbc41\"],[0.9,\"#4d9221\"],[1,\"#276419\"]],\"sequential\":[[0.0,\"#0d0887\"],[0.1111111111111111,\"#46039f\"],[0.2222222222222222,\"#7201a8\"],[0.3333333333333333,\"#9c179e\"],[0.4444444444444444,\"#bd3786\"],[0.5555555555555556,\"#d8576b\"],[0.6666666666666666,\"#ed7953\"],[0.7777777777777778,\"#fb9f3a\"],[0.8888888888888888,\"#fdca26\"],[1.0,\"#f0f921\"]],\"sequentialminus\":[[0.0,\"#0d0887\"],[0.1111111111111111,\"#46039f\"],[0.2222222222222222,\"#7201a8\"],[0.3333333333333333,\"#9c179e\"],[0.4444444444444444,\"#bd3786\"],[0.5555555555555556,\"#d8576b\"],[0.6666666666666666,\"#ed7953\"],[0.7777777777777778,\"#fb9f3a\"],[0.8888888888888888,\"#fdca26\"],[1.0,\"#f0f921\"]]},\"colorway\":[\"#636efa\",\"#EF553B\",\"#00cc96\",\"#ab63fa\",\"#FFA15A\",\"#19d3f3\",\"#FF6692\",\"#B6E880\",\"#FF97FF\",\"#FECB52\"],\"font\":{\"color\":\"#2a3f5f\"},\"geo\":{\"bgcolor\":\"white\",\"lakecolor\":\"white\",\"landcolor\":\"#E5ECF6\",\"showlakes\":true,\"showland\":true,\"subunitcolor\":\"white\"},\"hoverlabel\":{\"align\":\"left\"},\"hovermode\":\"closest\",\"mapbox\":{\"style\":\"light\"},\"paper_bgcolor\":\"white\",\"plot_bgcolor\":\"#E5ECF6\",\"polar\":{\"angularaxis\":{\"gridcolor\":\"white\",\"linecolor\":\"white\",\"ticks\":\"\"},\"bgcolor\":\"#E5ECF6\",\"radialaxis\":{\"gridcolor\":\"white\",\"linecolor\":\"white\",\"ticks\":\"\"}},\"scene\":{\"xaxis\":{\"backgroundcolor\":\"#E5ECF6\",\"gridcolor\":\"white\",\"gridwidth\":2,\"linecolor\":\"white\",\"showbackground\":true,\"ticks\":\"\",\"zerolinecolor\":\"white\"},\"yaxis\":{\"backgroundcolor\":\"#E5ECF6\",\"gridcolor\":\"white\",\"gridwidth\":2,\"linecolor\":\"white\",\"showbackground\":true,\"ticks\":\"\",\"zerolinecolor\":\"white\"},\"zaxis\":{\"backgroundcolor\":\"#E5ECF6\",\"gridcolor\":\"white\",\"gridwidth\":2,\"linecolor\":\"white\",\"showbackground\":true,\"ticks\":\"\",\"zerolinecolor\":\"white\"}},\"shapedefaults\":{\"line\":{\"color\":\"#2a3f5f\"}},\"ternary\":{\"aaxis\":{\"gridcolor\":\"white\",\"linecolor\":\"white\",\"ticks\":\"\"},\"baxis\":{\"gridcolor\":\"white\",\"linecolor\":\"white\",\"ticks\":\"\"},\"bgcolor\":\"#E5ECF6\",\"caxis\":{\"gridcolor\":\"white\",\"linecolor\":\"white\",\"ticks\":\"\"}},\"title\":{\"x\":0.05},\"xaxis\":{\"automargin\":true,\"gridcolor\":\"white\",\"linecolor\":\"white\",\"ticks\":\"\",\"title\":{\"standoff\":15},\"zerolinecolor\":\"white\",\"zerolinewidth\":2},\"yaxis\":{\"automargin\":true,\"gridcolor\":\"white\",\"linecolor\":\"white\",\"ticks\":\"\",\"title\":{\"standoff\":15},\"zerolinecolor\":\"white\",\"zerolinewidth\":2}}},\"title\":{\"font\":{\"color\":\"#4D5663\"}},\"xaxis\":{\"gridcolor\":\"#E1E5ED\",\"showgrid\":true,\"tickfont\":{\"color\":\"#4D5663\"},\"title\":{\"font\":{\"color\":\"#4D5663\"},\"text\":\"\"},\"zerolinecolor\":\"#E1E5ED\"},\"yaxis\":{\"domain\":[0.3,1],\"gridcolor\":\"#E1E5ED\",\"showgrid\":true,\"tickfont\":{\"color\":\"#4D5663\"},\"title\":{\"font\":{\"color\":\"#4D5663\"},\"text\":\"\"},\"zerolinecolor\":\"#E1E5ED\"},\"yaxis2\":{\"domain\":[0,0.25],\"gridcolor\":\"#E1E5ED\",\"showgrid\":true,\"tickfont\":{\"color\":\"#4D5663\"},\"title\":{\"font\":{\"color\":\"#4D5663\"},\"text\":\"Spread\"},\"zerolinecolor\":\"#E1E5ED\"},\"xaxis2\":{\"anchor\":\"y2\",\"gridcolor\":\"#E1E5ED\",\"showgrid\":true,\"showticklabels\":false,\"tickfont\":{\"color\":\"#4D5663\"},\"title\":{\"font\":{\"color\":\"#4D5663\"},\"text\":\"\"},\"zerolinecolor\":\"#E1E5ED\"}},                        {\"showLink\": true, \"linkText\": \"Export to plot.ly\", \"plotlyServerURL\": \"https://plot.ly\", \"responsive\": true}                    ).then(function(){\n",
       "                            \n",
       "var gd = document.getElementById('c70a91c5-e268-4b97-91a7-85c5016693aa');\n",
       "var x = new MutationObserver(function (mutations, observer) {{\n",
       "        var display = window.getComputedStyle(gd).display;\n",
       "        if (!display || display === 'none') {{\n",
       "            console.log([gd, 'removed!']);\n",
       "            Plotly.purge(gd);\n",
       "            observer.disconnect();\n",
       "        }}\n",
       "}});\n",
       "\n",
       "// Listen for the removal of the full notebook cells\n",
       "var notebookContainer = gd.closest('#notebook-container');\n",
       "if (notebookContainer) {{\n",
       "    x.observe(notebookContainer, {childList: true});\n",
       "}}\n",
       "\n",
       "// Listen for the clearing of the current output cell\n",
       "var outputEl = gd.closest('.output');\n",
       "if (outputEl) {{\n",
       "    x.observe(outputEl, {childList: true});\n",
       "}}\n",
       "\n",
       "                        })                };                });            </script>        </div>"
      ]
     },
     "metadata": {},
     "output_type": "display_data"
    }
   ],
   "source": [
    "df[['A','B']].iplot(kind='spread')"
   ]
  },
  {
   "cell_type": "code",
   "execution_count": 44,
   "id": "d68aae3e",
   "metadata": {},
   "outputs": [
    {
     "data": {
      "application/vnd.plotly.v1+json": {
       "config": {
        "linkText": "Export to plot.ly",
        "plotlyServerURL": "https://plot.ly",
        "showLink": true
       },
       "data": [
        {
         "marker": {
          "color": [
           "rgb(255, 153, 51)",
           "rgb(55, 128, 191)",
           "rgb(50, 171, 96)",
           "rgb(128, 0, 128)",
           "rgb(219, 64, 82)",
           "rgb(0, 128, 128)",
           "rgb(255, 255, 51)",
           "rgb(128, 128, 0)",
           "rgb(251, 128, 114)",
           "rgb(128, 177, 211)"
          ],
          "line": {
           "width": 1.3
          },
          "size": [
           50,
           42,
           77,
           68,
           69,
           62,
           83,
           65,
           93,
           88,
           73,
           57,
           91,
           40,
           65,
           77,
           50,
           36,
           96,
           96,
           56,
           63,
           28,
           80,
           91,
           45,
           45,
           55,
           85,
           27,
           51,
           67,
           69,
           77,
           81,
           46,
           63,
           83,
           79,
           108,
           73,
           104,
           74,
           73,
           35,
           48,
           44,
           96,
           82,
           64,
           72,
           70,
           93,
           73,
           81,
           56,
           27,
           94,
           12,
           39,
           56,
           73,
           81,
           89,
           38,
           57,
           36,
           73,
           94,
           68,
           76,
           95,
           60,
           69,
           65,
           57,
           97,
           71,
           111,
           44,
           102,
           20,
           33,
           90,
           91,
           26,
           84,
           38,
           92,
           55,
           70,
           108,
           74,
           15,
           92,
           67,
           99,
           76,
           92,
           67
          ],
          "symbol": "circle"
         },
         "mode": "markers",
         "text": "",
         "type": "scatter",
         "x": [
          -1.9755500137656816,
          -0.061947778504821194,
          1.5859026175116797,
          -1.2531388336614748,
          -0.05439570455517902,
          -0.6099892593578193,
          -0.42597212415335045,
          1.30054514318552,
          1.6745245836944143,
          0.16101375678398513,
          -0.49292541050026917,
          -0.11917095742151543,
          -0.7009747802886002,
          -0.47467091820681706,
          -0.4017079488724917,
          -0.42615585580718507,
          0.0902833090343134,
          -0.03383157680340645,
          0.25125800723855946,
          0.09501082946377389,
          0.5867512968998098,
          -0.4693010654392666,
          0.46168204660174567,
          0.06495267830063275,
          0.2681084284590157,
          -1.4989026795597802,
          1.7641427480382965,
          1.4859196786280577,
          0.1539020337302631,
          -0.6840507459974362,
          -0.13423049695369402,
          0.7460726140571591,
          -0.7550366137892188,
          -0.0512034730653333,
          -0.4748090640569612,
          -2.3679114992432004,
          -0.30779199050609957,
          -0.49193289903124116,
          -0.7649607105286698,
          -2.613800799990971,
          0.6362381962494086,
          -0.8198854452978208,
          -0.4784810420305522,
          -0.30559539406897873,
          1.7417622654227076,
          1.9097958194435793,
          0.9406674466573566,
          -1.2094515522929468,
          0.6724277066552841,
          0.6042558126336943,
          1.695812684537749,
          -0.8894533401640422,
          -1.0307224681600358,
          0.004523554592124752,
          1.9757360700018838,
          0.5429180447534881,
          -0.47199893155343664,
          0.4749452873600385,
          -0.283517983931913,
          -0.04096698814947355,
          0.968045533265399,
          0.8935691476562685,
          -0.1899689680365186,
          -0.5352024057664848,
          -0.6306762033186569,
          -0.8819772809327792,
          -0.9249869852557837,
          -1.2795987736093142,
          -1.4906513234849743,
          -1.100933806912293,
          0.4967968785061232,
          0.4776917332224903,
          0.19840480678120576,
          -0.5678729808054858,
          -0.47050311886264523,
          -0.6848928388732589,
          -0.3447172724962305,
          -0.23794258475612443,
          2.165413060815801,
          0.6632483590585299,
          2.000157263583068,
          -0.05164465663250612,
          -0.32950100556886297,
          0.1233413534161667,
          -1.024280593332221,
          1.6328302707578288,
          -0.8922019505656237,
          -0.19277947000847248,
          1.778582913528921,
          1.2861142967242434,
          0.7478696272647315,
          0.7044550353283147,
          -0.4948989732262082,
          2.162621138218643,
          -0.07173258766074306,
          -0.9714490326513098,
          -0.25668971020006276,
          -0.9861809495110716,
          -1.157103541842868,
          1.1992610142491917
         ],
         "y": [
          -0.6016205567329608,
          -0.6867847793895484,
          -1.004201098081681,
          0.5459610858692364,
          -0.5134277048058766,
          -1.7713803666089118,
          0.306265766114442,
          -0.4673808534970285,
          0.47774761494497525,
          0.5773418911213518,
          -0.9716562852965338,
          0.5691019831236278,
          0.47140735466440037,
          0.09296487685387636,
          0.36346199486628045,
          -0.21785167686542148,
          0.43661427182523044,
          -1.1043395826762386,
          -0.02671525336627313,
          1.6340557489474088,
          -0.4116937959977908,
          0.760627438099993,
          -1.419951605103263,
          1.56554617148626,
          -1.0612550505986134,
          -0.2791022850093874,
          -0.6538496117164647,
          -0.5413662862932657,
          0.770850384913509,
          0.5112478057109159,
          0.444885186950138,
          1.3539004781978206,
          2.2623286874734436,
          -0.862557473719299,
          0.5541222476581766,
          0.4349526898898684,
          1.3003541024884273,
          -0.9334222914281395,
          -0.018468505151828317,
          0.301456771856218,
          0.8893522858810824,
          0.9676579983417197,
          0.40723522186669053,
          0.8049924749506939,
          -0.040571046598925915,
          -0.7668702851597023,
          1.2011848352922634,
          1.7413782411913143,
          -0.3627601644549942,
          0.8029425027984123,
          -1.2379383287509398,
          0.650388747065542,
          1.1512941141212873,
          0.8082910662466302,
          0.002804675896032924,
          0.040444707117679946,
          1.0075910275877349,
          1.566362282752962,
          1.727518610682044,
          0.43208798978099616,
          -0.37729306749409824,
          0.3583192853709636,
          2.245267346888914,
          -1.2931892852342348,
          0.49825288910292637,
          0.18173575684733229,
          -0.003765766788964723,
          0.788228363907951,
          0.14540007233038146,
          -2.8471785813920847,
          0.901525280729787,
          0.47931178935779756,
          -0.75054262406477,
          -0.1895272526767355,
          -0.16111055958515572,
          0.43926869577158684,
          -2.007298526805992,
          0.14872350274937846,
          -0.7897899064104688,
          -0.8739822093248697,
          0.8077072001297577,
          1.0106425845267275,
          -1.3871824837780988,
          -0.802777519106265,
          -0.665337553159498,
          -0.5965212412716,
          0.8824586708505167,
          -1.31436743946511,
          -0.11327313080949342,
          0.3357969652076104,
          0.7522800234797223,
          -1.1915982770371818,
          -0.6620972204720901,
          -1.5865209839733985,
          0.25954986753324477,
          -0.34864819900329097,
          0.6164677893891793,
          -0.006340506992387929,
          0.05375386835791097,
          -0.04750243008043119
         ]
        }
       ],
       "layout": {
        "legend": {
         "bgcolor": "#F5F6F9",
         "font": {
          "color": "#4D5663"
         }
        },
        "paper_bgcolor": "#F5F6F9",
        "plot_bgcolor": "#F5F6F9",
        "template": {
         "data": {
          "bar": [
           {
            "error_x": {
             "color": "#2a3f5f"
            },
            "error_y": {
             "color": "#2a3f5f"
            },
            "marker": {
             "line": {
              "color": "#E5ECF6",
              "width": 0.5
             },
             "pattern": {
              "fillmode": "overlay",
              "size": 10,
              "solidity": 0.2
             }
            },
            "type": "bar"
           }
          ],
          "barpolar": [
           {
            "marker": {
             "line": {
              "color": "#E5ECF6",
              "width": 0.5
             },
             "pattern": {
              "fillmode": "overlay",
              "size": 10,
              "solidity": 0.2
             }
            },
            "type": "barpolar"
           }
          ],
          "carpet": [
           {
            "aaxis": {
             "endlinecolor": "#2a3f5f",
             "gridcolor": "white",
             "linecolor": "white",
             "minorgridcolor": "white",
             "startlinecolor": "#2a3f5f"
            },
            "baxis": {
             "endlinecolor": "#2a3f5f",
             "gridcolor": "white",
             "linecolor": "white",
             "minorgridcolor": "white",
             "startlinecolor": "#2a3f5f"
            },
            "type": "carpet"
           }
          ],
          "choropleth": [
           {
            "colorbar": {
             "outlinewidth": 0,
             "ticks": ""
            },
            "type": "choropleth"
           }
          ],
          "contour": [
           {
            "colorbar": {
             "outlinewidth": 0,
             "ticks": ""
            },
            "colorscale": [
             [
              0,
              "#0d0887"
             ],
             [
              0.1111111111111111,
              "#46039f"
             ],
             [
              0.2222222222222222,
              "#7201a8"
             ],
             [
              0.3333333333333333,
              "#9c179e"
             ],
             [
              0.4444444444444444,
              "#bd3786"
             ],
             [
              0.5555555555555556,
              "#d8576b"
             ],
             [
              0.6666666666666666,
              "#ed7953"
             ],
             [
              0.7777777777777778,
              "#fb9f3a"
             ],
             [
              0.8888888888888888,
              "#fdca26"
             ],
             [
              1,
              "#f0f921"
             ]
            ],
            "type": "contour"
           }
          ],
          "contourcarpet": [
           {
            "colorbar": {
             "outlinewidth": 0,
             "ticks": ""
            },
            "type": "contourcarpet"
           }
          ],
          "heatmap": [
           {
            "colorbar": {
             "outlinewidth": 0,
             "ticks": ""
            },
            "colorscale": [
             [
              0,
              "#0d0887"
             ],
             [
              0.1111111111111111,
              "#46039f"
             ],
             [
              0.2222222222222222,
              "#7201a8"
             ],
             [
              0.3333333333333333,
              "#9c179e"
             ],
             [
              0.4444444444444444,
              "#bd3786"
             ],
             [
              0.5555555555555556,
              "#d8576b"
             ],
             [
              0.6666666666666666,
              "#ed7953"
             ],
             [
              0.7777777777777778,
              "#fb9f3a"
             ],
             [
              0.8888888888888888,
              "#fdca26"
             ],
             [
              1,
              "#f0f921"
             ]
            ],
            "type": "heatmap"
           }
          ],
          "heatmapgl": [
           {
            "colorbar": {
             "outlinewidth": 0,
             "ticks": ""
            },
            "colorscale": [
             [
              0,
              "#0d0887"
             ],
             [
              0.1111111111111111,
              "#46039f"
             ],
             [
              0.2222222222222222,
              "#7201a8"
             ],
             [
              0.3333333333333333,
              "#9c179e"
             ],
             [
              0.4444444444444444,
              "#bd3786"
             ],
             [
              0.5555555555555556,
              "#d8576b"
             ],
             [
              0.6666666666666666,
              "#ed7953"
             ],
             [
              0.7777777777777778,
              "#fb9f3a"
             ],
             [
              0.8888888888888888,
              "#fdca26"
             ],
             [
              1,
              "#f0f921"
             ]
            ],
            "type": "heatmapgl"
           }
          ],
          "histogram": [
           {
            "marker": {
             "pattern": {
              "fillmode": "overlay",
              "size": 10,
              "solidity": 0.2
             }
            },
            "type": "histogram"
           }
          ],
          "histogram2d": [
           {
            "colorbar": {
             "outlinewidth": 0,
             "ticks": ""
            },
            "colorscale": [
             [
              0,
              "#0d0887"
             ],
             [
              0.1111111111111111,
              "#46039f"
             ],
             [
              0.2222222222222222,
              "#7201a8"
             ],
             [
              0.3333333333333333,
              "#9c179e"
             ],
             [
              0.4444444444444444,
              "#bd3786"
             ],
             [
              0.5555555555555556,
              "#d8576b"
             ],
             [
              0.6666666666666666,
              "#ed7953"
             ],
             [
              0.7777777777777778,
              "#fb9f3a"
             ],
             [
              0.8888888888888888,
              "#fdca26"
             ],
             [
              1,
              "#f0f921"
             ]
            ],
            "type": "histogram2d"
           }
          ],
          "histogram2dcontour": [
           {
            "colorbar": {
             "outlinewidth": 0,
             "ticks": ""
            },
            "colorscale": [
             [
              0,
              "#0d0887"
             ],
             [
              0.1111111111111111,
              "#46039f"
             ],
             [
              0.2222222222222222,
              "#7201a8"
             ],
             [
              0.3333333333333333,
              "#9c179e"
             ],
             [
              0.4444444444444444,
              "#bd3786"
             ],
             [
              0.5555555555555556,
              "#d8576b"
             ],
             [
              0.6666666666666666,
              "#ed7953"
             ],
             [
              0.7777777777777778,
              "#fb9f3a"
             ],
             [
              0.8888888888888888,
              "#fdca26"
             ],
             [
              1,
              "#f0f921"
             ]
            ],
            "type": "histogram2dcontour"
           }
          ],
          "mesh3d": [
           {
            "colorbar": {
             "outlinewidth": 0,
             "ticks": ""
            },
            "type": "mesh3d"
           }
          ],
          "parcoords": [
           {
            "line": {
             "colorbar": {
              "outlinewidth": 0,
              "ticks": ""
             }
            },
            "type": "parcoords"
           }
          ],
          "pie": [
           {
            "automargin": true,
            "type": "pie"
           }
          ],
          "scatter": [
           {
            "fillpattern": {
             "fillmode": "overlay",
             "size": 10,
             "solidity": 0.2
            },
            "type": "scatter"
           }
          ],
          "scatter3d": [
           {
            "line": {
             "colorbar": {
              "outlinewidth": 0,
              "ticks": ""
             }
            },
            "marker": {
             "colorbar": {
              "outlinewidth": 0,
              "ticks": ""
             }
            },
            "type": "scatter3d"
           }
          ],
          "scattercarpet": [
           {
            "marker": {
             "colorbar": {
              "outlinewidth": 0,
              "ticks": ""
             }
            },
            "type": "scattercarpet"
           }
          ],
          "scattergeo": [
           {
            "marker": {
             "colorbar": {
              "outlinewidth": 0,
              "ticks": ""
             }
            },
            "type": "scattergeo"
           }
          ],
          "scattergl": [
           {
            "marker": {
             "colorbar": {
              "outlinewidth": 0,
              "ticks": ""
             }
            },
            "type": "scattergl"
           }
          ],
          "scattermapbox": [
           {
            "marker": {
             "colorbar": {
              "outlinewidth": 0,
              "ticks": ""
             }
            },
            "type": "scattermapbox"
           }
          ],
          "scatterpolar": [
           {
            "marker": {
             "colorbar": {
              "outlinewidth": 0,
              "ticks": ""
             }
            },
            "type": "scatterpolar"
           }
          ],
          "scatterpolargl": [
           {
            "marker": {
             "colorbar": {
              "outlinewidth": 0,
              "ticks": ""
             }
            },
            "type": "scatterpolargl"
           }
          ],
          "scatterternary": [
           {
            "marker": {
             "colorbar": {
              "outlinewidth": 0,
              "ticks": ""
             }
            },
            "type": "scatterternary"
           }
          ],
          "surface": [
           {
            "colorbar": {
             "outlinewidth": 0,
             "ticks": ""
            },
            "colorscale": [
             [
              0,
              "#0d0887"
             ],
             [
              0.1111111111111111,
              "#46039f"
             ],
             [
              0.2222222222222222,
              "#7201a8"
             ],
             [
              0.3333333333333333,
              "#9c179e"
             ],
             [
              0.4444444444444444,
              "#bd3786"
             ],
             [
              0.5555555555555556,
              "#d8576b"
             ],
             [
              0.6666666666666666,
              "#ed7953"
             ],
             [
              0.7777777777777778,
              "#fb9f3a"
             ],
             [
              0.8888888888888888,
              "#fdca26"
             ],
             [
              1,
              "#f0f921"
             ]
            ],
            "type": "surface"
           }
          ],
          "table": [
           {
            "cells": {
             "fill": {
              "color": "#EBF0F8"
             },
             "line": {
              "color": "white"
             }
            },
            "header": {
             "fill": {
              "color": "#C8D4E3"
             },
             "line": {
              "color": "white"
             }
            },
            "type": "table"
           }
          ]
         },
         "layout": {
          "annotationdefaults": {
           "arrowcolor": "#2a3f5f",
           "arrowhead": 0,
           "arrowwidth": 1
          },
          "autotypenumbers": "strict",
          "coloraxis": {
           "colorbar": {
            "outlinewidth": 0,
            "ticks": ""
           }
          },
          "colorscale": {
           "diverging": [
            [
             0,
             "#8e0152"
            ],
            [
             0.1,
             "#c51b7d"
            ],
            [
             0.2,
             "#de77ae"
            ],
            [
             0.3,
             "#f1b6da"
            ],
            [
             0.4,
             "#fde0ef"
            ],
            [
             0.5,
             "#f7f7f7"
            ],
            [
             0.6,
             "#e6f5d0"
            ],
            [
             0.7,
             "#b8e186"
            ],
            [
             0.8,
             "#7fbc41"
            ],
            [
             0.9,
             "#4d9221"
            ],
            [
             1,
             "#276419"
            ]
           ],
           "sequential": [
            [
             0,
             "#0d0887"
            ],
            [
             0.1111111111111111,
             "#46039f"
            ],
            [
             0.2222222222222222,
             "#7201a8"
            ],
            [
             0.3333333333333333,
             "#9c179e"
            ],
            [
             0.4444444444444444,
             "#bd3786"
            ],
            [
             0.5555555555555556,
             "#d8576b"
            ],
            [
             0.6666666666666666,
             "#ed7953"
            ],
            [
             0.7777777777777778,
             "#fb9f3a"
            ],
            [
             0.8888888888888888,
             "#fdca26"
            ],
            [
             1,
             "#f0f921"
            ]
           ],
           "sequentialminus": [
            [
             0,
             "#0d0887"
            ],
            [
             0.1111111111111111,
             "#46039f"
            ],
            [
             0.2222222222222222,
             "#7201a8"
            ],
            [
             0.3333333333333333,
             "#9c179e"
            ],
            [
             0.4444444444444444,
             "#bd3786"
            ],
            [
             0.5555555555555556,
             "#d8576b"
            ],
            [
             0.6666666666666666,
             "#ed7953"
            ],
            [
             0.7777777777777778,
             "#fb9f3a"
            ],
            [
             0.8888888888888888,
             "#fdca26"
            ],
            [
             1,
             "#f0f921"
            ]
           ]
          },
          "colorway": [
           "#636efa",
           "#EF553B",
           "#00cc96",
           "#ab63fa",
           "#FFA15A",
           "#19d3f3",
           "#FF6692",
           "#B6E880",
           "#FF97FF",
           "#FECB52"
          ],
          "font": {
           "color": "#2a3f5f"
          },
          "geo": {
           "bgcolor": "white",
           "lakecolor": "white",
           "landcolor": "#E5ECF6",
           "showlakes": true,
           "showland": true,
           "subunitcolor": "white"
          },
          "hoverlabel": {
           "align": "left"
          },
          "hovermode": "closest",
          "mapbox": {
           "style": "light"
          },
          "paper_bgcolor": "white",
          "plot_bgcolor": "#E5ECF6",
          "polar": {
           "angularaxis": {
            "gridcolor": "white",
            "linecolor": "white",
            "ticks": ""
           },
           "bgcolor": "#E5ECF6",
           "radialaxis": {
            "gridcolor": "white",
            "linecolor": "white",
            "ticks": ""
           }
          },
          "scene": {
           "xaxis": {
            "backgroundcolor": "#E5ECF6",
            "gridcolor": "white",
            "gridwidth": 2,
            "linecolor": "white",
            "showbackground": true,
            "ticks": "",
            "zerolinecolor": "white"
           },
           "yaxis": {
            "backgroundcolor": "#E5ECF6",
            "gridcolor": "white",
            "gridwidth": 2,
            "linecolor": "white",
            "showbackground": true,
            "ticks": "",
            "zerolinecolor": "white"
           },
           "zaxis": {
            "backgroundcolor": "#E5ECF6",
            "gridcolor": "white",
            "gridwidth": 2,
            "linecolor": "white",
            "showbackground": true,
            "ticks": "",
            "zerolinecolor": "white"
           }
          },
          "shapedefaults": {
           "line": {
            "color": "#2a3f5f"
           }
          },
          "ternary": {
           "aaxis": {
            "gridcolor": "white",
            "linecolor": "white",
            "ticks": ""
           },
           "baxis": {
            "gridcolor": "white",
            "linecolor": "white",
            "ticks": ""
           },
           "bgcolor": "#E5ECF6",
           "caxis": {
            "gridcolor": "white",
            "linecolor": "white",
            "ticks": ""
           }
          },
          "title": {
           "x": 0.05
          },
          "xaxis": {
           "automargin": true,
           "gridcolor": "white",
           "linecolor": "white",
           "ticks": "",
           "title": {
            "standoff": 15
           },
           "zerolinecolor": "white",
           "zerolinewidth": 2
          },
          "yaxis": {
           "automargin": true,
           "gridcolor": "white",
           "linecolor": "white",
           "ticks": "",
           "title": {
            "standoff": 15
           },
           "zerolinecolor": "white",
           "zerolinewidth": 2
          }
         }
        },
        "title": {
         "font": {
          "color": "#4D5663"
         }
        },
        "xaxis": {
         "gridcolor": "#E1E5ED",
         "showgrid": true,
         "tickfont": {
          "color": "#4D5663"
         },
         "title": {
          "font": {
           "color": "#4D5663"
          },
          "text": ""
         },
         "zerolinecolor": "#E1E5ED"
        },
        "yaxis": {
         "gridcolor": "#E1E5ED",
         "showgrid": true,
         "tickfont": {
          "color": "#4D5663"
         },
         "title": {
          "font": {
           "color": "#4D5663"
          },
          "text": ""
         },
         "zerolinecolor": "#E1E5ED"
        }
       }
      },
      "text/html": [
       "<div>                            <div id=\"0ec370a1-4ea2-4307-a5bc-5ddab6a33642\" class=\"plotly-graph-div\" style=\"height:525px; width:100%;\"></div>            <script type=\"text/javascript\">                require([\"plotly\"], function(Plotly) {                    window.PLOTLYENV=window.PLOTLYENV || {};\n",
       "                    window.PLOTLYENV.BASE_URL='https://plot.ly';                                    if (document.getElementById(\"0ec370a1-4ea2-4307-a5bc-5ddab6a33642\")) {                    Plotly.newPlot(                        \"0ec370a1-4ea2-4307-a5bc-5ddab6a33642\",                        [{\"marker\":{\"color\":[\"rgb(255, 153, 51)\",\"rgb(55, 128, 191)\",\"rgb(50, 171, 96)\",\"rgb(128, 0, 128)\",\"rgb(219, 64, 82)\",\"rgb(0, 128, 128)\",\"rgb(255, 255, 51)\",\"rgb(128, 128, 0)\",\"rgb(251, 128, 114)\",\"rgb(128, 177, 211)\"],\"line\":{\"width\":1.3},\"size\":[50,42,77,68,69,62,83,65,93,88,73,57,91,40,65,77,50,36,96,96,56,63,28,80,91,45,45,55,85,27,51,67,69,77,81,46,63,83,79,108,73,104,74,73,35,48,44,96,82,64,72,70,93,73,81,56,27,94,12,39,56,73,81,89,38,57,36,73,94,68,76,95,60,69,65,57,97,71,111,44,102,20,33,90,91,26,84,38,92,55,70,108,74,15,92,67,99,76,92,67],\"symbol\":\"circle\"},\"mode\":\"markers\",\"text\":\"\",\"x\":[-1.9755500137656816,-0.061947778504821194,1.5859026175116797,-1.2531388336614748,-0.05439570455517902,-0.6099892593578193,-0.42597212415335045,1.30054514318552,1.6745245836944143,0.16101375678398513,-0.49292541050026917,-0.11917095742151543,-0.7009747802886002,-0.47467091820681706,-0.4017079488724917,-0.42615585580718507,0.0902833090343134,-0.03383157680340645,0.25125800723855946,0.09501082946377389,0.5867512968998098,-0.4693010654392666,0.46168204660174567,0.06495267830063275,0.2681084284590157,-1.4989026795597802,1.7641427480382965,1.4859196786280577,0.1539020337302631,-0.6840507459974362,-0.13423049695369402,0.7460726140571591,-0.7550366137892188,-0.0512034730653333,-0.4748090640569612,-2.3679114992432004,-0.30779199050609957,-0.49193289903124116,-0.7649607105286698,-2.613800799990971,0.6362381962494086,-0.8198854452978208,-0.4784810420305522,-0.30559539406897873,1.7417622654227076,1.9097958194435793,0.9406674466573566,-1.2094515522929468,0.6724277066552841,0.6042558126336943,1.695812684537749,-0.8894533401640422,-1.0307224681600358,0.004523554592124752,1.9757360700018838,0.5429180447534881,-0.47199893155343664,0.4749452873600385,-0.283517983931913,-0.04096698814947355,0.968045533265399,0.8935691476562685,-0.1899689680365186,-0.5352024057664848,-0.6306762033186569,-0.8819772809327792,-0.9249869852557837,-1.2795987736093142,-1.4906513234849743,-1.100933806912293,0.4967968785061232,0.4776917332224903,0.19840480678120576,-0.5678729808054858,-0.47050311886264523,-0.6848928388732589,-0.3447172724962305,-0.23794258475612443,2.165413060815801,0.6632483590585299,2.000157263583068,-0.05164465663250612,-0.32950100556886297,0.1233413534161667,-1.024280593332221,1.6328302707578288,-0.8922019505656237,-0.19277947000847248,1.778582913528921,1.2861142967242434,0.7478696272647315,0.7044550353283147,-0.4948989732262082,2.162621138218643,-0.07173258766074306,-0.9714490326513098,-0.25668971020006276,-0.9861809495110716,-1.157103541842868,1.1992610142491917],\"y\":[-0.6016205567329608,-0.6867847793895484,-1.004201098081681,0.5459610858692364,-0.5134277048058766,-1.7713803666089118,0.306265766114442,-0.4673808534970285,0.47774761494497525,0.5773418911213518,-0.9716562852965338,0.5691019831236278,0.47140735466440037,0.09296487685387636,0.36346199486628045,-0.21785167686542148,0.43661427182523044,-1.1043395826762386,-0.02671525336627313,1.6340557489474088,-0.4116937959977908,0.760627438099993,-1.419951605103263,1.56554617148626,-1.0612550505986134,-0.2791022850093874,-0.6538496117164647,-0.5413662862932657,0.770850384913509,0.5112478057109159,0.444885186950138,1.3539004781978206,2.2623286874734436,-0.862557473719299,0.5541222476581766,0.4349526898898684,1.3003541024884273,-0.9334222914281395,-0.018468505151828317,0.301456771856218,0.8893522858810824,0.9676579983417197,0.40723522186669053,0.8049924749506939,-0.040571046598925915,-0.7668702851597023,1.2011848352922634,1.7413782411913143,-0.3627601644549942,0.8029425027984123,-1.2379383287509398,0.650388747065542,1.1512941141212873,0.8082910662466302,0.002804675896032924,0.040444707117679946,1.0075910275877349,1.566362282752962,1.727518610682044,0.43208798978099616,-0.37729306749409824,0.3583192853709636,2.245267346888914,-1.2931892852342348,0.49825288910292637,0.18173575684733229,-0.003765766788964723,0.788228363907951,0.14540007233038146,-2.8471785813920847,0.901525280729787,0.47931178935779756,-0.75054262406477,-0.1895272526767355,-0.16111055958515572,0.43926869577158684,-2.007298526805992,0.14872350274937846,-0.7897899064104688,-0.8739822093248697,0.8077072001297577,1.0106425845267275,-1.3871824837780988,-0.802777519106265,-0.665337553159498,-0.5965212412716,0.8824586708505167,-1.31436743946511,-0.11327313080949342,0.3357969652076104,0.7522800234797223,-1.1915982770371818,-0.6620972204720901,-1.5865209839733985,0.25954986753324477,-0.34864819900329097,0.6164677893891793,-0.006340506992387929,0.05375386835791097,-0.04750243008043119],\"type\":\"scatter\"}],                        {\"legend\":{\"bgcolor\":\"#F5F6F9\",\"font\":{\"color\":\"#4D5663\"}},\"paper_bgcolor\":\"#F5F6F9\",\"plot_bgcolor\":\"#F5F6F9\",\"template\":{\"data\":{\"barpolar\":[{\"marker\":{\"line\":{\"color\":\"#E5ECF6\",\"width\":0.5},\"pattern\":{\"fillmode\":\"overlay\",\"size\":10,\"solidity\":0.2}},\"type\":\"barpolar\"}],\"bar\":[{\"error_x\":{\"color\":\"#2a3f5f\"},\"error_y\":{\"color\":\"#2a3f5f\"},\"marker\":{\"line\":{\"color\":\"#E5ECF6\",\"width\":0.5},\"pattern\":{\"fillmode\":\"overlay\",\"size\":10,\"solidity\":0.2}},\"type\":\"bar\"}],\"carpet\":[{\"aaxis\":{\"endlinecolor\":\"#2a3f5f\",\"gridcolor\":\"white\",\"linecolor\":\"white\",\"minorgridcolor\":\"white\",\"startlinecolor\":\"#2a3f5f\"},\"baxis\":{\"endlinecolor\":\"#2a3f5f\",\"gridcolor\":\"white\",\"linecolor\":\"white\",\"minorgridcolor\":\"white\",\"startlinecolor\":\"#2a3f5f\"},\"type\":\"carpet\"}],\"choropleth\":[{\"colorbar\":{\"outlinewidth\":0,\"ticks\":\"\"},\"type\":\"choropleth\"}],\"contourcarpet\":[{\"colorbar\":{\"outlinewidth\":0,\"ticks\":\"\"},\"type\":\"contourcarpet\"}],\"contour\":[{\"colorbar\":{\"outlinewidth\":0,\"ticks\":\"\"},\"colorscale\":[[0.0,\"#0d0887\"],[0.1111111111111111,\"#46039f\"],[0.2222222222222222,\"#7201a8\"],[0.3333333333333333,\"#9c179e\"],[0.4444444444444444,\"#bd3786\"],[0.5555555555555556,\"#d8576b\"],[0.6666666666666666,\"#ed7953\"],[0.7777777777777778,\"#fb9f3a\"],[0.8888888888888888,\"#fdca26\"],[1.0,\"#f0f921\"]],\"type\":\"contour\"}],\"heatmapgl\":[{\"colorbar\":{\"outlinewidth\":0,\"ticks\":\"\"},\"colorscale\":[[0.0,\"#0d0887\"],[0.1111111111111111,\"#46039f\"],[0.2222222222222222,\"#7201a8\"],[0.3333333333333333,\"#9c179e\"],[0.4444444444444444,\"#bd3786\"],[0.5555555555555556,\"#d8576b\"],[0.6666666666666666,\"#ed7953\"],[0.7777777777777778,\"#fb9f3a\"],[0.8888888888888888,\"#fdca26\"],[1.0,\"#f0f921\"]],\"type\":\"heatmapgl\"}],\"heatmap\":[{\"colorbar\":{\"outlinewidth\":0,\"ticks\":\"\"},\"colorscale\":[[0.0,\"#0d0887\"],[0.1111111111111111,\"#46039f\"],[0.2222222222222222,\"#7201a8\"],[0.3333333333333333,\"#9c179e\"],[0.4444444444444444,\"#bd3786\"],[0.5555555555555556,\"#d8576b\"],[0.6666666666666666,\"#ed7953\"],[0.7777777777777778,\"#fb9f3a\"],[0.8888888888888888,\"#fdca26\"],[1.0,\"#f0f921\"]],\"type\":\"heatmap\"}],\"histogram2dcontour\":[{\"colorbar\":{\"outlinewidth\":0,\"ticks\":\"\"},\"colorscale\":[[0.0,\"#0d0887\"],[0.1111111111111111,\"#46039f\"],[0.2222222222222222,\"#7201a8\"],[0.3333333333333333,\"#9c179e\"],[0.4444444444444444,\"#bd3786\"],[0.5555555555555556,\"#d8576b\"],[0.6666666666666666,\"#ed7953\"],[0.7777777777777778,\"#fb9f3a\"],[0.8888888888888888,\"#fdca26\"],[1.0,\"#f0f921\"]],\"type\":\"histogram2dcontour\"}],\"histogram2d\":[{\"colorbar\":{\"outlinewidth\":0,\"ticks\":\"\"},\"colorscale\":[[0.0,\"#0d0887\"],[0.1111111111111111,\"#46039f\"],[0.2222222222222222,\"#7201a8\"],[0.3333333333333333,\"#9c179e\"],[0.4444444444444444,\"#bd3786\"],[0.5555555555555556,\"#d8576b\"],[0.6666666666666666,\"#ed7953\"],[0.7777777777777778,\"#fb9f3a\"],[0.8888888888888888,\"#fdca26\"],[1.0,\"#f0f921\"]],\"type\":\"histogram2d\"}],\"histogram\":[{\"marker\":{\"pattern\":{\"fillmode\":\"overlay\",\"size\":10,\"solidity\":0.2}},\"type\":\"histogram\"}],\"mesh3d\":[{\"colorbar\":{\"outlinewidth\":0,\"ticks\":\"\"},\"type\":\"mesh3d\"}],\"parcoords\":[{\"line\":{\"colorbar\":{\"outlinewidth\":0,\"ticks\":\"\"}},\"type\":\"parcoords\"}],\"pie\":[{\"automargin\":true,\"type\":\"pie\"}],\"scatter3d\":[{\"line\":{\"colorbar\":{\"outlinewidth\":0,\"ticks\":\"\"}},\"marker\":{\"colorbar\":{\"outlinewidth\":0,\"ticks\":\"\"}},\"type\":\"scatter3d\"}],\"scattercarpet\":[{\"marker\":{\"colorbar\":{\"outlinewidth\":0,\"ticks\":\"\"}},\"type\":\"scattercarpet\"}],\"scattergeo\":[{\"marker\":{\"colorbar\":{\"outlinewidth\":0,\"ticks\":\"\"}},\"type\":\"scattergeo\"}],\"scattergl\":[{\"marker\":{\"colorbar\":{\"outlinewidth\":0,\"ticks\":\"\"}},\"type\":\"scattergl\"}],\"scattermapbox\":[{\"marker\":{\"colorbar\":{\"outlinewidth\":0,\"ticks\":\"\"}},\"type\":\"scattermapbox\"}],\"scatterpolargl\":[{\"marker\":{\"colorbar\":{\"outlinewidth\":0,\"ticks\":\"\"}},\"type\":\"scatterpolargl\"}],\"scatterpolar\":[{\"marker\":{\"colorbar\":{\"outlinewidth\":0,\"ticks\":\"\"}},\"type\":\"scatterpolar\"}],\"scatter\":[{\"fillpattern\":{\"fillmode\":\"overlay\",\"size\":10,\"solidity\":0.2},\"type\":\"scatter\"}],\"scatterternary\":[{\"marker\":{\"colorbar\":{\"outlinewidth\":0,\"ticks\":\"\"}},\"type\":\"scatterternary\"}],\"surface\":[{\"colorbar\":{\"outlinewidth\":0,\"ticks\":\"\"},\"colorscale\":[[0.0,\"#0d0887\"],[0.1111111111111111,\"#46039f\"],[0.2222222222222222,\"#7201a8\"],[0.3333333333333333,\"#9c179e\"],[0.4444444444444444,\"#bd3786\"],[0.5555555555555556,\"#d8576b\"],[0.6666666666666666,\"#ed7953\"],[0.7777777777777778,\"#fb9f3a\"],[0.8888888888888888,\"#fdca26\"],[1.0,\"#f0f921\"]],\"type\":\"surface\"}],\"table\":[{\"cells\":{\"fill\":{\"color\":\"#EBF0F8\"},\"line\":{\"color\":\"white\"}},\"header\":{\"fill\":{\"color\":\"#C8D4E3\"},\"line\":{\"color\":\"white\"}},\"type\":\"table\"}]},\"layout\":{\"annotationdefaults\":{\"arrowcolor\":\"#2a3f5f\",\"arrowhead\":0,\"arrowwidth\":1},\"autotypenumbers\":\"strict\",\"coloraxis\":{\"colorbar\":{\"outlinewidth\":0,\"ticks\":\"\"}},\"colorscale\":{\"diverging\":[[0,\"#8e0152\"],[0.1,\"#c51b7d\"],[0.2,\"#de77ae\"],[0.3,\"#f1b6da\"],[0.4,\"#fde0ef\"],[0.5,\"#f7f7f7\"],[0.6,\"#e6f5d0\"],[0.7,\"#b8e186\"],[0.8,\"#7fbc41\"],[0.9,\"#4d9221\"],[1,\"#276419\"]],\"sequential\":[[0.0,\"#0d0887\"],[0.1111111111111111,\"#46039f\"],[0.2222222222222222,\"#7201a8\"],[0.3333333333333333,\"#9c179e\"],[0.4444444444444444,\"#bd3786\"],[0.5555555555555556,\"#d8576b\"],[0.6666666666666666,\"#ed7953\"],[0.7777777777777778,\"#fb9f3a\"],[0.8888888888888888,\"#fdca26\"],[1.0,\"#f0f921\"]],\"sequentialminus\":[[0.0,\"#0d0887\"],[0.1111111111111111,\"#46039f\"],[0.2222222222222222,\"#7201a8\"],[0.3333333333333333,\"#9c179e\"],[0.4444444444444444,\"#bd3786\"],[0.5555555555555556,\"#d8576b\"],[0.6666666666666666,\"#ed7953\"],[0.7777777777777778,\"#fb9f3a\"],[0.8888888888888888,\"#fdca26\"],[1.0,\"#f0f921\"]]},\"colorway\":[\"#636efa\",\"#EF553B\",\"#00cc96\",\"#ab63fa\",\"#FFA15A\",\"#19d3f3\",\"#FF6692\",\"#B6E880\",\"#FF97FF\",\"#FECB52\"],\"font\":{\"color\":\"#2a3f5f\"},\"geo\":{\"bgcolor\":\"white\",\"lakecolor\":\"white\",\"landcolor\":\"#E5ECF6\",\"showlakes\":true,\"showland\":true,\"subunitcolor\":\"white\"},\"hoverlabel\":{\"align\":\"left\"},\"hovermode\":\"closest\",\"mapbox\":{\"style\":\"light\"},\"paper_bgcolor\":\"white\",\"plot_bgcolor\":\"#E5ECF6\",\"polar\":{\"angularaxis\":{\"gridcolor\":\"white\",\"linecolor\":\"white\",\"ticks\":\"\"},\"bgcolor\":\"#E5ECF6\",\"radialaxis\":{\"gridcolor\":\"white\",\"linecolor\":\"white\",\"ticks\":\"\"}},\"scene\":{\"xaxis\":{\"backgroundcolor\":\"#E5ECF6\",\"gridcolor\":\"white\",\"gridwidth\":2,\"linecolor\":\"white\",\"showbackground\":true,\"ticks\":\"\",\"zerolinecolor\":\"white\"},\"yaxis\":{\"backgroundcolor\":\"#E5ECF6\",\"gridcolor\":\"white\",\"gridwidth\":2,\"linecolor\":\"white\",\"showbackground\":true,\"ticks\":\"\",\"zerolinecolor\":\"white\"},\"zaxis\":{\"backgroundcolor\":\"#E5ECF6\",\"gridcolor\":\"white\",\"gridwidth\":2,\"linecolor\":\"white\",\"showbackground\":true,\"ticks\":\"\",\"zerolinecolor\":\"white\"}},\"shapedefaults\":{\"line\":{\"color\":\"#2a3f5f\"}},\"ternary\":{\"aaxis\":{\"gridcolor\":\"white\",\"linecolor\":\"white\",\"ticks\":\"\"},\"baxis\":{\"gridcolor\":\"white\",\"linecolor\":\"white\",\"ticks\":\"\"},\"bgcolor\":\"#E5ECF6\",\"caxis\":{\"gridcolor\":\"white\",\"linecolor\":\"white\",\"ticks\":\"\"}},\"title\":{\"x\":0.05},\"xaxis\":{\"automargin\":true,\"gridcolor\":\"white\",\"linecolor\":\"white\",\"ticks\":\"\",\"title\":{\"standoff\":15},\"zerolinecolor\":\"white\",\"zerolinewidth\":2},\"yaxis\":{\"automargin\":true,\"gridcolor\":\"white\",\"linecolor\":\"white\",\"ticks\":\"\",\"title\":{\"standoff\":15},\"zerolinecolor\":\"white\",\"zerolinewidth\":2}}},\"title\":{\"font\":{\"color\":\"#4D5663\"}},\"xaxis\":{\"gridcolor\":\"#E1E5ED\",\"showgrid\":true,\"tickfont\":{\"color\":\"#4D5663\"},\"title\":{\"font\":{\"color\":\"#4D5663\"},\"text\":\"\"},\"zerolinecolor\":\"#E1E5ED\"},\"yaxis\":{\"gridcolor\":\"#E1E5ED\",\"showgrid\":true,\"tickfont\":{\"color\":\"#4D5663\"},\"title\":{\"font\":{\"color\":\"#4D5663\"},\"text\":\"\"},\"zerolinecolor\":\"#E1E5ED\"}},                        {\"showLink\": true, \"linkText\": \"Export to plot.ly\", \"plotlyServerURL\": \"https://plot.ly\", \"responsive\": true}                    ).then(function(){\n",
       "                            \n",
       "var gd = document.getElementById('0ec370a1-4ea2-4307-a5bc-5ddab6a33642');\n",
       "var x = new MutationObserver(function (mutations, observer) {{\n",
       "        var display = window.getComputedStyle(gd).display;\n",
       "        if (!display || display === 'none') {{\n",
       "            console.log([gd, 'removed!']);\n",
       "            Plotly.purge(gd);\n",
       "            observer.disconnect();\n",
       "        }}\n",
       "}});\n",
       "\n",
       "// Listen for the removal of the full notebook cells\n",
       "var notebookContainer = gd.closest('#notebook-container');\n",
       "if (notebookContainer) {{\n",
       "    x.observe(notebookContainer, {childList: true});\n",
       "}}\n",
       "\n",
       "// Listen for the clearing of the current output cell\n",
       "var outputEl = gd.closest('.output');\n",
       "if (outputEl) {{\n",
       "    x.observe(outputEl, {childList: true});\n",
       "}}\n",
       "\n",
       "                        })                };                });            </script>        </div>"
      ]
     },
     "metadata": {},
     "output_type": "display_data"
    }
   ],
   "source": [
    "df.iplot(kind='bubble',x='A',y='B',size='C')"
   ]
  },
  {
   "cell_type": "code",
   "execution_count": 45,
   "id": "e89e43d9",
   "metadata": {},
   "outputs": [
    {
     "data": {
      "application/vnd.plotly.v1+json": {
       "config": {
        "linkText": "Export to plot.ly",
        "plotlyServerURL": "https://plot.ly",
        "showLink": true
       },
       "data": [
        {
         "histfunc": "count",
         "histnorm": "",
         "marker": {
          "color": "rgba(255, 153, 51, 1.0)",
          "line": {
           "color": "#4D5663",
           "width": 1.3
          }
         },
         "name": "A",
         "nbinsx": 10,
         "opacity": 0.8,
         "orientation": "v",
         "type": "histogram",
         "x": [
          -1.9755500137656816,
          -0.061947778504821194,
          1.5859026175116797,
          -1.2531388336614748,
          -0.05439570455517902,
          -0.6099892593578193,
          -0.42597212415335045,
          1.30054514318552,
          1.6745245836944143,
          0.16101375678398513,
          -0.49292541050026917,
          -0.11917095742151543,
          -0.7009747802886002,
          -0.47467091820681706,
          -0.4017079488724917,
          -0.42615585580718507,
          0.0902833090343134,
          -0.03383157680340645,
          0.25125800723855946,
          0.09501082946377389,
          0.5867512968998098,
          -0.4693010654392666,
          0.46168204660174567,
          0.06495267830063275,
          0.2681084284590157,
          -1.4989026795597802,
          1.7641427480382965,
          1.4859196786280577,
          0.1539020337302631,
          -0.6840507459974362,
          -0.13423049695369402,
          0.7460726140571591,
          -0.7550366137892188,
          -0.0512034730653333,
          -0.4748090640569612,
          -2.3679114992432004,
          -0.30779199050609957,
          -0.49193289903124116,
          -0.7649607105286698,
          -2.613800799990971,
          0.6362381962494086,
          -0.8198854452978208,
          -0.4784810420305522,
          -0.30559539406897873,
          1.7417622654227076,
          1.9097958194435793,
          0.9406674466573566,
          -1.2094515522929468,
          0.6724277066552841,
          0.6042558126336943,
          1.695812684537749,
          -0.8894533401640422,
          -1.0307224681600358,
          0.004523554592124752,
          1.9757360700018838,
          0.5429180447534881,
          -0.47199893155343664,
          0.4749452873600385,
          -0.283517983931913,
          -0.04096698814947355,
          0.968045533265399,
          0.8935691476562685,
          -0.1899689680365186,
          -0.5352024057664848,
          -0.6306762033186569,
          -0.8819772809327792,
          -0.9249869852557837,
          -1.2795987736093142,
          -1.4906513234849743,
          -1.100933806912293,
          0.4967968785061232,
          0.4776917332224903,
          0.19840480678120576,
          -0.5678729808054858,
          -0.47050311886264523,
          -0.6848928388732589,
          -0.3447172724962305,
          -0.23794258475612443,
          2.165413060815801,
          0.6632483590585299,
          2.000157263583068,
          -0.05164465663250612,
          -0.32950100556886297,
          0.1233413534161667,
          -1.024280593332221,
          1.6328302707578288,
          -0.8922019505656237,
          -0.19277947000847248,
          1.778582913528921,
          1.2861142967242434,
          0.7478696272647315,
          0.7044550353283147,
          -0.4948989732262082,
          2.162621138218643,
          -0.07173258766074306,
          -0.9714490326513098,
          -0.25668971020006276,
          -0.9861809495110716,
          -1.157103541842868,
          1.1992610142491917
         ],
         "xaxis": "x",
         "yaxis": "y"
        },
        {
         "line": {
          "color": "rgba(128, 128, 128, 1.0)",
          "dash": "solid",
          "shape": "linear",
          "width": 1.3
         },
         "marker": {
          "size": 2,
          "symbol": "circle"
         },
         "mode": "markers",
         "name": "A",
         "text": "",
         "type": "scatter",
         "x": [
          -0.6016205567329608,
          -0.6867847793895484,
          -1.004201098081681,
          0.5459610858692364,
          -0.5134277048058766,
          -1.7713803666089118,
          0.306265766114442,
          -0.4673808534970285,
          0.47774761494497525,
          0.5773418911213518,
          -0.9716562852965338,
          0.5691019831236278,
          0.47140735466440037,
          0.09296487685387636,
          0.36346199486628045,
          -0.21785167686542148,
          0.43661427182523044,
          -1.1043395826762386,
          -0.02671525336627313,
          1.6340557489474088,
          -0.4116937959977908,
          0.760627438099993,
          -1.419951605103263,
          1.56554617148626,
          -1.0612550505986134,
          -0.2791022850093874,
          -0.6538496117164647,
          -0.5413662862932657,
          0.770850384913509,
          0.5112478057109159,
          0.444885186950138,
          1.3539004781978206,
          2.2623286874734436,
          -0.862557473719299,
          0.5541222476581766,
          0.4349526898898684,
          1.3003541024884273,
          -0.9334222914281395,
          -0.018468505151828317,
          0.301456771856218,
          0.8893522858810824,
          0.9676579983417197,
          0.40723522186669053,
          0.8049924749506939,
          -0.040571046598925915,
          -0.7668702851597023,
          1.2011848352922634,
          1.7413782411913143,
          -0.3627601644549942,
          0.8029425027984123,
          -1.2379383287509398,
          0.650388747065542,
          1.1512941141212873,
          0.8082910662466302,
          0.002804675896032924,
          0.040444707117679946,
          1.0075910275877349,
          1.566362282752962,
          1.727518610682044,
          0.43208798978099616,
          -0.37729306749409824,
          0.3583192853709636,
          2.245267346888914,
          -1.2931892852342348,
          0.49825288910292637,
          0.18173575684733229,
          -0.003765766788964723,
          0.788228363907951,
          0.14540007233038146,
          -2.8471785813920847,
          0.901525280729787,
          0.47931178935779756,
          -0.75054262406477,
          -0.1895272526767355,
          -0.16111055958515572,
          0.43926869577158684,
          -2.007298526805992,
          0.14872350274937846,
          -0.7897899064104688,
          -0.8739822093248697,
          0.8077072001297577,
          1.0106425845267275,
          -1.3871824837780988,
          -0.802777519106265,
          -0.665337553159498,
          -0.5965212412716,
          0.8824586708505167,
          -1.31436743946511,
          -0.11327313080949342,
          0.3357969652076104,
          0.7522800234797223,
          -1.1915982770371818,
          -0.6620972204720901,
          -1.5865209839733985,
          0.25954986753324477,
          -0.34864819900329097,
          0.6164677893891793,
          -0.006340506992387929,
          0.05375386835791097,
          -0.04750243008043119
         ],
         "xaxis": "x2",
         "y": [
          -1.9755500137656816,
          -0.061947778504821194,
          1.5859026175116797,
          -1.2531388336614748,
          -0.05439570455517902,
          -0.6099892593578193,
          -0.42597212415335045,
          1.30054514318552,
          1.6745245836944143,
          0.16101375678398513,
          -0.49292541050026917,
          -0.11917095742151543,
          -0.7009747802886002,
          -0.47467091820681706,
          -0.4017079488724917,
          -0.42615585580718507,
          0.0902833090343134,
          -0.03383157680340645,
          0.25125800723855946,
          0.09501082946377389,
          0.5867512968998098,
          -0.4693010654392666,
          0.46168204660174567,
          0.06495267830063275,
          0.2681084284590157,
          -1.4989026795597802,
          1.7641427480382965,
          1.4859196786280577,
          0.1539020337302631,
          -0.6840507459974362,
          -0.13423049695369402,
          0.7460726140571591,
          -0.7550366137892188,
          -0.0512034730653333,
          -0.4748090640569612,
          -2.3679114992432004,
          -0.30779199050609957,
          -0.49193289903124116,
          -0.7649607105286698,
          -2.613800799990971,
          0.6362381962494086,
          -0.8198854452978208,
          -0.4784810420305522,
          -0.30559539406897873,
          1.7417622654227076,
          1.9097958194435793,
          0.9406674466573566,
          -1.2094515522929468,
          0.6724277066552841,
          0.6042558126336943,
          1.695812684537749,
          -0.8894533401640422,
          -1.0307224681600358,
          0.004523554592124752,
          1.9757360700018838,
          0.5429180447534881,
          -0.47199893155343664,
          0.4749452873600385,
          -0.283517983931913,
          -0.04096698814947355,
          0.968045533265399,
          0.8935691476562685,
          -0.1899689680365186,
          -0.5352024057664848,
          -0.6306762033186569,
          -0.8819772809327792,
          -0.9249869852557837,
          -1.2795987736093142,
          -1.4906513234849743,
          -1.100933806912293,
          0.4967968785061232,
          0.4776917332224903,
          0.19840480678120576,
          -0.5678729808054858,
          -0.47050311886264523,
          -0.6848928388732589,
          -0.3447172724962305,
          -0.23794258475612443,
          2.165413060815801,
          0.6632483590585299,
          2.000157263583068,
          -0.05164465663250612,
          -0.32950100556886297,
          0.1233413534161667,
          -1.024280593332221,
          1.6328302707578288,
          -0.8922019505656237,
          -0.19277947000847248,
          1.778582913528921,
          1.2861142967242434,
          0.7478696272647315,
          0.7044550353283147,
          -0.4948989732262082,
          2.162621138218643,
          -0.07173258766074306,
          -0.9714490326513098,
          -0.25668971020006276,
          -0.9861809495110716,
          -1.157103541842868,
          1.1992610142491917
         ],
         "yaxis": "y2"
        },
        {
         "line": {
          "color": "rgba(128, 128, 128, 1.0)",
          "dash": "solid",
          "shape": "linear",
          "width": 1.3
         },
         "marker": {
          "size": 2,
          "symbol": "circle"
         },
         "mode": "markers",
         "name": "A",
         "text": "",
         "type": "scatter",
         "x": [
          -0.6704082264197347,
          -0.9712370065255008,
          0.4111150132211941,
          0.06505043483094419,
          0.09597347386637531,
          -0.17805257026137314,
          0.6266282123253187,
          -0.06944538525399793,
          1.0434066129333317,
          0.8321859041473956,
          0.23176254064018448,
          -0.36957242731347956,
          0.9693310064414132,
          -1.065613557626272,
          -0.08607110397003176,
          0.38839255569323583,
          -0.6766161417161143,
          -1.2143473333630788,
          1.1433139815906899,
          1.1489106765854245,
          -0.4233004052413279,
          -0.14674342975009205,
          -1.5470081603989874,
          0.5449565142853104,
          0.9436920674861845,
          -0.8578130086197939,
          -0.8706007914367132,
          -0.4674439125957368,
          0.7295679758333566,
          -1.5659532199503727,
          -0.6302577800291368,
          0.002036162897837701,
          0.08527473566789949,
          0.4114993953567297,
          0.5831547536114501,
          -0.8417649892373862,
          -0.15206125243366583,
          0.6558559082815361,
          0.4739620700333792,
          1.6503138194249127,
          0.261093633651454,
          1.488587165162164,
          0.29469611827486414,
          0.25496389058589275,
          -1.2652526156028097,
          -0.7532256723724051,
          -0.9099639520318753,
          1.1441345960738158,
          0.5949919924224334,
          -0.10782459485723767,
          0.2140567254164145,
          0.14147781374699772,
          1.0340849306590991,
          0.24670441031205223,
          0.583944717414109,
          -0.4151649571540205,
          -1.5680514211874341,
          1.0757553302227085,
          -2.196377096070879,
          -1.0909931476373194,
          -0.4456730180087001,
          0.22966449358967897,
          0.5457957358256748,
          0.8832981164864001,
          -1.1263605017015514,
          -0.40180359216850925,
          -1.232443932460566,
          0.26566029104465116,
          1.0724285813704941,
          0.04514430706016189,
          0.37813651962983186,
          1.1153581424377124,
          -0.2879208413779026,
          0.08049124917956914,
          -0.06135085527396157,
          -0.37693758217424916,
          1.1830320069813256,
          0.16995226333775676,
          1.7774620506505168,
          -0.8895255904170345,
          1.3944174805345486,
          -1.850060721313199,
          -1.3417035530645616,
          0.9391082966584445,
          0.9700589698321128,
          -1.604452147419455,
          0.6676364870219649,
          -1.1239638929995208,
          0.9866181703538464,
          -0.47245120246747085,
          0.14307948466401546,
          1.6194032925395008,
          0.28707929556088013,
          -2.0633114742281067,
          0.984871614465747,
          -0.0005197875955629226,
          1.28016775843392,
          0.38145099065980237,
          1.0181992084337197,
          0.0007496653025990152
         ],
         "xaxis": "x3",
         "y": [
          -1.9755500137656816,
          -0.061947778504821194,
          1.5859026175116797,
          -1.2531388336614748,
          -0.05439570455517902,
          -0.6099892593578193,
          -0.42597212415335045,
          1.30054514318552,
          1.6745245836944143,
          0.16101375678398513,
          -0.49292541050026917,
          -0.11917095742151543,
          -0.7009747802886002,
          -0.47467091820681706,
          -0.4017079488724917,
          -0.42615585580718507,
          0.0902833090343134,
          -0.03383157680340645,
          0.25125800723855946,
          0.09501082946377389,
          0.5867512968998098,
          -0.4693010654392666,
          0.46168204660174567,
          0.06495267830063275,
          0.2681084284590157,
          -1.4989026795597802,
          1.7641427480382965,
          1.4859196786280577,
          0.1539020337302631,
          -0.6840507459974362,
          -0.13423049695369402,
          0.7460726140571591,
          -0.7550366137892188,
          -0.0512034730653333,
          -0.4748090640569612,
          -2.3679114992432004,
          -0.30779199050609957,
          -0.49193289903124116,
          -0.7649607105286698,
          -2.613800799990971,
          0.6362381962494086,
          -0.8198854452978208,
          -0.4784810420305522,
          -0.30559539406897873,
          1.7417622654227076,
          1.9097958194435793,
          0.9406674466573566,
          -1.2094515522929468,
          0.6724277066552841,
          0.6042558126336943,
          1.695812684537749,
          -0.8894533401640422,
          -1.0307224681600358,
          0.004523554592124752,
          1.9757360700018838,
          0.5429180447534881,
          -0.47199893155343664,
          0.4749452873600385,
          -0.283517983931913,
          -0.04096698814947355,
          0.968045533265399,
          0.8935691476562685,
          -0.1899689680365186,
          -0.5352024057664848,
          -0.6306762033186569,
          -0.8819772809327792,
          -0.9249869852557837,
          -1.2795987736093142,
          -1.4906513234849743,
          -1.100933806912293,
          0.4967968785061232,
          0.4776917332224903,
          0.19840480678120576,
          -0.5678729808054858,
          -0.47050311886264523,
          -0.6848928388732589,
          -0.3447172724962305,
          -0.23794258475612443,
          2.165413060815801,
          0.6632483590585299,
          2.000157263583068,
          -0.05164465663250612,
          -0.32950100556886297,
          0.1233413534161667,
          -1.024280593332221,
          1.6328302707578288,
          -0.8922019505656237,
          -0.19277947000847248,
          1.778582913528921,
          1.2861142967242434,
          0.7478696272647315,
          0.7044550353283147,
          -0.4948989732262082,
          2.162621138218643,
          -0.07173258766074306,
          -0.9714490326513098,
          -0.25668971020006276,
          -0.9861809495110716,
          -1.157103541842868,
          1.1992610142491917
         ],
         "yaxis": "y3"
        },
        {
         "line": {
          "color": "rgba(128, 128, 128, 1.0)",
          "dash": "solid",
          "shape": "linear",
          "width": 1.3
         },
         "marker": {
          "size": 2,
          "symbol": "circle"
         },
         "mode": "markers",
         "name": "A",
         "text": "",
         "type": "scatter",
         "x": [
          -2.737247075994404,
          -0.371622137785998,
          0.4977872389088978,
          -0.25556722608188853,
          0.134844530196423,
          -0.9602501249253127,
          -0.2397917100705879,
          1.0344184850748666,
          0.8514263520822619,
          1.35122525523941,
          2.604635190520853,
          1.947767040875128,
          -1.3512387261342127,
          -0.9427769645828806,
          -2.063505088898325,
          -0.4870830116381731,
          0.25588158907185315,
          -1.0742236315172862,
          0.956877807016473,
          0.7333863213035633,
          -1.213437837026288,
          2.2599800326715225,
          -1.3391245764493112,
          -0.20150175200419704,
          -1.4517678541192687,
          0.1016744241682496,
          -1.5033897478410911,
          -0.1243391491925989,
          1.4436217338806754,
          -1.7133911850641386,
          0.26108774988306366,
          1.0056905498192663,
          -0.26248250730553535,
          0.24236503012727867,
          1.0519009772779324,
          0.321102619498424,
          -0.6304503190093411,
          0.8010048587525489,
          -0.026863296121999822,
          -0.6005877821544191,
          -0.0049922649277795465,
          -2.6221756364222157,
          -0.42984055050945774,
          -0.1443655516573191,
          -0.904478920086068,
          -0.07364609801508223,
          1.018411591964657,
          -0.43294602375333335,
          -0.5695326411619899,
          0.7594130903281197,
          -0.2006312780575331,
          -0.2347940580504846,
          0.8139954950920132,
          -0.8807999455752871,
          0.7163484752256508,
          0.40615245114971854,
          -0.8071198924710938,
          0.7767107762697273,
          -0.28877910715950894,
          0.8149223997578482,
          -0.3362381266307819,
          0.9522356397473453,
          -0.5898704926150133,
          -0.9772068149269224,
          0.737315638695283,
          0.34127453265489327,
          -0.6552094825700808,
          -1.6030076880442323,
          -1.5895923338532951,
          -0.012103775562117147,
          -0.29541678817590195,
          -0.12222407499725159,
          -1.0574075864876884,
          0.03501734189575078,
          -0.4077052603736408,
          0.21432227712942017,
          1.3691699925778178,
          -0.539074619860555,
          -0.8037180119982591,
          -0.7443299088773537,
          1.522871279279115,
          -0.08863780207150675,
          1.3100439989179171,
          -1.5140910484576355,
          1.6857952570240735,
          -1.9593945449784622,
          0.618036635263452,
          0.5793747989395617,
          -0.18701217121788372,
          -0.4302273446214045,
          -0.18418614363508462,
          0.48564593255997734,
          1.1067954050511588,
          -0.48813267343725975,
          -0.6718716102419712,
          -0.19220311340207014,
          0.6295952841880968,
          -0.651678727558497,
          1.3370584169131228,
          0.35362929920522856
         ],
         "xaxis": "x4",
         "y": [
          -1.9755500137656816,
          -0.061947778504821194,
          1.5859026175116797,
          -1.2531388336614748,
          -0.05439570455517902,
          -0.6099892593578193,
          -0.42597212415335045,
          1.30054514318552,
          1.6745245836944143,
          0.16101375678398513,
          -0.49292541050026917,
          -0.11917095742151543,
          -0.7009747802886002,
          -0.47467091820681706,
          -0.4017079488724917,
          -0.42615585580718507,
          0.0902833090343134,
          -0.03383157680340645,
          0.25125800723855946,
          0.09501082946377389,
          0.5867512968998098,
          -0.4693010654392666,
          0.46168204660174567,
          0.06495267830063275,
          0.2681084284590157,
          -1.4989026795597802,
          1.7641427480382965,
          1.4859196786280577,
          0.1539020337302631,
          -0.6840507459974362,
          -0.13423049695369402,
          0.7460726140571591,
          -0.7550366137892188,
          -0.0512034730653333,
          -0.4748090640569612,
          -2.3679114992432004,
          -0.30779199050609957,
          -0.49193289903124116,
          -0.7649607105286698,
          -2.613800799990971,
          0.6362381962494086,
          -0.8198854452978208,
          -0.4784810420305522,
          -0.30559539406897873,
          1.7417622654227076,
          1.9097958194435793,
          0.9406674466573566,
          -1.2094515522929468,
          0.6724277066552841,
          0.6042558126336943,
          1.695812684537749,
          -0.8894533401640422,
          -1.0307224681600358,
          0.004523554592124752,
          1.9757360700018838,
          0.5429180447534881,
          -0.47199893155343664,
          0.4749452873600385,
          -0.283517983931913,
          -0.04096698814947355,
          0.968045533265399,
          0.8935691476562685,
          -0.1899689680365186,
          -0.5352024057664848,
          -0.6306762033186569,
          -0.8819772809327792,
          -0.9249869852557837,
          -1.2795987736093142,
          -1.4906513234849743,
          -1.100933806912293,
          0.4967968785061232,
          0.4776917332224903,
          0.19840480678120576,
          -0.5678729808054858,
          -0.47050311886264523,
          -0.6848928388732589,
          -0.3447172724962305,
          -0.23794258475612443,
          2.165413060815801,
          0.6632483590585299,
          2.000157263583068,
          -0.05164465663250612,
          -0.32950100556886297,
          0.1233413534161667,
          -1.024280593332221,
          1.6328302707578288,
          -0.8922019505656237,
          -0.19277947000847248,
          1.778582913528921,
          1.2861142967242434,
          0.7478696272647315,
          0.7044550353283147,
          -0.4948989732262082,
          2.162621138218643,
          -0.07173258766074306,
          -0.9714490326513098,
          -0.25668971020006276,
          -0.9861809495110716,
          -1.157103541842868,
          1.1992610142491917
         ],
         "yaxis": "y4"
        },
        {
         "line": {
          "color": "rgba(128, 128, 128, 1.0)",
          "dash": "solid",
          "shape": "linear",
          "width": 1.3
         },
         "marker": {
          "size": 2,
          "symbol": "circle"
         },
         "mode": "markers",
         "name": "B",
         "text": "",
         "type": "scatter",
         "x": [
          -1.9755500137656816,
          -0.061947778504821194,
          1.5859026175116797,
          -1.2531388336614748,
          -0.05439570455517902,
          -0.6099892593578193,
          -0.42597212415335045,
          1.30054514318552,
          1.6745245836944143,
          0.16101375678398513,
          -0.49292541050026917,
          -0.11917095742151543,
          -0.7009747802886002,
          -0.47467091820681706,
          -0.4017079488724917,
          -0.42615585580718507,
          0.0902833090343134,
          -0.03383157680340645,
          0.25125800723855946,
          0.09501082946377389,
          0.5867512968998098,
          -0.4693010654392666,
          0.46168204660174567,
          0.06495267830063275,
          0.2681084284590157,
          -1.4989026795597802,
          1.7641427480382965,
          1.4859196786280577,
          0.1539020337302631,
          -0.6840507459974362,
          -0.13423049695369402,
          0.7460726140571591,
          -0.7550366137892188,
          -0.0512034730653333,
          -0.4748090640569612,
          -2.3679114992432004,
          -0.30779199050609957,
          -0.49193289903124116,
          -0.7649607105286698,
          -2.613800799990971,
          0.6362381962494086,
          -0.8198854452978208,
          -0.4784810420305522,
          -0.30559539406897873,
          1.7417622654227076,
          1.9097958194435793,
          0.9406674466573566,
          -1.2094515522929468,
          0.6724277066552841,
          0.6042558126336943,
          1.695812684537749,
          -0.8894533401640422,
          -1.0307224681600358,
          0.004523554592124752,
          1.9757360700018838,
          0.5429180447534881,
          -0.47199893155343664,
          0.4749452873600385,
          -0.283517983931913,
          -0.04096698814947355,
          0.968045533265399,
          0.8935691476562685,
          -0.1899689680365186,
          -0.5352024057664848,
          -0.6306762033186569,
          -0.8819772809327792,
          -0.9249869852557837,
          -1.2795987736093142,
          -1.4906513234849743,
          -1.100933806912293,
          0.4967968785061232,
          0.4776917332224903,
          0.19840480678120576,
          -0.5678729808054858,
          -0.47050311886264523,
          -0.6848928388732589,
          -0.3447172724962305,
          -0.23794258475612443,
          2.165413060815801,
          0.6632483590585299,
          2.000157263583068,
          -0.05164465663250612,
          -0.32950100556886297,
          0.1233413534161667,
          -1.024280593332221,
          1.6328302707578288,
          -0.8922019505656237,
          -0.19277947000847248,
          1.778582913528921,
          1.2861142967242434,
          0.7478696272647315,
          0.7044550353283147,
          -0.4948989732262082,
          2.162621138218643,
          -0.07173258766074306,
          -0.9714490326513098,
          -0.25668971020006276,
          -0.9861809495110716,
          -1.157103541842868,
          1.1992610142491917
         ],
         "xaxis": "x5",
         "y": [
          -0.6016205567329608,
          -0.6867847793895484,
          -1.004201098081681,
          0.5459610858692364,
          -0.5134277048058766,
          -1.7713803666089118,
          0.306265766114442,
          -0.4673808534970285,
          0.47774761494497525,
          0.5773418911213518,
          -0.9716562852965338,
          0.5691019831236278,
          0.47140735466440037,
          0.09296487685387636,
          0.36346199486628045,
          -0.21785167686542148,
          0.43661427182523044,
          -1.1043395826762386,
          -0.02671525336627313,
          1.6340557489474088,
          -0.4116937959977908,
          0.760627438099993,
          -1.419951605103263,
          1.56554617148626,
          -1.0612550505986134,
          -0.2791022850093874,
          -0.6538496117164647,
          -0.5413662862932657,
          0.770850384913509,
          0.5112478057109159,
          0.444885186950138,
          1.3539004781978206,
          2.2623286874734436,
          -0.862557473719299,
          0.5541222476581766,
          0.4349526898898684,
          1.3003541024884273,
          -0.9334222914281395,
          -0.018468505151828317,
          0.301456771856218,
          0.8893522858810824,
          0.9676579983417197,
          0.40723522186669053,
          0.8049924749506939,
          -0.040571046598925915,
          -0.7668702851597023,
          1.2011848352922634,
          1.7413782411913143,
          -0.3627601644549942,
          0.8029425027984123,
          -1.2379383287509398,
          0.650388747065542,
          1.1512941141212873,
          0.8082910662466302,
          0.002804675896032924,
          0.040444707117679946,
          1.0075910275877349,
          1.566362282752962,
          1.727518610682044,
          0.43208798978099616,
          -0.37729306749409824,
          0.3583192853709636,
          2.245267346888914,
          -1.2931892852342348,
          0.49825288910292637,
          0.18173575684733229,
          -0.003765766788964723,
          0.788228363907951,
          0.14540007233038146,
          -2.8471785813920847,
          0.901525280729787,
          0.47931178935779756,
          -0.75054262406477,
          -0.1895272526767355,
          -0.16111055958515572,
          0.43926869577158684,
          -2.007298526805992,
          0.14872350274937846,
          -0.7897899064104688,
          -0.8739822093248697,
          0.8077072001297577,
          1.0106425845267275,
          -1.3871824837780988,
          -0.802777519106265,
          -0.665337553159498,
          -0.5965212412716,
          0.8824586708505167,
          -1.31436743946511,
          -0.11327313080949342,
          0.3357969652076104,
          0.7522800234797223,
          -1.1915982770371818,
          -0.6620972204720901,
          -1.5865209839733985,
          0.25954986753324477,
          -0.34864819900329097,
          0.6164677893891793,
          -0.006340506992387929,
          0.05375386835791097,
          -0.04750243008043119
         ],
         "yaxis": "y5"
        },
        {
         "histfunc": "count",
         "histnorm": "",
         "marker": {
          "color": "rgba(55, 128, 191, 1.0)",
          "line": {
           "color": "#4D5663",
           "width": 1.3
          }
         },
         "name": "B",
         "nbinsx": 10,
         "opacity": 0.8,
         "orientation": "v",
         "type": "histogram",
         "x": [
          -0.6016205567329608,
          -0.6867847793895484,
          -1.004201098081681,
          0.5459610858692364,
          -0.5134277048058766,
          -1.7713803666089118,
          0.306265766114442,
          -0.4673808534970285,
          0.47774761494497525,
          0.5773418911213518,
          -0.9716562852965338,
          0.5691019831236278,
          0.47140735466440037,
          0.09296487685387636,
          0.36346199486628045,
          -0.21785167686542148,
          0.43661427182523044,
          -1.1043395826762386,
          -0.02671525336627313,
          1.6340557489474088,
          -0.4116937959977908,
          0.760627438099993,
          -1.419951605103263,
          1.56554617148626,
          -1.0612550505986134,
          -0.2791022850093874,
          -0.6538496117164647,
          -0.5413662862932657,
          0.770850384913509,
          0.5112478057109159,
          0.444885186950138,
          1.3539004781978206,
          2.2623286874734436,
          -0.862557473719299,
          0.5541222476581766,
          0.4349526898898684,
          1.3003541024884273,
          -0.9334222914281395,
          -0.018468505151828317,
          0.301456771856218,
          0.8893522858810824,
          0.9676579983417197,
          0.40723522186669053,
          0.8049924749506939,
          -0.040571046598925915,
          -0.7668702851597023,
          1.2011848352922634,
          1.7413782411913143,
          -0.3627601644549942,
          0.8029425027984123,
          -1.2379383287509398,
          0.650388747065542,
          1.1512941141212873,
          0.8082910662466302,
          0.002804675896032924,
          0.040444707117679946,
          1.0075910275877349,
          1.566362282752962,
          1.727518610682044,
          0.43208798978099616,
          -0.37729306749409824,
          0.3583192853709636,
          2.245267346888914,
          -1.2931892852342348,
          0.49825288910292637,
          0.18173575684733229,
          -0.003765766788964723,
          0.788228363907951,
          0.14540007233038146,
          -2.8471785813920847,
          0.901525280729787,
          0.47931178935779756,
          -0.75054262406477,
          -0.1895272526767355,
          -0.16111055958515572,
          0.43926869577158684,
          -2.007298526805992,
          0.14872350274937846,
          -0.7897899064104688,
          -0.8739822093248697,
          0.8077072001297577,
          1.0106425845267275,
          -1.3871824837780988,
          -0.802777519106265,
          -0.665337553159498,
          -0.5965212412716,
          0.8824586708505167,
          -1.31436743946511,
          -0.11327313080949342,
          0.3357969652076104,
          0.7522800234797223,
          -1.1915982770371818,
          -0.6620972204720901,
          -1.5865209839733985,
          0.25954986753324477,
          -0.34864819900329097,
          0.6164677893891793,
          -0.006340506992387929,
          0.05375386835791097,
          -0.04750243008043119
         ],
         "xaxis": "x6",
         "yaxis": "y6"
        },
        {
         "line": {
          "color": "rgba(128, 128, 128, 1.0)",
          "dash": "solid",
          "shape": "linear",
          "width": 1.3
         },
         "marker": {
          "size": 2,
          "symbol": "circle"
         },
         "mode": "markers",
         "name": "B",
         "text": "",
         "type": "scatter",
         "x": [
          -0.6704082264197347,
          -0.9712370065255008,
          0.4111150132211941,
          0.06505043483094419,
          0.09597347386637531,
          -0.17805257026137314,
          0.6266282123253187,
          -0.06944538525399793,
          1.0434066129333317,
          0.8321859041473956,
          0.23176254064018448,
          -0.36957242731347956,
          0.9693310064414132,
          -1.065613557626272,
          -0.08607110397003176,
          0.38839255569323583,
          -0.6766161417161143,
          -1.2143473333630788,
          1.1433139815906899,
          1.1489106765854245,
          -0.4233004052413279,
          -0.14674342975009205,
          -1.5470081603989874,
          0.5449565142853104,
          0.9436920674861845,
          -0.8578130086197939,
          -0.8706007914367132,
          -0.4674439125957368,
          0.7295679758333566,
          -1.5659532199503727,
          -0.6302577800291368,
          0.002036162897837701,
          0.08527473566789949,
          0.4114993953567297,
          0.5831547536114501,
          -0.8417649892373862,
          -0.15206125243366583,
          0.6558559082815361,
          0.4739620700333792,
          1.6503138194249127,
          0.261093633651454,
          1.488587165162164,
          0.29469611827486414,
          0.25496389058589275,
          -1.2652526156028097,
          -0.7532256723724051,
          -0.9099639520318753,
          1.1441345960738158,
          0.5949919924224334,
          -0.10782459485723767,
          0.2140567254164145,
          0.14147781374699772,
          1.0340849306590991,
          0.24670441031205223,
          0.583944717414109,
          -0.4151649571540205,
          -1.5680514211874341,
          1.0757553302227085,
          -2.196377096070879,
          -1.0909931476373194,
          -0.4456730180087001,
          0.22966449358967897,
          0.5457957358256748,
          0.8832981164864001,
          -1.1263605017015514,
          -0.40180359216850925,
          -1.232443932460566,
          0.26566029104465116,
          1.0724285813704941,
          0.04514430706016189,
          0.37813651962983186,
          1.1153581424377124,
          -0.2879208413779026,
          0.08049124917956914,
          -0.06135085527396157,
          -0.37693758217424916,
          1.1830320069813256,
          0.16995226333775676,
          1.7774620506505168,
          -0.8895255904170345,
          1.3944174805345486,
          -1.850060721313199,
          -1.3417035530645616,
          0.9391082966584445,
          0.9700589698321128,
          -1.604452147419455,
          0.6676364870219649,
          -1.1239638929995208,
          0.9866181703538464,
          -0.47245120246747085,
          0.14307948466401546,
          1.6194032925395008,
          0.28707929556088013,
          -2.0633114742281067,
          0.984871614465747,
          -0.0005197875955629226,
          1.28016775843392,
          0.38145099065980237,
          1.0181992084337197,
          0.0007496653025990152
         ],
         "xaxis": "x7",
         "y": [
          -0.6016205567329608,
          -0.6867847793895484,
          -1.004201098081681,
          0.5459610858692364,
          -0.5134277048058766,
          -1.7713803666089118,
          0.306265766114442,
          -0.4673808534970285,
          0.47774761494497525,
          0.5773418911213518,
          -0.9716562852965338,
          0.5691019831236278,
          0.47140735466440037,
          0.09296487685387636,
          0.36346199486628045,
          -0.21785167686542148,
          0.43661427182523044,
          -1.1043395826762386,
          -0.02671525336627313,
          1.6340557489474088,
          -0.4116937959977908,
          0.760627438099993,
          -1.419951605103263,
          1.56554617148626,
          -1.0612550505986134,
          -0.2791022850093874,
          -0.6538496117164647,
          -0.5413662862932657,
          0.770850384913509,
          0.5112478057109159,
          0.444885186950138,
          1.3539004781978206,
          2.2623286874734436,
          -0.862557473719299,
          0.5541222476581766,
          0.4349526898898684,
          1.3003541024884273,
          -0.9334222914281395,
          -0.018468505151828317,
          0.301456771856218,
          0.8893522858810824,
          0.9676579983417197,
          0.40723522186669053,
          0.8049924749506939,
          -0.040571046598925915,
          -0.7668702851597023,
          1.2011848352922634,
          1.7413782411913143,
          -0.3627601644549942,
          0.8029425027984123,
          -1.2379383287509398,
          0.650388747065542,
          1.1512941141212873,
          0.8082910662466302,
          0.002804675896032924,
          0.040444707117679946,
          1.0075910275877349,
          1.566362282752962,
          1.727518610682044,
          0.43208798978099616,
          -0.37729306749409824,
          0.3583192853709636,
          2.245267346888914,
          -1.2931892852342348,
          0.49825288910292637,
          0.18173575684733229,
          -0.003765766788964723,
          0.788228363907951,
          0.14540007233038146,
          -2.8471785813920847,
          0.901525280729787,
          0.47931178935779756,
          -0.75054262406477,
          -0.1895272526767355,
          -0.16111055958515572,
          0.43926869577158684,
          -2.007298526805992,
          0.14872350274937846,
          -0.7897899064104688,
          -0.8739822093248697,
          0.8077072001297577,
          1.0106425845267275,
          -1.3871824837780988,
          -0.802777519106265,
          -0.665337553159498,
          -0.5965212412716,
          0.8824586708505167,
          -1.31436743946511,
          -0.11327313080949342,
          0.3357969652076104,
          0.7522800234797223,
          -1.1915982770371818,
          -0.6620972204720901,
          -1.5865209839733985,
          0.25954986753324477,
          -0.34864819900329097,
          0.6164677893891793,
          -0.006340506992387929,
          0.05375386835791097,
          -0.04750243008043119
         ],
         "yaxis": "y7"
        },
        {
         "line": {
          "color": "rgba(128, 128, 128, 1.0)",
          "dash": "solid",
          "shape": "linear",
          "width": 1.3
         },
         "marker": {
          "size": 2,
          "symbol": "circle"
         },
         "mode": "markers",
         "name": "B",
         "text": "",
         "type": "scatter",
         "x": [
          -2.737247075994404,
          -0.371622137785998,
          0.4977872389088978,
          -0.25556722608188853,
          0.134844530196423,
          -0.9602501249253127,
          -0.2397917100705879,
          1.0344184850748666,
          0.8514263520822619,
          1.35122525523941,
          2.604635190520853,
          1.947767040875128,
          -1.3512387261342127,
          -0.9427769645828806,
          -2.063505088898325,
          -0.4870830116381731,
          0.25588158907185315,
          -1.0742236315172862,
          0.956877807016473,
          0.7333863213035633,
          -1.213437837026288,
          2.2599800326715225,
          -1.3391245764493112,
          -0.20150175200419704,
          -1.4517678541192687,
          0.1016744241682496,
          -1.5033897478410911,
          -0.1243391491925989,
          1.4436217338806754,
          -1.7133911850641386,
          0.26108774988306366,
          1.0056905498192663,
          -0.26248250730553535,
          0.24236503012727867,
          1.0519009772779324,
          0.321102619498424,
          -0.6304503190093411,
          0.8010048587525489,
          -0.026863296121999822,
          -0.6005877821544191,
          -0.0049922649277795465,
          -2.6221756364222157,
          -0.42984055050945774,
          -0.1443655516573191,
          -0.904478920086068,
          -0.07364609801508223,
          1.018411591964657,
          -0.43294602375333335,
          -0.5695326411619899,
          0.7594130903281197,
          -0.2006312780575331,
          -0.2347940580504846,
          0.8139954950920132,
          -0.8807999455752871,
          0.7163484752256508,
          0.40615245114971854,
          -0.8071198924710938,
          0.7767107762697273,
          -0.28877910715950894,
          0.8149223997578482,
          -0.3362381266307819,
          0.9522356397473453,
          -0.5898704926150133,
          -0.9772068149269224,
          0.737315638695283,
          0.34127453265489327,
          -0.6552094825700808,
          -1.6030076880442323,
          -1.5895923338532951,
          -0.012103775562117147,
          -0.29541678817590195,
          -0.12222407499725159,
          -1.0574075864876884,
          0.03501734189575078,
          -0.4077052603736408,
          0.21432227712942017,
          1.3691699925778178,
          -0.539074619860555,
          -0.8037180119982591,
          -0.7443299088773537,
          1.522871279279115,
          -0.08863780207150675,
          1.3100439989179171,
          -1.5140910484576355,
          1.6857952570240735,
          -1.9593945449784622,
          0.618036635263452,
          0.5793747989395617,
          -0.18701217121788372,
          -0.4302273446214045,
          -0.18418614363508462,
          0.48564593255997734,
          1.1067954050511588,
          -0.48813267343725975,
          -0.6718716102419712,
          -0.19220311340207014,
          0.6295952841880968,
          -0.651678727558497,
          1.3370584169131228,
          0.35362929920522856
         ],
         "xaxis": "x8",
         "y": [
          -0.6016205567329608,
          -0.6867847793895484,
          -1.004201098081681,
          0.5459610858692364,
          -0.5134277048058766,
          -1.7713803666089118,
          0.306265766114442,
          -0.4673808534970285,
          0.47774761494497525,
          0.5773418911213518,
          -0.9716562852965338,
          0.5691019831236278,
          0.47140735466440037,
          0.09296487685387636,
          0.36346199486628045,
          -0.21785167686542148,
          0.43661427182523044,
          -1.1043395826762386,
          -0.02671525336627313,
          1.6340557489474088,
          -0.4116937959977908,
          0.760627438099993,
          -1.419951605103263,
          1.56554617148626,
          -1.0612550505986134,
          -0.2791022850093874,
          -0.6538496117164647,
          -0.5413662862932657,
          0.770850384913509,
          0.5112478057109159,
          0.444885186950138,
          1.3539004781978206,
          2.2623286874734436,
          -0.862557473719299,
          0.5541222476581766,
          0.4349526898898684,
          1.3003541024884273,
          -0.9334222914281395,
          -0.018468505151828317,
          0.301456771856218,
          0.8893522858810824,
          0.9676579983417197,
          0.40723522186669053,
          0.8049924749506939,
          -0.040571046598925915,
          -0.7668702851597023,
          1.2011848352922634,
          1.7413782411913143,
          -0.3627601644549942,
          0.8029425027984123,
          -1.2379383287509398,
          0.650388747065542,
          1.1512941141212873,
          0.8082910662466302,
          0.002804675896032924,
          0.040444707117679946,
          1.0075910275877349,
          1.566362282752962,
          1.727518610682044,
          0.43208798978099616,
          -0.37729306749409824,
          0.3583192853709636,
          2.245267346888914,
          -1.2931892852342348,
          0.49825288910292637,
          0.18173575684733229,
          -0.003765766788964723,
          0.788228363907951,
          0.14540007233038146,
          -2.8471785813920847,
          0.901525280729787,
          0.47931178935779756,
          -0.75054262406477,
          -0.1895272526767355,
          -0.16111055958515572,
          0.43926869577158684,
          -2.007298526805992,
          0.14872350274937846,
          -0.7897899064104688,
          -0.8739822093248697,
          0.8077072001297577,
          1.0106425845267275,
          -1.3871824837780988,
          -0.802777519106265,
          -0.665337553159498,
          -0.5965212412716,
          0.8824586708505167,
          -1.31436743946511,
          -0.11327313080949342,
          0.3357969652076104,
          0.7522800234797223,
          -1.1915982770371818,
          -0.6620972204720901,
          -1.5865209839733985,
          0.25954986753324477,
          -0.34864819900329097,
          0.6164677893891793,
          -0.006340506992387929,
          0.05375386835791097,
          -0.04750243008043119
         ],
         "yaxis": "y8"
        },
        {
         "line": {
          "color": "rgba(128, 128, 128, 1.0)",
          "dash": "solid",
          "shape": "linear",
          "width": 1.3
         },
         "marker": {
          "size": 2,
          "symbol": "circle"
         },
         "mode": "markers",
         "name": "C",
         "text": "",
         "type": "scatter",
         "x": [
          -1.9755500137656816,
          -0.061947778504821194,
          1.5859026175116797,
          -1.2531388336614748,
          -0.05439570455517902,
          -0.6099892593578193,
          -0.42597212415335045,
          1.30054514318552,
          1.6745245836944143,
          0.16101375678398513,
          -0.49292541050026917,
          -0.11917095742151543,
          -0.7009747802886002,
          -0.47467091820681706,
          -0.4017079488724917,
          -0.42615585580718507,
          0.0902833090343134,
          -0.03383157680340645,
          0.25125800723855946,
          0.09501082946377389,
          0.5867512968998098,
          -0.4693010654392666,
          0.46168204660174567,
          0.06495267830063275,
          0.2681084284590157,
          -1.4989026795597802,
          1.7641427480382965,
          1.4859196786280577,
          0.1539020337302631,
          -0.6840507459974362,
          -0.13423049695369402,
          0.7460726140571591,
          -0.7550366137892188,
          -0.0512034730653333,
          -0.4748090640569612,
          -2.3679114992432004,
          -0.30779199050609957,
          -0.49193289903124116,
          -0.7649607105286698,
          -2.613800799990971,
          0.6362381962494086,
          -0.8198854452978208,
          -0.4784810420305522,
          -0.30559539406897873,
          1.7417622654227076,
          1.9097958194435793,
          0.9406674466573566,
          -1.2094515522929468,
          0.6724277066552841,
          0.6042558126336943,
          1.695812684537749,
          -0.8894533401640422,
          -1.0307224681600358,
          0.004523554592124752,
          1.9757360700018838,
          0.5429180447534881,
          -0.47199893155343664,
          0.4749452873600385,
          -0.283517983931913,
          -0.04096698814947355,
          0.968045533265399,
          0.8935691476562685,
          -0.1899689680365186,
          -0.5352024057664848,
          -0.6306762033186569,
          -0.8819772809327792,
          -0.9249869852557837,
          -1.2795987736093142,
          -1.4906513234849743,
          -1.100933806912293,
          0.4967968785061232,
          0.4776917332224903,
          0.19840480678120576,
          -0.5678729808054858,
          -0.47050311886264523,
          -0.6848928388732589,
          -0.3447172724962305,
          -0.23794258475612443,
          2.165413060815801,
          0.6632483590585299,
          2.000157263583068,
          -0.05164465663250612,
          -0.32950100556886297,
          0.1233413534161667,
          -1.024280593332221,
          1.6328302707578288,
          -0.8922019505656237,
          -0.19277947000847248,
          1.778582913528921,
          1.2861142967242434,
          0.7478696272647315,
          0.7044550353283147,
          -0.4948989732262082,
          2.162621138218643,
          -0.07173258766074306,
          -0.9714490326513098,
          -0.25668971020006276,
          -0.9861809495110716,
          -1.157103541842868,
          1.1992610142491917
         ],
         "xaxis": "x9",
         "y": [
          -0.6704082264197347,
          -0.9712370065255008,
          0.4111150132211941,
          0.06505043483094419,
          0.09597347386637531,
          -0.17805257026137314,
          0.6266282123253187,
          -0.06944538525399793,
          1.0434066129333317,
          0.8321859041473956,
          0.23176254064018448,
          -0.36957242731347956,
          0.9693310064414132,
          -1.065613557626272,
          -0.08607110397003176,
          0.38839255569323583,
          -0.6766161417161143,
          -1.2143473333630788,
          1.1433139815906899,
          1.1489106765854245,
          -0.4233004052413279,
          -0.14674342975009205,
          -1.5470081603989874,
          0.5449565142853104,
          0.9436920674861845,
          -0.8578130086197939,
          -0.8706007914367132,
          -0.4674439125957368,
          0.7295679758333566,
          -1.5659532199503727,
          -0.6302577800291368,
          0.002036162897837701,
          0.08527473566789949,
          0.4114993953567297,
          0.5831547536114501,
          -0.8417649892373862,
          -0.15206125243366583,
          0.6558559082815361,
          0.4739620700333792,
          1.6503138194249127,
          0.261093633651454,
          1.488587165162164,
          0.29469611827486414,
          0.25496389058589275,
          -1.2652526156028097,
          -0.7532256723724051,
          -0.9099639520318753,
          1.1441345960738158,
          0.5949919924224334,
          -0.10782459485723767,
          0.2140567254164145,
          0.14147781374699772,
          1.0340849306590991,
          0.24670441031205223,
          0.583944717414109,
          -0.4151649571540205,
          -1.5680514211874341,
          1.0757553302227085,
          -2.196377096070879,
          -1.0909931476373194,
          -0.4456730180087001,
          0.22966449358967897,
          0.5457957358256748,
          0.8832981164864001,
          -1.1263605017015514,
          -0.40180359216850925,
          -1.232443932460566,
          0.26566029104465116,
          1.0724285813704941,
          0.04514430706016189,
          0.37813651962983186,
          1.1153581424377124,
          -0.2879208413779026,
          0.08049124917956914,
          -0.06135085527396157,
          -0.37693758217424916,
          1.1830320069813256,
          0.16995226333775676,
          1.7774620506505168,
          -0.8895255904170345,
          1.3944174805345486,
          -1.850060721313199,
          -1.3417035530645616,
          0.9391082966584445,
          0.9700589698321128,
          -1.604452147419455,
          0.6676364870219649,
          -1.1239638929995208,
          0.9866181703538464,
          -0.47245120246747085,
          0.14307948466401546,
          1.6194032925395008,
          0.28707929556088013,
          -2.0633114742281067,
          0.984871614465747,
          -0.0005197875955629226,
          1.28016775843392,
          0.38145099065980237,
          1.0181992084337197,
          0.0007496653025990152
         ],
         "yaxis": "y9"
        },
        {
         "line": {
          "color": "rgba(128, 128, 128, 1.0)",
          "dash": "solid",
          "shape": "linear",
          "width": 1.3
         },
         "marker": {
          "size": 2,
          "symbol": "circle"
         },
         "mode": "markers",
         "name": "C",
         "text": "",
         "type": "scatter",
         "x": [
          -0.6016205567329608,
          -0.6867847793895484,
          -1.004201098081681,
          0.5459610858692364,
          -0.5134277048058766,
          -1.7713803666089118,
          0.306265766114442,
          -0.4673808534970285,
          0.47774761494497525,
          0.5773418911213518,
          -0.9716562852965338,
          0.5691019831236278,
          0.47140735466440037,
          0.09296487685387636,
          0.36346199486628045,
          -0.21785167686542148,
          0.43661427182523044,
          -1.1043395826762386,
          -0.02671525336627313,
          1.6340557489474088,
          -0.4116937959977908,
          0.760627438099993,
          -1.419951605103263,
          1.56554617148626,
          -1.0612550505986134,
          -0.2791022850093874,
          -0.6538496117164647,
          -0.5413662862932657,
          0.770850384913509,
          0.5112478057109159,
          0.444885186950138,
          1.3539004781978206,
          2.2623286874734436,
          -0.862557473719299,
          0.5541222476581766,
          0.4349526898898684,
          1.3003541024884273,
          -0.9334222914281395,
          -0.018468505151828317,
          0.301456771856218,
          0.8893522858810824,
          0.9676579983417197,
          0.40723522186669053,
          0.8049924749506939,
          -0.040571046598925915,
          -0.7668702851597023,
          1.2011848352922634,
          1.7413782411913143,
          -0.3627601644549942,
          0.8029425027984123,
          -1.2379383287509398,
          0.650388747065542,
          1.1512941141212873,
          0.8082910662466302,
          0.002804675896032924,
          0.040444707117679946,
          1.0075910275877349,
          1.566362282752962,
          1.727518610682044,
          0.43208798978099616,
          -0.37729306749409824,
          0.3583192853709636,
          2.245267346888914,
          -1.2931892852342348,
          0.49825288910292637,
          0.18173575684733229,
          -0.003765766788964723,
          0.788228363907951,
          0.14540007233038146,
          -2.8471785813920847,
          0.901525280729787,
          0.47931178935779756,
          -0.75054262406477,
          -0.1895272526767355,
          -0.16111055958515572,
          0.43926869577158684,
          -2.007298526805992,
          0.14872350274937846,
          -0.7897899064104688,
          -0.8739822093248697,
          0.8077072001297577,
          1.0106425845267275,
          -1.3871824837780988,
          -0.802777519106265,
          -0.665337553159498,
          -0.5965212412716,
          0.8824586708505167,
          -1.31436743946511,
          -0.11327313080949342,
          0.3357969652076104,
          0.7522800234797223,
          -1.1915982770371818,
          -0.6620972204720901,
          -1.5865209839733985,
          0.25954986753324477,
          -0.34864819900329097,
          0.6164677893891793,
          -0.006340506992387929,
          0.05375386835791097,
          -0.04750243008043119
         ],
         "xaxis": "x10",
         "y": [
          -0.6704082264197347,
          -0.9712370065255008,
          0.4111150132211941,
          0.06505043483094419,
          0.09597347386637531,
          -0.17805257026137314,
          0.6266282123253187,
          -0.06944538525399793,
          1.0434066129333317,
          0.8321859041473956,
          0.23176254064018448,
          -0.36957242731347956,
          0.9693310064414132,
          -1.065613557626272,
          -0.08607110397003176,
          0.38839255569323583,
          -0.6766161417161143,
          -1.2143473333630788,
          1.1433139815906899,
          1.1489106765854245,
          -0.4233004052413279,
          -0.14674342975009205,
          -1.5470081603989874,
          0.5449565142853104,
          0.9436920674861845,
          -0.8578130086197939,
          -0.8706007914367132,
          -0.4674439125957368,
          0.7295679758333566,
          -1.5659532199503727,
          -0.6302577800291368,
          0.002036162897837701,
          0.08527473566789949,
          0.4114993953567297,
          0.5831547536114501,
          -0.8417649892373862,
          -0.15206125243366583,
          0.6558559082815361,
          0.4739620700333792,
          1.6503138194249127,
          0.261093633651454,
          1.488587165162164,
          0.29469611827486414,
          0.25496389058589275,
          -1.2652526156028097,
          -0.7532256723724051,
          -0.9099639520318753,
          1.1441345960738158,
          0.5949919924224334,
          -0.10782459485723767,
          0.2140567254164145,
          0.14147781374699772,
          1.0340849306590991,
          0.24670441031205223,
          0.583944717414109,
          -0.4151649571540205,
          -1.5680514211874341,
          1.0757553302227085,
          -2.196377096070879,
          -1.0909931476373194,
          -0.4456730180087001,
          0.22966449358967897,
          0.5457957358256748,
          0.8832981164864001,
          -1.1263605017015514,
          -0.40180359216850925,
          -1.232443932460566,
          0.26566029104465116,
          1.0724285813704941,
          0.04514430706016189,
          0.37813651962983186,
          1.1153581424377124,
          -0.2879208413779026,
          0.08049124917956914,
          -0.06135085527396157,
          -0.37693758217424916,
          1.1830320069813256,
          0.16995226333775676,
          1.7774620506505168,
          -0.8895255904170345,
          1.3944174805345486,
          -1.850060721313199,
          -1.3417035530645616,
          0.9391082966584445,
          0.9700589698321128,
          -1.604452147419455,
          0.6676364870219649,
          -1.1239638929995208,
          0.9866181703538464,
          -0.47245120246747085,
          0.14307948466401546,
          1.6194032925395008,
          0.28707929556088013,
          -2.0633114742281067,
          0.984871614465747,
          -0.0005197875955629226,
          1.28016775843392,
          0.38145099065980237,
          1.0181992084337197,
          0.0007496653025990152
         ],
         "yaxis": "y10"
        },
        {
         "histfunc": "count",
         "histnorm": "",
         "marker": {
          "color": "rgba(50, 171, 96, 1.0)",
          "line": {
           "color": "#4D5663",
           "width": 1.3
          }
         },
         "name": "C",
         "nbinsx": 10,
         "opacity": 0.8,
         "orientation": "v",
         "type": "histogram",
         "x": [
          -0.6704082264197347,
          -0.9712370065255008,
          0.4111150132211941,
          0.06505043483094419,
          0.09597347386637531,
          -0.17805257026137314,
          0.6266282123253187,
          -0.06944538525399793,
          1.0434066129333317,
          0.8321859041473956,
          0.23176254064018448,
          -0.36957242731347956,
          0.9693310064414132,
          -1.065613557626272,
          -0.08607110397003176,
          0.38839255569323583,
          -0.6766161417161143,
          -1.2143473333630788,
          1.1433139815906899,
          1.1489106765854245,
          -0.4233004052413279,
          -0.14674342975009205,
          -1.5470081603989874,
          0.5449565142853104,
          0.9436920674861845,
          -0.8578130086197939,
          -0.8706007914367132,
          -0.4674439125957368,
          0.7295679758333566,
          -1.5659532199503727,
          -0.6302577800291368,
          0.002036162897837701,
          0.08527473566789949,
          0.4114993953567297,
          0.5831547536114501,
          -0.8417649892373862,
          -0.15206125243366583,
          0.6558559082815361,
          0.4739620700333792,
          1.6503138194249127,
          0.261093633651454,
          1.488587165162164,
          0.29469611827486414,
          0.25496389058589275,
          -1.2652526156028097,
          -0.7532256723724051,
          -0.9099639520318753,
          1.1441345960738158,
          0.5949919924224334,
          -0.10782459485723767,
          0.2140567254164145,
          0.14147781374699772,
          1.0340849306590991,
          0.24670441031205223,
          0.583944717414109,
          -0.4151649571540205,
          -1.5680514211874341,
          1.0757553302227085,
          -2.196377096070879,
          -1.0909931476373194,
          -0.4456730180087001,
          0.22966449358967897,
          0.5457957358256748,
          0.8832981164864001,
          -1.1263605017015514,
          -0.40180359216850925,
          -1.232443932460566,
          0.26566029104465116,
          1.0724285813704941,
          0.04514430706016189,
          0.37813651962983186,
          1.1153581424377124,
          -0.2879208413779026,
          0.08049124917956914,
          -0.06135085527396157,
          -0.37693758217424916,
          1.1830320069813256,
          0.16995226333775676,
          1.7774620506505168,
          -0.8895255904170345,
          1.3944174805345486,
          -1.850060721313199,
          -1.3417035530645616,
          0.9391082966584445,
          0.9700589698321128,
          -1.604452147419455,
          0.6676364870219649,
          -1.1239638929995208,
          0.9866181703538464,
          -0.47245120246747085,
          0.14307948466401546,
          1.6194032925395008,
          0.28707929556088013,
          -2.0633114742281067,
          0.984871614465747,
          -0.0005197875955629226,
          1.28016775843392,
          0.38145099065980237,
          1.0181992084337197,
          0.0007496653025990152
         ],
         "xaxis": "x11",
         "yaxis": "y11"
        },
        {
         "line": {
          "color": "rgba(128, 128, 128, 1.0)",
          "dash": "solid",
          "shape": "linear",
          "width": 1.3
         },
         "marker": {
          "size": 2,
          "symbol": "circle"
         },
         "mode": "markers",
         "name": "C",
         "text": "",
         "type": "scatter",
         "x": [
          -2.737247075994404,
          -0.371622137785998,
          0.4977872389088978,
          -0.25556722608188853,
          0.134844530196423,
          -0.9602501249253127,
          -0.2397917100705879,
          1.0344184850748666,
          0.8514263520822619,
          1.35122525523941,
          2.604635190520853,
          1.947767040875128,
          -1.3512387261342127,
          -0.9427769645828806,
          -2.063505088898325,
          -0.4870830116381731,
          0.25588158907185315,
          -1.0742236315172862,
          0.956877807016473,
          0.7333863213035633,
          -1.213437837026288,
          2.2599800326715225,
          -1.3391245764493112,
          -0.20150175200419704,
          -1.4517678541192687,
          0.1016744241682496,
          -1.5033897478410911,
          -0.1243391491925989,
          1.4436217338806754,
          -1.7133911850641386,
          0.26108774988306366,
          1.0056905498192663,
          -0.26248250730553535,
          0.24236503012727867,
          1.0519009772779324,
          0.321102619498424,
          -0.6304503190093411,
          0.8010048587525489,
          -0.026863296121999822,
          -0.6005877821544191,
          -0.0049922649277795465,
          -2.6221756364222157,
          -0.42984055050945774,
          -0.1443655516573191,
          -0.904478920086068,
          -0.07364609801508223,
          1.018411591964657,
          -0.43294602375333335,
          -0.5695326411619899,
          0.7594130903281197,
          -0.2006312780575331,
          -0.2347940580504846,
          0.8139954950920132,
          -0.8807999455752871,
          0.7163484752256508,
          0.40615245114971854,
          -0.8071198924710938,
          0.7767107762697273,
          -0.28877910715950894,
          0.8149223997578482,
          -0.3362381266307819,
          0.9522356397473453,
          -0.5898704926150133,
          -0.9772068149269224,
          0.737315638695283,
          0.34127453265489327,
          -0.6552094825700808,
          -1.6030076880442323,
          -1.5895923338532951,
          -0.012103775562117147,
          -0.29541678817590195,
          -0.12222407499725159,
          -1.0574075864876884,
          0.03501734189575078,
          -0.4077052603736408,
          0.21432227712942017,
          1.3691699925778178,
          -0.539074619860555,
          -0.8037180119982591,
          -0.7443299088773537,
          1.522871279279115,
          -0.08863780207150675,
          1.3100439989179171,
          -1.5140910484576355,
          1.6857952570240735,
          -1.9593945449784622,
          0.618036635263452,
          0.5793747989395617,
          -0.18701217121788372,
          -0.4302273446214045,
          -0.18418614363508462,
          0.48564593255997734,
          1.1067954050511588,
          -0.48813267343725975,
          -0.6718716102419712,
          -0.19220311340207014,
          0.6295952841880968,
          -0.651678727558497,
          1.3370584169131228,
          0.35362929920522856
         ],
         "xaxis": "x12",
         "y": [
          -0.6704082264197347,
          -0.9712370065255008,
          0.4111150132211941,
          0.06505043483094419,
          0.09597347386637531,
          -0.17805257026137314,
          0.6266282123253187,
          -0.06944538525399793,
          1.0434066129333317,
          0.8321859041473956,
          0.23176254064018448,
          -0.36957242731347956,
          0.9693310064414132,
          -1.065613557626272,
          -0.08607110397003176,
          0.38839255569323583,
          -0.6766161417161143,
          -1.2143473333630788,
          1.1433139815906899,
          1.1489106765854245,
          -0.4233004052413279,
          -0.14674342975009205,
          -1.5470081603989874,
          0.5449565142853104,
          0.9436920674861845,
          -0.8578130086197939,
          -0.8706007914367132,
          -0.4674439125957368,
          0.7295679758333566,
          -1.5659532199503727,
          -0.6302577800291368,
          0.002036162897837701,
          0.08527473566789949,
          0.4114993953567297,
          0.5831547536114501,
          -0.8417649892373862,
          -0.15206125243366583,
          0.6558559082815361,
          0.4739620700333792,
          1.6503138194249127,
          0.261093633651454,
          1.488587165162164,
          0.29469611827486414,
          0.25496389058589275,
          -1.2652526156028097,
          -0.7532256723724051,
          -0.9099639520318753,
          1.1441345960738158,
          0.5949919924224334,
          -0.10782459485723767,
          0.2140567254164145,
          0.14147781374699772,
          1.0340849306590991,
          0.24670441031205223,
          0.583944717414109,
          -0.4151649571540205,
          -1.5680514211874341,
          1.0757553302227085,
          -2.196377096070879,
          -1.0909931476373194,
          -0.4456730180087001,
          0.22966449358967897,
          0.5457957358256748,
          0.8832981164864001,
          -1.1263605017015514,
          -0.40180359216850925,
          -1.232443932460566,
          0.26566029104465116,
          1.0724285813704941,
          0.04514430706016189,
          0.37813651962983186,
          1.1153581424377124,
          -0.2879208413779026,
          0.08049124917956914,
          -0.06135085527396157,
          -0.37693758217424916,
          1.1830320069813256,
          0.16995226333775676,
          1.7774620506505168,
          -0.8895255904170345,
          1.3944174805345486,
          -1.850060721313199,
          -1.3417035530645616,
          0.9391082966584445,
          0.9700589698321128,
          -1.604452147419455,
          0.6676364870219649,
          -1.1239638929995208,
          0.9866181703538464,
          -0.47245120246747085,
          0.14307948466401546,
          1.6194032925395008,
          0.28707929556088013,
          -2.0633114742281067,
          0.984871614465747,
          -0.0005197875955629226,
          1.28016775843392,
          0.38145099065980237,
          1.0181992084337197,
          0.0007496653025990152
         ],
         "yaxis": "y12"
        },
        {
         "line": {
          "color": "rgba(128, 128, 128, 1.0)",
          "dash": "solid",
          "shape": "linear",
          "width": 1.3
         },
         "marker": {
          "size": 2,
          "symbol": "circle"
         },
         "mode": "markers",
         "name": "D",
         "text": "",
         "type": "scatter",
         "x": [
          -1.9755500137656816,
          -0.061947778504821194,
          1.5859026175116797,
          -1.2531388336614748,
          -0.05439570455517902,
          -0.6099892593578193,
          -0.42597212415335045,
          1.30054514318552,
          1.6745245836944143,
          0.16101375678398513,
          -0.49292541050026917,
          -0.11917095742151543,
          -0.7009747802886002,
          -0.47467091820681706,
          -0.4017079488724917,
          -0.42615585580718507,
          0.0902833090343134,
          -0.03383157680340645,
          0.25125800723855946,
          0.09501082946377389,
          0.5867512968998098,
          -0.4693010654392666,
          0.46168204660174567,
          0.06495267830063275,
          0.2681084284590157,
          -1.4989026795597802,
          1.7641427480382965,
          1.4859196786280577,
          0.1539020337302631,
          -0.6840507459974362,
          -0.13423049695369402,
          0.7460726140571591,
          -0.7550366137892188,
          -0.0512034730653333,
          -0.4748090640569612,
          -2.3679114992432004,
          -0.30779199050609957,
          -0.49193289903124116,
          -0.7649607105286698,
          -2.613800799990971,
          0.6362381962494086,
          -0.8198854452978208,
          -0.4784810420305522,
          -0.30559539406897873,
          1.7417622654227076,
          1.9097958194435793,
          0.9406674466573566,
          -1.2094515522929468,
          0.6724277066552841,
          0.6042558126336943,
          1.695812684537749,
          -0.8894533401640422,
          -1.0307224681600358,
          0.004523554592124752,
          1.9757360700018838,
          0.5429180447534881,
          -0.47199893155343664,
          0.4749452873600385,
          -0.283517983931913,
          -0.04096698814947355,
          0.968045533265399,
          0.8935691476562685,
          -0.1899689680365186,
          -0.5352024057664848,
          -0.6306762033186569,
          -0.8819772809327792,
          -0.9249869852557837,
          -1.2795987736093142,
          -1.4906513234849743,
          -1.100933806912293,
          0.4967968785061232,
          0.4776917332224903,
          0.19840480678120576,
          -0.5678729808054858,
          -0.47050311886264523,
          -0.6848928388732589,
          -0.3447172724962305,
          -0.23794258475612443,
          2.165413060815801,
          0.6632483590585299,
          2.000157263583068,
          -0.05164465663250612,
          -0.32950100556886297,
          0.1233413534161667,
          -1.024280593332221,
          1.6328302707578288,
          -0.8922019505656237,
          -0.19277947000847248,
          1.778582913528921,
          1.2861142967242434,
          0.7478696272647315,
          0.7044550353283147,
          -0.4948989732262082,
          2.162621138218643,
          -0.07173258766074306,
          -0.9714490326513098,
          -0.25668971020006276,
          -0.9861809495110716,
          -1.157103541842868,
          1.1992610142491917
         ],
         "xaxis": "x13",
         "y": [
          -2.737247075994404,
          -0.371622137785998,
          0.4977872389088978,
          -0.25556722608188853,
          0.134844530196423,
          -0.9602501249253127,
          -0.2397917100705879,
          1.0344184850748666,
          0.8514263520822619,
          1.35122525523941,
          2.604635190520853,
          1.947767040875128,
          -1.3512387261342127,
          -0.9427769645828806,
          -2.063505088898325,
          -0.4870830116381731,
          0.25588158907185315,
          -1.0742236315172862,
          0.956877807016473,
          0.7333863213035633,
          -1.213437837026288,
          2.2599800326715225,
          -1.3391245764493112,
          -0.20150175200419704,
          -1.4517678541192687,
          0.1016744241682496,
          -1.5033897478410911,
          -0.1243391491925989,
          1.4436217338806754,
          -1.7133911850641386,
          0.26108774988306366,
          1.0056905498192663,
          -0.26248250730553535,
          0.24236503012727867,
          1.0519009772779324,
          0.321102619498424,
          -0.6304503190093411,
          0.8010048587525489,
          -0.026863296121999822,
          -0.6005877821544191,
          -0.0049922649277795465,
          -2.6221756364222157,
          -0.42984055050945774,
          -0.1443655516573191,
          -0.904478920086068,
          -0.07364609801508223,
          1.018411591964657,
          -0.43294602375333335,
          -0.5695326411619899,
          0.7594130903281197,
          -0.2006312780575331,
          -0.2347940580504846,
          0.8139954950920132,
          -0.8807999455752871,
          0.7163484752256508,
          0.40615245114971854,
          -0.8071198924710938,
          0.7767107762697273,
          -0.28877910715950894,
          0.8149223997578482,
          -0.3362381266307819,
          0.9522356397473453,
          -0.5898704926150133,
          -0.9772068149269224,
          0.737315638695283,
          0.34127453265489327,
          -0.6552094825700808,
          -1.6030076880442323,
          -1.5895923338532951,
          -0.012103775562117147,
          -0.29541678817590195,
          -0.12222407499725159,
          -1.0574075864876884,
          0.03501734189575078,
          -0.4077052603736408,
          0.21432227712942017,
          1.3691699925778178,
          -0.539074619860555,
          -0.8037180119982591,
          -0.7443299088773537,
          1.522871279279115,
          -0.08863780207150675,
          1.3100439989179171,
          -1.5140910484576355,
          1.6857952570240735,
          -1.9593945449784622,
          0.618036635263452,
          0.5793747989395617,
          -0.18701217121788372,
          -0.4302273446214045,
          -0.18418614363508462,
          0.48564593255997734,
          1.1067954050511588,
          -0.48813267343725975,
          -0.6718716102419712,
          -0.19220311340207014,
          0.6295952841880968,
          -0.651678727558497,
          1.3370584169131228,
          0.35362929920522856
         ],
         "yaxis": "y13"
        },
        {
         "line": {
          "color": "rgba(128, 128, 128, 1.0)",
          "dash": "solid",
          "shape": "linear",
          "width": 1.3
         },
         "marker": {
          "size": 2,
          "symbol": "circle"
         },
         "mode": "markers",
         "name": "D",
         "text": "",
         "type": "scatter",
         "x": [
          -0.6016205567329608,
          -0.6867847793895484,
          -1.004201098081681,
          0.5459610858692364,
          -0.5134277048058766,
          -1.7713803666089118,
          0.306265766114442,
          -0.4673808534970285,
          0.47774761494497525,
          0.5773418911213518,
          -0.9716562852965338,
          0.5691019831236278,
          0.47140735466440037,
          0.09296487685387636,
          0.36346199486628045,
          -0.21785167686542148,
          0.43661427182523044,
          -1.1043395826762386,
          -0.02671525336627313,
          1.6340557489474088,
          -0.4116937959977908,
          0.760627438099993,
          -1.419951605103263,
          1.56554617148626,
          -1.0612550505986134,
          -0.2791022850093874,
          -0.6538496117164647,
          -0.5413662862932657,
          0.770850384913509,
          0.5112478057109159,
          0.444885186950138,
          1.3539004781978206,
          2.2623286874734436,
          -0.862557473719299,
          0.5541222476581766,
          0.4349526898898684,
          1.3003541024884273,
          -0.9334222914281395,
          -0.018468505151828317,
          0.301456771856218,
          0.8893522858810824,
          0.9676579983417197,
          0.40723522186669053,
          0.8049924749506939,
          -0.040571046598925915,
          -0.7668702851597023,
          1.2011848352922634,
          1.7413782411913143,
          -0.3627601644549942,
          0.8029425027984123,
          -1.2379383287509398,
          0.650388747065542,
          1.1512941141212873,
          0.8082910662466302,
          0.002804675896032924,
          0.040444707117679946,
          1.0075910275877349,
          1.566362282752962,
          1.727518610682044,
          0.43208798978099616,
          -0.37729306749409824,
          0.3583192853709636,
          2.245267346888914,
          -1.2931892852342348,
          0.49825288910292637,
          0.18173575684733229,
          -0.003765766788964723,
          0.788228363907951,
          0.14540007233038146,
          -2.8471785813920847,
          0.901525280729787,
          0.47931178935779756,
          -0.75054262406477,
          -0.1895272526767355,
          -0.16111055958515572,
          0.43926869577158684,
          -2.007298526805992,
          0.14872350274937846,
          -0.7897899064104688,
          -0.8739822093248697,
          0.8077072001297577,
          1.0106425845267275,
          -1.3871824837780988,
          -0.802777519106265,
          -0.665337553159498,
          -0.5965212412716,
          0.8824586708505167,
          -1.31436743946511,
          -0.11327313080949342,
          0.3357969652076104,
          0.7522800234797223,
          -1.1915982770371818,
          -0.6620972204720901,
          -1.5865209839733985,
          0.25954986753324477,
          -0.34864819900329097,
          0.6164677893891793,
          -0.006340506992387929,
          0.05375386835791097,
          -0.04750243008043119
         ],
         "xaxis": "x14",
         "y": [
          -2.737247075994404,
          -0.371622137785998,
          0.4977872389088978,
          -0.25556722608188853,
          0.134844530196423,
          -0.9602501249253127,
          -0.2397917100705879,
          1.0344184850748666,
          0.8514263520822619,
          1.35122525523941,
          2.604635190520853,
          1.947767040875128,
          -1.3512387261342127,
          -0.9427769645828806,
          -2.063505088898325,
          -0.4870830116381731,
          0.25588158907185315,
          -1.0742236315172862,
          0.956877807016473,
          0.7333863213035633,
          -1.213437837026288,
          2.2599800326715225,
          -1.3391245764493112,
          -0.20150175200419704,
          -1.4517678541192687,
          0.1016744241682496,
          -1.5033897478410911,
          -0.1243391491925989,
          1.4436217338806754,
          -1.7133911850641386,
          0.26108774988306366,
          1.0056905498192663,
          -0.26248250730553535,
          0.24236503012727867,
          1.0519009772779324,
          0.321102619498424,
          -0.6304503190093411,
          0.8010048587525489,
          -0.026863296121999822,
          -0.6005877821544191,
          -0.0049922649277795465,
          -2.6221756364222157,
          -0.42984055050945774,
          -0.1443655516573191,
          -0.904478920086068,
          -0.07364609801508223,
          1.018411591964657,
          -0.43294602375333335,
          -0.5695326411619899,
          0.7594130903281197,
          -0.2006312780575331,
          -0.2347940580504846,
          0.8139954950920132,
          -0.8807999455752871,
          0.7163484752256508,
          0.40615245114971854,
          -0.8071198924710938,
          0.7767107762697273,
          -0.28877910715950894,
          0.8149223997578482,
          -0.3362381266307819,
          0.9522356397473453,
          -0.5898704926150133,
          -0.9772068149269224,
          0.737315638695283,
          0.34127453265489327,
          -0.6552094825700808,
          -1.6030076880442323,
          -1.5895923338532951,
          -0.012103775562117147,
          -0.29541678817590195,
          -0.12222407499725159,
          -1.0574075864876884,
          0.03501734189575078,
          -0.4077052603736408,
          0.21432227712942017,
          1.3691699925778178,
          -0.539074619860555,
          -0.8037180119982591,
          -0.7443299088773537,
          1.522871279279115,
          -0.08863780207150675,
          1.3100439989179171,
          -1.5140910484576355,
          1.6857952570240735,
          -1.9593945449784622,
          0.618036635263452,
          0.5793747989395617,
          -0.18701217121788372,
          -0.4302273446214045,
          -0.18418614363508462,
          0.48564593255997734,
          1.1067954050511588,
          -0.48813267343725975,
          -0.6718716102419712,
          -0.19220311340207014,
          0.6295952841880968,
          -0.651678727558497,
          1.3370584169131228,
          0.35362929920522856
         ],
         "yaxis": "y14"
        },
        {
         "line": {
          "color": "rgba(128, 128, 128, 1.0)",
          "dash": "solid",
          "shape": "linear",
          "width": 1.3
         },
         "marker": {
          "size": 2,
          "symbol": "circle"
         },
         "mode": "markers",
         "name": "D",
         "text": "",
         "type": "scatter",
         "x": [
          -0.6704082264197347,
          -0.9712370065255008,
          0.4111150132211941,
          0.06505043483094419,
          0.09597347386637531,
          -0.17805257026137314,
          0.6266282123253187,
          -0.06944538525399793,
          1.0434066129333317,
          0.8321859041473956,
          0.23176254064018448,
          -0.36957242731347956,
          0.9693310064414132,
          -1.065613557626272,
          -0.08607110397003176,
          0.38839255569323583,
          -0.6766161417161143,
          -1.2143473333630788,
          1.1433139815906899,
          1.1489106765854245,
          -0.4233004052413279,
          -0.14674342975009205,
          -1.5470081603989874,
          0.5449565142853104,
          0.9436920674861845,
          -0.8578130086197939,
          -0.8706007914367132,
          -0.4674439125957368,
          0.7295679758333566,
          -1.5659532199503727,
          -0.6302577800291368,
          0.002036162897837701,
          0.08527473566789949,
          0.4114993953567297,
          0.5831547536114501,
          -0.8417649892373862,
          -0.15206125243366583,
          0.6558559082815361,
          0.4739620700333792,
          1.6503138194249127,
          0.261093633651454,
          1.488587165162164,
          0.29469611827486414,
          0.25496389058589275,
          -1.2652526156028097,
          -0.7532256723724051,
          -0.9099639520318753,
          1.1441345960738158,
          0.5949919924224334,
          -0.10782459485723767,
          0.2140567254164145,
          0.14147781374699772,
          1.0340849306590991,
          0.24670441031205223,
          0.583944717414109,
          -0.4151649571540205,
          -1.5680514211874341,
          1.0757553302227085,
          -2.196377096070879,
          -1.0909931476373194,
          -0.4456730180087001,
          0.22966449358967897,
          0.5457957358256748,
          0.8832981164864001,
          -1.1263605017015514,
          -0.40180359216850925,
          -1.232443932460566,
          0.26566029104465116,
          1.0724285813704941,
          0.04514430706016189,
          0.37813651962983186,
          1.1153581424377124,
          -0.2879208413779026,
          0.08049124917956914,
          -0.06135085527396157,
          -0.37693758217424916,
          1.1830320069813256,
          0.16995226333775676,
          1.7774620506505168,
          -0.8895255904170345,
          1.3944174805345486,
          -1.850060721313199,
          -1.3417035530645616,
          0.9391082966584445,
          0.9700589698321128,
          -1.604452147419455,
          0.6676364870219649,
          -1.1239638929995208,
          0.9866181703538464,
          -0.47245120246747085,
          0.14307948466401546,
          1.6194032925395008,
          0.28707929556088013,
          -2.0633114742281067,
          0.984871614465747,
          -0.0005197875955629226,
          1.28016775843392,
          0.38145099065980237,
          1.0181992084337197,
          0.0007496653025990152
         ],
         "xaxis": "x15",
         "y": [
          -2.737247075994404,
          -0.371622137785998,
          0.4977872389088978,
          -0.25556722608188853,
          0.134844530196423,
          -0.9602501249253127,
          -0.2397917100705879,
          1.0344184850748666,
          0.8514263520822619,
          1.35122525523941,
          2.604635190520853,
          1.947767040875128,
          -1.3512387261342127,
          -0.9427769645828806,
          -2.063505088898325,
          -0.4870830116381731,
          0.25588158907185315,
          -1.0742236315172862,
          0.956877807016473,
          0.7333863213035633,
          -1.213437837026288,
          2.2599800326715225,
          -1.3391245764493112,
          -0.20150175200419704,
          -1.4517678541192687,
          0.1016744241682496,
          -1.5033897478410911,
          -0.1243391491925989,
          1.4436217338806754,
          -1.7133911850641386,
          0.26108774988306366,
          1.0056905498192663,
          -0.26248250730553535,
          0.24236503012727867,
          1.0519009772779324,
          0.321102619498424,
          -0.6304503190093411,
          0.8010048587525489,
          -0.026863296121999822,
          -0.6005877821544191,
          -0.0049922649277795465,
          -2.6221756364222157,
          -0.42984055050945774,
          -0.1443655516573191,
          -0.904478920086068,
          -0.07364609801508223,
          1.018411591964657,
          -0.43294602375333335,
          -0.5695326411619899,
          0.7594130903281197,
          -0.2006312780575331,
          -0.2347940580504846,
          0.8139954950920132,
          -0.8807999455752871,
          0.7163484752256508,
          0.40615245114971854,
          -0.8071198924710938,
          0.7767107762697273,
          -0.28877910715950894,
          0.8149223997578482,
          -0.3362381266307819,
          0.9522356397473453,
          -0.5898704926150133,
          -0.9772068149269224,
          0.737315638695283,
          0.34127453265489327,
          -0.6552094825700808,
          -1.6030076880442323,
          -1.5895923338532951,
          -0.012103775562117147,
          -0.29541678817590195,
          -0.12222407499725159,
          -1.0574075864876884,
          0.03501734189575078,
          -0.4077052603736408,
          0.21432227712942017,
          1.3691699925778178,
          -0.539074619860555,
          -0.8037180119982591,
          -0.7443299088773537,
          1.522871279279115,
          -0.08863780207150675,
          1.3100439989179171,
          -1.5140910484576355,
          1.6857952570240735,
          -1.9593945449784622,
          0.618036635263452,
          0.5793747989395617,
          -0.18701217121788372,
          -0.4302273446214045,
          -0.18418614363508462,
          0.48564593255997734,
          1.1067954050511588,
          -0.48813267343725975,
          -0.6718716102419712,
          -0.19220311340207014,
          0.6295952841880968,
          -0.651678727558497,
          1.3370584169131228,
          0.35362929920522856
         ],
         "yaxis": "y15"
        },
        {
         "histfunc": "count",
         "histnorm": "",
         "marker": {
          "color": "rgba(128, 0, 128, 1.0)",
          "line": {
           "color": "#4D5663",
           "width": 1.3
          }
         },
         "name": "D",
         "nbinsx": 10,
         "opacity": 0.8,
         "orientation": "v",
         "type": "histogram",
         "x": [
          -2.737247075994404,
          -0.371622137785998,
          0.4977872389088978,
          -0.25556722608188853,
          0.134844530196423,
          -0.9602501249253127,
          -0.2397917100705879,
          1.0344184850748666,
          0.8514263520822619,
          1.35122525523941,
          2.604635190520853,
          1.947767040875128,
          -1.3512387261342127,
          -0.9427769645828806,
          -2.063505088898325,
          -0.4870830116381731,
          0.25588158907185315,
          -1.0742236315172862,
          0.956877807016473,
          0.7333863213035633,
          -1.213437837026288,
          2.2599800326715225,
          -1.3391245764493112,
          -0.20150175200419704,
          -1.4517678541192687,
          0.1016744241682496,
          -1.5033897478410911,
          -0.1243391491925989,
          1.4436217338806754,
          -1.7133911850641386,
          0.26108774988306366,
          1.0056905498192663,
          -0.26248250730553535,
          0.24236503012727867,
          1.0519009772779324,
          0.321102619498424,
          -0.6304503190093411,
          0.8010048587525489,
          -0.026863296121999822,
          -0.6005877821544191,
          -0.0049922649277795465,
          -2.6221756364222157,
          -0.42984055050945774,
          -0.1443655516573191,
          -0.904478920086068,
          -0.07364609801508223,
          1.018411591964657,
          -0.43294602375333335,
          -0.5695326411619899,
          0.7594130903281197,
          -0.2006312780575331,
          -0.2347940580504846,
          0.8139954950920132,
          -0.8807999455752871,
          0.7163484752256508,
          0.40615245114971854,
          -0.8071198924710938,
          0.7767107762697273,
          -0.28877910715950894,
          0.8149223997578482,
          -0.3362381266307819,
          0.9522356397473453,
          -0.5898704926150133,
          -0.9772068149269224,
          0.737315638695283,
          0.34127453265489327,
          -0.6552094825700808,
          -1.6030076880442323,
          -1.5895923338532951,
          -0.012103775562117147,
          -0.29541678817590195,
          -0.12222407499725159,
          -1.0574075864876884,
          0.03501734189575078,
          -0.4077052603736408,
          0.21432227712942017,
          1.3691699925778178,
          -0.539074619860555,
          -0.8037180119982591,
          -0.7443299088773537,
          1.522871279279115,
          -0.08863780207150675,
          1.3100439989179171,
          -1.5140910484576355,
          1.6857952570240735,
          -1.9593945449784622,
          0.618036635263452,
          0.5793747989395617,
          -0.18701217121788372,
          -0.4302273446214045,
          -0.18418614363508462,
          0.48564593255997734,
          1.1067954050511588,
          -0.48813267343725975,
          -0.6718716102419712,
          -0.19220311340207014,
          0.6295952841880968,
          -0.651678727558497,
          1.3370584169131228,
          0.35362929920522856
         ],
         "xaxis": "x16",
         "yaxis": "y16"
        }
       ],
       "layout": {
        "bargap": 0.02,
        "legend": {
         "bgcolor": "#F5F6F9",
         "font": {
          "color": "#4D5663"
         }
        },
        "paper_bgcolor": "#F5F6F9",
        "plot_bgcolor": "#F5F6F9",
        "showlegend": false,
        "template": {
         "data": {
          "bar": [
           {
            "error_x": {
             "color": "#2a3f5f"
            },
            "error_y": {
             "color": "#2a3f5f"
            },
            "marker": {
             "line": {
              "color": "#E5ECF6",
              "width": 0.5
             },
             "pattern": {
              "fillmode": "overlay",
              "size": 10,
              "solidity": 0.2
             }
            },
            "type": "bar"
           }
          ],
          "barpolar": [
           {
            "marker": {
             "line": {
              "color": "#E5ECF6",
              "width": 0.5
             },
             "pattern": {
              "fillmode": "overlay",
              "size": 10,
              "solidity": 0.2
             }
            },
            "type": "barpolar"
           }
          ],
          "carpet": [
           {
            "aaxis": {
             "endlinecolor": "#2a3f5f",
             "gridcolor": "white",
             "linecolor": "white",
             "minorgridcolor": "white",
             "startlinecolor": "#2a3f5f"
            },
            "baxis": {
             "endlinecolor": "#2a3f5f",
             "gridcolor": "white",
             "linecolor": "white",
             "minorgridcolor": "white",
             "startlinecolor": "#2a3f5f"
            },
            "type": "carpet"
           }
          ],
          "choropleth": [
           {
            "colorbar": {
             "outlinewidth": 0,
             "ticks": ""
            },
            "type": "choropleth"
           }
          ],
          "contour": [
           {
            "colorbar": {
             "outlinewidth": 0,
             "ticks": ""
            },
            "colorscale": [
             [
              0,
              "#0d0887"
             ],
             [
              0.1111111111111111,
              "#46039f"
             ],
             [
              0.2222222222222222,
              "#7201a8"
             ],
             [
              0.3333333333333333,
              "#9c179e"
             ],
             [
              0.4444444444444444,
              "#bd3786"
             ],
             [
              0.5555555555555556,
              "#d8576b"
             ],
             [
              0.6666666666666666,
              "#ed7953"
             ],
             [
              0.7777777777777778,
              "#fb9f3a"
             ],
             [
              0.8888888888888888,
              "#fdca26"
             ],
             [
              1,
              "#f0f921"
             ]
            ],
            "type": "contour"
           }
          ],
          "contourcarpet": [
           {
            "colorbar": {
             "outlinewidth": 0,
             "ticks": ""
            },
            "type": "contourcarpet"
           }
          ],
          "heatmap": [
           {
            "colorbar": {
             "outlinewidth": 0,
             "ticks": ""
            },
            "colorscale": [
             [
              0,
              "#0d0887"
             ],
             [
              0.1111111111111111,
              "#46039f"
             ],
             [
              0.2222222222222222,
              "#7201a8"
             ],
             [
              0.3333333333333333,
              "#9c179e"
             ],
             [
              0.4444444444444444,
              "#bd3786"
             ],
             [
              0.5555555555555556,
              "#d8576b"
             ],
             [
              0.6666666666666666,
              "#ed7953"
             ],
             [
              0.7777777777777778,
              "#fb9f3a"
             ],
             [
              0.8888888888888888,
              "#fdca26"
             ],
             [
              1,
              "#f0f921"
             ]
            ],
            "type": "heatmap"
           }
          ],
          "heatmapgl": [
           {
            "colorbar": {
             "outlinewidth": 0,
             "ticks": ""
            },
            "colorscale": [
             [
              0,
              "#0d0887"
             ],
             [
              0.1111111111111111,
              "#46039f"
             ],
             [
              0.2222222222222222,
              "#7201a8"
             ],
             [
              0.3333333333333333,
              "#9c179e"
             ],
             [
              0.4444444444444444,
              "#bd3786"
             ],
             [
              0.5555555555555556,
              "#d8576b"
             ],
             [
              0.6666666666666666,
              "#ed7953"
             ],
             [
              0.7777777777777778,
              "#fb9f3a"
             ],
             [
              0.8888888888888888,
              "#fdca26"
             ],
             [
              1,
              "#f0f921"
             ]
            ],
            "type": "heatmapgl"
           }
          ],
          "histogram": [
           {
            "marker": {
             "pattern": {
              "fillmode": "overlay",
              "size": 10,
              "solidity": 0.2
             }
            },
            "type": "histogram"
           }
          ],
          "histogram2d": [
           {
            "colorbar": {
             "outlinewidth": 0,
             "ticks": ""
            },
            "colorscale": [
             [
              0,
              "#0d0887"
             ],
             [
              0.1111111111111111,
              "#46039f"
             ],
             [
              0.2222222222222222,
              "#7201a8"
             ],
             [
              0.3333333333333333,
              "#9c179e"
             ],
             [
              0.4444444444444444,
              "#bd3786"
             ],
             [
              0.5555555555555556,
              "#d8576b"
             ],
             [
              0.6666666666666666,
              "#ed7953"
             ],
             [
              0.7777777777777778,
              "#fb9f3a"
             ],
             [
              0.8888888888888888,
              "#fdca26"
             ],
             [
              1,
              "#f0f921"
             ]
            ],
            "type": "histogram2d"
           }
          ],
          "histogram2dcontour": [
           {
            "colorbar": {
             "outlinewidth": 0,
             "ticks": ""
            },
            "colorscale": [
             [
              0,
              "#0d0887"
             ],
             [
              0.1111111111111111,
              "#46039f"
             ],
             [
              0.2222222222222222,
              "#7201a8"
             ],
             [
              0.3333333333333333,
              "#9c179e"
             ],
             [
              0.4444444444444444,
              "#bd3786"
             ],
             [
              0.5555555555555556,
              "#d8576b"
             ],
             [
              0.6666666666666666,
              "#ed7953"
             ],
             [
              0.7777777777777778,
              "#fb9f3a"
             ],
             [
              0.8888888888888888,
              "#fdca26"
             ],
             [
              1,
              "#f0f921"
             ]
            ],
            "type": "histogram2dcontour"
           }
          ],
          "mesh3d": [
           {
            "colorbar": {
             "outlinewidth": 0,
             "ticks": ""
            },
            "type": "mesh3d"
           }
          ],
          "parcoords": [
           {
            "line": {
             "colorbar": {
              "outlinewidth": 0,
              "ticks": ""
             }
            },
            "type": "parcoords"
           }
          ],
          "pie": [
           {
            "automargin": true,
            "type": "pie"
           }
          ],
          "scatter": [
           {
            "fillpattern": {
             "fillmode": "overlay",
             "size": 10,
             "solidity": 0.2
            },
            "type": "scatter"
           }
          ],
          "scatter3d": [
           {
            "line": {
             "colorbar": {
              "outlinewidth": 0,
              "ticks": ""
             }
            },
            "marker": {
             "colorbar": {
              "outlinewidth": 0,
              "ticks": ""
             }
            },
            "type": "scatter3d"
           }
          ],
          "scattercarpet": [
           {
            "marker": {
             "colorbar": {
              "outlinewidth": 0,
              "ticks": ""
             }
            },
            "type": "scattercarpet"
           }
          ],
          "scattergeo": [
           {
            "marker": {
             "colorbar": {
              "outlinewidth": 0,
              "ticks": ""
             }
            },
            "type": "scattergeo"
           }
          ],
          "scattergl": [
           {
            "marker": {
             "colorbar": {
              "outlinewidth": 0,
              "ticks": ""
             }
            },
            "type": "scattergl"
           }
          ],
          "scattermapbox": [
           {
            "marker": {
             "colorbar": {
              "outlinewidth": 0,
              "ticks": ""
             }
            },
            "type": "scattermapbox"
           }
          ],
          "scatterpolar": [
           {
            "marker": {
             "colorbar": {
              "outlinewidth": 0,
              "ticks": ""
             }
            },
            "type": "scatterpolar"
           }
          ],
          "scatterpolargl": [
           {
            "marker": {
             "colorbar": {
              "outlinewidth": 0,
              "ticks": ""
             }
            },
            "type": "scatterpolargl"
           }
          ],
          "scatterternary": [
           {
            "marker": {
             "colorbar": {
              "outlinewidth": 0,
              "ticks": ""
             }
            },
            "type": "scatterternary"
           }
          ],
          "surface": [
           {
            "colorbar": {
             "outlinewidth": 0,
             "ticks": ""
            },
            "colorscale": [
             [
              0,
              "#0d0887"
             ],
             [
              0.1111111111111111,
              "#46039f"
             ],
             [
              0.2222222222222222,
              "#7201a8"
             ],
             [
              0.3333333333333333,
              "#9c179e"
             ],
             [
              0.4444444444444444,
              "#bd3786"
             ],
             [
              0.5555555555555556,
              "#d8576b"
             ],
             [
              0.6666666666666666,
              "#ed7953"
             ],
             [
              0.7777777777777778,
              "#fb9f3a"
             ],
             [
              0.8888888888888888,
              "#fdca26"
             ],
             [
              1,
              "#f0f921"
             ]
            ],
            "type": "surface"
           }
          ],
          "table": [
           {
            "cells": {
             "fill": {
              "color": "#EBF0F8"
             },
             "line": {
              "color": "white"
             }
            },
            "header": {
             "fill": {
              "color": "#C8D4E3"
             },
             "line": {
              "color": "white"
             }
            },
            "type": "table"
           }
          ]
         },
         "layout": {
          "annotationdefaults": {
           "arrowcolor": "#2a3f5f",
           "arrowhead": 0,
           "arrowwidth": 1
          },
          "autotypenumbers": "strict",
          "coloraxis": {
           "colorbar": {
            "outlinewidth": 0,
            "ticks": ""
           }
          },
          "colorscale": {
           "diverging": [
            [
             0,
             "#8e0152"
            ],
            [
             0.1,
             "#c51b7d"
            ],
            [
             0.2,
             "#de77ae"
            ],
            [
             0.3,
             "#f1b6da"
            ],
            [
             0.4,
             "#fde0ef"
            ],
            [
             0.5,
             "#f7f7f7"
            ],
            [
             0.6,
             "#e6f5d0"
            ],
            [
             0.7,
             "#b8e186"
            ],
            [
             0.8,
             "#7fbc41"
            ],
            [
             0.9,
             "#4d9221"
            ],
            [
             1,
             "#276419"
            ]
           ],
           "sequential": [
            [
             0,
             "#0d0887"
            ],
            [
             0.1111111111111111,
             "#46039f"
            ],
            [
             0.2222222222222222,
             "#7201a8"
            ],
            [
             0.3333333333333333,
             "#9c179e"
            ],
            [
             0.4444444444444444,
             "#bd3786"
            ],
            [
             0.5555555555555556,
             "#d8576b"
            ],
            [
             0.6666666666666666,
             "#ed7953"
            ],
            [
             0.7777777777777778,
             "#fb9f3a"
            ],
            [
             0.8888888888888888,
             "#fdca26"
            ],
            [
             1,
             "#f0f921"
            ]
           ],
           "sequentialminus": [
            [
             0,
             "#0d0887"
            ],
            [
             0.1111111111111111,
             "#46039f"
            ],
            [
             0.2222222222222222,
             "#7201a8"
            ],
            [
             0.3333333333333333,
             "#9c179e"
            ],
            [
             0.4444444444444444,
             "#bd3786"
            ],
            [
             0.5555555555555556,
             "#d8576b"
            ],
            [
             0.6666666666666666,
             "#ed7953"
            ],
            [
             0.7777777777777778,
             "#fb9f3a"
            ],
            [
             0.8888888888888888,
             "#fdca26"
            ],
            [
             1,
             "#f0f921"
            ]
           ]
          },
          "colorway": [
           "#636efa",
           "#EF553B",
           "#00cc96",
           "#ab63fa",
           "#FFA15A",
           "#19d3f3",
           "#FF6692",
           "#B6E880",
           "#FF97FF",
           "#FECB52"
          ],
          "font": {
           "color": "#2a3f5f"
          },
          "geo": {
           "bgcolor": "white",
           "lakecolor": "white",
           "landcolor": "#E5ECF6",
           "showlakes": true,
           "showland": true,
           "subunitcolor": "white"
          },
          "hoverlabel": {
           "align": "left"
          },
          "hovermode": "closest",
          "mapbox": {
           "style": "light"
          },
          "paper_bgcolor": "white",
          "plot_bgcolor": "#E5ECF6",
          "polar": {
           "angularaxis": {
            "gridcolor": "white",
            "linecolor": "white",
            "ticks": ""
           },
           "bgcolor": "#E5ECF6",
           "radialaxis": {
            "gridcolor": "white",
            "linecolor": "white",
            "ticks": ""
           }
          },
          "scene": {
           "xaxis": {
            "backgroundcolor": "#E5ECF6",
            "gridcolor": "white",
            "gridwidth": 2,
            "linecolor": "white",
            "showbackground": true,
            "ticks": "",
            "zerolinecolor": "white"
           },
           "yaxis": {
            "backgroundcolor": "#E5ECF6",
            "gridcolor": "white",
            "gridwidth": 2,
            "linecolor": "white",
            "showbackground": true,
            "ticks": "",
            "zerolinecolor": "white"
           },
           "zaxis": {
            "backgroundcolor": "#E5ECF6",
            "gridcolor": "white",
            "gridwidth": 2,
            "linecolor": "white",
            "showbackground": true,
            "ticks": "",
            "zerolinecolor": "white"
           }
          },
          "shapedefaults": {
           "line": {
            "color": "#2a3f5f"
           }
          },
          "ternary": {
           "aaxis": {
            "gridcolor": "white",
            "linecolor": "white",
            "ticks": ""
           },
           "baxis": {
            "gridcolor": "white",
            "linecolor": "white",
            "ticks": ""
           },
           "bgcolor": "#E5ECF6",
           "caxis": {
            "gridcolor": "white",
            "linecolor": "white",
            "ticks": ""
           }
          },
          "title": {
           "x": 0.05
          },
          "xaxis": {
           "automargin": true,
           "gridcolor": "white",
           "linecolor": "white",
           "ticks": "",
           "title": {
            "standoff": 15
           },
           "zerolinecolor": "white",
           "zerolinewidth": 2
          },
          "yaxis": {
           "automargin": true,
           "gridcolor": "white",
           "linecolor": "white",
           "ticks": "",
           "title": {
            "standoff": 15
           },
           "zerolinecolor": "white",
           "zerolinewidth": 2
          }
         }
        },
        "title": {
         "font": {
          "color": "#4D5663"
         }
        },
        "xaxis": {
         "anchor": "y",
         "domain": [
          0,
          0.2125
         ],
         "gridcolor": "#E1E5ED",
         "showgrid": false,
         "tickfont": {
          "color": "#4D5663"
         },
         "title": {
          "font": {
           "color": "#4D5663"
          },
          "text": ""
         },
         "zerolinecolor": "#E1E5ED"
        },
        "xaxis10": {
         "anchor": "y10",
         "domain": [
          0.2625,
          0.475
         ],
         "gridcolor": "#E1E5ED",
         "showgrid": false,
         "tickfont": {
          "color": "#4D5663"
         },
         "title": {
          "font": {
           "color": "#4D5663"
          },
          "text": ""
         },
         "zerolinecolor": "#E1E5ED"
        },
        "xaxis11": {
         "anchor": "y11",
         "domain": [
          0.525,
          0.7375
         ],
         "gridcolor": "#E1E5ED",
         "showgrid": false,
         "tickfont": {
          "color": "#4D5663"
         },
         "title": {
          "font": {
           "color": "#4D5663"
          },
          "text": ""
         },
         "zerolinecolor": "#E1E5ED"
        },
        "xaxis12": {
         "anchor": "y12",
         "domain": [
          0.7875,
          1
         ],
         "gridcolor": "#E1E5ED",
         "showgrid": false,
         "tickfont": {
          "color": "#4D5663"
         },
         "title": {
          "font": {
           "color": "#4D5663"
          },
          "text": ""
         },
         "zerolinecolor": "#E1E5ED"
        },
        "xaxis13": {
         "anchor": "y13",
         "domain": [
          0,
          0.2125
         ],
         "gridcolor": "#E1E5ED",
         "showgrid": false,
         "tickfont": {
          "color": "#4D5663"
         },
         "title": {
          "font": {
           "color": "#4D5663"
          },
          "text": ""
         },
         "zerolinecolor": "#E1E5ED"
        },
        "xaxis14": {
         "anchor": "y14",
         "domain": [
          0.2625,
          0.475
         ],
         "gridcolor": "#E1E5ED",
         "showgrid": false,
         "tickfont": {
          "color": "#4D5663"
         },
         "title": {
          "font": {
           "color": "#4D5663"
          },
          "text": ""
         },
         "zerolinecolor": "#E1E5ED"
        },
        "xaxis15": {
         "anchor": "y15",
         "domain": [
          0.525,
          0.7375
         ],
         "gridcolor": "#E1E5ED",
         "showgrid": false,
         "tickfont": {
          "color": "#4D5663"
         },
         "title": {
          "font": {
           "color": "#4D5663"
          },
          "text": ""
         },
         "zerolinecolor": "#E1E5ED"
        },
        "xaxis16": {
         "anchor": "y16",
         "domain": [
          0.7875,
          1
         ],
         "gridcolor": "#E1E5ED",
         "showgrid": false,
         "tickfont": {
          "color": "#4D5663"
         },
         "title": {
          "font": {
           "color": "#4D5663"
          },
          "text": ""
         },
         "zerolinecolor": "#E1E5ED"
        },
        "xaxis2": {
         "anchor": "y2",
         "domain": [
          0.2625,
          0.475
         ],
         "gridcolor": "#E1E5ED",
         "showgrid": false,
         "tickfont": {
          "color": "#4D5663"
         },
         "title": {
          "font": {
           "color": "#4D5663"
          },
          "text": ""
         },
         "zerolinecolor": "#E1E5ED"
        },
        "xaxis3": {
         "anchor": "y3",
         "domain": [
          0.525,
          0.7375
         ],
         "gridcolor": "#E1E5ED",
         "showgrid": false,
         "tickfont": {
          "color": "#4D5663"
         },
         "title": {
          "font": {
           "color": "#4D5663"
          },
          "text": ""
         },
         "zerolinecolor": "#E1E5ED"
        },
        "xaxis4": {
         "anchor": "y4",
         "domain": [
          0.7875,
          1
         ],
         "gridcolor": "#E1E5ED",
         "showgrid": false,
         "tickfont": {
          "color": "#4D5663"
         },
         "title": {
          "font": {
           "color": "#4D5663"
          },
          "text": ""
         },
         "zerolinecolor": "#E1E5ED"
        },
        "xaxis5": {
         "anchor": "y5",
         "domain": [
          0,
          0.2125
         ],
         "gridcolor": "#E1E5ED",
         "showgrid": false,
         "tickfont": {
          "color": "#4D5663"
         },
         "title": {
          "font": {
           "color": "#4D5663"
          },
          "text": ""
         },
         "zerolinecolor": "#E1E5ED"
        },
        "xaxis6": {
         "anchor": "y6",
         "domain": [
          0.2625,
          0.475
         ],
         "gridcolor": "#E1E5ED",
         "showgrid": false,
         "tickfont": {
          "color": "#4D5663"
         },
         "title": {
          "font": {
           "color": "#4D5663"
          },
          "text": ""
         },
         "zerolinecolor": "#E1E5ED"
        },
        "xaxis7": {
         "anchor": "y7",
         "domain": [
          0.525,
          0.7375
         ],
         "gridcolor": "#E1E5ED",
         "showgrid": false,
         "tickfont": {
          "color": "#4D5663"
         },
         "title": {
          "font": {
           "color": "#4D5663"
          },
          "text": ""
         },
         "zerolinecolor": "#E1E5ED"
        },
        "xaxis8": {
         "anchor": "y8",
         "domain": [
          0.7875,
          1
         ],
         "gridcolor": "#E1E5ED",
         "showgrid": false,
         "tickfont": {
          "color": "#4D5663"
         },
         "title": {
          "font": {
           "color": "#4D5663"
          },
          "text": ""
         },
         "zerolinecolor": "#E1E5ED"
        },
        "xaxis9": {
         "anchor": "y9",
         "domain": [
          0,
          0.2125
         ],
         "gridcolor": "#E1E5ED",
         "showgrid": false,
         "tickfont": {
          "color": "#4D5663"
         },
         "title": {
          "font": {
           "color": "#4D5663"
          },
          "text": ""
         },
         "zerolinecolor": "#E1E5ED"
        },
        "yaxis": {
         "anchor": "x",
         "domain": [
          0.8025,
          1
         ],
         "gridcolor": "#E1E5ED",
         "showgrid": false,
         "tickfont": {
          "color": "#4D5663"
         },
         "title": {
          "font": {
           "color": "#4D5663"
          },
          "text": ""
         },
         "zerolinecolor": "#E1E5ED"
        },
        "yaxis10": {
         "anchor": "x10",
         "domain": [
          0.2675,
          0.465
         ],
         "gridcolor": "#E1E5ED",
         "showgrid": false,
         "tickfont": {
          "color": "#4D5663"
         },
         "title": {
          "font": {
           "color": "#4D5663"
          },
          "text": ""
         },
         "zerolinecolor": "#E1E5ED"
        },
        "yaxis11": {
         "anchor": "x11",
         "domain": [
          0.2675,
          0.465
         ],
         "gridcolor": "#E1E5ED",
         "showgrid": false,
         "tickfont": {
          "color": "#4D5663"
         },
         "title": {
          "font": {
           "color": "#4D5663"
          },
          "text": ""
         },
         "zerolinecolor": "#E1E5ED"
        },
        "yaxis12": {
         "anchor": "x12",
         "domain": [
          0.2675,
          0.465
         ],
         "gridcolor": "#E1E5ED",
         "showgrid": false,
         "tickfont": {
          "color": "#4D5663"
         },
         "title": {
          "font": {
           "color": "#4D5663"
          },
          "text": ""
         },
         "zerolinecolor": "#E1E5ED"
        },
        "yaxis13": {
         "anchor": "x13",
         "domain": [
          0,
          0.1975
         ],
         "gridcolor": "#E1E5ED",
         "showgrid": false,
         "tickfont": {
          "color": "#4D5663"
         },
         "title": {
          "font": {
           "color": "#4D5663"
          },
          "text": ""
         },
         "zerolinecolor": "#E1E5ED"
        },
        "yaxis14": {
         "anchor": "x14",
         "domain": [
          0,
          0.1975
         ],
         "gridcolor": "#E1E5ED",
         "showgrid": false,
         "tickfont": {
          "color": "#4D5663"
         },
         "title": {
          "font": {
           "color": "#4D5663"
          },
          "text": ""
         },
         "zerolinecolor": "#E1E5ED"
        },
        "yaxis15": {
         "anchor": "x15",
         "domain": [
          0,
          0.1975
         ],
         "gridcolor": "#E1E5ED",
         "showgrid": false,
         "tickfont": {
          "color": "#4D5663"
         },
         "title": {
          "font": {
           "color": "#4D5663"
          },
          "text": ""
         },
         "zerolinecolor": "#E1E5ED"
        },
        "yaxis16": {
         "anchor": "x16",
         "domain": [
          0,
          0.1975
         ],
         "gridcolor": "#E1E5ED",
         "showgrid": false,
         "tickfont": {
          "color": "#4D5663"
         },
         "title": {
          "font": {
           "color": "#4D5663"
          },
          "text": ""
         },
         "zerolinecolor": "#E1E5ED"
        },
        "yaxis2": {
         "anchor": "x2",
         "domain": [
          0.8025,
          1
         ],
         "gridcolor": "#E1E5ED",
         "showgrid": false,
         "tickfont": {
          "color": "#4D5663"
         },
         "title": {
          "font": {
           "color": "#4D5663"
          },
          "text": ""
         },
         "zerolinecolor": "#E1E5ED"
        },
        "yaxis3": {
         "anchor": "x3",
         "domain": [
          0.8025,
          1
         ],
         "gridcolor": "#E1E5ED",
         "showgrid": false,
         "tickfont": {
          "color": "#4D5663"
         },
         "title": {
          "font": {
           "color": "#4D5663"
          },
          "text": ""
         },
         "zerolinecolor": "#E1E5ED"
        },
        "yaxis4": {
         "anchor": "x4",
         "domain": [
          0.8025,
          1
         ],
         "gridcolor": "#E1E5ED",
         "showgrid": false,
         "tickfont": {
          "color": "#4D5663"
         },
         "title": {
          "font": {
           "color": "#4D5663"
          },
          "text": ""
         },
         "zerolinecolor": "#E1E5ED"
        },
        "yaxis5": {
         "anchor": "x5",
         "domain": [
          0.535,
          0.7325
         ],
         "gridcolor": "#E1E5ED",
         "showgrid": false,
         "tickfont": {
          "color": "#4D5663"
         },
         "title": {
          "font": {
           "color": "#4D5663"
          },
          "text": ""
         },
         "zerolinecolor": "#E1E5ED"
        },
        "yaxis6": {
         "anchor": "x6",
         "domain": [
          0.535,
          0.7325
         ],
         "gridcolor": "#E1E5ED",
         "showgrid": false,
         "tickfont": {
          "color": "#4D5663"
         },
         "title": {
          "font": {
           "color": "#4D5663"
          },
          "text": ""
         },
         "zerolinecolor": "#E1E5ED"
        },
        "yaxis7": {
         "anchor": "x7",
         "domain": [
          0.535,
          0.7325
         ],
         "gridcolor": "#E1E5ED",
         "showgrid": false,
         "tickfont": {
          "color": "#4D5663"
         },
         "title": {
          "font": {
           "color": "#4D5663"
          },
          "text": ""
         },
         "zerolinecolor": "#E1E5ED"
        },
        "yaxis8": {
         "anchor": "x8",
         "domain": [
          0.535,
          0.7325
         ],
         "gridcolor": "#E1E5ED",
         "showgrid": false,
         "tickfont": {
          "color": "#4D5663"
         },
         "title": {
          "font": {
           "color": "#4D5663"
          },
          "text": ""
         },
         "zerolinecolor": "#E1E5ED"
        },
        "yaxis9": {
         "anchor": "x9",
         "domain": [
          0.2675,
          0.465
         ],
         "gridcolor": "#E1E5ED",
         "showgrid": false,
         "tickfont": {
          "color": "#4D5663"
         },
         "title": {
          "font": {
           "color": "#4D5663"
          },
          "text": ""
         },
         "zerolinecolor": "#E1E5ED"
        }
       }
      },
      "text/html": [
       "<div>                            <div id=\"45bf6778-1630-4327-b392-4697be3ded3a\" class=\"plotly-graph-div\" style=\"height:525px; width:100%;\"></div>            <script type=\"text/javascript\">                require([\"plotly\"], function(Plotly) {                    window.PLOTLYENV=window.PLOTLYENV || {};\n",
       "                    window.PLOTLYENV.BASE_URL='https://plot.ly';                                    if (document.getElementById(\"45bf6778-1630-4327-b392-4697be3ded3a\")) {                    Plotly.newPlot(                        \"45bf6778-1630-4327-b392-4697be3ded3a\",                        [{\"histfunc\":\"count\",\"histnorm\":\"\",\"marker\":{\"color\":\"rgba(255, 153, 51, 1.0)\",\"line\":{\"color\":\"#4D5663\",\"width\":1.3}},\"name\":\"A\",\"nbinsx\":10,\"opacity\":0.8,\"orientation\":\"v\",\"x\":[-1.9755500137656816,-0.061947778504821194,1.5859026175116797,-1.2531388336614748,-0.05439570455517902,-0.6099892593578193,-0.42597212415335045,1.30054514318552,1.6745245836944143,0.16101375678398513,-0.49292541050026917,-0.11917095742151543,-0.7009747802886002,-0.47467091820681706,-0.4017079488724917,-0.42615585580718507,0.0902833090343134,-0.03383157680340645,0.25125800723855946,0.09501082946377389,0.5867512968998098,-0.4693010654392666,0.46168204660174567,0.06495267830063275,0.2681084284590157,-1.4989026795597802,1.7641427480382965,1.4859196786280577,0.1539020337302631,-0.6840507459974362,-0.13423049695369402,0.7460726140571591,-0.7550366137892188,-0.0512034730653333,-0.4748090640569612,-2.3679114992432004,-0.30779199050609957,-0.49193289903124116,-0.7649607105286698,-2.613800799990971,0.6362381962494086,-0.8198854452978208,-0.4784810420305522,-0.30559539406897873,1.7417622654227076,1.9097958194435793,0.9406674466573566,-1.2094515522929468,0.6724277066552841,0.6042558126336943,1.695812684537749,-0.8894533401640422,-1.0307224681600358,0.004523554592124752,1.9757360700018838,0.5429180447534881,-0.47199893155343664,0.4749452873600385,-0.283517983931913,-0.04096698814947355,0.968045533265399,0.8935691476562685,-0.1899689680365186,-0.5352024057664848,-0.6306762033186569,-0.8819772809327792,-0.9249869852557837,-1.2795987736093142,-1.4906513234849743,-1.100933806912293,0.4967968785061232,0.4776917332224903,0.19840480678120576,-0.5678729808054858,-0.47050311886264523,-0.6848928388732589,-0.3447172724962305,-0.23794258475612443,2.165413060815801,0.6632483590585299,2.000157263583068,-0.05164465663250612,-0.32950100556886297,0.1233413534161667,-1.024280593332221,1.6328302707578288,-0.8922019505656237,-0.19277947000847248,1.778582913528921,1.2861142967242434,0.7478696272647315,0.7044550353283147,-0.4948989732262082,2.162621138218643,-0.07173258766074306,-0.9714490326513098,-0.25668971020006276,-0.9861809495110716,-1.157103541842868,1.1992610142491917],\"xaxis\":\"x\",\"yaxis\":\"y\",\"type\":\"histogram\"},{\"line\":{\"color\":\"rgba(128, 128, 128, 1.0)\",\"dash\":\"solid\",\"shape\":\"linear\",\"width\":1.3},\"marker\":{\"size\":2,\"symbol\":\"circle\"},\"mode\":\"markers\",\"name\":\"A\",\"text\":\"\",\"x\":[-0.6016205567329608,-0.6867847793895484,-1.004201098081681,0.5459610858692364,-0.5134277048058766,-1.7713803666089118,0.306265766114442,-0.4673808534970285,0.47774761494497525,0.5773418911213518,-0.9716562852965338,0.5691019831236278,0.47140735466440037,0.09296487685387636,0.36346199486628045,-0.21785167686542148,0.43661427182523044,-1.1043395826762386,-0.02671525336627313,1.6340557489474088,-0.4116937959977908,0.760627438099993,-1.419951605103263,1.56554617148626,-1.0612550505986134,-0.2791022850093874,-0.6538496117164647,-0.5413662862932657,0.770850384913509,0.5112478057109159,0.444885186950138,1.3539004781978206,2.2623286874734436,-0.862557473719299,0.5541222476581766,0.4349526898898684,1.3003541024884273,-0.9334222914281395,-0.018468505151828317,0.301456771856218,0.8893522858810824,0.9676579983417197,0.40723522186669053,0.8049924749506939,-0.040571046598925915,-0.7668702851597023,1.2011848352922634,1.7413782411913143,-0.3627601644549942,0.8029425027984123,-1.2379383287509398,0.650388747065542,1.1512941141212873,0.8082910662466302,0.002804675896032924,0.040444707117679946,1.0075910275877349,1.566362282752962,1.727518610682044,0.43208798978099616,-0.37729306749409824,0.3583192853709636,2.245267346888914,-1.2931892852342348,0.49825288910292637,0.18173575684733229,-0.003765766788964723,0.788228363907951,0.14540007233038146,-2.8471785813920847,0.901525280729787,0.47931178935779756,-0.75054262406477,-0.1895272526767355,-0.16111055958515572,0.43926869577158684,-2.007298526805992,0.14872350274937846,-0.7897899064104688,-0.8739822093248697,0.8077072001297577,1.0106425845267275,-1.3871824837780988,-0.802777519106265,-0.665337553159498,-0.5965212412716,0.8824586708505167,-1.31436743946511,-0.11327313080949342,0.3357969652076104,0.7522800234797223,-1.1915982770371818,-0.6620972204720901,-1.5865209839733985,0.25954986753324477,-0.34864819900329097,0.6164677893891793,-0.006340506992387929,0.05375386835791097,-0.04750243008043119],\"xaxis\":\"x2\",\"y\":[-1.9755500137656816,-0.061947778504821194,1.5859026175116797,-1.2531388336614748,-0.05439570455517902,-0.6099892593578193,-0.42597212415335045,1.30054514318552,1.6745245836944143,0.16101375678398513,-0.49292541050026917,-0.11917095742151543,-0.7009747802886002,-0.47467091820681706,-0.4017079488724917,-0.42615585580718507,0.0902833090343134,-0.03383157680340645,0.25125800723855946,0.09501082946377389,0.5867512968998098,-0.4693010654392666,0.46168204660174567,0.06495267830063275,0.2681084284590157,-1.4989026795597802,1.7641427480382965,1.4859196786280577,0.1539020337302631,-0.6840507459974362,-0.13423049695369402,0.7460726140571591,-0.7550366137892188,-0.0512034730653333,-0.4748090640569612,-2.3679114992432004,-0.30779199050609957,-0.49193289903124116,-0.7649607105286698,-2.613800799990971,0.6362381962494086,-0.8198854452978208,-0.4784810420305522,-0.30559539406897873,1.7417622654227076,1.9097958194435793,0.9406674466573566,-1.2094515522929468,0.6724277066552841,0.6042558126336943,1.695812684537749,-0.8894533401640422,-1.0307224681600358,0.004523554592124752,1.9757360700018838,0.5429180447534881,-0.47199893155343664,0.4749452873600385,-0.283517983931913,-0.04096698814947355,0.968045533265399,0.8935691476562685,-0.1899689680365186,-0.5352024057664848,-0.6306762033186569,-0.8819772809327792,-0.9249869852557837,-1.2795987736093142,-1.4906513234849743,-1.100933806912293,0.4967968785061232,0.4776917332224903,0.19840480678120576,-0.5678729808054858,-0.47050311886264523,-0.6848928388732589,-0.3447172724962305,-0.23794258475612443,2.165413060815801,0.6632483590585299,2.000157263583068,-0.05164465663250612,-0.32950100556886297,0.1233413534161667,-1.024280593332221,1.6328302707578288,-0.8922019505656237,-0.19277947000847248,1.778582913528921,1.2861142967242434,0.7478696272647315,0.7044550353283147,-0.4948989732262082,2.162621138218643,-0.07173258766074306,-0.9714490326513098,-0.25668971020006276,-0.9861809495110716,-1.157103541842868,1.1992610142491917],\"yaxis\":\"y2\",\"type\":\"scatter\"},{\"line\":{\"color\":\"rgba(128, 128, 128, 1.0)\",\"dash\":\"solid\",\"shape\":\"linear\",\"width\":1.3},\"marker\":{\"size\":2,\"symbol\":\"circle\"},\"mode\":\"markers\",\"name\":\"A\",\"text\":\"\",\"x\":[-0.6704082264197347,-0.9712370065255008,0.4111150132211941,0.06505043483094419,0.09597347386637531,-0.17805257026137314,0.6266282123253187,-0.06944538525399793,1.0434066129333317,0.8321859041473956,0.23176254064018448,-0.36957242731347956,0.9693310064414132,-1.065613557626272,-0.08607110397003176,0.38839255569323583,-0.6766161417161143,-1.2143473333630788,1.1433139815906899,1.1489106765854245,-0.4233004052413279,-0.14674342975009205,-1.5470081603989874,0.5449565142853104,0.9436920674861845,-0.8578130086197939,-0.8706007914367132,-0.4674439125957368,0.7295679758333566,-1.5659532199503727,-0.6302577800291368,0.002036162897837701,0.08527473566789949,0.4114993953567297,0.5831547536114501,-0.8417649892373862,-0.15206125243366583,0.6558559082815361,0.4739620700333792,1.6503138194249127,0.261093633651454,1.488587165162164,0.29469611827486414,0.25496389058589275,-1.2652526156028097,-0.7532256723724051,-0.9099639520318753,1.1441345960738158,0.5949919924224334,-0.10782459485723767,0.2140567254164145,0.14147781374699772,1.0340849306590991,0.24670441031205223,0.583944717414109,-0.4151649571540205,-1.5680514211874341,1.0757553302227085,-2.196377096070879,-1.0909931476373194,-0.4456730180087001,0.22966449358967897,0.5457957358256748,0.8832981164864001,-1.1263605017015514,-0.40180359216850925,-1.232443932460566,0.26566029104465116,1.0724285813704941,0.04514430706016189,0.37813651962983186,1.1153581424377124,-0.2879208413779026,0.08049124917956914,-0.06135085527396157,-0.37693758217424916,1.1830320069813256,0.16995226333775676,1.7774620506505168,-0.8895255904170345,1.3944174805345486,-1.850060721313199,-1.3417035530645616,0.9391082966584445,0.9700589698321128,-1.604452147419455,0.6676364870219649,-1.1239638929995208,0.9866181703538464,-0.47245120246747085,0.14307948466401546,1.6194032925395008,0.28707929556088013,-2.0633114742281067,0.984871614465747,-0.0005197875955629226,1.28016775843392,0.38145099065980237,1.0181992084337197,0.0007496653025990152],\"xaxis\":\"x3\",\"y\":[-1.9755500137656816,-0.061947778504821194,1.5859026175116797,-1.2531388336614748,-0.05439570455517902,-0.6099892593578193,-0.42597212415335045,1.30054514318552,1.6745245836944143,0.16101375678398513,-0.49292541050026917,-0.11917095742151543,-0.7009747802886002,-0.47467091820681706,-0.4017079488724917,-0.42615585580718507,0.0902833090343134,-0.03383157680340645,0.25125800723855946,0.09501082946377389,0.5867512968998098,-0.4693010654392666,0.46168204660174567,0.06495267830063275,0.2681084284590157,-1.4989026795597802,1.7641427480382965,1.4859196786280577,0.1539020337302631,-0.6840507459974362,-0.13423049695369402,0.7460726140571591,-0.7550366137892188,-0.0512034730653333,-0.4748090640569612,-2.3679114992432004,-0.30779199050609957,-0.49193289903124116,-0.7649607105286698,-2.613800799990971,0.6362381962494086,-0.8198854452978208,-0.4784810420305522,-0.30559539406897873,1.7417622654227076,1.9097958194435793,0.9406674466573566,-1.2094515522929468,0.6724277066552841,0.6042558126336943,1.695812684537749,-0.8894533401640422,-1.0307224681600358,0.004523554592124752,1.9757360700018838,0.5429180447534881,-0.47199893155343664,0.4749452873600385,-0.283517983931913,-0.04096698814947355,0.968045533265399,0.8935691476562685,-0.1899689680365186,-0.5352024057664848,-0.6306762033186569,-0.8819772809327792,-0.9249869852557837,-1.2795987736093142,-1.4906513234849743,-1.100933806912293,0.4967968785061232,0.4776917332224903,0.19840480678120576,-0.5678729808054858,-0.47050311886264523,-0.6848928388732589,-0.3447172724962305,-0.23794258475612443,2.165413060815801,0.6632483590585299,2.000157263583068,-0.05164465663250612,-0.32950100556886297,0.1233413534161667,-1.024280593332221,1.6328302707578288,-0.8922019505656237,-0.19277947000847248,1.778582913528921,1.2861142967242434,0.7478696272647315,0.7044550353283147,-0.4948989732262082,2.162621138218643,-0.07173258766074306,-0.9714490326513098,-0.25668971020006276,-0.9861809495110716,-1.157103541842868,1.1992610142491917],\"yaxis\":\"y3\",\"type\":\"scatter\"},{\"line\":{\"color\":\"rgba(128, 128, 128, 1.0)\",\"dash\":\"solid\",\"shape\":\"linear\",\"width\":1.3},\"marker\":{\"size\":2,\"symbol\":\"circle\"},\"mode\":\"markers\",\"name\":\"A\",\"text\":\"\",\"x\":[-2.737247075994404,-0.371622137785998,0.4977872389088978,-0.25556722608188853,0.134844530196423,-0.9602501249253127,-0.2397917100705879,1.0344184850748666,0.8514263520822619,1.35122525523941,2.604635190520853,1.947767040875128,-1.3512387261342127,-0.9427769645828806,-2.063505088898325,-0.4870830116381731,0.25588158907185315,-1.0742236315172862,0.956877807016473,0.7333863213035633,-1.213437837026288,2.2599800326715225,-1.3391245764493112,-0.20150175200419704,-1.4517678541192687,0.1016744241682496,-1.5033897478410911,-0.1243391491925989,1.4436217338806754,-1.7133911850641386,0.26108774988306366,1.0056905498192663,-0.26248250730553535,0.24236503012727867,1.0519009772779324,0.321102619498424,-0.6304503190093411,0.8010048587525489,-0.026863296121999822,-0.6005877821544191,-0.0049922649277795465,-2.6221756364222157,-0.42984055050945774,-0.1443655516573191,-0.904478920086068,-0.07364609801508223,1.018411591964657,-0.43294602375333335,-0.5695326411619899,0.7594130903281197,-0.2006312780575331,-0.2347940580504846,0.8139954950920132,-0.8807999455752871,0.7163484752256508,0.40615245114971854,-0.8071198924710938,0.7767107762697273,-0.28877910715950894,0.8149223997578482,-0.3362381266307819,0.9522356397473453,-0.5898704926150133,-0.9772068149269224,0.737315638695283,0.34127453265489327,-0.6552094825700808,-1.6030076880442323,-1.5895923338532951,-0.012103775562117147,-0.29541678817590195,-0.12222407499725159,-1.0574075864876884,0.03501734189575078,-0.4077052603736408,0.21432227712942017,1.3691699925778178,-0.539074619860555,-0.8037180119982591,-0.7443299088773537,1.522871279279115,-0.08863780207150675,1.3100439989179171,-1.5140910484576355,1.6857952570240735,-1.9593945449784622,0.618036635263452,0.5793747989395617,-0.18701217121788372,-0.4302273446214045,-0.18418614363508462,0.48564593255997734,1.1067954050511588,-0.48813267343725975,-0.6718716102419712,-0.19220311340207014,0.6295952841880968,-0.651678727558497,1.3370584169131228,0.35362929920522856],\"xaxis\":\"x4\",\"y\":[-1.9755500137656816,-0.061947778504821194,1.5859026175116797,-1.2531388336614748,-0.05439570455517902,-0.6099892593578193,-0.42597212415335045,1.30054514318552,1.6745245836944143,0.16101375678398513,-0.49292541050026917,-0.11917095742151543,-0.7009747802886002,-0.47467091820681706,-0.4017079488724917,-0.42615585580718507,0.0902833090343134,-0.03383157680340645,0.25125800723855946,0.09501082946377389,0.5867512968998098,-0.4693010654392666,0.46168204660174567,0.06495267830063275,0.2681084284590157,-1.4989026795597802,1.7641427480382965,1.4859196786280577,0.1539020337302631,-0.6840507459974362,-0.13423049695369402,0.7460726140571591,-0.7550366137892188,-0.0512034730653333,-0.4748090640569612,-2.3679114992432004,-0.30779199050609957,-0.49193289903124116,-0.7649607105286698,-2.613800799990971,0.6362381962494086,-0.8198854452978208,-0.4784810420305522,-0.30559539406897873,1.7417622654227076,1.9097958194435793,0.9406674466573566,-1.2094515522929468,0.6724277066552841,0.6042558126336943,1.695812684537749,-0.8894533401640422,-1.0307224681600358,0.004523554592124752,1.9757360700018838,0.5429180447534881,-0.47199893155343664,0.4749452873600385,-0.283517983931913,-0.04096698814947355,0.968045533265399,0.8935691476562685,-0.1899689680365186,-0.5352024057664848,-0.6306762033186569,-0.8819772809327792,-0.9249869852557837,-1.2795987736093142,-1.4906513234849743,-1.100933806912293,0.4967968785061232,0.4776917332224903,0.19840480678120576,-0.5678729808054858,-0.47050311886264523,-0.6848928388732589,-0.3447172724962305,-0.23794258475612443,2.165413060815801,0.6632483590585299,2.000157263583068,-0.05164465663250612,-0.32950100556886297,0.1233413534161667,-1.024280593332221,1.6328302707578288,-0.8922019505656237,-0.19277947000847248,1.778582913528921,1.2861142967242434,0.7478696272647315,0.7044550353283147,-0.4948989732262082,2.162621138218643,-0.07173258766074306,-0.9714490326513098,-0.25668971020006276,-0.9861809495110716,-1.157103541842868,1.1992610142491917],\"yaxis\":\"y4\",\"type\":\"scatter\"},{\"line\":{\"color\":\"rgba(128, 128, 128, 1.0)\",\"dash\":\"solid\",\"shape\":\"linear\",\"width\":1.3},\"marker\":{\"size\":2,\"symbol\":\"circle\"},\"mode\":\"markers\",\"name\":\"B\",\"text\":\"\",\"x\":[-1.9755500137656816,-0.061947778504821194,1.5859026175116797,-1.2531388336614748,-0.05439570455517902,-0.6099892593578193,-0.42597212415335045,1.30054514318552,1.6745245836944143,0.16101375678398513,-0.49292541050026917,-0.11917095742151543,-0.7009747802886002,-0.47467091820681706,-0.4017079488724917,-0.42615585580718507,0.0902833090343134,-0.03383157680340645,0.25125800723855946,0.09501082946377389,0.5867512968998098,-0.4693010654392666,0.46168204660174567,0.06495267830063275,0.2681084284590157,-1.4989026795597802,1.7641427480382965,1.4859196786280577,0.1539020337302631,-0.6840507459974362,-0.13423049695369402,0.7460726140571591,-0.7550366137892188,-0.0512034730653333,-0.4748090640569612,-2.3679114992432004,-0.30779199050609957,-0.49193289903124116,-0.7649607105286698,-2.613800799990971,0.6362381962494086,-0.8198854452978208,-0.4784810420305522,-0.30559539406897873,1.7417622654227076,1.9097958194435793,0.9406674466573566,-1.2094515522929468,0.6724277066552841,0.6042558126336943,1.695812684537749,-0.8894533401640422,-1.0307224681600358,0.004523554592124752,1.9757360700018838,0.5429180447534881,-0.47199893155343664,0.4749452873600385,-0.283517983931913,-0.04096698814947355,0.968045533265399,0.8935691476562685,-0.1899689680365186,-0.5352024057664848,-0.6306762033186569,-0.8819772809327792,-0.9249869852557837,-1.2795987736093142,-1.4906513234849743,-1.100933806912293,0.4967968785061232,0.4776917332224903,0.19840480678120576,-0.5678729808054858,-0.47050311886264523,-0.6848928388732589,-0.3447172724962305,-0.23794258475612443,2.165413060815801,0.6632483590585299,2.000157263583068,-0.05164465663250612,-0.32950100556886297,0.1233413534161667,-1.024280593332221,1.6328302707578288,-0.8922019505656237,-0.19277947000847248,1.778582913528921,1.2861142967242434,0.7478696272647315,0.7044550353283147,-0.4948989732262082,2.162621138218643,-0.07173258766074306,-0.9714490326513098,-0.25668971020006276,-0.9861809495110716,-1.157103541842868,1.1992610142491917],\"xaxis\":\"x5\",\"y\":[-0.6016205567329608,-0.6867847793895484,-1.004201098081681,0.5459610858692364,-0.5134277048058766,-1.7713803666089118,0.306265766114442,-0.4673808534970285,0.47774761494497525,0.5773418911213518,-0.9716562852965338,0.5691019831236278,0.47140735466440037,0.09296487685387636,0.36346199486628045,-0.21785167686542148,0.43661427182523044,-1.1043395826762386,-0.02671525336627313,1.6340557489474088,-0.4116937959977908,0.760627438099993,-1.419951605103263,1.56554617148626,-1.0612550505986134,-0.2791022850093874,-0.6538496117164647,-0.5413662862932657,0.770850384913509,0.5112478057109159,0.444885186950138,1.3539004781978206,2.2623286874734436,-0.862557473719299,0.5541222476581766,0.4349526898898684,1.3003541024884273,-0.9334222914281395,-0.018468505151828317,0.301456771856218,0.8893522858810824,0.9676579983417197,0.40723522186669053,0.8049924749506939,-0.040571046598925915,-0.7668702851597023,1.2011848352922634,1.7413782411913143,-0.3627601644549942,0.8029425027984123,-1.2379383287509398,0.650388747065542,1.1512941141212873,0.8082910662466302,0.002804675896032924,0.040444707117679946,1.0075910275877349,1.566362282752962,1.727518610682044,0.43208798978099616,-0.37729306749409824,0.3583192853709636,2.245267346888914,-1.2931892852342348,0.49825288910292637,0.18173575684733229,-0.003765766788964723,0.788228363907951,0.14540007233038146,-2.8471785813920847,0.901525280729787,0.47931178935779756,-0.75054262406477,-0.1895272526767355,-0.16111055958515572,0.43926869577158684,-2.007298526805992,0.14872350274937846,-0.7897899064104688,-0.8739822093248697,0.8077072001297577,1.0106425845267275,-1.3871824837780988,-0.802777519106265,-0.665337553159498,-0.5965212412716,0.8824586708505167,-1.31436743946511,-0.11327313080949342,0.3357969652076104,0.7522800234797223,-1.1915982770371818,-0.6620972204720901,-1.5865209839733985,0.25954986753324477,-0.34864819900329097,0.6164677893891793,-0.006340506992387929,0.05375386835791097,-0.04750243008043119],\"yaxis\":\"y5\",\"type\":\"scatter\"},{\"histfunc\":\"count\",\"histnorm\":\"\",\"marker\":{\"color\":\"rgba(55, 128, 191, 1.0)\",\"line\":{\"color\":\"#4D5663\",\"width\":1.3}},\"name\":\"B\",\"nbinsx\":10,\"opacity\":0.8,\"orientation\":\"v\",\"x\":[-0.6016205567329608,-0.6867847793895484,-1.004201098081681,0.5459610858692364,-0.5134277048058766,-1.7713803666089118,0.306265766114442,-0.4673808534970285,0.47774761494497525,0.5773418911213518,-0.9716562852965338,0.5691019831236278,0.47140735466440037,0.09296487685387636,0.36346199486628045,-0.21785167686542148,0.43661427182523044,-1.1043395826762386,-0.02671525336627313,1.6340557489474088,-0.4116937959977908,0.760627438099993,-1.419951605103263,1.56554617148626,-1.0612550505986134,-0.2791022850093874,-0.6538496117164647,-0.5413662862932657,0.770850384913509,0.5112478057109159,0.444885186950138,1.3539004781978206,2.2623286874734436,-0.862557473719299,0.5541222476581766,0.4349526898898684,1.3003541024884273,-0.9334222914281395,-0.018468505151828317,0.301456771856218,0.8893522858810824,0.9676579983417197,0.40723522186669053,0.8049924749506939,-0.040571046598925915,-0.7668702851597023,1.2011848352922634,1.7413782411913143,-0.3627601644549942,0.8029425027984123,-1.2379383287509398,0.650388747065542,1.1512941141212873,0.8082910662466302,0.002804675896032924,0.040444707117679946,1.0075910275877349,1.566362282752962,1.727518610682044,0.43208798978099616,-0.37729306749409824,0.3583192853709636,2.245267346888914,-1.2931892852342348,0.49825288910292637,0.18173575684733229,-0.003765766788964723,0.788228363907951,0.14540007233038146,-2.8471785813920847,0.901525280729787,0.47931178935779756,-0.75054262406477,-0.1895272526767355,-0.16111055958515572,0.43926869577158684,-2.007298526805992,0.14872350274937846,-0.7897899064104688,-0.8739822093248697,0.8077072001297577,1.0106425845267275,-1.3871824837780988,-0.802777519106265,-0.665337553159498,-0.5965212412716,0.8824586708505167,-1.31436743946511,-0.11327313080949342,0.3357969652076104,0.7522800234797223,-1.1915982770371818,-0.6620972204720901,-1.5865209839733985,0.25954986753324477,-0.34864819900329097,0.6164677893891793,-0.006340506992387929,0.05375386835791097,-0.04750243008043119],\"xaxis\":\"x6\",\"yaxis\":\"y6\",\"type\":\"histogram\"},{\"line\":{\"color\":\"rgba(128, 128, 128, 1.0)\",\"dash\":\"solid\",\"shape\":\"linear\",\"width\":1.3},\"marker\":{\"size\":2,\"symbol\":\"circle\"},\"mode\":\"markers\",\"name\":\"B\",\"text\":\"\",\"x\":[-0.6704082264197347,-0.9712370065255008,0.4111150132211941,0.06505043483094419,0.09597347386637531,-0.17805257026137314,0.6266282123253187,-0.06944538525399793,1.0434066129333317,0.8321859041473956,0.23176254064018448,-0.36957242731347956,0.9693310064414132,-1.065613557626272,-0.08607110397003176,0.38839255569323583,-0.6766161417161143,-1.2143473333630788,1.1433139815906899,1.1489106765854245,-0.4233004052413279,-0.14674342975009205,-1.5470081603989874,0.5449565142853104,0.9436920674861845,-0.8578130086197939,-0.8706007914367132,-0.4674439125957368,0.7295679758333566,-1.5659532199503727,-0.6302577800291368,0.002036162897837701,0.08527473566789949,0.4114993953567297,0.5831547536114501,-0.8417649892373862,-0.15206125243366583,0.6558559082815361,0.4739620700333792,1.6503138194249127,0.261093633651454,1.488587165162164,0.29469611827486414,0.25496389058589275,-1.2652526156028097,-0.7532256723724051,-0.9099639520318753,1.1441345960738158,0.5949919924224334,-0.10782459485723767,0.2140567254164145,0.14147781374699772,1.0340849306590991,0.24670441031205223,0.583944717414109,-0.4151649571540205,-1.5680514211874341,1.0757553302227085,-2.196377096070879,-1.0909931476373194,-0.4456730180087001,0.22966449358967897,0.5457957358256748,0.8832981164864001,-1.1263605017015514,-0.40180359216850925,-1.232443932460566,0.26566029104465116,1.0724285813704941,0.04514430706016189,0.37813651962983186,1.1153581424377124,-0.2879208413779026,0.08049124917956914,-0.06135085527396157,-0.37693758217424916,1.1830320069813256,0.16995226333775676,1.7774620506505168,-0.8895255904170345,1.3944174805345486,-1.850060721313199,-1.3417035530645616,0.9391082966584445,0.9700589698321128,-1.604452147419455,0.6676364870219649,-1.1239638929995208,0.9866181703538464,-0.47245120246747085,0.14307948466401546,1.6194032925395008,0.28707929556088013,-2.0633114742281067,0.984871614465747,-0.0005197875955629226,1.28016775843392,0.38145099065980237,1.0181992084337197,0.0007496653025990152],\"xaxis\":\"x7\",\"y\":[-0.6016205567329608,-0.6867847793895484,-1.004201098081681,0.5459610858692364,-0.5134277048058766,-1.7713803666089118,0.306265766114442,-0.4673808534970285,0.47774761494497525,0.5773418911213518,-0.9716562852965338,0.5691019831236278,0.47140735466440037,0.09296487685387636,0.36346199486628045,-0.21785167686542148,0.43661427182523044,-1.1043395826762386,-0.02671525336627313,1.6340557489474088,-0.4116937959977908,0.760627438099993,-1.419951605103263,1.56554617148626,-1.0612550505986134,-0.2791022850093874,-0.6538496117164647,-0.5413662862932657,0.770850384913509,0.5112478057109159,0.444885186950138,1.3539004781978206,2.2623286874734436,-0.862557473719299,0.5541222476581766,0.4349526898898684,1.3003541024884273,-0.9334222914281395,-0.018468505151828317,0.301456771856218,0.8893522858810824,0.9676579983417197,0.40723522186669053,0.8049924749506939,-0.040571046598925915,-0.7668702851597023,1.2011848352922634,1.7413782411913143,-0.3627601644549942,0.8029425027984123,-1.2379383287509398,0.650388747065542,1.1512941141212873,0.8082910662466302,0.002804675896032924,0.040444707117679946,1.0075910275877349,1.566362282752962,1.727518610682044,0.43208798978099616,-0.37729306749409824,0.3583192853709636,2.245267346888914,-1.2931892852342348,0.49825288910292637,0.18173575684733229,-0.003765766788964723,0.788228363907951,0.14540007233038146,-2.8471785813920847,0.901525280729787,0.47931178935779756,-0.75054262406477,-0.1895272526767355,-0.16111055958515572,0.43926869577158684,-2.007298526805992,0.14872350274937846,-0.7897899064104688,-0.8739822093248697,0.8077072001297577,1.0106425845267275,-1.3871824837780988,-0.802777519106265,-0.665337553159498,-0.5965212412716,0.8824586708505167,-1.31436743946511,-0.11327313080949342,0.3357969652076104,0.7522800234797223,-1.1915982770371818,-0.6620972204720901,-1.5865209839733985,0.25954986753324477,-0.34864819900329097,0.6164677893891793,-0.006340506992387929,0.05375386835791097,-0.04750243008043119],\"yaxis\":\"y7\",\"type\":\"scatter\"},{\"line\":{\"color\":\"rgba(128, 128, 128, 1.0)\",\"dash\":\"solid\",\"shape\":\"linear\",\"width\":1.3},\"marker\":{\"size\":2,\"symbol\":\"circle\"},\"mode\":\"markers\",\"name\":\"B\",\"text\":\"\",\"x\":[-2.737247075994404,-0.371622137785998,0.4977872389088978,-0.25556722608188853,0.134844530196423,-0.9602501249253127,-0.2397917100705879,1.0344184850748666,0.8514263520822619,1.35122525523941,2.604635190520853,1.947767040875128,-1.3512387261342127,-0.9427769645828806,-2.063505088898325,-0.4870830116381731,0.25588158907185315,-1.0742236315172862,0.956877807016473,0.7333863213035633,-1.213437837026288,2.2599800326715225,-1.3391245764493112,-0.20150175200419704,-1.4517678541192687,0.1016744241682496,-1.5033897478410911,-0.1243391491925989,1.4436217338806754,-1.7133911850641386,0.26108774988306366,1.0056905498192663,-0.26248250730553535,0.24236503012727867,1.0519009772779324,0.321102619498424,-0.6304503190093411,0.8010048587525489,-0.026863296121999822,-0.6005877821544191,-0.0049922649277795465,-2.6221756364222157,-0.42984055050945774,-0.1443655516573191,-0.904478920086068,-0.07364609801508223,1.018411591964657,-0.43294602375333335,-0.5695326411619899,0.7594130903281197,-0.2006312780575331,-0.2347940580504846,0.8139954950920132,-0.8807999455752871,0.7163484752256508,0.40615245114971854,-0.8071198924710938,0.7767107762697273,-0.28877910715950894,0.8149223997578482,-0.3362381266307819,0.9522356397473453,-0.5898704926150133,-0.9772068149269224,0.737315638695283,0.34127453265489327,-0.6552094825700808,-1.6030076880442323,-1.5895923338532951,-0.012103775562117147,-0.29541678817590195,-0.12222407499725159,-1.0574075864876884,0.03501734189575078,-0.4077052603736408,0.21432227712942017,1.3691699925778178,-0.539074619860555,-0.8037180119982591,-0.7443299088773537,1.522871279279115,-0.08863780207150675,1.3100439989179171,-1.5140910484576355,1.6857952570240735,-1.9593945449784622,0.618036635263452,0.5793747989395617,-0.18701217121788372,-0.4302273446214045,-0.18418614363508462,0.48564593255997734,1.1067954050511588,-0.48813267343725975,-0.6718716102419712,-0.19220311340207014,0.6295952841880968,-0.651678727558497,1.3370584169131228,0.35362929920522856],\"xaxis\":\"x8\",\"y\":[-0.6016205567329608,-0.6867847793895484,-1.004201098081681,0.5459610858692364,-0.5134277048058766,-1.7713803666089118,0.306265766114442,-0.4673808534970285,0.47774761494497525,0.5773418911213518,-0.9716562852965338,0.5691019831236278,0.47140735466440037,0.09296487685387636,0.36346199486628045,-0.21785167686542148,0.43661427182523044,-1.1043395826762386,-0.02671525336627313,1.6340557489474088,-0.4116937959977908,0.760627438099993,-1.419951605103263,1.56554617148626,-1.0612550505986134,-0.2791022850093874,-0.6538496117164647,-0.5413662862932657,0.770850384913509,0.5112478057109159,0.444885186950138,1.3539004781978206,2.2623286874734436,-0.862557473719299,0.5541222476581766,0.4349526898898684,1.3003541024884273,-0.9334222914281395,-0.018468505151828317,0.301456771856218,0.8893522858810824,0.9676579983417197,0.40723522186669053,0.8049924749506939,-0.040571046598925915,-0.7668702851597023,1.2011848352922634,1.7413782411913143,-0.3627601644549942,0.8029425027984123,-1.2379383287509398,0.650388747065542,1.1512941141212873,0.8082910662466302,0.002804675896032924,0.040444707117679946,1.0075910275877349,1.566362282752962,1.727518610682044,0.43208798978099616,-0.37729306749409824,0.3583192853709636,2.245267346888914,-1.2931892852342348,0.49825288910292637,0.18173575684733229,-0.003765766788964723,0.788228363907951,0.14540007233038146,-2.8471785813920847,0.901525280729787,0.47931178935779756,-0.75054262406477,-0.1895272526767355,-0.16111055958515572,0.43926869577158684,-2.007298526805992,0.14872350274937846,-0.7897899064104688,-0.8739822093248697,0.8077072001297577,1.0106425845267275,-1.3871824837780988,-0.802777519106265,-0.665337553159498,-0.5965212412716,0.8824586708505167,-1.31436743946511,-0.11327313080949342,0.3357969652076104,0.7522800234797223,-1.1915982770371818,-0.6620972204720901,-1.5865209839733985,0.25954986753324477,-0.34864819900329097,0.6164677893891793,-0.006340506992387929,0.05375386835791097,-0.04750243008043119],\"yaxis\":\"y8\",\"type\":\"scatter\"},{\"line\":{\"color\":\"rgba(128, 128, 128, 1.0)\",\"dash\":\"solid\",\"shape\":\"linear\",\"width\":1.3},\"marker\":{\"size\":2,\"symbol\":\"circle\"},\"mode\":\"markers\",\"name\":\"C\",\"text\":\"\",\"x\":[-1.9755500137656816,-0.061947778504821194,1.5859026175116797,-1.2531388336614748,-0.05439570455517902,-0.6099892593578193,-0.42597212415335045,1.30054514318552,1.6745245836944143,0.16101375678398513,-0.49292541050026917,-0.11917095742151543,-0.7009747802886002,-0.47467091820681706,-0.4017079488724917,-0.42615585580718507,0.0902833090343134,-0.03383157680340645,0.25125800723855946,0.09501082946377389,0.5867512968998098,-0.4693010654392666,0.46168204660174567,0.06495267830063275,0.2681084284590157,-1.4989026795597802,1.7641427480382965,1.4859196786280577,0.1539020337302631,-0.6840507459974362,-0.13423049695369402,0.7460726140571591,-0.7550366137892188,-0.0512034730653333,-0.4748090640569612,-2.3679114992432004,-0.30779199050609957,-0.49193289903124116,-0.7649607105286698,-2.613800799990971,0.6362381962494086,-0.8198854452978208,-0.4784810420305522,-0.30559539406897873,1.7417622654227076,1.9097958194435793,0.9406674466573566,-1.2094515522929468,0.6724277066552841,0.6042558126336943,1.695812684537749,-0.8894533401640422,-1.0307224681600358,0.004523554592124752,1.9757360700018838,0.5429180447534881,-0.47199893155343664,0.4749452873600385,-0.283517983931913,-0.04096698814947355,0.968045533265399,0.8935691476562685,-0.1899689680365186,-0.5352024057664848,-0.6306762033186569,-0.8819772809327792,-0.9249869852557837,-1.2795987736093142,-1.4906513234849743,-1.100933806912293,0.4967968785061232,0.4776917332224903,0.19840480678120576,-0.5678729808054858,-0.47050311886264523,-0.6848928388732589,-0.3447172724962305,-0.23794258475612443,2.165413060815801,0.6632483590585299,2.000157263583068,-0.05164465663250612,-0.32950100556886297,0.1233413534161667,-1.024280593332221,1.6328302707578288,-0.8922019505656237,-0.19277947000847248,1.778582913528921,1.2861142967242434,0.7478696272647315,0.7044550353283147,-0.4948989732262082,2.162621138218643,-0.07173258766074306,-0.9714490326513098,-0.25668971020006276,-0.9861809495110716,-1.157103541842868,1.1992610142491917],\"xaxis\":\"x9\",\"y\":[-0.6704082264197347,-0.9712370065255008,0.4111150132211941,0.06505043483094419,0.09597347386637531,-0.17805257026137314,0.6266282123253187,-0.06944538525399793,1.0434066129333317,0.8321859041473956,0.23176254064018448,-0.36957242731347956,0.9693310064414132,-1.065613557626272,-0.08607110397003176,0.38839255569323583,-0.6766161417161143,-1.2143473333630788,1.1433139815906899,1.1489106765854245,-0.4233004052413279,-0.14674342975009205,-1.5470081603989874,0.5449565142853104,0.9436920674861845,-0.8578130086197939,-0.8706007914367132,-0.4674439125957368,0.7295679758333566,-1.5659532199503727,-0.6302577800291368,0.002036162897837701,0.08527473566789949,0.4114993953567297,0.5831547536114501,-0.8417649892373862,-0.15206125243366583,0.6558559082815361,0.4739620700333792,1.6503138194249127,0.261093633651454,1.488587165162164,0.29469611827486414,0.25496389058589275,-1.2652526156028097,-0.7532256723724051,-0.9099639520318753,1.1441345960738158,0.5949919924224334,-0.10782459485723767,0.2140567254164145,0.14147781374699772,1.0340849306590991,0.24670441031205223,0.583944717414109,-0.4151649571540205,-1.5680514211874341,1.0757553302227085,-2.196377096070879,-1.0909931476373194,-0.4456730180087001,0.22966449358967897,0.5457957358256748,0.8832981164864001,-1.1263605017015514,-0.40180359216850925,-1.232443932460566,0.26566029104465116,1.0724285813704941,0.04514430706016189,0.37813651962983186,1.1153581424377124,-0.2879208413779026,0.08049124917956914,-0.06135085527396157,-0.37693758217424916,1.1830320069813256,0.16995226333775676,1.7774620506505168,-0.8895255904170345,1.3944174805345486,-1.850060721313199,-1.3417035530645616,0.9391082966584445,0.9700589698321128,-1.604452147419455,0.6676364870219649,-1.1239638929995208,0.9866181703538464,-0.47245120246747085,0.14307948466401546,1.6194032925395008,0.28707929556088013,-2.0633114742281067,0.984871614465747,-0.0005197875955629226,1.28016775843392,0.38145099065980237,1.0181992084337197,0.0007496653025990152],\"yaxis\":\"y9\",\"type\":\"scatter\"},{\"line\":{\"color\":\"rgba(128, 128, 128, 1.0)\",\"dash\":\"solid\",\"shape\":\"linear\",\"width\":1.3},\"marker\":{\"size\":2,\"symbol\":\"circle\"},\"mode\":\"markers\",\"name\":\"C\",\"text\":\"\",\"x\":[-0.6016205567329608,-0.6867847793895484,-1.004201098081681,0.5459610858692364,-0.5134277048058766,-1.7713803666089118,0.306265766114442,-0.4673808534970285,0.47774761494497525,0.5773418911213518,-0.9716562852965338,0.5691019831236278,0.47140735466440037,0.09296487685387636,0.36346199486628045,-0.21785167686542148,0.43661427182523044,-1.1043395826762386,-0.02671525336627313,1.6340557489474088,-0.4116937959977908,0.760627438099993,-1.419951605103263,1.56554617148626,-1.0612550505986134,-0.2791022850093874,-0.6538496117164647,-0.5413662862932657,0.770850384913509,0.5112478057109159,0.444885186950138,1.3539004781978206,2.2623286874734436,-0.862557473719299,0.5541222476581766,0.4349526898898684,1.3003541024884273,-0.9334222914281395,-0.018468505151828317,0.301456771856218,0.8893522858810824,0.9676579983417197,0.40723522186669053,0.8049924749506939,-0.040571046598925915,-0.7668702851597023,1.2011848352922634,1.7413782411913143,-0.3627601644549942,0.8029425027984123,-1.2379383287509398,0.650388747065542,1.1512941141212873,0.8082910662466302,0.002804675896032924,0.040444707117679946,1.0075910275877349,1.566362282752962,1.727518610682044,0.43208798978099616,-0.37729306749409824,0.3583192853709636,2.245267346888914,-1.2931892852342348,0.49825288910292637,0.18173575684733229,-0.003765766788964723,0.788228363907951,0.14540007233038146,-2.8471785813920847,0.901525280729787,0.47931178935779756,-0.75054262406477,-0.1895272526767355,-0.16111055958515572,0.43926869577158684,-2.007298526805992,0.14872350274937846,-0.7897899064104688,-0.8739822093248697,0.8077072001297577,1.0106425845267275,-1.3871824837780988,-0.802777519106265,-0.665337553159498,-0.5965212412716,0.8824586708505167,-1.31436743946511,-0.11327313080949342,0.3357969652076104,0.7522800234797223,-1.1915982770371818,-0.6620972204720901,-1.5865209839733985,0.25954986753324477,-0.34864819900329097,0.6164677893891793,-0.006340506992387929,0.05375386835791097,-0.04750243008043119],\"xaxis\":\"x10\",\"y\":[-0.6704082264197347,-0.9712370065255008,0.4111150132211941,0.06505043483094419,0.09597347386637531,-0.17805257026137314,0.6266282123253187,-0.06944538525399793,1.0434066129333317,0.8321859041473956,0.23176254064018448,-0.36957242731347956,0.9693310064414132,-1.065613557626272,-0.08607110397003176,0.38839255569323583,-0.6766161417161143,-1.2143473333630788,1.1433139815906899,1.1489106765854245,-0.4233004052413279,-0.14674342975009205,-1.5470081603989874,0.5449565142853104,0.9436920674861845,-0.8578130086197939,-0.8706007914367132,-0.4674439125957368,0.7295679758333566,-1.5659532199503727,-0.6302577800291368,0.002036162897837701,0.08527473566789949,0.4114993953567297,0.5831547536114501,-0.8417649892373862,-0.15206125243366583,0.6558559082815361,0.4739620700333792,1.6503138194249127,0.261093633651454,1.488587165162164,0.29469611827486414,0.25496389058589275,-1.2652526156028097,-0.7532256723724051,-0.9099639520318753,1.1441345960738158,0.5949919924224334,-0.10782459485723767,0.2140567254164145,0.14147781374699772,1.0340849306590991,0.24670441031205223,0.583944717414109,-0.4151649571540205,-1.5680514211874341,1.0757553302227085,-2.196377096070879,-1.0909931476373194,-0.4456730180087001,0.22966449358967897,0.5457957358256748,0.8832981164864001,-1.1263605017015514,-0.40180359216850925,-1.232443932460566,0.26566029104465116,1.0724285813704941,0.04514430706016189,0.37813651962983186,1.1153581424377124,-0.2879208413779026,0.08049124917956914,-0.06135085527396157,-0.37693758217424916,1.1830320069813256,0.16995226333775676,1.7774620506505168,-0.8895255904170345,1.3944174805345486,-1.850060721313199,-1.3417035530645616,0.9391082966584445,0.9700589698321128,-1.604452147419455,0.6676364870219649,-1.1239638929995208,0.9866181703538464,-0.47245120246747085,0.14307948466401546,1.6194032925395008,0.28707929556088013,-2.0633114742281067,0.984871614465747,-0.0005197875955629226,1.28016775843392,0.38145099065980237,1.0181992084337197,0.0007496653025990152],\"yaxis\":\"y10\",\"type\":\"scatter\"},{\"histfunc\":\"count\",\"histnorm\":\"\",\"marker\":{\"color\":\"rgba(50, 171, 96, 1.0)\",\"line\":{\"color\":\"#4D5663\",\"width\":1.3}},\"name\":\"C\",\"nbinsx\":10,\"opacity\":0.8,\"orientation\":\"v\",\"x\":[-0.6704082264197347,-0.9712370065255008,0.4111150132211941,0.06505043483094419,0.09597347386637531,-0.17805257026137314,0.6266282123253187,-0.06944538525399793,1.0434066129333317,0.8321859041473956,0.23176254064018448,-0.36957242731347956,0.9693310064414132,-1.065613557626272,-0.08607110397003176,0.38839255569323583,-0.6766161417161143,-1.2143473333630788,1.1433139815906899,1.1489106765854245,-0.4233004052413279,-0.14674342975009205,-1.5470081603989874,0.5449565142853104,0.9436920674861845,-0.8578130086197939,-0.8706007914367132,-0.4674439125957368,0.7295679758333566,-1.5659532199503727,-0.6302577800291368,0.002036162897837701,0.08527473566789949,0.4114993953567297,0.5831547536114501,-0.8417649892373862,-0.15206125243366583,0.6558559082815361,0.4739620700333792,1.6503138194249127,0.261093633651454,1.488587165162164,0.29469611827486414,0.25496389058589275,-1.2652526156028097,-0.7532256723724051,-0.9099639520318753,1.1441345960738158,0.5949919924224334,-0.10782459485723767,0.2140567254164145,0.14147781374699772,1.0340849306590991,0.24670441031205223,0.583944717414109,-0.4151649571540205,-1.5680514211874341,1.0757553302227085,-2.196377096070879,-1.0909931476373194,-0.4456730180087001,0.22966449358967897,0.5457957358256748,0.8832981164864001,-1.1263605017015514,-0.40180359216850925,-1.232443932460566,0.26566029104465116,1.0724285813704941,0.04514430706016189,0.37813651962983186,1.1153581424377124,-0.2879208413779026,0.08049124917956914,-0.06135085527396157,-0.37693758217424916,1.1830320069813256,0.16995226333775676,1.7774620506505168,-0.8895255904170345,1.3944174805345486,-1.850060721313199,-1.3417035530645616,0.9391082966584445,0.9700589698321128,-1.604452147419455,0.6676364870219649,-1.1239638929995208,0.9866181703538464,-0.47245120246747085,0.14307948466401546,1.6194032925395008,0.28707929556088013,-2.0633114742281067,0.984871614465747,-0.0005197875955629226,1.28016775843392,0.38145099065980237,1.0181992084337197,0.0007496653025990152],\"xaxis\":\"x11\",\"yaxis\":\"y11\",\"type\":\"histogram\"},{\"line\":{\"color\":\"rgba(128, 128, 128, 1.0)\",\"dash\":\"solid\",\"shape\":\"linear\",\"width\":1.3},\"marker\":{\"size\":2,\"symbol\":\"circle\"},\"mode\":\"markers\",\"name\":\"C\",\"text\":\"\",\"x\":[-2.737247075994404,-0.371622137785998,0.4977872389088978,-0.25556722608188853,0.134844530196423,-0.9602501249253127,-0.2397917100705879,1.0344184850748666,0.8514263520822619,1.35122525523941,2.604635190520853,1.947767040875128,-1.3512387261342127,-0.9427769645828806,-2.063505088898325,-0.4870830116381731,0.25588158907185315,-1.0742236315172862,0.956877807016473,0.7333863213035633,-1.213437837026288,2.2599800326715225,-1.3391245764493112,-0.20150175200419704,-1.4517678541192687,0.1016744241682496,-1.5033897478410911,-0.1243391491925989,1.4436217338806754,-1.7133911850641386,0.26108774988306366,1.0056905498192663,-0.26248250730553535,0.24236503012727867,1.0519009772779324,0.321102619498424,-0.6304503190093411,0.8010048587525489,-0.026863296121999822,-0.6005877821544191,-0.0049922649277795465,-2.6221756364222157,-0.42984055050945774,-0.1443655516573191,-0.904478920086068,-0.07364609801508223,1.018411591964657,-0.43294602375333335,-0.5695326411619899,0.7594130903281197,-0.2006312780575331,-0.2347940580504846,0.8139954950920132,-0.8807999455752871,0.7163484752256508,0.40615245114971854,-0.8071198924710938,0.7767107762697273,-0.28877910715950894,0.8149223997578482,-0.3362381266307819,0.9522356397473453,-0.5898704926150133,-0.9772068149269224,0.737315638695283,0.34127453265489327,-0.6552094825700808,-1.6030076880442323,-1.5895923338532951,-0.012103775562117147,-0.29541678817590195,-0.12222407499725159,-1.0574075864876884,0.03501734189575078,-0.4077052603736408,0.21432227712942017,1.3691699925778178,-0.539074619860555,-0.8037180119982591,-0.7443299088773537,1.522871279279115,-0.08863780207150675,1.3100439989179171,-1.5140910484576355,1.6857952570240735,-1.9593945449784622,0.618036635263452,0.5793747989395617,-0.18701217121788372,-0.4302273446214045,-0.18418614363508462,0.48564593255997734,1.1067954050511588,-0.48813267343725975,-0.6718716102419712,-0.19220311340207014,0.6295952841880968,-0.651678727558497,1.3370584169131228,0.35362929920522856],\"xaxis\":\"x12\",\"y\":[-0.6704082264197347,-0.9712370065255008,0.4111150132211941,0.06505043483094419,0.09597347386637531,-0.17805257026137314,0.6266282123253187,-0.06944538525399793,1.0434066129333317,0.8321859041473956,0.23176254064018448,-0.36957242731347956,0.9693310064414132,-1.065613557626272,-0.08607110397003176,0.38839255569323583,-0.6766161417161143,-1.2143473333630788,1.1433139815906899,1.1489106765854245,-0.4233004052413279,-0.14674342975009205,-1.5470081603989874,0.5449565142853104,0.9436920674861845,-0.8578130086197939,-0.8706007914367132,-0.4674439125957368,0.7295679758333566,-1.5659532199503727,-0.6302577800291368,0.002036162897837701,0.08527473566789949,0.4114993953567297,0.5831547536114501,-0.8417649892373862,-0.15206125243366583,0.6558559082815361,0.4739620700333792,1.6503138194249127,0.261093633651454,1.488587165162164,0.29469611827486414,0.25496389058589275,-1.2652526156028097,-0.7532256723724051,-0.9099639520318753,1.1441345960738158,0.5949919924224334,-0.10782459485723767,0.2140567254164145,0.14147781374699772,1.0340849306590991,0.24670441031205223,0.583944717414109,-0.4151649571540205,-1.5680514211874341,1.0757553302227085,-2.196377096070879,-1.0909931476373194,-0.4456730180087001,0.22966449358967897,0.5457957358256748,0.8832981164864001,-1.1263605017015514,-0.40180359216850925,-1.232443932460566,0.26566029104465116,1.0724285813704941,0.04514430706016189,0.37813651962983186,1.1153581424377124,-0.2879208413779026,0.08049124917956914,-0.06135085527396157,-0.37693758217424916,1.1830320069813256,0.16995226333775676,1.7774620506505168,-0.8895255904170345,1.3944174805345486,-1.850060721313199,-1.3417035530645616,0.9391082966584445,0.9700589698321128,-1.604452147419455,0.6676364870219649,-1.1239638929995208,0.9866181703538464,-0.47245120246747085,0.14307948466401546,1.6194032925395008,0.28707929556088013,-2.0633114742281067,0.984871614465747,-0.0005197875955629226,1.28016775843392,0.38145099065980237,1.0181992084337197,0.0007496653025990152],\"yaxis\":\"y12\",\"type\":\"scatter\"},{\"line\":{\"color\":\"rgba(128, 128, 128, 1.0)\",\"dash\":\"solid\",\"shape\":\"linear\",\"width\":1.3},\"marker\":{\"size\":2,\"symbol\":\"circle\"},\"mode\":\"markers\",\"name\":\"D\",\"text\":\"\",\"x\":[-1.9755500137656816,-0.061947778504821194,1.5859026175116797,-1.2531388336614748,-0.05439570455517902,-0.6099892593578193,-0.42597212415335045,1.30054514318552,1.6745245836944143,0.16101375678398513,-0.49292541050026917,-0.11917095742151543,-0.7009747802886002,-0.47467091820681706,-0.4017079488724917,-0.42615585580718507,0.0902833090343134,-0.03383157680340645,0.25125800723855946,0.09501082946377389,0.5867512968998098,-0.4693010654392666,0.46168204660174567,0.06495267830063275,0.2681084284590157,-1.4989026795597802,1.7641427480382965,1.4859196786280577,0.1539020337302631,-0.6840507459974362,-0.13423049695369402,0.7460726140571591,-0.7550366137892188,-0.0512034730653333,-0.4748090640569612,-2.3679114992432004,-0.30779199050609957,-0.49193289903124116,-0.7649607105286698,-2.613800799990971,0.6362381962494086,-0.8198854452978208,-0.4784810420305522,-0.30559539406897873,1.7417622654227076,1.9097958194435793,0.9406674466573566,-1.2094515522929468,0.6724277066552841,0.6042558126336943,1.695812684537749,-0.8894533401640422,-1.0307224681600358,0.004523554592124752,1.9757360700018838,0.5429180447534881,-0.47199893155343664,0.4749452873600385,-0.283517983931913,-0.04096698814947355,0.968045533265399,0.8935691476562685,-0.1899689680365186,-0.5352024057664848,-0.6306762033186569,-0.8819772809327792,-0.9249869852557837,-1.2795987736093142,-1.4906513234849743,-1.100933806912293,0.4967968785061232,0.4776917332224903,0.19840480678120576,-0.5678729808054858,-0.47050311886264523,-0.6848928388732589,-0.3447172724962305,-0.23794258475612443,2.165413060815801,0.6632483590585299,2.000157263583068,-0.05164465663250612,-0.32950100556886297,0.1233413534161667,-1.024280593332221,1.6328302707578288,-0.8922019505656237,-0.19277947000847248,1.778582913528921,1.2861142967242434,0.7478696272647315,0.7044550353283147,-0.4948989732262082,2.162621138218643,-0.07173258766074306,-0.9714490326513098,-0.25668971020006276,-0.9861809495110716,-1.157103541842868,1.1992610142491917],\"xaxis\":\"x13\",\"y\":[-2.737247075994404,-0.371622137785998,0.4977872389088978,-0.25556722608188853,0.134844530196423,-0.9602501249253127,-0.2397917100705879,1.0344184850748666,0.8514263520822619,1.35122525523941,2.604635190520853,1.947767040875128,-1.3512387261342127,-0.9427769645828806,-2.063505088898325,-0.4870830116381731,0.25588158907185315,-1.0742236315172862,0.956877807016473,0.7333863213035633,-1.213437837026288,2.2599800326715225,-1.3391245764493112,-0.20150175200419704,-1.4517678541192687,0.1016744241682496,-1.5033897478410911,-0.1243391491925989,1.4436217338806754,-1.7133911850641386,0.26108774988306366,1.0056905498192663,-0.26248250730553535,0.24236503012727867,1.0519009772779324,0.321102619498424,-0.6304503190093411,0.8010048587525489,-0.026863296121999822,-0.6005877821544191,-0.0049922649277795465,-2.6221756364222157,-0.42984055050945774,-0.1443655516573191,-0.904478920086068,-0.07364609801508223,1.018411591964657,-0.43294602375333335,-0.5695326411619899,0.7594130903281197,-0.2006312780575331,-0.2347940580504846,0.8139954950920132,-0.8807999455752871,0.7163484752256508,0.40615245114971854,-0.8071198924710938,0.7767107762697273,-0.28877910715950894,0.8149223997578482,-0.3362381266307819,0.9522356397473453,-0.5898704926150133,-0.9772068149269224,0.737315638695283,0.34127453265489327,-0.6552094825700808,-1.6030076880442323,-1.5895923338532951,-0.012103775562117147,-0.29541678817590195,-0.12222407499725159,-1.0574075864876884,0.03501734189575078,-0.4077052603736408,0.21432227712942017,1.3691699925778178,-0.539074619860555,-0.8037180119982591,-0.7443299088773537,1.522871279279115,-0.08863780207150675,1.3100439989179171,-1.5140910484576355,1.6857952570240735,-1.9593945449784622,0.618036635263452,0.5793747989395617,-0.18701217121788372,-0.4302273446214045,-0.18418614363508462,0.48564593255997734,1.1067954050511588,-0.48813267343725975,-0.6718716102419712,-0.19220311340207014,0.6295952841880968,-0.651678727558497,1.3370584169131228,0.35362929920522856],\"yaxis\":\"y13\",\"type\":\"scatter\"},{\"line\":{\"color\":\"rgba(128, 128, 128, 1.0)\",\"dash\":\"solid\",\"shape\":\"linear\",\"width\":1.3},\"marker\":{\"size\":2,\"symbol\":\"circle\"},\"mode\":\"markers\",\"name\":\"D\",\"text\":\"\",\"x\":[-0.6016205567329608,-0.6867847793895484,-1.004201098081681,0.5459610858692364,-0.5134277048058766,-1.7713803666089118,0.306265766114442,-0.4673808534970285,0.47774761494497525,0.5773418911213518,-0.9716562852965338,0.5691019831236278,0.47140735466440037,0.09296487685387636,0.36346199486628045,-0.21785167686542148,0.43661427182523044,-1.1043395826762386,-0.02671525336627313,1.6340557489474088,-0.4116937959977908,0.760627438099993,-1.419951605103263,1.56554617148626,-1.0612550505986134,-0.2791022850093874,-0.6538496117164647,-0.5413662862932657,0.770850384913509,0.5112478057109159,0.444885186950138,1.3539004781978206,2.2623286874734436,-0.862557473719299,0.5541222476581766,0.4349526898898684,1.3003541024884273,-0.9334222914281395,-0.018468505151828317,0.301456771856218,0.8893522858810824,0.9676579983417197,0.40723522186669053,0.8049924749506939,-0.040571046598925915,-0.7668702851597023,1.2011848352922634,1.7413782411913143,-0.3627601644549942,0.8029425027984123,-1.2379383287509398,0.650388747065542,1.1512941141212873,0.8082910662466302,0.002804675896032924,0.040444707117679946,1.0075910275877349,1.566362282752962,1.727518610682044,0.43208798978099616,-0.37729306749409824,0.3583192853709636,2.245267346888914,-1.2931892852342348,0.49825288910292637,0.18173575684733229,-0.003765766788964723,0.788228363907951,0.14540007233038146,-2.8471785813920847,0.901525280729787,0.47931178935779756,-0.75054262406477,-0.1895272526767355,-0.16111055958515572,0.43926869577158684,-2.007298526805992,0.14872350274937846,-0.7897899064104688,-0.8739822093248697,0.8077072001297577,1.0106425845267275,-1.3871824837780988,-0.802777519106265,-0.665337553159498,-0.5965212412716,0.8824586708505167,-1.31436743946511,-0.11327313080949342,0.3357969652076104,0.7522800234797223,-1.1915982770371818,-0.6620972204720901,-1.5865209839733985,0.25954986753324477,-0.34864819900329097,0.6164677893891793,-0.006340506992387929,0.05375386835791097,-0.04750243008043119],\"xaxis\":\"x14\",\"y\":[-2.737247075994404,-0.371622137785998,0.4977872389088978,-0.25556722608188853,0.134844530196423,-0.9602501249253127,-0.2397917100705879,1.0344184850748666,0.8514263520822619,1.35122525523941,2.604635190520853,1.947767040875128,-1.3512387261342127,-0.9427769645828806,-2.063505088898325,-0.4870830116381731,0.25588158907185315,-1.0742236315172862,0.956877807016473,0.7333863213035633,-1.213437837026288,2.2599800326715225,-1.3391245764493112,-0.20150175200419704,-1.4517678541192687,0.1016744241682496,-1.5033897478410911,-0.1243391491925989,1.4436217338806754,-1.7133911850641386,0.26108774988306366,1.0056905498192663,-0.26248250730553535,0.24236503012727867,1.0519009772779324,0.321102619498424,-0.6304503190093411,0.8010048587525489,-0.026863296121999822,-0.6005877821544191,-0.0049922649277795465,-2.6221756364222157,-0.42984055050945774,-0.1443655516573191,-0.904478920086068,-0.07364609801508223,1.018411591964657,-0.43294602375333335,-0.5695326411619899,0.7594130903281197,-0.2006312780575331,-0.2347940580504846,0.8139954950920132,-0.8807999455752871,0.7163484752256508,0.40615245114971854,-0.8071198924710938,0.7767107762697273,-0.28877910715950894,0.8149223997578482,-0.3362381266307819,0.9522356397473453,-0.5898704926150133,-0.9772068149269224,0.737315638695283,0.34127453265489327,-0.6552094825700808,-1.6030076880442323,-1.5895923338532951,-0.012103775562117147,-0.29541678817590195,-0.12222407499725159,-1.0574075864876884,0.03501734189575078,-0.4077052603736408,0.21432227712942017,1.3691699925778178,-0.539074619860555,-0.8037180119982591,-0.7443299088773537,1.522871279279115,-0.08863780207150675,1.3100439989179171,-1.5140910484576355,1.6857952570240735,-1.9593945449784622,0.618036635263452,0.5793747989395617,-0.18701217121788372,-0.4302273446214045,-0.18418614363508462,0.48564593255997734,1.1067954050511588,-0.48813267343725975,-0.6718716102419712,-0.19220311340207014,0.6295952841880968,-0.651678727558497,1.3370584169131228,0.35362929920522856],\"yaxis\":\"y14\",\"type\":\"scatter\"},{\"line\":{\"color\":\"rgba(128, 128, 128, 1.0)\",\"dash\":\"solid\",\"shape\":\"linear\",\"width\":1.3},\"marker\":{\"size\":2,\"symbol\":\"circle\"},\"mode\":\"markers\",\"name\":\"D\",\"text\":\"\",\"x\":[-0.6704082264197347,-0.9712370065255008,0.4111150132211941,0.06505043483094419,0.09597347386637531,-0.17805257026137314,0.6266282123253187,-0.06944538525399793,1.0434066129333317,0.8321859041473956,0.23176254064018448,-0.36957242731347956,0.9693310064414132,-1.065613557626272,-0.08607110397003176,0.38839255569323583,-0.6766161417161143,-1.2143473333630788,1.1433139815906899,1.1489106765854245,-0.4233004052413279,-0.14674342975009205,-1.5470081603989874,0.5449565142853104,0.9436920674861845,-0.8578130086197939,-0.8706007914367132,-0.4674439125957368,0.7295679758333566,-1.5659532199503727,-0.6302577800291368,0.002036162897837701,0.08527473566789949,0.4114993953567297,0.5831547536114501,-0.8417649892373862,-0.15206125243366583,0.6558559082815361,0.4739620700333792,1.6503138194249127,0.261093633651454,1.488587165162164,0.29469611827486414,0.25496389058589275,-1.2652526156028097,-0.7532256723724051,-0.9099639520318753,1.1441345960738158,0.5949919924224334,-0.10782459485723767,0.2140567254164145,0.14147781374699772,1.0340849306590991,0.24670441031205223,0.583944717414109,-0.4151649571540205,-1.5680514211874341,1.0757553302227085,-2.196377096070879,-1.0909931476373194,-0.4456730180087001,0.22966449358967897,0.5457957358256748,0.8832981164864001,-1.1263605017015514,-0.40180359216850925,-1.232443932460566,0.26566029104465116,1.0724285813704941,0.04514430706016189,0.37813651962983186,1.1153581424377124,-0.2879208413779026,0.08049124917956914,-0.06135085527396157,-0.37693758217424916,1.1830320069813256,0.16995226333775676,1.7774620506505168,-0.8895255904170345,1.3944174805345486,-1.850060721313199,-1.3417035530645616,0.9391082966584445,0.9700589698321128,-1.604452147419455,0.6676364870219649,-1.1239638929995208,0.9866181703538464,-0.47245120246747085,0.14307948466401546,1.6194032925395008,0.28707929556088013,-2.0633114742281067,0.984871614465747,-0.0005197875955629226,1.28016775843392,0.38145099065980237,1.0181992084337197,0.0007496653025990152],\"xaxis\":\"x15\",\"y\":[-2.737247075994404,-0.371622137785998,0.4977872389088978,-0.25556722608188853,0.134844530196423,-0.9602501249253127,-0.2397917100705879,1.0344184850748666,0.8514263520822619,1.35122525523941,2.604635190520853,1.947767040875128,-1.3512387261342127,-0.9427769645828806,-2.063505088898325,-0.4870830116381731,0.25588158907185315,-1.0742236315172862,0.956877807016473,0.7333863213035633,-1.213437837026288,2.2599800326715225,-1.3391245764493112,-0.20150175200419704,-1.4517678541192687,0.1016744241682496,-1.5033897478410911,-0.1243391491925989,1.4436217338806754,-1.7133911850641386,0.26108774988306366,1.0056905498192663,-0.26248250730553535,0.24236503012727867,1.0519009772779324,0.321102619498424,-0.6304503190093411,0.8010048587525489,-0.026863296121999822,-0.6005877821544191,-0.0049922649277795465,-2.6221756364222157,-0.42984055050945774,-0.1443655516573191,-0.904478920086068,-0.07364609801508223,1.018411591964657,-0.43294602375333335,-0.5695326411619899,0.7594130903281197,-0.2006312780575331,-0.2347940580504846,0.8139954950920132,-0.8807999455752871,0.7163484752256508,0.40615245114971854,-0.8071198924710938,0.7767107762697273,-0.28877910715950894,0.8149223997578482,-0.3362381266307819,0.9522356397473453,-0.5898704926150133,-0.9772068149269224,0.737315638695283,0.34127453265489327,-0.6552094825700808,-1.6030076880442323,-1.5895923338532951,-0.012103775562117147,-0.29541678817590195,-0.12222407499725159,-1.0574075864876884,0.03501734189575078,-0.4077052603736408,0.21432227712942017,1.3691699925778178,-0.539074619860555,-0.8037180119982591,-0.7443299088773537,1.522871279279115,-0.08863780207150675,1.3100439989179171,-1.5140910484576355,1.6857952570240735,-1.9593945449784622,0.618036635263452,0.5793747989395617,-0.18701217121788372,-0.4302273446214045,-0.18418614363508462,0.48564593255997734,1.1067954050511588,-0.48813267343725975,-0.6718716102419712,-0.19220311340207014,0.6295952841880968,-0.651678727558497,1.3370584169131228,0.35362929920522856],\"yaxis\":\"y15\",\"type\":\"scatter\"},{\"histfunc\":\"count\",\"histnorm\":\"\",\"marker\":{\"color\":\"rgba(128, 0, 128, 1.0)\",\"line\":{\"color\":\"#4D5663\",\"width\":1.3}},\"name\":\"D\",\"nbinsx\":10,\"opacity\":0.8,\"orientation\":\"v\",\"x\":[-2.737247075994404,-0.371622137785998,0.4977872389088978,-0.25556722608188853,0.134844530196423,-0.9602501249253127,-0.2397917100705879,1.0344184850748666,0.8514263520822619,1.35122525523941,2.604635190520853,1.947767040875128,-1.3512387261342127,-0.9427769645828806,-2.063505088898325,-0.4870830116381731,0.25588158907185315,-1.0742236315172862,0.956877807016473,0.7333863213035633,-1.213437837026288,2.2599800326715225,-1.3391245764493112,-0.20150175200419704,-1.4517678541192687,0.1016744241682496,-1.5033897478410911,-0.1243391491925989,1.4436217338806754,-1.7133911850641386,0.26108774988306366,1.0056905498192663,-0.26248250730553535,0.24236503012727867,1.0519009772779324,0.321102619498424,-0.6304503190093411,0.8010048587525489,-0.026863296121999822,-0.6005877821544191,-0.0049922649277795465,-2.6221756364222157,-0.42984055050945774,-0.1443655516573191,-0.904478920086068,-0.07364609801508223,1.018411591964657,-0.43294602375333335,-0.5695326411619899,0.7594130903281197,-0.2006312780575331,-0.2347940580504846,0.8139954950920132,-0.8807999455752871,0.7163484752256508,0.40615245114971854,-0.8071198924710938,0.7767107762697273,-0.28877910715950894,0.8149223997578482,-0.3362381266307819,0.9522356397473453,-0.5898704926150133,-0.9772068149269224,0.737315638695283,0.34127453265489327,-0.6552094825700808,-1.6030076880442323,-1.5895923338532951,-0.012103775562117147,-0.29541678817590195,-0.12222407499725159,-1.0574075864876884,0.03501734189575078,-0.4077052603736408,0.21432227712942017,1.3691699925778178,-0.539074619860555,-0.8037180119982591,-0.7443299088773537,1.522871279279115,-0.08863780207150675,1.3100439989179171,-1.5140910484576355,1.6857952570240735,-1.9593945449784622,0.618036635263452,0.5793747989395617,-0.18701217121788372,-0.4302273446214045,-0.18418614363508462,0.48564593255997734,1.1067954050511588,-0.48813267343725975,-0.6718716102419712,-0.19220311340207014,0.6295952841880968,-0.651678727558497,1.3370584169131228,0.35362929920522856],\"xaxis\":\"x16\",\"yaxis\":\"y16\",\"type\":\"histogram\"}],                        {\"bargap\":0.02,\"legend\":{\"bgcolor\":\"#F5F6F9\",\"font\":{\"color\":\"#4D5663\"}},\"paper_bgcolor\":\"#F5F6F9\",\"plot_bgcolor\":\"#F5F6F9\",\"showlegend\":false,\"template\":{\"data\":{\"barpolar\":[{\"marker\":{\"line\":{\"color\":\"#E5ECF6\",\"width\":0.5},\"pattern\":{\"fillmode\":\"overlay\",\"size\":10,\"solidity\":0.2}},\"type\":\"barpolar\"}],\"bar\":[{\"error_x\":{\"color\":\"#2a3f5f\"},\"error_y\":{\"color\":\"#2a3f5f\"},\"marker\":{\"line\":{\"color\":\"#E5ECF6\",\"width\":0.5},\"pattern\":{\"fillmode\":\"overlay\",\"size\":10,\"solidity\":0.2}},\"type\":\"bar\"}],\"carpet\":[{\"aaxis\":{\"endlinecolor\":\"#2a3f5f\",\"gridcolor\":\"white\",\"linecolor\":\"white\",\"minorgridcolor\":\"white\",\"startlinecolor\":\"#2a3f5f\"},\"baxis\":{\"endlinecolor\":\"#2a3f5f\",\"gridcolor\":\"white\",\"linecolor\":\"white\",\"minorgridcolor\":\"white\",\"startlinecolor\":\"#2a3f5f\"},\"type\":\"carpet\"}],\"choropleth\":[{\"colorbar\":{\"outlinewidth\":0,\"ticks\":\"\"},\"type\":\"choropleth\"}],\"contourcarpet\":[{\"colorbar\":{\"outlinewidth\":0,\"ticks\":\"\"},\"type\":\"contourcarpet\"}],\"contour\":[{\"colorbar\":{\"outlinewidth\":0,\"ticks\":\"\"},\"colorscale\":[[0.0,\"#0d0887\"],[0.1111111111111111,\"#46039f\"],[0.2222222222222222,\"#7201a8\"],[0.3333333333333333,\"#9c179e\"],[0.4444444444444444,\"#bd3786\"],[0.5555555555555556,\"#d8576b\"],[0.6666666666666666,\"#ed7953\"],[0.7777777777777778,\"#fb9f3a\"],[0.8888888888888888,\"#fdca26\"],[1.0,\"#f0f921\"]],\"type\":\"contour\"}],\"heatmapgl\":[{\"colorbar\":{\"outlinewidth\":0,\"ticks\":\"\"},\"colorscale\":[[0.0,\"#0d0887\"],[0.1111111111111111,\"#46039f\"],[0.2222222222222222,\"#7201a8\"],[0.3333333333333333,\"#9c179e\"],[0.4444444444444444,\"#bd3786\"],[0.5555555555555556,\"#d8576b\"],[0.6666666666666666,\"#ed7953\"],[0.7777777777777778,\"#fb9f3a\"],[0.8888888888888888,\"#fdca26\"],[1.0,\"#f0f921\"]],\"type\":\"heatmapgl\"}],\"heatmap\":[{\"colorbar\":{\"outlinewidth\":0,\"ticks\":\"\"},\"colorscale\":[[0.0,\"#0d0887\"],[0.1111111111111111,\"#46039f\"],[0.2222222222222222,\"#7201a8\"],[0.3333333333333333,\"#9c179e\"],[0.4444444444444444,\"#bd3786\"],[0.5555555555555556,\"#d8576b\"],[0.6666666666666666,\"#ed7953\"],[0.7777777777777778,\"#fb9f3a\"],[0.8888888888888888,\"#fdca26\"],[1.0,\"#f0f921\"]],\"type\":\"heatmap\"}],\"histogram2dcontour\":[{\"colorbar\":{\"outlinewidth\":0,\"ticks\":\"\"},\"colorscale\":[[0.0,\"#0d0887\"],[0.1111111111111111,\"#46039f\"],[0.2222222222222222,\"#7201a8\"],[0.3333333333333333,\"#9c179e\"],[0.4444444444444444,\"#bd3786\"],[0.5555555555555556,\"#d8576b\"],[0.6666666666666666,\"#ed7953\"],[0.7777777777777778,\"#fb9f3a\"],[0.8888888888888888,\"#fdca26\"],[1.0,\"#f0f921\"]],\"type\":\"histogram2dcontour\"}],\"histogram2d\":[{\"colorbar\":{\"outlinewidth\":0,\"ticks\":\"\"},\"colorscale\":[[0.0,\"#0d0887\"],[0.1111111111111111,\"#46039f\"],[0.2222222222222222,\"#7201a8\"],[0.3333333333333333,\"#9c179e\"],[0.4444444444444444,\"#bd3786\"],[0.5555555555555556,\"#d8576b\"],[0.6666666666666666,\"#ed7953\"],[0.7777777777777778,\"#fb9f3a\"],[0.8888888888888888,\"#fdca26\"],[1.0,\"#f0f921\"]],\"type\":\"histogram2d\"}],\"histogram\":[{\"marker\":{\"pattern\":{\"fillmode\":\"overlay\",\"size\":10,\"solidity\":0.2}},\"type\":\"histogram\"}],\"mesh3d\":[{\"colorbar\":{\"outlinewidth\":0,\"ticks\":\"\"},\"type\":\"mesh3d\"}],\"parcoords\":[{\"line\":{\"colorbar\":{\"outlinewidth\":0,\"ticks\":\"\"}},\"type\":\"parcoords\"}],\"pie\":[{\"automargin\":true,\"type\":\"pie\"}],\"scatter3d\":[{\"line\":{\"colorbar\":{\"outlinewidth\":0,\"ticks\":\"\"}},\"marker\":{\"colorbar\":{\"outlinewidth\":0,\"ticks\":\"\"}},\"type\":\"scatter3d\"}],\"scattercarpet\":[{\"marker\":{\"colorbar\":{\"outlinewidth\":0,\"ticks\":\"\"}},\"type\":\"scattercarpet\"}],\"scattergeo\":[{\"marker\":{\"colorbar\":{\"outlinewidth\":0,\"ticks\":\"\"}},\"type\":\"scattergeo\"}],\"scattergl\":[{\"marker\":{\"colorbar\":{\"outlinewidth\":0,\"ticks\":\"\"}},\"type\":\"scattergl\"}],\"scattermapbox\":[{\"marker\":{\"colorbar\":{\"outlinewidth\":0,\"ticks\":\"\"}},\"type\":\"scattermapbox\"}],\"scatterpolargl\":[{\"marker\":{\"colorbar\":{\"outlinewidth\":0,\"ticks\":\"\"}},\"type\":\"scatterpolargl\"}],\"scatterpolar\":[{\"marker\":{\"colorbar\":{\"outlinewidth\":0,\"ticks\":\"\"}},\"type\":\"scatterpolar\"}],\"scatter\":[{\"fillpattern\":{\"fillmode\":\"overlay\",\"size\":10,\"solidity\":0.2},\"type\":\"scatter\"}],\"scatterternary\":[{\"marker\":{\"colorbar\":{\"outlinewidth\":0,\"ticks\":\"\"}},\"type\":\"scatterternary\"}],\"surface\":[{\"colorbar\":{\"outlinewidth\":0,\"ticks\":\"\"},\"colorscale\":[[0.0,\"#0d0887\"],[0.1111111111111111,\"#46039f\"],[0.2222222222222222,\"#7201a8\"],[0.3333333333333333,\"#9c179e\"],[0.4444444444444444,\"#bd3786\"],[0.5555555555555556,\"#d8576b\"],[0.6666666666666666,\"#ed7953\"],[0.7777777777777778,\"#fb9f3a\"],[0.8888888888888888,\"#fdca26\"],[1.0,\"#f0f921\"]],\"type\":\"surface\"}],\"table\":[{\"cells\":{\"fill\":{\"color\":\"#EBF0F8\"},\"line\":{\"color\":\"white\"}},\"header\":{\"fill\":{\"color\":\"#C8D4E3\"},\"line\":{\"color\":\"white\"}},\"type\":\"table\"}]},\"layout\":{\"annotationdefaults\":{\"arrowcolor\":\"#2a3f5f\",\"arrowhead\":0,\"arrowwidth\":1},\"autotypenumbers\":\"strict\",\"coloraxis\":{\"colorbar\":{\"outlinewidth\":0,\"ticks\":\"\"}},\"colorscale\":{\"diverging\":[[0,\"#8e0152\"],[0.1,\"#c51b7d\"],[0.2,\"#de77ae\"],[0.3,\"#f1b6da\"],[0.4,\"#fde0ef\"],[0.5,\"#f7f7f7\"],[0.6,\"#e6f5d0\"],[0.7,\"#b8e186\"],[0.8,\"#7fbc41\"],[0.9,\"#4d9221\"],[1,\"#276419\"]],\"sequential\":[[0.0,\"#0d0887\"],[0.1111111111111111,\"#46039f\"],[0.2222222222222222,\"#7201a8\"],[0.3333333333333333,\"#9c179e\"],[0.4444444444444444,\"#bd3786\"],[0.5555555555555556,\"#d8576b\"],[0.6666666666666666,\"#ed7953\"],[0.7777777777777778,\"#fb9f3a\"],[0.8888888888888888,\"#fdca26\"],[1.0,\"#f0f921\"]],\"sequentialminus\":[[0.0,\"#0d0887\"],[0.1111111111111111,\"#46039f\"],[0.2222222222222222,\"#7201a8\"],[0.3333333333333333,\"#9c179e\"],[0.4444444444444444,\"#bd3786\"],[0.5555555555555556,\"#d8576b\"],[0.6666666666666666,\"#ed7953\"],[0.7777777777777778,\"#fb9f3a\"],[0.8888888888888888,\"#fdca26\"],[1.0,\"#f0f921\"]]},\"colorway\":[\"#636efa\",\"#EF553B\",\"#00cc96\",\"#ab63fa\",\"#FFA15A\",\"#19d3f3\",\"#FF6692\",\"#B6E880\",\"#FF97FF\",\"#FECB52\"],\"font\":{\"color\":\"#2a3f5f\"},\"geo\":{\"bgcolor\":\"white\",\"lakecolor\":\"white\",\"landcolor\":\"#E5ECF6\",\"showlakes\":true,\"showland\":true,\"subunitcolor\":\"white\"},\"hoverlabel\":{\"align\":\"left\"},\"hovermode\":\"closest\",\"mapbox\":{\"style\":\"light\"},\"paper_bgcolor\":\"white\",\"plot_bgcolor\":\"#E5ECF6\",\"polar\":{\"angularaxis\":{\"gridcolor\":\"white\",\"linecolor\":\"white\",\"ticks\":\"\"},\"bgcolor\":\"#E5ECF6\",\"radialaxis\":{\"gridcolor\":\"white\",\"linecolor\":\"white\",\"ticks\":\"\"}},\"scene\":{\"xaxis\":{\"backgroundcolor\":\"#E5ECF6\",\"gridcolor\":\"white\",\"gridwidth\":2,\"linecolor\":\"white\",\"showbackground\":true,\"ticks\":\"\",\"zerolinecolor\":\"white\"},\"yaxis\":{\"backgroundcolor\":\"#E5ECF6\",\"gridcolor\":\"white\",\"gridwidth\":2,\"linecolor\":\"white\",\"showbackground\":true,\"ticks\":\"\",\"zerolinecolor\":\"white\"},\"zaxis\":{\"backgroundcolor\":\"#E5ECF6\",\"gridcolor\":\"white\",\"gridwidth\":2,\"linecolor\":\"white\",\"showbackground\":true,\"ticks\":\"\",\"zerolinecolor\":\"white\"}},\"shapedefaults\":{\"line\":{\"color\":\"#2a3f5f\"}},\"ternary\":{\"aaxis\":{\"gridcolor\":\"white\",\"linecolor\":\"white\",\"ticks\":\"\"},\"baxis\":{\"gridcolor\":\"white\",\"linecolor\":\"white\",\"ticks\":\"\"},\"bgcolor\":\"#E5ECF6\",\"caxis\":{\"gridcolor\":\"white\",\"linecolor\":\"white\",\"ticks\":\"\"}},\"title\":{\"x\":0.05},\"xaxis\":{\"automargin\":true,\"gridcolor\":\"white\",\"linecolor\":\"white\",\"ticks\":\"\",\"title\":{\"standoff\":15},\"zerolinecolor\":\"white\",\"zerolinewidth\":2},\"yaxis\":{\"automargin\":true,\"gridcolor\":\"white\",\"linecolor\":\"white\",\"ticks\":\"\",\"title\":{\"standoff\":15},\"zerolinecolor\":\"white\",\"zerolinewidth\":2}}},\"title\":{\"font\":{\"color\":\"#4D5663\"}},\"xaxis\":{\"anchor\":\"y\",\"domain\":[0.0,0.2125],\"gridcolor\":\"#E1E5ED\",\"showgrid\":false,\"tickfont\":{\"color\":\"#4D5663\"},\"title\":{\"font\":{\"color\":\"#4D5663\"},\"text\":\"\"},\"zerolinecolor\":\"#E1E5ED\"},\"yaxis\":{\"anchor\":\"x\",\"domain\":[0.8025,1.0],\"gridcolor\":\"#E1E5ED\",\"showgrid\":false,\"tickfont\":{\"color\":\"#4D5663\"},\"title\":{\"font\":{\"color\":\"#4D5663\"},\"text\":\"\"},\"zerolinecolor\":\"#E1E5ED\"},\"xaxis2\":{\"anchor\":\"y2\",\"domain\":[0.2625,0.475],\"gridcolor\":\"#E1E5ED\",\"showgrid\":false,\"tickfont\":{\"color\":\"#4D5663\"},\"title\":{\"font\":{\"color\":\"#4D5663\"},\"text\":\"\"},\"zerolinecolor\":\"#E1E5ED\"},\"yaxis2\":{\"anchor\":\"x2\",\"domain\":[0.8025,1.0],\"gridcolor\":\"#E1E5ED\",\"showgrid\":false,\"tickfont\":{\"color\":\"#4D5663\"},\"title\":{\"font\":{\"color\":\"#4D5663\"},\"text\":\"\"},\"zerolinecolor\":\"#E1E5ED\"},\"xaxis3\":{\"anchor\":\"y3\",\"domain\":[0.525,0.7375],\"gridcolor\":\"#E1E5ED\",\"showgrid\":false,\"tickfont\":{\"color\":\"#4D5663\"},\"title\":{\"font\":{\"color\":\"#4D5663\"},\"text\":\"\"},\"zerolinecolor\":\"#E1E5ED\"},\"yaxis3\":{\"anchor\":\"x3\",\"domain\":[0.8025,1.0],\"gridcolor\":\"#E1E5ED\",\"showgrid\":false,\"tickfont\":{\"color\":\"#4D5663\"},\"title\":{\"font\":{\"color\":\"#4D5663\"},\"text\":\"\"},\"zerolinecolor\":\"#E1E5ED\"},\"xaxis4\":{\"anchor\":\"y4\",\"domain\":[0.7875,1.0],\"gridcolor\":\"#E1E5ED\",\"showgrid\":false,\"tickfont\":{\"color\":\"#4D5663\"},\"title\":{\"font\":{\"color\":\"#4D5663\"},\"text\":\"\"},\"zerolinecolor\":\"#E1E5ED\"},\"yaxis4\":{\"anchor\":\"x4\",\"domain\":[0.8025,1.0],\"gridcolor\":\"#E1E5ED\",\"showgrid\":false,\"tickfont\":{\"color\":\"#4D5663\"},\"title\":{\"font\":{\"color\":\"#4D5663\"},\"text\":\"\"},\"zerolinecolor\":\"#E1E5ED\"},\"xaxis5\":{\"anchor\":\"y5\",\"domain\":[0.0,0.2125],\"gridcolor\":\"#E1E5ED\",\"showgrid\":false,\"tickfont\":{\"color\":\"#4D5663\"},\"title\":{\"font\":{\"color\":\"#4D5663\"},\"text\":\"\"},\"zerolinecolor\":\"#E1E5ED\"},\"yaxis5\":{\"anchor\":\"x5\",\"domain\":[0.535,0.7325],\"gridcolor\":\"#E1E5ED\",\"showgrid\":false,\"tickfont\":{\"color\":\"#4D5663\"},\"title\":{\"font\":{\"color\":\"#4D5663\"},\"text\":\"\"},\"zerolinecolor\":\"#E1E5ED\"},\"xaxis6\":{\"anchor\":\"y6\",\"domain\":[0.2625,0.475],\"gridcolor\":\"#E1E5ED\",\"showgrid\":false,\"tickfont\":{\"color\":\"#4D5663\"},\"title\":{\"font\":{\"color\":\"#4D5663\"},\"text\":\"\"},\"zerolinecolor\":\"#E1E5ED\"},\"yaxis6\":{\"anchor\":\"x6\",\"domain\":[0.535,0.7325],\"gridcolor\":\"#E1E5ED\",\"showgrid\":false,\"tickfont\":{\"color\":\"#4D5663\"},\"title\":{\"font\":{\"color\":\"#4D5663\"},\"text\":\"\"},\"zerolinecolor\":\"#E1E5ED\"},\"xaxis7\":{\"anchor\":\"y7\",\"domain\":[0.525,0.7375],\"gridcolor\":\"#E1E5ED\",\"showgrid\":false,\"tickfont\":{\"color\":\"#4D5663\"},\"title\":{\"font\":{\"color\":\"#4D5663\"},\"text\":\"\"},\"zerolinecolor\":\"#E1E5ED\"},\"yaxis7\":{\"anchor\":\"x7\",\"domain\":[0.535,0.7325],\"gridcolor\":\"#E1E5ED\",\"showgrid\":false,\"tickfont\":{\"color\":\"#4D5663\"},\"title\":{\"font\":{\"color\":\"#4D5663\"},\"text\":\"\"},\"zerolinecolor\":\"#E1E5ED\"},\"xaxis8\":{\"anchor\":\"y8\",\"domain\":[0.7875,1.0],\"gridcolor\":\"#E1E5ED\",\"showgrid\":false,\"tickfont\":{\"color\":\"#4D5663\"},\"title\":{\"font\":{\"color\":\"#4D5663\"},\"text\":\"\"},\"zerolinecolor\":\"#E1E5ED\"},\"yaxis8\":{\"anchor\":\"x8\",\"domain\":[0.535,0.7325],\"gridcolor\":\"#E1E5ED\",\"showgrid\":false,\"tickfont\":{\"color\":\"#4D5663\"},\"title\":{\"font\":{\"color\":\"#4D5663\"},\"text\":\"\"},\"zerolinecolor\":\"#E1E5ED\"},\"xaxis9\":{\"anchor\":\"y9\",\"domain\":[0.0,0.2125],\"gridcolor\":\"#E1E5ED\",\"showgrid\":false,\"tickfont\":{\"color\":\"#4D5663\"},\"title\":{\"font\":{\"color\":\"#4D5663\"},\"text\":\"\"},\"zerolinecolor\":\"#E1E5ED\"},\"yaxis9\":{\"anchor\":\"x9\",\"domain\":[0.2675,0.465],\"gridcolor\":\"#E1E5ED\",\"showgrid\":false,\"tickfont\":{\"color\":\"#4D5663\"},\"title\":{\"font\":{\"color\":\"#4D5663\"},\"text\":\"\"},\"zerolinecolor\":\"#E1E5ED\"},\"xaxis10\":{\"anchor\":\"y10\",\"domain\":[0.2625,0.475],\"gridcolor\":\"#E1E5ED\",\"showgrid\":false,\"tickfont\":{\"color\":\"#4D5663\"},\"title\":{\"font\":{\"color\":\"#4D5663\"},\"text\":\"\"},\"zerolinecolor\":\"#E1E5ED\"},\"yaxis10\":{\"anchor\":\"x10\",\"domain\":[0.2675,0.465],\"gridcolor\":\"#E1E5ED\",\"showgrid\":false,\"tickfont\":{\"color\":\"#4D5663\"},\"title\":{\"font\":{\"color\":\"#4D5663\"},\"text\":\"\"},\"zerolinecolor\":\"#E1E5ED\"},\"xaxis11\":{\"anchor\":\"y11\",\"domain\":[0.525,0.7375],\"gridcolor\":\"#E1E5ED\",\"showgrid\":false,\"tickfont\":{\"color\":\"#4D5663\"},\"title\":{\"font\":{\"color\":\"#4D5663\"},\"text\":\"\"},\"zerolinecolor\":\"#E1E5ED\"},\"yaxis11\":{\"anchor\":\"x11\",\"domain\":[0.2675,0.465],\"gridcolor\":\"#E1E5ED\",\"showgrid\":false,\"tickfont\":{\"color\":\"#4D5663\"},\"title\":{\"font\":{\"color\":\"#4D5663\"},\"text\":\"\"},\"zerolinecolor\":\"#E1E5ED\"},\"xaxis12\":{\"anchor\":\"y12\",\"domain\":[0.7875,1.0],\"gridcolor\":\"#E1E5ED\",\"showgrid\":false,\"tickfont\":{\"color\":\"#4D5663\"},\"title\":{\"font\":{\"color\":\"#4D5663\"},\"text\":\"\"},\"zerolinecolor\":\"#E1E5ED\"},\"yaxis12\":{\"anchor\":\"x12\",\"domain\":[0.2675,0.465],\"gridcolor\":\"#E1E5ED\",\"showgrid\":false,\"tickfont\":{\"color\":\"#4D5663\"},\"title\":{\"font\":{\"color\":\"#4D5663\"},\"text\":\"\"},\"zerolinecolor\":\"#E1E5ED\"},\"xaxis13\":{\"anchor\":\"y13\",\"domain\":[0.0,0.2125],\"gridcolor\":\"#E1E5ED\",\"showgrid\":false,\"tickfont\":{\"color\":\"#4D5663\"},\"title\":{\"font\":{\"color\":\"#4D5663\"},\"text\":\"\"},\"zerolinecolor\":\"#E1E5ED\"},\"yaxis13\":{\"anchor\":\"x13\",\"domain\":[0.0,0.1975],\"gridcolor\":\"#E1E5ED\",\"showgrid\":false,\"tickfont\":{\"color\":\"#4D5663\"},\"title\":{\"font\":{\"color\":\"#4D5663\"},\"text\":\"\"},\"zerolinecolor\":\"#E1E5ED\"},\"xaxis14\":{\"anchor\":\"y14\",\"domain\":[0.2625,0.475],\"gridcolor\":\"#E1E5ED\",\"showgrid\":false,\"tickfont\":{\"color\":\"#4D5663\"},\"title\":{\"font\":{\"color\":\"#4D5663\"},\"text\":\"\"},\"zerolinecolor\":\"#E1E5ED\"},\"yaxis14\":{\"anchor\":\"x14\",\"domain\":[0.0,0.1975],\"gridcolor\":\"#E1E5ED\",\"showgrid\":false,\"tickfont\":{\"color\":\"#4D5663\"},\"title\":{\"font\":{\"color\":\"#4D5663\"},\"text\":\"\"},\"zerolinecolor\":\"#E1E5ED\"},\"xaxis15\":{\"anchor\":\"y15\",\"domain\":[0.525,0.7375],\"gridcolor\":\"#E1E5ED\",\"showgrid\":false,\"tickfont\":{\"color\":\"#4D5663\"},\"title\":{\"font\":{\"color\":\"#4D5663\"},\"text\":\"\"},\"zerolinecolor\":\"#E1E5ED\"},\"yaxis15\":{\"anchor\":\"x15\",\"domain\":[0.0,0.1975],\"gridcolor\":\"#E1E5ED\",\"showgrid\":false,\"tickfont\":{\"color\":\"#4D5663\"},\"title\":{\"font\":{\"color\":\"#4D5663\"},\"text\":\"\"},\"zerolinecolor\":\"#E1E5ED\"},\"xaxis16\":{\"anchor\":\"y16\",\"domain\":[0.7875,1.0],\"gridcolor\":\"#E1E5ED\",\"showgrid\":false,\"tickfont\":{\"color\":\"#4D5663\"},\"title\":{\"font\":{\"color\":\"#4D5663\"},\"text\":\"\"},\"zerolinecolor\":\"#E1E5ED\"},\"yaxis16\":{\"anchor\":\"x16\",\"domain\":[0.0,0.1975],\"gridcolor\":\"#E1E5ED\",\"showgrid\":false,\"tickfont\":{\"color\":\"#4D5663\"},\"title\":{\"font\":{\"color\":\"#4D5663\"},\"text\":\"\"},\"zerolinecolor\":\"#E1E5ED\"}},                        {\"showLink\": true, \"linkText\": \"Export to plot.ly\", \"plotlyServerURL\": \"https://plot.ly\", \"responsive\": true}                    ).then(function(){\n",
       "                            \n",
       "var gd = document.getElementById('45bf6778-1630-4327-b392-4697be3ded3a');\n",
       "var x = new MutationObserver(function (mutations, observer) {{\n",
       "        var display = window.getComputedStyle(gd).display;\n",
       "        if (!display || display === 'none') {{\n",
       "            console.log([gd, 'removed!']);\n",
       "            Plotly.purge(gd);\n",
       "            observer.disconnect();\n",
       "        }}\n",
       "}});\n",
       "\n",
       "// Listen for the removal of the full notebook cells\n",
       "var notebookContainer = gd.closest('#notebook-container');\n",
       "if (notebookContainer) {{\n",
       "    x.observe(notebookContainer, {childList: true});\n",
       "}}\n",
       "\n",
       "// Listen for the clearing of the current output cell\n",
       "var outputEl = gd.closest('.output');\n",
       "if (outputEl) {{\n",
       "    x.observe(outputEl, {childList: true});\n",
       "}}\n",
       "\n",
       "                        })                };                });            </script>        </div>"
      ]
     },
     "metadata": {},
     "output_type": "display_data"
    }
   ],
   "source": [
    "df.scatter_matrix()"
   ]
  },
  {
   "cell_type": "code",
   "execution_count": 46,
   "id": "6be7678e",
   "metadata": {},
   "outputs": [],
   "source": [
    "#Geographical plotting\n"
   ]
  },
  {
   "cell_type": "code",
   "execution_count": 47,
   "id": "7589b4d7",
   "metadata": {},
   "outputs": [],
   "source": [
    "#Choropleth map\n"
   ]
  },
  {
   "cell_type": "code",
   "execution_count": 57,
   "id": "e9931e52",
   "metadata": {},
   "outputs": [],
   "source": [
    "import chart_studio.plotly as py\n",
    "import plotly.graph_objs as go"
   ]
  },
  {
   "cell_type": "code",
   "execution_count": 50,
   "id": "a3409da4",
   "metadata": {},
   "outputs": [],
   "source": [
    "from plotly.offline import download_plotlyjs, init_notebook_mode,plot,iplot"
   ]
  },
  {
   "cell_type": "code",
   "execution_count": 51,
   "id": "a2170f33",
   "metadata": {},
   "outputs": [
    {
     "data": {
      "text/html": [
       "        <script type=\"text/javascript\">\n",
       "        window.PlotlyConfig = {MathJaxConfig: 'local'};\n",
       "        if (window.MathJax && window.MathJax.Hub && window.MathJax.Hub.Config) {window.MathJax.Hub.Config({SVG: {font: \"STIX-Web\"}});}\n",
       "        if (typeof require !== 'undefined') {\n",
       "        require.undef(\"plotly\");\n",
       "        requirejs.config({\n",
       "            paths: {\n",
       "                'plotly': ['https://cdn.plot.ly/plotly-2.14.0.min']\n",
       "            }\n",
       "        });\n",
       "        require(['plotly'], function(Plotly) {\n",
       "            window._Plotly = Plotly;\n",
       "        });\n",
       "        }\n",
       "        </script>\n",
       "        "
      ]
     },
     "metadata": {},
     "output_type": "display_data"
    }
   ],
   "source": [
    "init_notebook_mode(connected=True)"
   ]
  },
  {
   "cell_type": "code",
   "execution_count": 54,
   "id": "732608ad",
   "metadata": {},
   "outputs": [],
   "source": [
    "data = dict(type = 'choropleth',\n",
    "           locations = ['AZ','CA','NY'],\n",
    "           locaitonmode = 'USA-states',\n",
    "           colorscale = 'Portland',\n",
    "           text =['text1','text2','text3'],\n",
    "           z=[1.0,2.0,3.0],\n",
    "           colorbar ={'title':'Colorbar Title Goes Here'})"
   ]
  },
  {
   "cell_type": "code",
   "execution_count": 55,
   "id": "922d9529",
   "metadata": {},
   "outputs": [
    {
     "data": {
      "text/plain": [
       "{'type': 'choropleth',\n",
       " 'locations': ['AZ', 'CA', 'NY'],\n",
       " 'locaitonmode': 'USA-states',\n",
       " 'colorscale': 'Portland',\n",
       " 'text': ['text1', 'text2', 'text3'],\n",
       " 'z': [1.0, 2.0, 3.0],\n",
       " 'colorbar': {'title': 'Colorbar Title Goes Here'}}"
      ]
     },
     "execution_count": 55,
     "metadata": {},
     "output_type": "execute_result"
    }
   ],
   "source": [
    "data"
   ]
  },
  {
   "cell_type": "code",
   "execution_count": 59,
   "id": "4dc25636",
   "metadata": {},
   "outputs": [],
   "source": [
    "layout = dict(geo={'scope':'usa'})"
   ]
  },
  {
   "cell_type": "code",
   "execution_count": 61,
   "id": "744cfb96",
   "metadata": {},
   "outputs": [
    {
     "ename": "ValueError",
     "evalue": "Invalid property specified for object of type plotly.graph_objs.Choropleth: 'locaitonmode'\n\nDid you mean \"locationmode\"?\n\n    Valid properties:\n        autocolorscale\n            Determines whether the colorscale is a default palette\n            (`autocolorscale: true`) or the palette determined by\n            `colorscale`. In case `colorscale` is unspecified or\n            `autocolorscale` is true, the default palette will be\n            chosen according to whether numbers in the `color`\n            array are all positive, all negative or mixed.\n        coloraxis\n            Sets a reference to a shared color axis. References to\n            these shared color axes are \"coloraxis\", \"coloraxis2\",\n            \"coloraxis3\", etc. Settings for these shared color axes\n            are set in the layout, under `layout.coloraxis`,\n            `layout.coloraxis2`, etc. Note that multiple color\n            scales can be linked to the same color axis.\n        colorbar\n            :class:`plotly.graph_objects.choropleth.ColorBar`\n            instance or dict with compatible properties\n        colorscale\n            Sets the colorscale. The colorscale must be an array\n            containing arrays mapping a normalized value to an rgb,\n            rgba, hex, hsl, hsv, or named color string. At minimum,\n            a mapping for the lowest (0) and highest (1) values are\n            required. For example, `[[0, 'rgb(0,0,255)'], [1,\n            'rgb(255,0,0)']]`. To control the bounds of the\n            colorscale in color space, use `zmin` and `zmax`.\n            Alternatively, `colorscale` may be a palette name\n            string of the following list: Blackbody,Bluered,Blues,C\n            ividis,Earth,Electric,Greens,Greys,Hot,Jet,Picnic,Portl\n            and,Rainbow,RdBu,Reds,Viridis,YlGnBu,YlOrRd.\n        customdata\n            Assigns extra data each datum. This may be useful when\n            listening to hover, click and selection events. Note\n            that, \"scatter\" traces also appends customdata items in\n            the markers DOM elements\n        customdatasrc\n            Sets the source reference on Chart Studio Cloud for\n            `customdata`.\n        featureidkey\n            Sets the key in GeoJSON features which is used as id to\n            match the items included in the `locations` array. Only\n            has an effect when `geojson` is set. Support nested\n            property, for example \"properties.name\".\n        geo\n            Sets a reference between this trace's geospatial\n            coordinates and a geographic map. If \"geo\" (the default\n            value), the geospatial coordinates refer to\n            `layout.geo`. If \"geo2\", the geospatial coordinates\n            refer to `layout.geo2`, and so on.\n        geojson\n            Sets optional GeoJSON data associated with this trace.\n            If not given, the features on the base map are used. It\n            can be set as a valid GeoJSON object or as a URL\n            string. Note that we only accept GeoJSONs of type\n            \"FeatureCollection\" or \"Feature\" with geometries of\n            type \"Polygon\" or \"MultiPolygon\".\n        hoverinfo\n            Determines which trace information appear on hover. If\n            `none` or `skip` are set, no information is displayed\n            upon hovering. But, if `none` is set, click and hover\n            events are still fired.\n        hoverinfosrc\n            Sets the source reference on Chart Studio Cloud for\n            `hoverinfo`.\n        hoverlabel\n            :class:`plotly.graph_objects.choropleth.Hoverlabel`\n            instance or dict with compatible properties\n        hovertemplate\n            Template string used for rendering the information that\n            appear on hover box. Note that this will override\n            `hoverinfo`. Variables are inserted using %{variable},\n            for example \"y: %{y}\" as well as %{xother}, {%_xother},\n            {%_xother_}, {%xother_}. When showing info for several\n            points, \"xother\" will be added to those with different\n            x positions from the first point. An underscore before\n            or after \"(x|y)other\" will add a space on that side,\n            only when this field is shown. Numbers are formatted\n            using d3-format's syntax %{variable:d3-format}, for\n            example \"Price: %{y:$.2f}\".\n            https://github.com/d3/d3-format/tree/v1.4.5#d3-format\n            for details on the formatting syntax. Dates are\n            formatted using d3-time-format's syntax\n            %{variable|d3-time-format}, for example \"Day:\n            %{2019-01-01|%A}\". https://github.com/d3/d3-time-\n            format/tree/v2.2.3#locale_format for details on the\n            date formatting syntax. The variables available in\n            `hovertemplate` are the ones emitted as event data\n            described at this link\n            https://plotly.com/javascript/plotlyjs-events/#event-\n            data. Additionally, every attributes that can be\n            specified per-point (the ones that are `arrayOk: true`)\n            are available.  Anything contained in tag `<extra>` is\n            displayed in the secondary box, for example\n            \"<extra>{fullData.name}</extra>\". To hide the secondary\n            box completely, use an empty tag `<extra></extra>`.\n        hovertemplatesrc\n            Sets the source reference on Chart Studio Cloud for\n            `hovertemplate`.\n        hovertext\n            Same as `text`.\n        hovertextsrc\n            Sets the source reference on Chart Studio Cloud for\n            `hovertext`.\n        ids\n            Assigns id labels to each datum. These ids for object\n            constancy of data points during animation. Should be an\n            array of strings, not numbers or any other type.\n        idssrc\n            Sets the source reference on Chart Studio Cloud for\n            `ids`.\n        legendgroup\n            Sets the legend group for this trace. Traces part of\n            the same legend group hide/show at the same time when\n            toggling legend items.\n        legendgrouptitle\n            :class:`plotly.graph_objects.choropleth.Legendgrouptitl\n            e` instance or dict with compatible properties\n        legendrank\n            Sets the legend rank for this trace. Items and groups\n            with smaller ranks are presented on top/left side while\n            with `*reversed* `legend.traceorder` they are on\n            bottom/right side. The default legendrank is 1000, so\n            that you can use ranks less than 1000 to place certain\n            items before all unranked items, and ranks greater than\n            1000 to go after all unranked items.\n        locationmode\n            Determines the set of locations used to match entries\n            in `locations` to regions on the map. Values \"ISO-3\",\n            \"USA-states\", *country names* correspond to features on\n            the base map and value \"geojson-id\" corresponds to\n            features from a custom GeoJSON linked to the `geojson`\n            attribute.\n        locations\n            Sets the coordinates via location IDs or names. See\n            `locationmode` for more info.\n        locationssrc\n            Sets the source reference on Chart Studio Cloud for\n            `locations`.\n        marker\n            :class:`plotly.graph_objects.choropleth.Marker`\n            instance or dict with compatible properties\n        meta\n            Assigns extra meta information associated with this\n            trace that can be used in various text attributes.\n            Attributes such as trace `name`, graph, axis and\n            colorbar `title.text`, annotation `text`\n            `rangeselector`, `updatemenues` and `sliders` `label`\n            text all support `meta`. To access the trace `meta`\n            values in an attribute in the same trace, simply use\n            `%{meta[i]}` where `i` is the index or key of the\n            `meta` item in question. To access trace `meta` in\n            layout attributes, use `%{data[n[.meta[i]}` where `i`\n            is the index or key of the `meta` and `n` is the trace\n            index.\n        metasrc\n            Sets the source reference on Chart Studio Cloud for\n            `meta`.\n        name\n            Sets the trace name. The trace name appear as the\n            legend item and on hover.\n        reversescale\n            Reverses the color mapping if true. If true, `zmin`\n            will correspond to the last color in the array and\n            `zmax` will correspond to the first color.\n        selected\n            :class:`plotly.graph_objects.choropleth.Selected`\n            instance or dict with compatible properties\n        selectedpoints\n            Array containing integer indices of selected points.\n            Has an effect only for traces that support selections.\n            Note that an empty array means an empty selection where\n            the `unselected` are turned on for all points, whereas,\n            any other non-array values means no selection all where\n            the `selected` and `unselected` styles have no effect.\n        showlegend\n            Determines whether or not an item corresponding to this\n            trace is shown in the legend.\n        showscale\n            Determines whether or not a colorbar is displayed for\n            this trace.\n        stream\n            :class:`plotly.graph_objects.choropleth.Stream`\n            instance or dict with compatible properties\n        text\n            Sets the text elements associated with each location.\n        textsrc\n            Sets the source reference on Chart Studio Cloud for\n            `text`.\n        uid\n            Assign an id to this trace, Use this to provide object\n            constancy between traces during animations and\n            transitions.\n        uirevision\n            Controls persistence of some user-driven changes to the\n            trace: `constraintrange` in `parcoords` traces, as well\n            as some `editable: true` modifications such as `name`\n            and `colorbar.title`. Defaults to `layout.uirevision`.\n            Note that other user-driven trace attribute changes are\n            controlled by `layout` attributes: `trace.visible` is\n            controlled by `layout.legend.uirevision`,\n            `selectedpoints` is controlled by\n            `layout.selectionrevision`, and `colorbar.(x|y)`\n            (accessible with `config: {editable: true}`) is\n            controlled by `layout.editrevision`. Trace changes are\n            tracked by `uid`, which only falls back on trace index\n            if no `uid` is provided. So if your app can add/remove\n            traces before the end of the `data` array, such that\n            the same trace has a different index, you can still\n            preserve user-driven changes if you give each trace a\n            `uid` that stays with it as it moves.\n        unselected\n            :class:`plotly.graph_objects.choropleth.Unselected`\n            instance or dict with compatible properties\n        visible\n            Determines whether or not this trace is visible. If\n            \"legendonly\", the trace is not drawn, but can appear as\n            a legend item (provided that the legend itself is\n            visible).\n        z\n            Sets the color values.\n        zauto\n            Determines whether or not the color domain is computed\n            with respect to the input data (here in `z`) or the\n            bounds set in `zmin` and `zmax` Defaults to `false`\n            when `zmin` and `zmax` are set by the user.\n        zmax\n            Sets the upper bound of the color domain. Value should\n            have the same units as in `z` and if set, `zmin` must\n            be set as well.\n        zmid\n            Sets the mid-point of the color domain by scaling\n            `zmin` and/or `zmax` to be equidistant to this point.\n            Value should have the same units as in `z`. Has no\n            effect when `zauto` is `false`.\n        zmin\n            Sets the lower bound of the color domain. Value should\n            have the same units as in `z` and if set, `zmax` must\n            be set as well.\n        zsrc\n            Sets the source reference on Chart Studio Cloud for\n            `z`.\n        \nDid you mean \"locationmode\"?\n\nBad property path:\nlocaitonmode\n^^^^^^^^^^^^",
     "output_type": "error",
     "traceback": [
      "\u001b[1;31m---------------------------------------------------------------------------\u001b[0m",
      "\u001b[1;31mValueError\u001b[0m                                Traceback (most recent call last)",
      "\u001b[1;32m~\\AppData\\Local\\Temp/ipykernel_14248/1451595237.py\u001b[0m in \u001b[0;36m<module>\u001b[1;34m\u001b[0m\n\u001b[1;32m----> 1\u001b[1;33m \u001b[0mgo\u001b[0m\u001b[1;33m.\u001b[0m\u001b[0mFigure\u001b[0m\u001b[1;33m(\u001b[0m\u001b[0mdata\u001b[0m\u001b[1;33m=\u001b[0m\u001b[1;33m[\u001b[0m\u001b[0mdata\u001b[0m\u001b[1;33m]\u001b[0m\u001b[1;33m,\u001b[0m\u001b[0mlayout\u001b[0m\u001b[1;33m=\u001b[0m\u001b[0mlayout\u001b[0m\u001b[1;33m)\u001b[0m\u001b[1;33m\u001b[0m\u001b[1;33m\u001b[0m\u001b[0m\n\u001b[0m",
      "\u001b[1;32m~\\Anaconda3\\lib\\site-packages\\plotly\\graph_objs\\_figure.py\u001b[0m in \u001b[0;36m__init__\u001b[1;34m(self, data, layout, frames, skip_invalid, **kwargs)\u001b[0m\n\u001b[0;32m    608\u001b[0m             \u001b[1;32mis\u001b[0m \u001b[0minvalid\u001b[0m \u001b[0mAND\u001b[0m \u001b[0mskip_invalid\u001b[0m \u001b[1;32mis\u001b[0m \u001b[1;32mFalse\u001b[0m\u001b[1;33m\u001b[0m\u001b[1;33m\u001b[0m\u001b[0m\n\u001b[0;32m    609\u001b[0m         \"\"\"\n\u001b[1;32m--> 610\u001b[1;33m         \u001b[0msuper\u001b[0m\u001b[1;33m(\u001b[0m\u001b[0mFigure\u001b[0m\u001b[1;33m,\u001b[0m \u001b[0mself\u001b[0m\u001b[1;33m)\u001b[0m\u001b[1;33m.\u001b[0m\u001b[0m__init__\u001b[0m\u001b[1;33m(\u001b[0m\u001b[0mdata\u001b[0m\u001b[1;33m,\u001b[0m \u001b[0mlayout\u001b[0m\u001b[1;33m,\u001b[0m \u001b[0mframes\u001b[0m\u001b[1;33m,\u001b[0m \u001b[0mskip_invalid\u001b[0m\u001b[1;33m,\u001b[0m \u001b[1;33m**\u001b[0m\u001b[0mkwargs\u001b[0m\u001b[1;33m)\u001b[0m\u001b[1;33m\u001b[0m\u001b[1;33m\u001b[0m\u001b[0m\n\u001b[0m\u001b[0;32m    611\u001b[0m \u001b[1;33m\u001b[0m\u001b[0m\n\u001b[0;32m    612\u001b[0m     \u001b[1;32mdef\u001b[0m \u001b[0mupdate\u001b[0m\u001b[1;33m(\u001b[0m\u001b[0mself\u001b[0m\u001b[1;33m,\u001b[0m \u001b[0mdict1\u001b[0m\u001b[1;33m=\u001b[0m\u001b[1;32mNone\u001b[0m\u001b[1;33m,\u001b[0m \u001b[0moverwrite\u001b[0m\u001b[1;33m=\u001b[0m\u001b[1;32mFalse\u001b[0m\u001b[1;33m,\u001b[0m \u001b[1;33m**\u001b[0m\u001b[0mkwargs\u001b[0m\u001b[1;33m)\u001b[0m \u001b[1;33m->\u001b[0m \u001b[1;34m\"Figure\"\u001b[0m\u001b[1;33m:\u001b[0m\u001b[1;33m\u001b[0m\u001b[1;33m\u001b[0m\u001b[0m\n",
      "\u001b[1;32m~\\Anaconda3\\lib\\site-packages\\plotly\\basedatatypes.py\u001b[0m in \u001b[0;36m__init__\u001b[1;34m(self, data, layout_plotly, frames, skip_invalid, **kwargs)\u001b[0m\n\u001b[0;32m    512\u001b[0m \u001b[1;33m\u001b[0m\u001b[0m\n\u001b[0;32m    513\u001b[0m         \u001b[1;31m# ### Import traces ###\u001b[0m\u001b[1;33m\u001b[0m\u001b[1;33m\u001b[0m\u001b[0m\n\u001b[1;32m--> 514\u001b[1;33m         data = self._data_validator.validate_coerce(\n\u001b[0m\u001b[0;32m    515\u001b[0m             \u001b[0mdata\u001b[0m\u001b[1;33m,\u001b[0m \u001b[0mskip_invalid\u001b[0m\u001b[1;33m=\u001b[0m\u001b[0mskip_invalid\u001b[0m\u001b[1;33m,\u001b[0m \u001b[0m_validate\u001b[0m\u001b[1;33m=\u001b[0m\u001b[0mself\u001b[0m\u001b[1;33m.\u001b[0m\u001b[0m_validate\u001b[0m\u001b[1;33m\u001b[0m\u001b[1;33m\u001b[0m\u001b[0m\n\u001b[0;32m    516\u001b[0m         )\n",
      "\u001b[1;32m~\\Anaconda3\\lib\\site-packages\\_plotly_utils\\basevalidators.py\u001b[0m in \u001b[0;36mvalidate_coerce\u001b[1;34m(self, v, skip_invalid, _validate)\u001b[0m\n\u001b[0;32m   2666\u001b[0m                             \u001b[0minvalid_els\u001b[0m\u001b[1;33m.\u001b[0m\u001b[0mappend\u001b[0m\u001b[1;33m(\u001b[0m\u001b[0mv_el\u001b[0m\u001b[1;33m)\u001b[0m\u001b[1;33m\u001b[0m\u001b[1;33m\u001b[0m\u001b[0m\n\u001b[0;32m   2667\u001b[0m                     \u001b[1;32melse\u001b[0m\u001b[1;33m:\u001b[0m\u001b[1;33m\u001b[0m\u001b[1;33m\u001b[0m\u001b[0m\n\u001b[1;32m-> 2668\u001b[1;33m                         trace = self.get_trace_class(trace_type)(\n\u001b[0m\u001b[0;32m   2669\u001b[0m                             \u001b[0mskip_invalid\u001b[0m\u001b[1;33m=\u001b[0m\u001b[0mskip_invalid\u001b[0m\u001b[1;33m,\u001b[0m \u001b[0m_validate\u001b[0m\u001b[1;33m=\u001b[0m\u001b[0m_validate\u001b[0m\u001b[1;33m,\u001b[0m \u001b[1;33m**\u001b[0m\u001b[0mv_copy\u001b[0m\u001b[1;33m\u001b[0m\u001b[1;33m\u001b[0m\u001b[0m\n\u001b[0;32m   2670\u001b[0m                         )\n",
      "\u001b[1;32m~\\Anaconda3\\lib\\site-packages\\plotly\\graph_objs\\_choropleth.py\u001b[0m in \u001b[0;36m__init__\u001b[1;34m(self, arg, autocolorscale, coloraxis, colorbar, colorscale, customdata, customdatasrc, featureidkey, geo, geojson, hoverinfo, hoverinfosrc, hoverlabel, hovertemplate, hovertemplatesrc, hovertext, hovertextsrc, ids, idssrc, legendgroup, legendgrouptitle, legendrank, locationmode, locations, locationssrc, marker, meta, metasrc, name, reversescale, selected, selectedpoints, showlegend, showscale, stream, text, textsrc, uid, uirevision, unselected, visible, z, zauto, zmax, zmid, zmin, zsrc, **kwargs)\u001b[0m\n\u001b[0;32m   2258\u001b[0m         \u001b[1;31m# Process unknown kwargs\u001b[0m\u001b[1;33m\u001b[0m\u001b[1;33m\u001b[0m\u001b[0m\n\u001b[0;32m   2259\u001b[0m         \u001b[1;31m# ----------------------\u001b[0m\u001b[1;33m\u001b[0m\u001b[1;33m\u001b[0m\u001b[0m\n\u001b[1;32m-> 2260\u001b[1;33m         \u001b[0mself\u001b[0m\u001b[1;33m.\u001b[0m\u001b[0m_process_kwargs\u001b[0m\u001b[1;33m(\u001b[0m\u001b[1;33m**\u001b[0m\u001b[0mdict\u001b[0m\u001b[1;33m(\u001b[0m\u001b[0marg\u001b[0m\u001b[1;33m,\u001b[0m \u001b[1;33m**\u001b[0m\u001b[0mkwargs\u001b[0m\u001b[1;33m)\u001b[0m\u001b[1;33m)\u001b[0m\u001b[1;33m\u001b[0m\u001b[1;33m\u001b[0m\u001b[0m\n\u001b[0m\u001b[0;32m   2261\u001b[0m \u001b[1;33m\u001b[0m\u001b[0m\n\u001b[0;32m   2262\u001b[0m         \u001b[1;31m# Reset skip_invalid\u001b[0m\u001b[1;33m\u001b[0m\u001b[1;33m\u001b[0m\u001b[0m\n",
      "\u001b[1;32m~\\Anaconda3\\lib\\site-packages\\plotly\\basedatatypes.py\u001b[0m in \u001b[0;36m_process_kwargs\u001b[1;34m(self, **kwargs)\u001b[0m\n\u001b[0;32m   4375\u001b[0m                 \u001b[0mself\u001b[0m\u001b[1;33m[\u001b[0m\u001b[0mk\u001b[0m\u001b[1;33m]\u001b[0m \u001b[1;33m=\u001b[0m \u001b[0mv\u001b[0m\u001b[1;33m\u001b[0m\u001b[1;33m\u001b[0m\u001b[0m\n\u001b[0;32m   4376\u001b[0m             \u001b[1;32melif\u001b[0m \u001b[1;32mnot\u001b[0m \u001b[0mself\u001b[0m\u001b[1;33m.\u001b[0m\u001b[0m_skip_invalid\u001b[0m\u001b[1;33m:\u001b[0m\u001b[1;33m\u001b[0m\u001b[1;33m\u001b[0m\u001b[0m\n\u001b[1;32m-> 4377\u001b[1;33m                 \u001b[1;32mraise\u001b[0m \u001b[0merr\u001b[0m\u001b[1;33m\u001b[0m\u001b[1;33m\u001b[0m\u001b[0m\n\u001b[0m\u001b[0;32m   4378\u001b[0m         \u001b[1;31m# No need to call _raise_on_invalid_property_error here,\u001b[0m\u001b[1;33m\u001b[0m\u001b[1;33m\u001b[0m\u001b[0m\n\u001b[0;32m   4379\u001b[0m         \u001b[1;31m# because we have it set up so that the singular case of calling\u001b[0m\u001b[1;33m\u001b[0m\u001b[1;33m\u001b[0m\u001b[0m\n",
      "\u001b[1;31mValueError\u001b[0m: Invalid property specified for object of type plotly.graph_objs.Choropleth: 'locaitonmode'\n\nDid you mean \"locationmode\"?\n\n    Valid properties:\n        autocolorscale\n            Determines whether the colorscale is a default palette\n            (`autocolorscale: true`) or the palette determined by\n            `colorscale`. In case `colorscale` is unspecified or\n            `autocolorscale` is true, the default palette will be\n            chosen according to whether numbers in the `color`\n            array are all positive, all negative or mixed.\n        coloraxis\n            Sets a reference to a shared color axis. References to\n            these shared color axes are \"coloraxis\", \"coloraxis2\",\n            \"coloraxis3\", etc. Settings for these shared color axes\n            are set in the layout, under `layout.coloraxis`,\n            `layout.coloraxis2`, etc. Note that multiple color\n            scales can be linked to the same color axis.\n        colorbar\n            :class:`plotly.graph_objects.choropleth.ColorBar`\n            instance or dict with compatible properties\n        colorscale\n            Sets the colorscale. The colorscale must be an array\n            containing arrays mapping a normalized value to an rgb,\n            rgba, hex, hsl, hsv, or named color string. At minimum,\n            a mapping for the lowest (0) and highest (1) values are\n            required. For example, `[[0, 'rgb(0,0,255)'], [1,\n            'rgb(255,0,0)']]`. To control the bounds of the\n            colorscale in color space, use `zmin` and `zmax`.\n            Alternatively, `colorscale` may be a palette name\n            string of the following list: Blackbody,Bluered,Blues,C\n            ividis,Earth,Electric,Greens,Greys,Hot,Jet,Picnic,Portl\n            and,Rainbow,RdBu,Reds,Viridis,YlGnBu,YlOrRd.\n        customdata\n            Assigns extra data each datum. This may be useful when\n            listening to hover, click and selection events. Note\n            that, \"scatter\" traces also appends customdata items in\n            the markers DOM elements\n        customdatasrc\n            Sets the source reference on Chart Studio Cloud for\n            `customdata`.\n        featureidkey\n            Sets the key in GeoJSON features which is used as id to\n            match the items included in the `locations` array. Only\n            has an effect when `geojson` is set. Support nested\n            property, for example \"properties.name\".\n        geo\n            Sets a reference between this trace's geospatial\n            coordinates and a geographic map. If \"geo\" (the default\n            value), the geospatial coordinates refer to\n            `layout.geo`. If \"geo2\", the geospatial coordinates\n            refer to `layout.geo2`, and so on.\n        geojson\n            Sets optional GeoJSON data associated with this trace.\n            If not given, the features on the base map are used. It\n            can be set as a valid GeoJSON object or as a URL\n            string. Note that we only accept GeoJSONs of type\n            \"FeatureCollection\" or \"Feature\" with geometries of\n            type \"Polygon\" or \"MultiPolygon\".\n        hoverinfo\n            Determines which trace information appear on hover. If\n            `none` or `skip` are set, no information is displayed\n            upon hovering. But, if `none` is set, click and hover\n            events are still fired.\n        hoverinfosrc\n            Sets the source reference on Chart Studio Cloud for\n            `hoverinfo`.\n        hoverlabel\n            :class:`plotly.graph_objects.choropleth.Hoverlabel`\n            instance or dict with compatible properties\n        hovertemplate\n            Template string used for rendering the information that\n            appear on hover box. Note that this will override\n            `hoverinfo`. Variables are inserted using %{variable},\n            for example \"y: %{y}\" as well as %{xother}, {%_xother},\n            {%_xother_}, {%xother_}. When showing info for several\n            points, \"xother\" will be added to those with different\n            x positions from the first point. An underscore before\n            or after \"(x|y)other\" will add a space on that side,\n            only when this field is shown. Numbers are formatted\n            using d3-format's syntax %{variable:d3-format}, for\n            example \"Price: %{y:$.2f}\".\n            https://github.com/d3/d3-format/tree/v1.4.5#d3-format\n            for details on the formatting syntax. Dates are\n            formatted using d3-time-format's syntax\n            %{variable|d3-time-format}, for example \"Day:\n            %{2019-01-01|%A}\". https://github.com/d3/d3-time-\n            format/tree/v2.2.3#locale_format for details on the\n            date formatting syntax. The variables available in\n            `hovertemplate` are the ones emitted as event data\n            described at this link\n            https://plotly.com/javascript/plotlyjs-events/#event-\n            data. Additionally, every attributes that can be\n            specified per-point (the ones that are `arrayOk: true`)\n            are available.  Anything contained in tag `<extra>` is\n            displayed in the secondary box, for example\n            \"<extra>{fullData.name}</extra>\". To hide the secondary\n            box completely, use an empty tag `<extra></extra>`.\n        hovertemplatesrc\n            Sets the source reference on Chart Studio Cloud for\n            `hovertemplate`.\n        hovertext\n            Same as `text`.\n        hovertextsrc\n            Sets the source reference on Chart Studio Cloud for\n            `hovertext`.\n        ids\n            Assigns id labels to each datum. These ids for object\n            constancy of data points during animation. Should be an\n            array of strings, not numbers or any other type.\n        idssrc\n            Sets the source reference on Chart Studio Cloud for\n            `ids`.\n        legendgroup\n            Sets the legend group for this trace. Traces part of\n            the same legend group hide/show at the same time when\n            toggling legend items.\n        legendgrouptitle\n            :class:`plotly.graph_objects.choropleth.Legendgrouptitl\n            e` instance or dict with compatible properties\n        legendrank\n            Sets the legend rank for this trace. Items and groups\n            with smaller ranks are presented on top/left side while\n            with `*reversed* `legend.traceorder` they are on\n            bottom/right side. The default legendrank is 1000, so\n            that you can use ranks less than 1000 to place certain\n            items before all unranked items, and ranks greater than\n            1000 to go after all unranked items.\n        locationmode\n            Determines the set of locations used to match entries\n            in `locations` to regions on the map. Values \"ISO-3\",\n            \"USA-states\", *country names* correspond to features on\n            the base map and value \"geojson-id\" corresponds to\n            features from a custom GeoJSON linked to the `geojson`\n            attribute.\n        locations\n            Sets the coordinates via location IDs or names. See\n            `locationmode` for more info.\n        locationssrc\n            Sets the source reference on Chart Studio Cloud for\n            `locations`.\n        marker\n            :class:`plotly.graph_objects.choropleth.Marker`\n            instance or dict with compatible properties\n        meta\n            Assigns extra meta information associated with this\n            trace that can be used in various text attributes.\n            Attributes such as trace `name`, graph, axis and\n            colorbar `title.text`, annotation `text`\n            `rangeselector`, `updatemenues` and `sliders` `label`\n            text all support `meta`. To access the trace `meta`\n            values in an attribute in the same trace, simply use\n            `%{meta[i]}` where `i` is the index or key of the\n            `meta` item in question. To access trace `meta` in\n            layout attributes, use `%{data[n[.meta[i]}` where `i`\n            is the index or key of the `meta` and `n` is the trace\n            index.\n        metasrc\n            Sets the source reference on Chart Studio Cloud for\n            `meta`.\n        name\n            Sets the trace name. The trace name appear as the\n            legend item and on hover.\n        reversescale\n            Reverses the color mapping if true. If true, `zmin`\n            will correspond to the last color in the array and\n            `zmax` will correspond to the first color.\n        selected\n            :class:`plotly.graph_objects.choropleth.Selected`\n            instance or dict with compatible properties\n        selectedpoints\n            Array containing integer indices of selected points.\n            Has an effect only for traces that support selections.\n            Note that an empty array means an empty selection where\n            the `unselected` are turned on for all points, whereas,\n            any other non-array values means no selection all where\n            the `selected` and `unselected` styles have no effect.\n        showlegend\n            Determines whether or not an item corresponding to this\n            trace is shown in the legend.\n        showscale\n            Determines whether or not a colorbar is displayed for\n            this trace.\n        stream\n            :class:`plotly.graph_objects.choropleth.Stream`\n            instance or dict with compatible properties\n        text\n            Sets the text elements associated with each location.\n        textsrc\n            Sets the source reference on Chart Studio Cloud for\n            `text`.\n        uid\n            Assign an id to this trace, Use this to provide object\n            constancy between traces during animations and\n            transitions.\n        uirevision\n            Controls persistence of some user-driven changes to the\n            trace: `constraintrange` in `parcoords` traces, as well\n            as some `editable: true` modifications such as `name`\n            and `colorbar.title`. Defaults to `layout.uirevision`.\n            Note that other user-driven trace attribute changes are\n            controlled by `layout` attributes: `trace.visible` is\n            controlled by `layout.legend.uirevision`,\n            `selectedpoints` is controlled by\n            `layout.selectionrevision`, and `colorbar.(x|y)`\n            (accessible with `config: {editable: true}`) is\n            controlled by `layout.editrevision`. Trace changes are\n            tracked by `uid`, which only falls back on trace index\n            if no `uid` is provided. So if your app can add/remove\n            traces before the end of the `data` array, such that\n            the same trace has a different index, you can still\n            preserve user-driven changes if you give each trace a\n            `uid` that stays with it as it moves.\n        unselected\n            :class:`plotly.graph_objects.choropleth.Unselected`\n            instance or dict with compatible properties\n        visible\n            Determines whether or not this trace is visible. If\n            \"legendonly\", the trace is not drawn, but can appear as\n            a legend item (provided that the legend itself is\n            visible).\n        z\n            Sets the color values.\n        zauto\n            Determines whether or not the color domain is computed\n            with respect to the input data (here in `z`) or the\n            bounds set in `zmin` and `zmax` Defaults to `false`\n            when `zmin` and `zmax` are set by the user.\n        zmax\n            Sets the upper bound of the color domain. Value should\n            have the same units as in `z` and if set, `zmin` must\n            be set as well.\n        zmid\n            Sets the mid-point of the color domain by scaling\n            `zmin` and/or `zmax` to be equidistant to this point.\n            Value should have the same units as in `z`. Has no\n            effect when `zauto` is `false`.\n        zmin\n            Sets the lower bound of the color domain. Value should\n            have the same units as in `z` and if set, `zmax` must\n            be set as well.\n        zsrc\n            Sets the source reference on Chart Studio Cloud for\n            `z`.\n        \nDid you mean \"locationmode\"?\n\nBad property path:\nlocaitonmode\n^^^^^^^^^^^^"
     ]
    }
   ],
   "source": [
    "choromap = go.Figure(data=[data],layout=layout)"
   ]
  },
  {
   "cell_type": "code",
   "execution_count": 62,
   "id": "a278c7a9",
   "metadata": {},
   "outputs": [
    {
     "ename": "NameError",
     "evalue": "name 'choromap' is not defined",
     "output_type": "error",
     "traceback": [
      "\u001b[1;31m---------------------------------------------------------------------------\u001b[0m",
      "\u001b[1;31mNameError\u001b[0m                                 Traceback (most recent call last)",
      "\u001b[1;32m~\\AppData\\Local\\Temp/ipykernel_14248/308662654.py\u001b[0m in \u001b[0;36m<module>\u001b[1;34m\u001b[0m\n\u001b[1;32m----> 1\u001b[1;33m \u001b[0miplot\u001b[0m\u001b[1;33m(\u001b[0m\u001b[0mchoromap\u001b[0m\u001b[1;33m)\u001b[0m\u001b[1;33m\u001b[0m\u001b[1;33m\u001b[0m\u001b[0m\n\u001b[0m",
      "\u001b[1;31mNameError\u001b[0m: name 'choromap' is not defined"
     ]
    }
   ],
   "source": [
    "iplot(choromap)"
   ]
  },
  {
   "cell_type": "code",
   "execution_count": null,
   "id": "56d1cb0a",
   "metadata": {},
   "outputs": [],
   "source": []
  },
  {
   "cell_type": "code",
   "execution_count": null,
   "id": "2ae520cb",
   "metadata": {},
   "outputs": [],
   "source": []
  }
 ],
 "metadata": {
  "kernelspec": {
   "display_name": "Python 3 (ipykernel)",
   "language": "python",
   "name": "python3"
  },
  "language_info": {
   "codemirror_mode": {
    "name": "ipython",
    "version": 3
   },
   "file_extension": ".py",
   "mimetype": "text/x-python",
   "name": "python",
   "nbconvert_exporter": "python",
   "pygments_lexer": "ipython3",
   "version": "3.9.7"
  }
 },
 "nbformat": 4,
 "nbformat_minor": 5
}
